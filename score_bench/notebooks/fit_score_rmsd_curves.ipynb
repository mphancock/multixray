{
 "cells": [
  {
   "cell_type": "code",
   "execution_count": 1,
   "metadata": {},
   "outputs": [],
   "source": [
    "from pathlib import Path\n",
    "import pandas as pd\n",
    "import numpy as np\n",
    "import matplotlib.pyplot as plt\n",
    "from scipy.optimize import curve_fit\n",
    "import seaborn as sns\n",
    "sns.set_theme()\n"
   ]
  },
  {
   "cell_type": "code",
   "execution_count": 3,
   "metadata": {},
   "outputs": [
    {
     "data": {
      "text/html": [
       "<div>\n",
       "<style scoped>\n",
       "    .dataframe tbody tr th:only-of-type {\n",
       "        vertical-align: middle;\n",
       "    }\n",
       "\n",
       "    .dataframe tbody tr th {\n",
       "        vertical-align: top;\n",
       "    }\n",
       "\n",
       "    .dataframe thead th {\n",
       "        text-align: right;\n",
       "    }\n",
       "</style>\n",
       "<table border=\"1\" class=\"dataframe\">\n",
       "  <thead>\n",
       "    <tr style=\"text-align: right;\">\n",
       "      <th></th>\n",
       "      <th>Unnamed: 0</th>\n",
       "      <th>pdb</th>\n",
       "      <th>w_0_0</th>\n",
       "      <th>w_1_0</th>\n",
       "      <th>w_0_1</th>\n",
       "      <th>w_1_1</th>\n",
       "      <th>xray_0</th>\n",
       "      <th>r_free_0</th>\n",
       "      <th>rmsd_0</th>\n",
       "      <th>ff</th>\n",
       "      <th>xray_1</th>\n",
       "      <th>r_free_1</th>\n",
       "      <th>rmsd_1</th>\n",
       "    </tr>\n",
       "  </thead>\n",
       "  <tbody>\n",
       "    <tr>\n",
       "      <th>0</th>\n",
       "      <td>0</td>\n",
       "      <td>/wynton/group/sali/mhancock/xray/sample_bench/...</td>\n",
       "      <td>0.510588</td>\n",
       "      <td>0.489412</td>\n",
       "      <td>0.555566</td>\n",
       "      <td>0.444434</td>\n",
       "      <td>4.025633</td>\n",
       "      <td>0.039276</td>\n",
       "      <td>0.0</td>\n",
       "      <td>21250.054492</td>\n",
       "      <td>4.053322</td>\n",
       "      <td>0.043427</td>\n",
       "      <td>0.0</td>\n",
       "    </tr>\n",
       "    <tr>\n",
       "      <th>1</th>\n",
       "      <td>1</td>\n",
       "      <td>/wynton/group/sali/mhancock/xray/sample_bench/...</td>\n",
       "      <td>0.893325</td>\n",
       "      <td>0.106675</td>\n",
       "      <td>0.739213</td>\n",
       "      <td>0.260787</td>\n",
       "      <td>4.227168</td>\n",
       "      <td>0.040899</td>\n",
       "      <td>0.0</td>\n",
       "      <td>20682.124765</td>\n",
       "      <td>4.121057</td>\n",
       "      <td>0.041334</td>\n",
       "      <td>0.0</td>\n",
       "    </tr>\n",
       "    <tr>\n",
       "      <th>2</th>\n",
       "      <td>2</td>\n",
       "      <td>/wynton/group/sali/mhancock/xray/sample_bench/...</td>\n",
       "      <td>0.585996</td>\n",
       "      <td>0.414004</td>\n",
       "      <td>0.582210</td>\n",
       "      <td>0.417790</td>\n",
       "      <td>4.054030</td>\n",
       "      <td>0.040999</td>\n",
       "      <td>0.0</td>\n",
       "      <td>20822.373139</td>\n",
       "      <td>4.048832</td>\n",
       "      <td>0.040720</td>\n",
       "      <td>0.0</td>\n",
       "    </tr>\n",
       "    <tr>\n",
       "      <th>3</th>\n",
       "      <td>3</td>\n",
       "      <td>/wynton/group/sali/mhancock/xray/sample_bench/...</td>\n",
       "      <td>0.375460</td>\n",
       "      <td>0.624540</td>\n",
       "      <td>0.297137</td>\n",
       "      <td>0.702863</td>\n",
       "      <td>4.064986</td>\n",
       "      <td>0.041624</td>\n",
       "      <td>0.0</td>\n",
       "      <td>21136.167610</td>\n",
       "      <td>4.103359</td>\n",
       "      <td>0.040295</td>\n",
       "      <td>0.0</td>\n",
       "    </tr>\n",
       "    <tr>\n",
       "      <th>4</th>\n",
       "      <td>4</td>\n",
       "      <td>/wynton/group/sali/mhancock/xray/sample_bench/...</td>\n",
       "      <td>0.303720</td>\n",
       "      <td>0.696280</td>\n",
       "      <td>0.357188</td>\n",
       "      <td>0.642812</td>\n",
       "      <td>4.093771</td>\n",
       "      <td>0.041402</td>\n",
       "      <td>0.0</td>\n",
       "      <td>20683.275695</td>\n",
       "      <td>4.082613</td>\n",
       "      <td>0.040715</td>\n",
       "      <td>0.0</td>\n",
       "    </tr>\n",
       "  </tbody>\n",
       "</table>\n",
       "</div>"
      ],
      "text/plain": [
       "   Unnamed: 0                                                pdb     w_0_0   \n",
       "0           0  /wynton/group/sali/mhancock/xray/sample_bench/...  0.510588  \\\n",
       "1           1  /wynton/group/sali/mhancock/xray/sample_bench/...  0.893325   \n",
       "2           2  /wynton/group/sali/mhancock/xray/sample_bench/...  0.585996   \n",
       "3           3  /wynton/group/sali/mhancock/xray/sample_bench/...  0.375460   \n",
       "4           4  /wynton/group/sali/mhancock/xray/sample_bench/...  0.303720   \n",
       "\n",
       "      w_1_0     w_0_1     w_1_1    xray_0  r_free_0  rmsd_0            ff   \n",
       "0  0.489412  0.555566  0.444434  4.025633  0.039276     0.0  21250.054492  \\\n",
       "1  0.106675  0.739213  0.260787  4.227168  0.040899     0.0  20682.124765   \n",
       "2  0.414004  0.582210  0.417790  4.054030  0.040999     0.0  20822.373139   \n",
       "3  0.624540  0.297137  0.702863  4.064986  0.041624     0.0  21136.167610   \n",
       "4  0.696280  0.357188  0.642812  4.093771  0.041402     0.0  20683.275695   \n",
       "\n",
       "     xray_1  r_free_1  rmsd_1  \n",
       "0  4.053322  0.043427     0.0  \n",
       "1  4.121057  0.041334     0.0  \n",
       "2  4.048832  0.040720     0.0  \n",
       "3  4.103359  0.040295     0.0  \n",
       "4  4.082613  0.040715     0.0  "
      ]
     },
     "execution_count": 3,
     "metadata": {},
     "output_type": "execute_result"
    }
   ],
   "source": [
    "native_df = pd.read_csv(Path(Path.home(), \"Documents/xray/dev/29_synthetic_native_3/data/scores/7mhf_30.csv\"))\n",
    "native_df.head()"
   ]
  },
  {
   "cell_type": "code",
   "execution_count": 4,
   "metadata": {},
   "outputs": [
    {
     "data": {
      "text/html": [
       "<div>\n",
       "<style scoped>\n",
       "    .dataframe tbody tr th:only-of-type {\n",
       "        vertical-align: middle;\n",
       "    }\n",
       "\n",
       "    .dataframe tbody tr th {\n",
       "        vertical-align: top;\n",
       "    }\n",
       "\n",
       "    .dataframe thead th {\n",
       "        text-align: right;\n",
       "    }\n",
       "</style>\n",
       "<table border=\"1\" class=\"dataframe\">\n",
       "  <thead>\n",
       "    <tr style=\"text-align: right;\">\n",
       "      <th></th>\n",
       "      <th>Unnamed: 0</th>\n",
       "      <th>ff</th>\n",
       "      <th>rmsd_0</th>\n",
       "      <th>w_0_0</th>\n",
       "      <th>pdb</th>\n",
       "      <th>xray_0</th>\n",
       "      <th>r_free_0</th>\n",
       "    </tr>\n",
       "  </thead>\n",
       "  <tbody>\n",
       "    <tr>\n",
       "      <th>0</th>\n",
       "      <td>0</td>\n",
       "      <td>-76.820288</td>\n",
       "      <td>0.919565</td>\n",
       "      <td>1.0</td>\n",
       "      <td>/wynton/group/sali/mhancock/xray/sample_bench/...</td>\n",
       "      <td>6.534940</td>\n",
       "      <td>0.489923</td>\n",
       "    </tr>\n",
       "    <tr>\n",
       "      <th>1</th>\n",
       "      <td>1</td>\n",
       "      <td>619.645941</td>\n",
       "      <td>0.966754</td>\n",
       "      <td>1.0</td>\n",
       "      <td>/wynton/group/sali/mhancock/xray/sample_bench/...</td>\n",
       "      <td>6.540651</td>\n",
       "      <td>0.505870</td>\n",
       "    </tr>\n",
       "    <tr>\n",
       "      <th>2</th>\n",
       "      <td>2</td>\n",
       "      <td>26.067973</td>\n",
       "      <td>0.919300</td>\n",
       "      <td>1.0</td>\n",
       "      <td>/wynton/group/sali/mhancock/xray/sample_bench/...</td>\n",
       "      <td>6.535120</td>\n",
       "      <td>0.513216</td>\n",
       "    </tr>\n",
       "    <tr>\n",
       "      <th>3</th>\n",
       "      <td>3</td>\n",
       "      <td>-108.567924</td>\n",
       "      <td>0.955506</td>\n",
       "      <td>1.0</td>\n",
       "      <td>/wynton/group/sali/mhancock/xray/sample_bench/...</td>\n",
       "      <td>6.551427</td>\n",
       "      <td>0.517936</td>\n",
       "    </tr>\n",
       "    <tr>\n",
       "      <th>4</th>\n",
       "      <td>4</td>\n",
       "      <td>-98.278021</td>\n",
       "      <td>0.900608</td>\n",
       "      <td>1.0</td>\n",
       "      <td>/wynton/group/sali/mhancock/xray/sample_bench/...</td>\n",
       "      <td>6.533372</td>\n",
       "      <td>0.506770</td>\n",
       "    </tr>\n",
       "  </tbody>\n",
       "</table>\n",
       "</div>"
      ],
      "text/plain": [
       "   Unnamed: 0          ff    rmsd_0  w_0_0   \n",
       "0           0  -76.820288  0.919565    1.0  \\\n",
       "1           1  619.645941  0.966754    1.0   \n",
       "2           2   26.067973  0.919300    1.0   \n",
       "3           3 -108.567924  0.955506    1.0   \n",
       "4           4  -98.278021  0.900608    1.0   \n",
       "\n",
       "                                                 pdb    xray_0  r_free_0  \n",
       "0  /wynton/group/sali/mhancock/xray/sample_bench/...  6.534940  0.489923  \n",
       "1  /wynton/group/sali/mhancock/xray/sample_bench/...  6.540651  0.505870  \n",
       "2  /wynton/group/sali/mhancock/xray/sample_bench/...  6.535120  0.513216  \n",
       "3  /wynton/group/sali/mhancock/xray/sample_bench/...  6.551427  0.517936  \n",
       "4  /wynton/group/sali/mhancock/xray/sample_bench/...  6.533372  0.506770  "
      ]
     },
     "execution_count": 4,
     "metadata": {},
     "output_type": "execute_result"
    }
   ],
   "source": [
    "score_df = pd.read_csv(Path(Path.home(), \"Documents/xray/score_bench/data/7mhf/122_native_decoys_1_state/rand1000_1.csv\"))\n",
    "score_df.head()"
   ]
  },
  {
   "cell_type": "code",
   "execution_count": 5,
   "metadata": {},
   "outputs": [],
   "source": [
    "def logistic_func(x, L, k, x0):\n",
    "    return L / (1 + np.exp(-k * (x - x0)))\n",
    "\n",
    "def fp(x,L,k,x0):\n",
    "    return (L * k * np.exp(-k * (x - x0))) / (1 + np.exp(-k * (x - x0)))**2\n",
    "\n",
    "def fdp(x,L,k,x0):\n",
    "    return (L * k**2 * np.exp(-2*k * (x - x0)) * (-np.exp(k * (x - x0)) + 1)) / (1 + np.exp(-k * (x - x0)))**3"
   ]
  },
  {
   "cell_type": "code",
   "execution_count": 6,
   "metadata": {},
   "outputs": [
    {
     "name": "stdout",
     "output_type": "stream",
     "text": [
      "[ 6.54667239  7.46015726 -0.00958087]\n"
     ]
    },
    {
     "data": {
      "text/plain": [
       "[]"
      ]
     },
     "execution_count": 6,
     "metadata": {},
     "output_type": "execute_result"
    },
    {
     "data": {
      "image/png": "[encoded data removed]",
      "text/plain": [
       "<Figure size 500x500 with 1 Axes>"
      ]
     },
     "metadata": {},
     "output_type": "display_data"
    }
   ],
   "source": [
    "# xs = score_df[(score_df[\"rmsd_0\"] < 1) & (score_df[\"rmsd_0\"] > .01)][\"rmsd_0\"]\n",
    "# ys = score_df[(score_df[\"rmsd_0\"] < 1) & (score_df[\"rmsd_0\"] > .01)][\"xray_0\"]\n",
    "param_est = [6.44497246, 10.39341181, 0.07460433]\n",
    "\n",
    "xs = score_df[\"rmsd_0\"]\n",
    "ys = score_df[\"xray_0\"]\n",
    "\n",
    "params, covariance = curve_fit(logistic_func,xs,ys, param_est, maxfev=10000)\n",
    "L_fit, k_fit, x0_fit = params\n",
    "print(params)\n",
    "\n",
    "fig, ax = plt.subplots(1, 1, figsize=(5,5), tight_layout=True)\n",
    "ax.scatter(score_df[\"rmsd_0\"], score_df[\"xray_0\"], c=\"#424242ff\", s=5)\n",
    "ax.scatter(native_df[\"rmsd_0\"], native_df[\"xray_0\"], c=\"#424242ff\", s=5)\n",
    "\n",
    "linespace = [0 + x*(1)/1000 for x in range(1000)]\n",
    "ax.plot(linespace, [logistic_func(x, L_fit, k_fit, x0_fit) for x in linespace], c=\"black\", linewidth=1, linestyle=\"dashed\")\n",
    "ax.plot()\n",
    "\n",
    "# rmsd_min = score_df[\"rmsd_avg\"].min()\n",
    "# rmsd_max = score_df[\"rmsd_avg\"].max()\n",
    "\n",
    "# linespace = [rmsd_min + x*(rmsd_max-rmsd_min)/1000 for x in range(1000)]\n",
    "\n",
    "# first_fp_zero = get_first_fp_zero(L_fit, k_fit, x0_fit)\n",
    "# print(first_fp_zero)\n",
    "\n",
    "# fig, axs = plt.subplots(1, 2, figsize=(10,5), tight_layout=True)\n",
    "\n",
    "# axs[0].set_xlim(-.2, 3.0)\n",
    "# axs[0].scatter(score_df[\"rmsd_avg\"], score_df[\"ml\"], c=\"#5873E3\", alpha=0.5, s=5)\n",
    "# axs[0].scatter(native_rmsd, native_score, c=\"red\", s=5)\n",
    "\n",
    "# axs[1].scatter(score_df[\"rmsd_avg\"], score_df[\"ff\"], c=\"#5873E3\", alpha=0.5, s=5)\n",
    "# axs[1].scatter(native_rmsd, native_prior, c=\"red\", s=5)\n"
   ]
  },
  {
   "cell_type": "code",
   "execution_count": 7,
   "metadata": {},
   "outputs": [],
   "source": [
    "def get_var(score_df, score_field, rmsd_field, L_fit, k_fit, x0_fit):\n",
    "    var = 0\n",
    "    for i in range(len(score_df)):\n",
    "        decoy_rmsd = score_df.iloc[i][rmsd_field]\n",
    "        var = var + (logistic_func(decoy_rmsd, L_fit, k_fit, x0_fit) - score_df.iloc[i][score_field])**2\n",
    "\n",
    "    var = var / (len(score_df)-1)\n",
    "    return var"
   ]
  },
  {
   "cell_type": "code",
   "execution_count": 9,
   "metadata": {},
   "outputs": [],
   "source": [
    "def get_first_fp_zero(L, k, x0):\n",
    "    linespace = [x/200 for x in range(1000)]\n",
    "    first_fp_zero = 0\n",
    "    fp_vals = [fp(x, L, k, x0) for x in linespace]\n",
    "    for i in range(len(fp_vals)):\n",
    "        fp_val = fp_vals[i]\n",
    "        if fp_val <= 1e-3:\n",
    "            first_fp_zero = linespace[i]\n",
    "            break\n",
    "\n",
    "    return first_fp_zero"
   ]
  },
  {
   "cell_type": "code",
   "execution_count": 20,
   "metadata": {},
   "outputs": [],
   "source": [
    "job  = \"121_native_decoys\"\n",
    "\n",
    "# score_field = \"xray_0\"\n",
    "# rmsd_field = \"rmsd_0\"\n",
    "\n",
    "score_field = \"xray_0+xray_1\"\n",
    "rmsd_field = \"rmsd_0+rmsd_1\"\n",
    "\n",
    "score_dfs = list()\n",
    "for i in range(10):\n",
    "    score_df = pd.read_csv(Path(Path.home(), \"Documents/xray/score_bench/data/7mhf/{}/rand1000_{}.csv\".format(job, i)))\n",
    "\n",
    "    if job == \"121_native_decoys\":\n",
    "        score_df[\"xray_0+xray_1\"] = score_df[\"xray_0\"] + score_df[\"xray_1\"]\n",
    "        score_df[\"rmsd_0+rmsd_1\"] = (score_df[\"rmsd_0\"] + score_df[\"rmsd_1\"])/2\n",
    "\n",
    "    score_dfs.append(score_df)"
   ]
  },
  {
   "cell_type": "code",
   "execution_count": 21,
   "metadata": {},
   "outputs": [
    {
     "name": "stdout",
     "output_type": "stream",
     "text": [
      "[12.68984082  6.24698936 -0.0915802 ]\n",
      "0.008434706414369376\n",
      "[12.80504992  4.70196203 -0.17529336]\n",
      "0.008167602362911676\n",
      "[12.69618729  6.04095263 -0.09658497]\n"
     ]
    },
    {
     "name": "stderr",
     "output_type": "stream",
     "text": [
      "/Users/matthew/opt/anaconda3/envs/imp_218/lib/python3.11/site-packages/pandas/core/arraylike.py:396: RuntimeWarning: overflow encountered in exp\n",
      "  result = getattr(ufunc, method)(*inputs, **kwargs)\n"
     ]
    },
    {
     "name": "stdout",
     "output_type": "stream",
     "text": [
      "0.00877399617885425\n",
      "[12.73820602  5.52781852 -0.12680042]\n",
      "0.007291852911015896\n",
      "[12.75864939  6.02980591 -0.09633955]\n",
      "0.007243213303261039\n",
      "[12.76017959  5.19145162 -0.13688496]\n",
      "0.01015315189851296\n",
      "[12.68801125  6.46323813 -0.08758868]\n",
      "0.008487019741246897\n",
      "[12.7198213   6.11777075 -0.09771267]\n",
      "0.006253633141699939\n",
      "[12.71699506  5.70350443 -0.1174101 ]\n",
      "0.008840389076844942\n",
      "[12.77994021  4.84999496 -0.15895664]\n",
      "0.0130682725320015\n"
     ]
    }
   ],
   "source": [
    "vars = list()\n",
    "all_params = list()\n",
    "for score_df in score_dfs:\n",
    "    xs = score_df[rmsd_field]\n",
    "    ys = score_df[score_field]\n",
    "\n",
    "    params, covariance = curve_fit(logistic_func, xs, ys, param_est, maxfev=10000)\n",
    "    L_fit, k_fit, x0_fit = params\n",
    "    all_params.append(params)\n",
    "    print(params)\n",
    "\n",
    "    var = get_var(score_df, score_field, rmsd_field, params[0], params[1], params[2])\n",
    "    vars.append(var)\n",
    "    print(var)"
   ]
  },
  {
   "cell_type": "code",
   "execution_count": 22,
   "metadata": {},
   "outputs": [
    {
     "name": "stdout",
     "output_type": "stream",
     "text": [
      "0.008671383756071847\n",
      "0.001780434104868218\n"
     ]
    }
   ],
   "source": [
    "print(np.mean(vars))\n",
    "print(np.std(vars))"
   ]
  },
  {
   "cell_type": "code",
   "execution_count": 23,
   "metadata": {},
   "outputs": [
    {
     "data": {
      "text/plain": [
       "[1.715, 2.17, 1.77, 1.895, 1.77, 2.005, 1.665, 1.745, 1.845, 2.12]"
      ]
     },
     "execution_count": 23,
     "metadata": {},
     "output_type": "execute_result"
    }
   ],
   "source": [
    "first_fp_zeros = list()\n",
    "for i in range(10):\n",
    "    score_df = score_dfs[i]\n",
    "\n",
    "    xs = score_df[rmsd_field]\n",
    "    ys = score_df[score_field]\n",
    "\n",
    "    params = all_params[i]\n",
    "    first_fp_zero = get_first_fp_zero(params[0], params[1], params[2])\n",
    "    first_fp_zeros.append(first_fp_zero)\n",
    "\n",
    "first_fp_zeros"
   ]
  },
  {
   "cell_type": "code",
   "execution_count": 24,
   "metadata": {},
   "outputs": [
    {
     "name": "stdout",
     "output_type": "stream",
     "text": [
      "1.8699999999999999\n",
      "0.16542369842317028\n"
     ]
    }
   ],
   "source": [
    "print(np.mean(first_fp_zeros))\n",
    "print(np.std(first_fp_zeros))"
   ]
  },
  {
   "cell_type": "code",
   "execution_count": null,
   "metadata": {},
   "outputs": [],
   "source": []
  },
  {
   "cell_type": "code",
   "execution_count": null,
   "metadata": {},
   "outputs": [],
   "source": []
  }
 ],
 "metadata": {
  "kernelspec": {
   "display_name": "imp_218",
   "language": "python",
   "name": "python3"
  },
  "language_info": {
   "codemirror_mode": {
    "name": "ipython",
    "version": 3
   },
   "file_extension": ".py",
   "mimetype": "text/x-python",
   "name": "python",
   "nbconvert_exporter": "python",
   "pygments_lexer": "ipython3",
   "version": "3.11.3"
  },
  "orig_nbformat": 4
 },
 "nbformat": 4,
 "nbformat_minor": 2
}
