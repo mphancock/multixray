{
 "cells": [
  {
   "cell_type": "code",
   "execution_count": null,
   "metadata": {},
   "outputs": [],
   "source": [
    "import matplotlib.pyplot as plt\n",
    "import seaborn as sns \n",
    "sns.set_theme()\n",
    "import pandas as pd \n",
    "from pathlib import Path \n",
    "import numpy as np\n",
    "import matplotlib.colors as mcolors\n",
    "from matplotlib.lines import Line2D\n"
   ]
  },
  {
   "cell_type": "code",
   "execution_count": 13,
   "metadata": {},
   "outputs": [
    {
     "name": "stdout",
     "output_type": "stream",
     "text": [
      "0.3471511381526184 0.3279630114987032\n",
      "0.33493593955510675 0.3098401681154453\n",
      "0.33527800377373357 0.30220786084505474\n",
      "0.42523478615287347 0.3280590521691894\n",
      "0.4263575295878708 0.3797875064251835\n",
      "0.4777782855636887 0.38937299943919695\n"
     ]
    }
   ],
   "source": [
    "analysis_dir = Path(Path.home(), \"Documents/xray/score_bench/data\")\n",
    "job_names = [\"34_1\", \"35_2\", \"36_4\", \"37_8\", \"38_16\", \"39_32\"]\n",
    "\n",
    "score_dfs = list() \n",
    "for job_name in job_names: \n",
    "    score_dir = Path(analysis_dir, job_name)\n",
    "    \n",
    "    score_file = Path(score_dir, \"rand_5000_3ca7.csv\")\n",
    "    score_df = pd.read_csv(score_file)\n",
    "    score_dfs.append(score_df)\n",
    "    print(np.mean(score_df[\"r_free\"]), np.min(score_df[\"r_free\"]))\n"
   ]
  },
  {
   "cell_type": "code",
   "execution_count": 33,
   "metadata": {},
   "outputs": [
    {
     "data": {
      "image/png": "[encoded data removed]",
      "text/plain": [
       "<Figure size 1080x720 with 1 Axes>"
      ]
     },
     "metadata": {},
     "output_type": "display_data"
    }
   ],
   "source": [
    "fig_file = Path(Path.home(), \"Documents/xray/score_bench/figures/34-39_rand_5000.png\")\n",
    "\n",
    "colors = list() \n",
    "colors.append(mcolors.CSS4_COLORS[\"dodgerblue\"])\n",
    "colors.append(mcolors.CSS4_COLORS[\"orange\"])\n",
    "colors.append(mcolors.CSS4_COLORS[\"orangered\"])\n",
    "\n",
    "fig = plt.figure(figsize=(15,10))\n",
    "\n",
    "for i in range(len(score_dfs)): \n",
    "    n_state = 2**i\n",
    "    score_df = score_dfs[i]\n",
    "    x = i\n",
    "\n",
    "    y = np.mean(score_df[\"r_free\"])\n",
    "    std = np.std(score_df[\"r_free\"])\n",
    "    \n",
    "    min_val = np.min(score_df[\"r_free\"])\n",
    "\n",
    "    plt.scatter(x, np.mean(score_df[\"r_free\"]))\n",
    "    plt.errorbar(x, np.mean(score_df[\"r_free\"]), np.std(score_df[\"r_free\"]), linestyle='None', marker='o', capsize=3, c=colors[0])\n",
    "    plt.scatter(x, np.min(score_df[\"r_free\"]), c=colors[0])\n",
    "    \n",
    "    plt.scatter(x, np.mean(score_df[\"r_work\"]), c=colors[1])\n",
    "    plt.errorbar(x, np.mean(score_df[\"r_work\"]), np.std(score_df[\"r_free\"]), linestyle='None', marker='o', capsize=3, c=colors[1])\n",
    "    plt.scatter(x, np.min(score_df[\"r_work\"]), c=colors[1])\n",
    "    \n",
    "my_xticks = [\"1-state\",'2-state','4-state','8-state', '16-state', '32-state']\n",
    "plt.xticks(list(range(len(score_dfs))), my_xticks)\n",
    "\n",
    "custom_legend = list() \n",
    "custom_legend.append(Line2D([], [], marker='.', markersize=10, color=colors[0], linestyle='None'))\n",
    "custom_legend.append(Line2D([], [], marker='.', markersize=10, color=colors[1], linestyle='None'))\n",
    "plt.legend(custom_legend, ['r_free', 'r_work'], loc=\"upper right\", fontsize=15)\n",
    "\n",
    "# plt.show()\n",
    "plt.savefig(fig_file)\n"
   ]
  },
  {
   "cell_type": "code",
   "execution_count": null,
   "metadata": {},
   "outputs": [],
   "source": []
  }
 ],
 "metadata": {
  "kernelspec": {
   "display_name": "Python 3",
   "language": "python",
   "name": "python3"
  },
  "language_info": {
   "codemirror_mode": {
    "name": "ipython",
    "version": 3
   },
   "file_extension": ".py",
   "mimetype": "text/x-python",
   "name": "python",
   "nbconvert_exporter": "python",
   "pygments_lexer": "ipython3",
   "version": "3.11.3"
  }
 },
 "nbformat": 4,
 "nbformat_minor": 4
}
