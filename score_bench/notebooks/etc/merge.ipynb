{
 "cells": [
  {
   "cell_type": "code",
   "execution_count": 1,
   "metadata": {},
   "outputs": [],
   "source": [
    "from pathlib import Path\n",
    "import pandas as pd"
   ]
  },
  {
   "cell_type": "code",
   "execution_count": 4,
   "metadata": {},
   "outputs": [],
   "source": [
    "analysis_dir = Path(Path.home(), \"Documents/xray/score_bench/data/7mhf/121_native_decoys\")\n",
    "\n",
    "score_dfs = list()\n",
    "for j in range(10):\n",
    "    score_df_file = Path(analysis_dir, \"rand1000_{}.csv\".format(i))\n",
    "    score_df = pd.read_csv(score_df_file, index_col=0)\n",
    "    score_df[\"j\"] = j\n",
    "\n",
    "    score_dfs.append(score_df)\n",
    "\n",
    "merge_df = pd.concat(score_dfs)\n",
    "merge_df.to_csv(Path(analysis_dir, \"rand1000_score.csv\"))"
   ]
  },
  {
   "cell_type": "code",
   "execution_count": null,
   "metadata": {},
   "outputs": [],
   "source": []
  }
 ],
 "metadata": {
  "kernelspec": {
   "display_name": "plot",
   "language": "python",
   "name": "python3"
  },
  "language_info": {
   "codemirror_mode": {
    "name": "ipython",
    "version": 3
   },
   "file_extension": ".py",
   "mimetype": "text/x-python",
   "name": "python",
   "nbconvert_exporter": "python",
   "pygments_lexer": "ipython3",
   "version": "3.12.2"
  }
 },
 "nbformat": 4,
 "nbformat_minor": 2
}
