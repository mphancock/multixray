{
 "cells": [
  {
   "cell_type": "code",
   "execution_count": 2,
   "metadata": {},
   "outputs": [],
   "source": [
    "import pickle \n",
    "from pathlib import Path\n",
    "import matplotlib.pyplot as plt\n",
    "import matplotlib.colors as mcolors\n",
    "from matplotlib.lines import Line2D\n",
    "import seaborn as sns\n",
    "sns.set_theme()\n",
    "import math\n",
    "import pandas as pd\n"
   ]
  },
  {
   "cell_type": "code",
   "execution_count": 3,
   "metadata": {},
   "outputs": [],
   "source": [
    "score_df = pd.read_csv(Path(Path.home(), \"Documents/xray/score_bench/data/3ca7/80_native_1x_decoys/1_state_ref/0_native_1x.csv\"))"
   ]
  },
  {
   "cell_type": "code",
   "execution_count": 4,
   "metadata": {},
   "outputs": [
    {
     "data": {
      "text/html": [
       "<div>\n",
       "<style scoped>\n",
       "    .dataframe tbody tr th:only-of-type {\n",
       "        vertical-align: middle;\n",
       "    }\n",
       "\n",
       "    .dataframe tbody tr th {\n",
       "        vertical-align: top;\n",
       "    }\n",
       "\n",
       "    .dataframe thead th {\n",
       "        text-align: right;\n",
       "    }\n",
       "</style>\n",
       "<table border=\"1\" class=\"dataframe\">\n",
       "  <thead>\n",
       "    <tr style=\"text-align: right;\">\n",
       "      <th></th>\n",
       "      <th>Unnamed: 0</th>\n",
       "      <th>pdb_file</th>\n",
       "      <th>native</th>\n",
       "      <th>ml</th>\n",
       "      <th>rmsd_avg</th>\n",
       "      <th>r_free</th>\n",
       "      <th>r_work</th>\n",
       "      <th>r_all</th>\n",
       "    </tr>\n",
       "  </thead>\n",
       "  <tbody>\n",
       "    <tr>\n",
       "      <th>0</th>\n",
       "      <td>0</td>\n",
       "      <td>/wynton/group/sali/mhancock/xray/decoys/data/3...</td>\n",
       "      <td>0</td>\n",
       "      <td>5.813069</td>\n",
       "      <td>0.399052</td>\n",
       "      <td>0.513490</td>\n",
       "      <td>0.509410</td>\n",
       "      <td>0.509687</td>\n",
       "    </tr>\n",
       "    <tr>\n",
       "      <th>1</th>\n",
       "      <td>1</td>\n",
       "      <td>/wynton/group/sali/mhancock/xray/decoys/data/3...</td>\n",
       "      <td>0</td>\n",
       "      <td>5.798356</td>\n",
       "      <td>0.411405</td>\n",
       "      <td>0.522816</td>\n",
       "      <td>0.501320</td>\n",
       "      <td>0.502905</td>\n",
       "    </tr>\n",
       "    <tr>\n",
       "      <th>2</th>\n",
       "      <td>2</td>\n",
       "      <td>/wynton/group/sali/mhancock/xray/decoys/data/3...</td>\n",
       "      <td>0</td>\n",
       "      <td>5.874028</td>\n",
       "      <td>0.792712</td>\n",
       "      <td>0.553868</td>\n",
       "      <td>0.544529</td>\n",
       "      <td>0.545175</td>\n",
       "    </tr>\n",
       "    <tr>\n",
       "      <th>3</th>\n",
       "      <td>3</td>\n",
       "      <td>/wynton/group/sali/mhancock/xray/decoys/data/3...</td>\n",
       "      <td>0</td>\n",
       "      <td>5.880003</td>\n",
       "      <td>0.790189</td>\n",
       "      <td>0.545653</td>\n",
       "      <td>0.547249</td>\n",
       "      <td>0.547170</td>\n",
       "    </tr>\n",
       "    <tr>\n",
       "      <th>4</th>\n",
       "      <td>4</td>\n",
       "      <td>/wynton/group/sali/mhancock/xray/decoys/data/3...</td>\n",
       "      <td>0</td>\n",
       "      <td>5.034437</td>\n",
       "      <td>0.093391</td>\n",
       "      <td>0.224212</td>\n",
       "      <td>0.222681</td>\n",
       "      <td>0.222793</td>\n",
       "    </tr>\n",
       "  </tbody>\n",
       "</table>\n",
       "</div>"
      ],
      "text/plain": [
       "   Unnamed: 0                                           pdb_file  native   \n",
       "0           0  /wynton/group/sali/mhancock/xray/decoys/data/3...       0  \\\n",
       "1           1  /wynton/group/sali/mhancock/xray/decoys/data/3...       0   \n",
       "2           2  /wynton/group/sali/mhancock/xray/decoys/data/3...       0   \n",
       "3           3  /wynton/group/sali/mhancock/xray/decoys/data/3...       0   \n",
       "4           4  /wynton/group/sali/mhancock/xray/decoys/data/3...       0   \n",
       "\n",
       "         ml  rmsd_avg    r_free    r_work     r_all  \n",
       "0  5.813069  0.399052  0.513490  0.509410  0.509687  \n",
       "1  5.798356  0.411405  0.522816  0.501320  0.502905  \n",
       "2  5.874028  0.792712  0.553868  0.544529  0.545175  \n",
       "3  5.880003  0.790189  0.545653  0.547249  0.547170  \n",
       "4  5.034437  0.093391  0.224212  0.222681  0.222793  "
      ]
     },
     "execution_count": 4,
     "metadata": {},
     "output_type": "execute_result"
    }
   ],
   "source": [
    "score_df.head()"
   ]
  },
  {
   "cell_type": "code",
   "execution_count": 5,
   "metadata": {},
   "outputs": [
    {
     "data": {
      "image/png": "[encoded data removed]",
      "text/plain": [
       "<Figure size 640x480 with 1 Axes>"
      ]
     },
     "metadata": {},
     "output_type": "display_data"
    }
   ],
   "source": [
    "fig, axs = plt.subplots(1, 1, sharey=True, tight_layout=True)\n",
    "\n",
    "# We can set the number of bins with the *bins* keyword argument.\n",
    "axs.hist(score_df[\"rmsd_avg\"], bins=100)\n",
    "plt.show()"
   ]
  },
  {
   "cell_type": "code",
   "execution_count": null,
   "metadata": {},
   "outputs": [],
   "source": []
  }
 ],
 "metadata": {
  "kernelspec": {
   "display_name": "imp_218",
   "language": "python",
   "name": "python3"
  },
  "language_info": {
   "codemirror_mode": {
    "name": "ipython",
    "version": 3
   },
   "file_extension": ".py",
   "mimetype": "text/x-python",
   "name": "python",
   "nbconvert_exporter": "python",
   "pygments_lexer": "ipython3",
   "version": "3.11.3"
  },
  "orig_nbformat": 4
 },
 "nbformat": 4,
 "nbformat_minor": 2
}
