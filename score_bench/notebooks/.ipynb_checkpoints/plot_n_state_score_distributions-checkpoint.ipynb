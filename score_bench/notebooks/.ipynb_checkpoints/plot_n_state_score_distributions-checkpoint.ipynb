{
 "cells": [
  {
   "cell_type": "code",
   "execution_count": 1,
   "metadata": {},
   "outputs": [],
   "source": [
    "import matplotlib.pyplot as plt\n",
    "import seaborn as sns \n",
    "sns.set_theme()\n",
    "import pandas as pd \n",
    "from pathlib import Path \n",
    "import numpy as np"
   ]
  },
  {
   "cell_type": "code",
   "execution_count": 4,
   "metadata": {},
   "outputs": [
    {
     "name": "stdout",
     "output_type": "stream",
     "text": [
      "1 0.293456884901931 0.2896382448923408\n",
      "2 0.2906052091802502 0.2872331571917578\n",
      "4 0.28946643301095637 0.286598244037654\n",
      "8 0.28915509205026785 0.28666505894178684\n",
      "16 0.2892213019901501 0.2876092130278372\n"
     ]
    }
   ],
   "source": [
    "scores_dir = Path(Path.home(), \"Documents/xray/score_bench/analysis/24_300_exp_equil_com/multi_state\")\n",
    "for n_state in [1,2,4,8,16,32]: \n",
    "    scores_file = Path(scores_dir, \"pdbs_{}.csv\".format(n_state))\n",
    "    scores_df = pd.read_csv(scores_file)\n",
    "    print(n_state, np.mean(scores_df[\"rf\"]), np.min(scores_df[\"rf\"]))\n"
   ]
  },
  {
   "cell_type": "code",
   "execution_count": null,
   "metadata": {},
   "outputs": [],
   "source": []
  }
 ],
 "metadata": {
  "kernelspec": {
   "display_name": "Python 3",
   "language": "python",
   "name": "python3"
  },
  "language_info": {
   "codemirror_mode": {
    "name": "ipython",
    "version": 3
   },
   "file_extension": ".py",
   "mimetype": "text/x-python",
   "name": "python",
   "nbconvert_exporter": "python",
   "pygments_lexer": "ipython3",
   "version": "3.8.5"
  }
 },
 "nbformat": 4,
 "nbformat_minor": 4
}
