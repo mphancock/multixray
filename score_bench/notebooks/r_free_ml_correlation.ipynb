{
 "cells": [
  {
   "cell_type": "code",
   "execution_count": 2,
   "metadata": {},
   "outputs": [],
   "source": [
    "import matplotlib.pyplot as plt\n",
    "import seaborn as sns \n",
    "sns.set_theme()\n",
    "import pandas as pd \n",
    "from pathlib import Path \n",
    "import numpy as np\n",
    "import matplotlib.colors as mcolors\n",
    "from matplotlib.lines import Line2D\n"
   ]
  },
  {
   "cell_type": "code",
   "execution_count": 59,
   "metadata": {},
   "outputs": [
    {
     "data": {
      "text/html": [
       "<div>\n",
       "<style scoped>\n",
       "    .dataframe tbody tr th:only-of-type {\n",
       "        vertical-align: middle;\n",
       "    }\n",
       "\n",
       "    .dataframe tbody tr th {\n",
       "        vertical-align: top;\n",
       "    }\n",
       "\n",
       "    .dataframe thead th {\n",
       "        text-align: right;\n",
       "    }\n",
       "</style>\n",
       "<table border=\"1\" class=\"dataframe\">\n",
       "  <thead>\n",
       "    <tr style=\"text-align: right;\">\n",
       "      <th></th>\n",
       "      <th>Unnamed: 0</th>\n",
       "      <th>pdb_file</th>\n",
       "      <th>native</th>\n",
       "      <th>r_all</th>\n",
       "      <th>r_work</th>\n",
       "      <th>r_free</th>\n",
       "      <th>total</th>\n",
       "      <th>rmsd</th>\n",
       "      <th>ml</th>\n",
       "      <th>ff</th>\n",
       "    </tr>\n",
       "  </thead>\n",
       "  <tbody>\n",
       "    <tr>\n",
       "      <th>0</th>\n",
       "      <td>0</td>\n",
       "      <td>/wynton/group/sali/mhancock/xray/decoys/data/3...</td>\n",
       "      <td>0</td>\n",
       "      <td>0.237955</td>\n",
       "      <td>0.233607</td>\n",
       "      <td>0.330722</td>\n",
       "      <td>152671.404598</td>\n",
       "      <td>0.765722</td>\n",
       "      <td>4.987696</td>\n",
       "      <td>3040.529166</td>\n",
       "    </tr>\n",
       "    <tr>\n",
       "      <th>1</th>\n",
       "      <td>1</td>\n",
       "      <td>/wynton/group/sali/mhancock/xray/decoys/data/3...</td>\n",
       "      <td>0</td>\n",
       "      <td>0.243301</td>\n",
       "      <td>0.238770</td>\n",
       "      <td>0.339094</td>\n",
       "      <td>153353.708722</td>\n",
       "      <td>0.699803</td>\n",
       "      <td>5.009372</td>\n",
       "      <td>3072.550710</td>\n",
       "    </tr>\n",
       "    <tr>\n",
       "      <th>2</th>\n",
       "      <td>2</td>\n",
       "      <td>/wynton/group/sali/mhancock/xray/decoys/data/3...</td>\n",
       "      <td>0</td>\n",
       "      <td>0.242821</td>\n",
       "      <td>0.238484</td>\n",
       "      <td>0.332820</td>\n",
       "      <td>153425.386753</td>\n",
       "      <td>0.682287</td>\n",
       "      <td>5.000132</td>\n",
       "      <td>3421.430812</td>\n",
       "    </tr>\n",
       "    <tr>\n",
       "      <th>3</th>\n",
       "      <td>3</td>\n",
       "      <td>/wynton/group/sali/mhancock/xray/decoys/data/3...</td>\n",
       "      <td>0</td>\n",
       "      <td>0.241660</td>\n",
       "      <td>0.237313</td>\n",
       "      <td>0.332872</td>\n",
       "      <td>153708.360312</td>\n",
       "      <td>0.699321</td>\n",
       "      <td>5.013681</td>\n",
       "      <td>3297.941098</td>\n",
       "    </tr>\n",
       "    <tr>\n",
       "      <th>4</th>\n",
       "      <td>4</td>\n",
       "      <td>/wynton/group/sali/mhancock/xray/decoys/data/3...</td>\n",
       "      <td>0</td>\n",
       "      <td>0.241890</td>\n",
       "      <td>0.237161</td>\n",
       "      <td>0.338618</td>\n",
       "      <td>153926.080176</td>\n",
       "      <td>0.784977</td>\n",
       "      <td>5.018369</td>\n",
       "      <td>3375.010319</td>\n",
       "    </tr>\n",
       "  </tbody>\n",
       "</table>\n",
       "</div>"
      ],
      "text/plain": [
       "   Unnamed: 0                                           pdb_file  native  \\\n",
       "0           0  /wynton/group/sali/mhancock/xray/decoys/data/3...       0   \n",
       "1           1  /wynton/group/sali/mhancock/xray/decoys/data/3...       0   \n",
       "2           2  /wynton/group/sali/mhancock/xray/decoys/data/3...       0   \n",
       "3           3  /wynton/group/sali/mhancock/xray/decoys/data/3...       0   \n",
       "4           4  /wynton/group/sali/mhancock/xray/decoys/data/3...       0   \n",
       "\n",
       "      r_all    r_work    r_free          total      rmsd        ml  \\\n",
       "0  0.237955  0.233607  0.330722  152671.404598  0.765722  4.987696   \n",
       "1  0.243301  0.238770  0.339094  153353.708722  0.699803  5.009372   \n",
       "2  0.242821  0.238484  0.332820  153425.386753  0.682287  5.000132   \n",
       "3  0.241660  0.237313  0.332872  153708.360312  0.699321  5.013681   \n",
       "4  0.241890  0.237161  0.338618  153926.080176  0.784977  5.018369   \n",
       "\n",
       "            ff  \n",
       "0  3040.529166  \n",
       "1  3072.550710  \n",
       "2  3421.430812  \n",
       "3  3297.941098  \n",
       "4  3375.010319  "
      ]
     },
     "execution_count": 59,
     "metadata": {},
     "output_type": "execute_result"
    }
   ],
   "source": [
    "score_file = Path(Path.home(), \"Documents/xray/score_bench/data/36_4/rand_5000_3ca7.csv\")\n",
    "score_df = pd.read_csv(score_file)\n",
    "\n",
    "score_df.head()"
   ]
  },
  {
   "cell_type": "code",
   "execution_count": 62,
   "metadata": {},
   "outputs": [
    {
     "data": {
      "text/plain": [
       "<matplotlib.collections.PathCollection at 0x7f7bb93c9e20>"
      ]
     },
     "execution_count": 62,
     "metadata": {},
     "output_type": "execute_result"
    },
    {
     "data": {
      "image/png": "[encoded data removed]",
      "text/plain": [
       "<Figure size 432x288 with 1 Axes>"
      ]
     },
     "metadata": {},
     "output_type": "display_data"
    }
   ],
   "source": [
    "plt.scatter(score_df[\"r_free\"], score_df[\"ml\"])"
   ]
  },
  {
   "cell_type": "code",
   "execution_count": null,
   "metadata": {},
   "outputs": [],
   "source": []
  }
 ],
 "metadata": {
  "kernelspec": {
   "display_name": "Python 3",
   "language": "python",
   "name": "python3"
  },
  "language_info": {
   "codemirror_mode": {
    "name": "ipython",
    "version": 3
   },
   "file_extension": ".py",
   "mimetype": "text/x-python",
   "name": "python",
   "nbconvert_exporter": "python",
   "pygments_lexer": "ipython3",
   "version": "3.8.5"
  }
 },
 "nbformat": 4,
 "nbformat_minor": 4
}
