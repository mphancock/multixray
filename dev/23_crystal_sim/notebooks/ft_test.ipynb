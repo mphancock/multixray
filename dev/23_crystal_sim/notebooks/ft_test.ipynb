{
 "cells": [
  {
   "cell_type": "code",
   "execution_count": 5,
   "metadata": {},
   "outputs": [],
   "source": [
    "import numpy as np \n",
    "import random"
   ]
  },
  {
   "cell_type": "code",
   "execution_count": 14,
   "metadata": {},
   "outputs": [
    {
     "name": "stdout",
     "output_type": "stream",
     "text": [
      "0 (10+0j)\n",
      "1 (10+0j)\n",
      "2 (10+0j)\n"
     ]
    }
   ],
   "source": [
    "for i in range(3):\n",
    "    arr = np.zeros(shape=[10,10,10])\n",
    "\n",
    "    for j in range(10):\n",
    "        arr[random.choice(range(10)), random.choice(range(10)), random.choice(range(10))] = 1\n",
    "\n",
    "    print(i, np.fft.fftn(arr)[0,0,0])\n",
    "\n",
    "\n"
   ]
  },
  {
   "cell_type": "code",
   "execution_count": null,
   "metadata": {},
   "outputs": [],
   "source": []
  }
 ],
 "metadata": {
  "kernelspec": {
   "display_name": "imp_218",
   "language": "python",
   "name": "python3"
  },
  "language_info": {
   "codemirror_mode": {
    "name": "ipython",
    "version": 3
   },
   "file_extension": ".py",
   "mimetype": "text/x-python",
   "name": "python",
   "nbconvert_exporter": "python",
   "pygments_lexer": "ipython3",
   "version": "3.11.3"
  },
  "orig_nbformat": 4
 },
 "nbformat": 4,
 "nbformat_minor": 2
}
