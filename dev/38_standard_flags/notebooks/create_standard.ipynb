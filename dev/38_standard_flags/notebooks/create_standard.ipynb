{
 "cells": [
  {
   "cell_type": "code",
   "execution_count": 1,
   "metadata": {},
   "outputs": [],
   "source": [
    "from pathlib import Path\n",
    "import sys\n",
    "\n",
    "import iotbx.reflection_file_reader as cif_input\n",
    "\n",
    "sys.path.append(str(Path(Path.home(), \"Documents/xray/src\")))\n",
    "from miller_ops import get_miller_array\n",
    "sys.path.append(str(Path(Path.home(), \"Documents/xray/data/cifs/scripts\")))\n",
    "from generate_fmodel import write_cif, get_status_array"
   ]
  },
  {
   "cell_type": "code",
   "execution_count": 16,
   "metadata": {},
   "outputs": [],
   "source": [
    "cif_dir = Path(Path.home(), \"Documents/xray/dev/29_synthetic_native_3/data/cifs/7mhf_30_05/0\")\n",
    "new_cif_dir = Path(Path.home(), \"Documents/xray/dev/38_standard_flags/data/bench/0\")\n",
    "cif_names = [\"0.cif\", \"1.cif\"]"
   ]
  },
  {
   "cell_type": "code",
   "execution_count": 17,
   "metadata": {},
   "outputs": [
    {
     "name": "stdout",
     "output_type": "stream",
     "text": [
      "Miller array info: /Users/matthew/Documents/xray/dev/29_synthetic_native_3/data/cifs/7mhf_30_05/0/0.cif:Global,_refln.F_meas_au\n",
      "Observation type: xray.amplitude\n",
      "Type of data: double, size=147529\n",
      "Type of sigmas: None\n",
      "Number of Miller indices: 147529\n",
      "Anomalous flag: False\n",
      "Unit cell: (114.968, 54.622, 45.194, 90, 101.675, 90)\n",
      "Space group: C 1 2 1 (No. 5)\n"
     ]
    },
    {
     "data": {
      "text/plain": [
       "crystal.symmetry(\n",
       "    unit_cell=(114.968, 54.622, 45.194, 90, 101.675, 90),\n",
       "    space_group_symbol=\"C 1 2 1\"\n",
       "  )\n",
       "Global,_refln.F_meas_au\n",
       "<scitbx_array_family_flex_ext.double object at 0x17daad440>\n",
       "size: 147529"
      ]
     },
     "execution_count": 17,
     "metadata": {},
     "output_type": "execute_result"
    }
   ],
   "source": [
    "f_obs_file = Path(cif_dir, cif_names[0])\n",
    "f_obs_array = get_miller_array(\n",
    "    f_obs_file=f_obs_file,\n",
    "    label=\"_refln.F_meas_au\"\n",
    ")\n",
    "f_obs_array.show_summary()"
   ]
  },
  {
   "cell_type": "code",
   "execution_count": 18,
   "metadata": {},
   "outputs": [
    {
     "name": "stdout",
     "output_type": "stream",
     "text": [
      "Number of Miller indices: 147529\n",
      "Anomalous flag: False\n",
      "Unit cell: (114.968, 54.622, 45.194, 90, 101.675, 90)\n",
      "Space group: C 1 2 1 (No. 5)\n"
     ]
    },
    {
     "data": {
      "text/plain": [
       "crystal.symmetry(\n",
       "    unit_cell=(114.968, 54.622, 45.194, 90, 101.675, 90),\n",
       "    space_group_symbol=\"C 1 2 1\"\n",
       "  )"
      ]
     },
     "execution_count": 18,
     "metadata": {},
     "output_type": "execute_result"
    }
   ],
   "source": [
    "f_complete_array = f_obs_array.complete_set(d_min=1, d_max=100)\n",
    "f_complete_array.show_summary()"
   ]
  },
  {
   "cell_type": "code",
   "execution_count": 19,
   "metadata": {},
   "outputs": [
    {
     "name": "stdout",
     "output_type": "stream",
     "text": [
      "Miller array info: None\n",
      "Observation type: None\n",
      "Type of data: bool, size=147529\n",
      "Type of sigmas: None\n",
      "Number of Miller indices: 147529\n",
      "Anomalous flag: False\n",
      "Unit cell: (114.968, 54.622, 45.194, 90, 101.675, 90)\n",
      "Space group: C 1 2 1 (No. 5)\n",
      "7377\n"
     ]
    }
   ],
   "source": [
    "f_complete_flags = f_complete_array.generate_r_free_flags(fraction=0.05, max_free=20000)\n",
    "f_complete_flags.show_summary()\n",
    "\n",
    "print(f_complete_array.select(f_complete_flags.data()).size())\n"
   ]
  },
  {
   "cell_type": "code",
   "execution_count": 20,
   "metadata": {},
   "outputs": [
    {
     "data": {
      "text/plain": [
       "(-114, 0, 4)"
      ]
     },
     "execution_count": 20,
     "metadata": {},
     "output_type": "execute_result"
    }
   ],
   "source": [
    "f_complete_flags.indices()[0]"
   ]
  },
  {
   "cell_type": "code",
   "execution_count": 21,
   "metadata": {},
   "outputs": [
    {
     "data": {
      "text/plain": [
       "False"
      ]
     },
     "execution_count": 21,
     "metadata": {},
     "output_type": "execute_result"
    }
   ],
   "source": [
    "f_complete_flags.at_first_index(f_complete_flags.data(), (-113, 1, 6))"
   ]
  },
  {
   "cell_type": "code",
   "execution_count": 22,
   "metadata": {},
   "outputs": [
    {
     "name": "stdout",
     "output_type": "stream",
     "text": [
      "0.05000372808058077\n",
      "0.05000372808058077\n",
      "0.05000372808058077\n",
      "0.05000372808058077\n"
     ]
    }
   ],
   "source": [
    "for cif_name in cif_names:\n",
    "    f_obs_file = Path(cif_dir, cif_name)\n",
    "    f_obs_array = get_miller_array(\n",
    "        f_obs_file=f_obs_file,\n",
    "        label=\"_refln.F_meas_au\"\n",
    "    )\n",
    "    status_array = get_miller_array(\n",
    "        f_obs_file=f_obs_file,\n",
    "        label=\"_refln.status\"\n",
    "    )\n",
    "    flags_array = status_array.customized_copy(data=status_array.data()==\"f\")\n",
    "\n",
    "    print(flags_array.select(flags_array.data()).size() / flags_array.size())\n",
    "\n",
    "    # flags_array = f_obs_array.generate_r_free_flags()\n",
    "\n",
    "    for index in f_obs_array.indices():\n",
    "        # print(index)\n",
    "\n",
    "        index_std_flag = f_complete_flags.at_first_index(f_complete_flags.data(), index)\n",
    "        index_id = flags_array.first_index(index)\n",
    "        flags_array.data()[index_id] = index_std_flag\n",
    "        # print(index, index_std_flag)\n",
    "\n",
    "    # print fraction\n",
    "    print(flags_array.select(flags_array.data()).size() / flags_array.size())\n",
    "\n",
    "    status_array = get_status_array(flags_array)\n",
    "    cif_file = Path(new_cif_dir, cif_name)\n",
    "    write_cif(f_obs=f_obs_array, status_array=status_array, cif_file=cif_file)"
   ]
  },
  {
   "cell_type": "code",
   "execution_count": 35,
   "metadata": {},
   "outputs": [
    {
     "data": {
      "text/plain": [
       "0"
      ]
     },
     "execution_count": 35,
     "metadata": {},
     "output_type": "execute_result"
    }
   ],
   "source": [
    "flags_array.first_index((-73, 1, 4))"
   ]
  },
  {
   "cell_type": "code",
   "execution_count": 34,
   "metadata": {},
   "outputs": [
    {
     "data": {
      "text/plain": [
       "(-73, 1, 4)"
      ]
     },
     "execution_count": 34,
     "metadata": {},
     "output_type": "execute_result"
    }
   ],
   "source": [
    "flags_array.indices()[0]"
   ]
  },
  {
   "cell_type": "code",
   "execution_count": null,
   "metadata": {},
   "outputs": [],
   "source": []
  }
 ],
 "metadata": {
  "kernelspec": {
   "display_name": "imp_220_cctbx",
   "language": "python",
   "name": "python3"
  },
  "language_info": {
   "codemirror_mode": {
    "name": "ipython",
    "version": 3
   },
   "file_extension": ".py",
   "mimetype": "text/x-python",
   "name": "python",
   "nbconvert_exporter": "python",
   "pygments_lexer": "ipython3",
   "version": "3.11.8"
  }
 },
 "nbformat": 4,
 "nbformat_minor": 2
}
