{
 "cells": [
  {
   "cell_type": "code",
   "execution_count": 3,
   "metadata": {},
   "outputs": [],
   "source": [
    "from pathlib import Path\n",
    "import sys\n",
    "\n",
    "import iotbx.reflection_file_reader as cif_input\n",
    "\n",
    "sys.path.append(str(Path(Path.home(), \"Documents/xray/src\")))\n",
    "from miller_ops import get_flags, get_f_obs\n",
    "sys.path.append(str(Path(Path.home(), \"Documents/xray/data/cifs/scripts\")))\n",
    "# from generate_fmodel import write_cif, get_status_array"
   ]
  },
  {
   "cell_type": "code",
   "execution_count": 7,
   "metadata": {},
   "outputs": [
    {
     "name": "stdout",
     "output_type": "stream",
     "text": [
      "Number of work/free reflections by resolution:\n",
      "                                         work  free  %free\n",
      "  bin  1: 48.0700 -  3.3341 [3894/3897]  3698   196   5.0%\n",
      "  bin  2:  3.3341 -  2.6465 [3819/3820]  3637   182   4.8%\n",
      "  bin  3:  2.6465 -  2.3119 [3788/3790]  3580   208   5.5%\n",
      "  bin  4:  2.3119 -  2.1005 [3800/3802]  3608   192   5.1%\n",
      "  bin  5:  2.1005 -  1.9500 [3812/3812]  3623   189   5.0%\n",
      "  bin  6:  1.9500 -  1.8350 [3770/3782]  3600   170   4.5%\n",
      "  bin  7:  1.8350 -  1.7431 [3768/3770]  3597   171   4.5%\n",
      "  bin  8:  1.7431 -  1.6672 [3796/3798]  3596   200   5.3%\n",
      "  bin  9:  1.6672 -  1.6030 [3752/3753]  3553   199   5.3%\n",
      "  bin 10:  1.6030 -  1.5477 [3702/3784]  3503   199   5.4%\n",
      "                                overall 35995  1906   5.0%\n",
      "Number of work/free reflections by resolution:\n",
      "                                         work  free  %free\n",
      "  bin  1: 55.6587 -  3.2966 [4095/4095]  3868   227   5.5%\n",
      "  bin  2:  3.2966 -  2.6166 [4031/4031]  3830   201   5.0%\n",
      "  bin  3:  2.6166 -  2.2858 [3990/3990]  3787   203   5.1%\n",
      "  bin  4:  2.2858 -  2.0768 [4014/4014]  3826   188   4.7%\n",
      "  bin  5:  2.0768 -  1.9279 [3980/3980]  3804   176   4.4%\n",
      "  bin  6:  1.9279 -  1.8143 [3991/3991]  3790   201   5.0%\n",
      "  bin  7:  1.8143 -  1.7234 [3968/3968]  3763   205   5.2%\n",
      "  bin  8:  1.7234 -  1.6484 [3969/3969]  3751   218   5.5%\n",
      "  bin  9:  1.6484 -  1.5849 [3960/3960]  3770   190   4.8%\n",
      "  bin 10:  1.5849 -  1.5302 [3977/3988]  3779   198   5.0%\n",
      "                                overall 37968  2007   5.0%\n",
      "Number of work/free reflections by resolution:\n",
      "                                         work  free  %free\n",
      "  bin  1: 48.9737 -  4.7188 [1460/1460]  1382    78   5.3%\n",
      "  bin  2:  4.7188 -  3.7458 [1419/1419]  1359    60   4.2%\n",
      "  bin  3:  3.7458 -  3.2725 [1435/1435]  1361    74   5.2%\n",
      "  bin  4:  3.2725 -  2.9733 [1415/1415]  1336    79   5.6%\n",
      "  bin  5:  2.9733 -  2.7602 [1394/1394]  1319    75   5.4%\n",
      "  bin  6:  2.7602 -  2.5975 [1419/1419]  1336    83   5.8%\n",
      "  bin  7:  2.5975 -  2.4674 [1400/1401]  1322    78   5.6%\n",
      "  bin  8:  2.4674 -  2.3600 [1378/1380]  1313    65   4.7%\n",
      "  bin  9:  2.3600 -  2.2691 [1393/1395]  1312    81   5.8%\n",
      "  bin 10:  2.2691 -  2.1908 [1407/1418]  1339    68   4.8%\n",
      "                                overall 13379   741   5.2%\n",
      "Number of work/free reflections by resolution:\n",
      "                                         work  free  %free\n",
      "  bin  1: 56.3200 -  4.0499 [2323/2323]  2201   122   5.3%\n",
      "  bin  2:  4.0499 -  3.2146 [2244/2244]  2129   115   5.1%\n",
      "  bin  3:  3.2146 -  2.8083 [2260/2260]  2165    95   4.2%\n",
      "  bin  4:  2.8083 -  2.5515 [2235/2235]  2123   112   5.0%\n",
      "  bin  5:  2.5515 -  2.3687 [2237/2237]  2117   120   5.4%\n",
      "  bin  6:  2.3687 -  2.2290 [2247/2247]  2137   110   4.9%\n",
      "  bin  7:  2.2290 -  2.1174 [2245/2245]  2155    90   4.0%\n",
      "  bin  8:  2.1174 -  2.0252 [2226/2226]  2095   131   5.9%\n",
      "  bin  9:  2.0252 -  1.9472 [2225/2225]  2119   106   4.8%\n",
      "  bin 10:  1.9472 -  1.8800 [2217/2217]  2111   106   4.8%\n",
      "                                overall 21352  1107   4.9%\n",
      "Number of work/free reflections by resolution:\n",
      "                                         work  free  %free\n",
      "  bin  1: 56.3257 -  4.3093 [1936/1942]  1808   128   6.6%\n",
      "  bin  2:  4.3093 -  3.4206 [1876/1885]  1798    78   4.2%\n",
      "  bin  3:  3.4206 -  2.9882 [1868/1878]  1772    96   5.1%\n",
      "  bin  4:  2.9882 -  2.7150 [1855/1866]  1780    75   4.0%\n",
      "  bin  5:  2.7150 -  2.5204 [1850/1862]  1767    83   4.5%\n",
      "  bin  6:  2.5204 -  2.3718 [1839/1864]  1739   100   5.4%\n",
      "  bin  7:  2.3718 -  2.2530 [1857/1874]  1756   101   5.4%\n",
      "  bin  8:  2.2530 -  2.1549 [1817/1832]  1729    88   4.8%\n",
      "  bin  9:  2.1549 -  2.0720 [1864/1894]  1776    88   4.7%\n",
      "  bin 10:  2.0720 -  2.0005 [1826/1874]  1739    87   4.8%\n",
      "                                overall 17664   924   5.0%\n",
      "Number of work/free reflections by resolution:\n",
      "                                         work  free  %free\n",
      "  bin  1: 43.9787 -  4.2218 [1994/2007]  1907    87   4.4%\n",
      "  bin  2:  4.2218 -  3.3514 [1949/1955]  1856    93   4.8%\n",
      "  bin  3:  3.3514 -  2.9278 [1958/1960]  1880    78   4.0%\n",
      "  bin  4:  2.9278 -  2.6602 [1959/1960]  1874    85   4.3%\n",
      "  bin  5:  2.6602 -  2.4695 [1944/1944]  1844   100   5.1%\n",
      "  bin  6:  2.4695 -  2.3239 [1933/1934]  1840    93   4.8%\n",
      "  bin  7:  2.3239 -  2.2076 [1927/1929]  1826   101   5.2%\n",
      "  bin  8:  2.2076 -  2.1115 [1934/1936]  1858    76   3.9%\n",
      "  bin  9:  2.1115 -  2.0302 [1931/1931]  1849    82   4.2%\n",
      "  bin 10:  2.0302 -  1.9601 [1915/1915]  1830    85   4.4%\n",
      "                                overall 18564   880   4.5%\n"
     ]
    }
   ],
   "source": [
    "cif_dir = Path(Path.home(), \"Documents/xray/data/cifs/7mhf\")\n",
    "for pdb_id in [\"7mhf\", \"7mhg\", \"7mhh\", \"7mhi\", \"7mhj\", \"7mhk\"]:\n",
    "    f_obs_file = Path(cif_dir, \"{}.cif\".format(pdb_id))\n",
    "    f_obs = get_f_obs(f_obs_file)\n",
    "    flags = get_flags(f_obs_file)\n",
    "    flags.show_r_free_flags_info()"
   ]
  },
  {
   "cell_type": "code",
   "execution_count": null,
   "metadata": {},
   "outputs": [],
   "source": []
  }
 ],
 "metadata": {
  "kernelspec": {
   "display_name": "imp_221_cctbx",
   "language": "python",
   "name": "python3"
  },
  "language_info": {
   "codemirror_mode": {
    "name": "ipython",
    "version": 3
   },
   "file_extension": ".py",
   "mimetype": "text/x-python",
   "name": "python",
   "nbconvert_exporter": "python",
   "pygments_lexer": "ipython3",
   "version": "3.12.7"
  }
 },
 "nbformat": 4,
 "nbformat_minor": 2
}
