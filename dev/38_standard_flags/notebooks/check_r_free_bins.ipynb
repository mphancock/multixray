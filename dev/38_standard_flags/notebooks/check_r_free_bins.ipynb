{
 "cells": [
  {
   "cell_type": "code",
   "execution_count": 2,
   "metadata": {},
   "outputs": [],
   "source": [
    "from pathlib import Path\n",
    "import sys\n",
    "\n",
    "import iotbx.reflection_file_reader as cif_input\n",
    "\n",
    "sys.path.append(str(Path(Path.home(), \"Documents/xray/src\")))\n",
    "from miller_ops import get_miller_array\n",
    "sys.path.append(str(Path(Path.home(), \"Documents/xray/data/cifs/scripts\")))\n",
    "from generate_fmodel import write_cif, get_status_array"
   ]
  },
  {
   "cell_type": "code",
   "execution_count": 6,
   "metadata": {},
   "outputs": [
    {
     "name": "stdout",
     "output_type": "stream",
     "text": [
      "Number of work/free reflections by resolution:\n",
      "                                            work   free  %free\n",
      "  bin  1: 56.3841 -  2.1544 [14984/14984]  13485   1499  10.0%\n",
      "  bin  2:  2.1544 -  1.7100 [14829/14829]  13346   1483  10.0%\n",
      "  bin  3:  1.7100 -  1.4938 [14768/14768]  13292   1476  10.0%\n",
      "  bin  4:  1.4938 -  1.3572 [14723/14723]  13251   1472  10.0%\n",
      "  bin  5:  1.3572 -  1.2599 [14711/14711]  13239   1472  10.0%\n",
      "  bin  6:  1.2599 -  1.1856 [14723/14723]  13251   1472  10.0%\n",
      "  bin  7:  1.1856 -  1.1262 [14714/14714]  13243   1471  10.0%\n",
      "  bin  8:  1.1262 -  1.0772 [14681/14681]  13212   1469  10.0%\n",
      "  bin  9:  1.0772 -  1.0357 [14782/14782]  13305   1477  10.0%\n",
      "  bin 10:  1.0357 -  1.0000 [14614/14614]  13152   1462  10.0%\n",
      "                                  overall 132776  14753  10.0%\n"
     ]
    }
   ],
   "source": [
    "cif_dir = Path(Path.home(), \"Documents/xray/dev/29_synthetic_native_3/data/cifs/7mhf_30/0\")\n",
    "for cif_id in [\"0\"]:\n",
    "    f_obs_file = Path(cif_dir, \"{}.cif\".format(cif_id))\n",
    "    f_obs_array = get_miller_array(\n",
    "        f_obs_file=f_obs_file,\n",
    "        label=\"_refln.F_meas_au\"\n",
    "    )\n",
    "    status_array = get_miller_array(\n",
    "        f_obs_file=f_obs_file,\n",
    "        label=\"_refln.status\"\n",
    "    )\n",
    "    flags_array = status_array.customized_copy(data=status_array.data()==\"f\")\n",
    "    flags_array.show_r_free_flags_info()"
   ]
  },
  {
   "cell_type": "code",
   "execution_count": 3,
   "metadata": {},
   "outputs": [
    {
     "name": "stdout",
     "output_type": "stream",
     "text": [
      "Number of work/free reflections by resolution:\n",
      "                                         work  free  %free\n",
      "  bin  1: 48.0700 -  3.3341 [3894/3897]  3699   195   5.0%\n",
      "  bin  2:  3.3341 -  2.6465 [3819/3820]  3628   191   5.0%\n",
      "  bin  3:  2.6465 -  2.3119 [3788/3790]  3599   189   5.0%\n",
      "  bin  4:  2.3119 -  2.1005 [3800/3802]  3610   190   5.0%\n",
      "  bin  5:  2.1005 -  1.9500 [3812/3812]  3621   191   5.0%\n",
      "  bin  6:  1.9500 -  1.8350 [3770/3782]  3582   188   5.0%\n",
      "  bin  7:  1.8350 -  1.7431 [3768/3770]  3579   189   5.0%\n",
      "  bin  8:  1.7431 -  1.6672 [3796/3798]  3606   190   5.0%\n",
      "  bin  9:  1.6672 -  1.6030 [3752/3753]  3564   188   5.0%\n",
      "  bin 10:  1.6030 -  1.5477 [3702/3784]  3518   184   5.0%\n",
      "                                overall 36006  1895   5.0%\n",
      "Number of work/free reflections by resolution:\n",
      "                                         work  free  %free\n",
      "  bin  1: 55.6587 -  3.2966 [4095/4095]  3890   205   5.0%\n",
      "  bin  2:  3.2966 -  2.6166 [4031/4031]  3829   202   5.0%\n",
      "  bin  3:  2.6166 -  2.2858 [3990/3990]  3788   202   5.1%\n",
      "  bin  4:  2.2858 -  2.0768 [4014/4014]  3818   196   4.9%\n",
      "  bin  5:  2.0768 -  1.9279 [3980/3980]  3780   200   5.0%\n",
      "  bin  6:  1.9279 -  1.8143 [3991/3991]  3789   202   5.1%\n",
      "  bin  7:  1.8143 -  1.7234 [3968/3968]  3768   200   5.0%\n",
      "  bin  8:  1.7234 -  1.6484 [3969/3969]  3773   196   4.9%\n",
      "  bin  9:  1.6484 -  1.5849 [3960/3960]  3760   200   5.1%\n",
      "  bin 10:  1.5849 -  1.5302 [3977/3988]  3782   195   4.9%\n",
      "                                overall 37977  1998   5.0%\n",
      "Number of work/free reflections by resolution:\n",
      "                                         work  free  %free\n",
      "  bin  1: 48.9737 -  4.7188 [1460/1460]  1389    71   4.9%\n",
      "  bin  2:  4.7188 -  3.7458 [1419/1419]  1349    70   4.9%\n",
      "  bin  3:  3.7458 -  3.2725 [1435/1435]  1362    73   5.1%\n",
      "  bin  4:  3.2725 -  2.9733 [1415/1415]  1348    67   4.7%\n",
      "  bin  5:  2.9733 -  2.7602 [1394/1394]  1319    75   5.4%\n",
      "  bin  6:  2.7602 -  2.5975 [1419/1419]  1347    72   5.1%\n",
      "  bin  7:  2.5975 -  2.4674 [1400/1401]  1330    70   5.0%\n",
      "  bin  8:  2.4674 -  2.3600 [1378/1380]  1307    71   5.2%\n",
      "  bin  9:  2.3600 -  2.2691 [1393/1395]  1323    70   5.0%\n",
      "  bin 10:  2.2691 -  2.1908 [1407/1418]  1334    73   5.2%\n",
      "                                overall 13408   712   5.0%\n",
      "Number of work/free reflections by resolution:\n",
      "                                         work  free  %free\n",
      "  bin  1: 56.3200 -  4.0499 [2323/2323]  2208   115   5.0%\n",
      "  bin  2:  4.0499 -  3.2146 [2244/2244]  2129   115   5.1%\n",
      "  bin  3:  3.2146 -  2.8083 [2260/2260]  2145   115   5.1%\n",
      "  bin  4:  2.8083 -  2.5515 [2235/2235]  2130   105   4.7%\n",
      "  bin  5:  2.5515 -  2.3687 [2237/2237]  2120   117   5.2%\n",
      "  bin  6:  2.3687 -  2.2290 [2247/2247]  2133   114   5.1%\n",
      "  bin  7:  2.2290 -  2.1174 [2245/2245]  2134   111   4.9%\n",
      "  bin  8:  2.1174 -  2.0252 [2226/2226]  2122   104   4.7%\n",
      "  bin  9:  2.0252 -  1.9472 [2225/2225]  2104   121   5.4%\n",
      "  bin 10:  1.9472 -  1.8800 [2217/2217]  2107   110   5.0%\n",
      "                                overall 21332  1127   5.0%\n",
      "Number of work/free reflections by resolution:\n",
      "                                         work  free  %free\n",
      "  bin  1: 56.3257 -  4.3093 [1936/1942]  1839    97   5.0%\n",
      "  bin  2:  4.3093 -  3.4206 [1876/1885]  1785    91   4.9%\n",
      "  bin  3:  3.4206 -  2.9882 [1868/1878]  1776    92   4.9%\n",
      "  bin  4:  2.9882 -  2.7150 [1855/1866]  1758    97   5.2%\n",
      "  bin  5:  2.7150 -  2.5204 [1850/1862]  1765    85   4.6%\n",
      "  bin  6:  2.5204 -  2.3718 [1839/1864]  1737   102   5.5%\n",
      "  bin  7:  2.3718 -  2.2530 [1857/1874]  1765    92   5.0%\n",
      "  bin  8:  2.2530 -  2.1549 [1817/1832]  1726    91   5.0%\n",
      "  bin  9:  2.1549 -  2.0720 [1864/1894]  1774    90   4.8%\n",
      "  bin 10:  2.0720 -  2.0005 [1826/1874]  1730    96   5.3%\n",
      "                                overall 17655   933   5.0%\n",
      "Number of work/free reflections by resolution:\n",
      "                                         work  free  %free\n",
      "  bin  1: 43.9787 -  4.2218 [1994/2007]  1892   102   5.1%\n",
      "  bin  2:  4.2218 -  3.3514 [1949/1955]  1854    95   4.9%\n",
      "  bin  3:  3.3514 -  2.9278 [1958/1960]  1860    98   5.0%\n",
      "  bin  4:  2.9278 -  2.6602 [1959/1960]  1862    97   5.0%\n",
      "  bin  5:  2.6602 -  2.4695 [1944/1944]  1847    97   5.0%\n",
      "  bin  6:  2.4695 -  2.3239 [1933/1934]  1834    99   5.1%\n",
      "  bin  7:  2.3239 -  2.2076 [1927/1929]  1831    96   5.0%\n",
      "  bin  8:  2.2076 -  2.1115 [1934/1936]  1837    97   5.0%\n",
      "  bin  9:  2.1115 -  2.0302 [1931/1931]  1836    95   4.9%\n",
      "  bin 10:  2.0302 -  1.9601 [1915/1915]  1817    98   5.1%\n",
      "                                overall 18470   974   5.0%\n"
     ]
    }
   ],
   "source": [
    "for pdb_id in [\"7mhf\", \"7mhg\", \"7mhh\", \"7mhi\", \"7mhj\", \"7mhk\"]:\n",
    "    f_obs_file = Path(Path.home(), \"Documents/xray/dev/38_standard_flags/data/{}.cif\".format(pdb_id))\n",
    "    f_obs_array = get_miller_array(\n",
    "        f_obs_file=f_obs_file,\n",
    "        label=\"_refln.F_meas_au\"\n",
    "    )\n",
    "    status_array = get_miller_array(\n",
    "        f_obs_file=f_obs_file,\n",
    "        label=\"_refln.status\"\n",
    "    )\n",
    "    flags_array = status_array.customized_copy(data=status_array.data()==\"f\")\n",
    "    flags_array.show_r_free_flags_info()"
   ]
  },
  {
   "cell_type": "code",
   "execution_count": null,
   "metadata": {},
   "outputs": [],
   "source": []
  }
 ],
 "metadata": {
  "kernelspec": {
   "display_name": "imp_220_cctbx",
   "language": "python",
   "name": "python3"
  },
  "language_info": {
   "codemirror_mode": {
    "name": "ipython",
    "version": 3
   },
   "file_extension": ".py",
   "mimetype": "text/x-python",
   "name": "python",
   "nbconvert_exporter": "python",
   "pygments_lexer": "ipython3",
   "version": "3.11.8"
  }
 },
 "nbformat": 4,
 "nbformat_minor": 2
}
