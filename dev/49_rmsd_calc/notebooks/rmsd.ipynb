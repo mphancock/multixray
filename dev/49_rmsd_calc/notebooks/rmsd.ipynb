{
 "cells": [
  {
   "cell_type": "code",
   "execution_count": 1,
   "metadata": {},
   "outputs": [],
   "source": [
    "from pathlib import Path\n",
    "import numpy as np\n",
    "import pandas as pd\n",
    "\n",
    "import IMP\n",
    "import IMP.atom\n",
    "\n",
    "import sys\n",
    "sys.path.append(str(Path(Path.home(), \"Documents/xray/src\")))\n",
    "from multi_state_multi_condition_model import MultiStateMultiConditionModel\n",
    "from align_imp import get_multi_state_multi_cond_rmsd, compute_rmsds_between_ordered_states, compute_weight_errors_between_ordered_states\n",
    "from params import build_weights_matrix"
   ]
  },
  {
   "cell_type": "code",
   "execution_count": 2,
   "metadata": {},
   "outputs": [],
   "source": [
    "native_pdb = Path(\"../../45_synthetic_native_4/data/pdbs/native.pdb\")\n",
    "pdb_0 = Path(Path.home(), \"Documents/xray/sample_bench/data/analysis/267_full_ref/summary/0.pdb\")\n",
    "pdb_1 = Path(Path.home(), \"Documents/xray/sample_bench/data/analysis/267_full_ref/summary/1.pdb\")\n",
    "pdb_2 = Path(Path.home(), \"Documents/xray/sample_bench/data/analysis/267_full_ref/summary/2.pdb\")\n",
    "\n",
    "pdb_7 = Path(Path.home(), \"Documents/xray/sample_bench/data/analysis/263_sb_sa_ref/summary/7.pdb\")"
   ]
  },
  {
   "cell_type": "code",
   "execution_count": 3,
   "metadata": {},
   "outputs": [],
   "source": [
    "# w_mat_0 = np.array([[0.9275747314566662, 0.1618708134979434], [0.0724252685433337, 0.8381291865020565]])\n",
    "# w_mat_1 = np.array([[0.5020955604530698, 0.4979044395469303]])\n",
    "# w_mat_1 = w_mat_1.reshape(2,1)\n",
    "\n",
    "pdb_df = pd.read_csv(Path(Path.home(), \"Documents/xray/sample_bench/data/analysis/267_full_ref/summary.csv\"), index_col=0)\n",
    "w_mat_0 = build_weights_matrix(pdb_df, 0, prefix=\"w\", N=2, col_ids=[\"native_0\", \"native_1\"])\n",
    "w_mat_1 = build_weights_matrix(pdb_df, 1, prefix=\"w\", N=2, col_ids=[\"native_0\", \"native_1\"])\n",
    "w_mat_2 = build_weights_matrix(pdb_df, 2, prefix=\"w\", N=2, col_ids=[\"native_0\", \"native_1\"])\n",
    "\n",
    "pdb_df = pd.read_csv(Path(Path.home(), \"Documents/xray/sample_bench/data/analysis/263_sb_sa_ref/summary.csv\"), index_col=0)\n",
    "w_mat_7 = build_weights_matrix(pdb_df, 7, prefix=\"w\", N=2, col_ids=[\"native_0\", \"native_1\"])"
   ]
  },
  {
   "cell_type": "code",
   "execution_count": 4,
   "metadata": {},
   "outputs": [
    {
     "name": "stdout",
     "output_type": "stream",
     "text": [
      "SETTING UP MULTI STATE MULTI CONDITION MODEL\n",
      "../../45_synthetic_native_4/data/pdbs/native.pdb\n",
      "NO STATES:  2\n",
      "NO CONDITIONS:  2\n",
      "NO OF ATOMS PER STATE:  2464\n",
      "SETTING UP MULTI STATE MULTI CONDITION MODEL\n",
      "/Users/matthew/Documents/xray/sample_bench/data/analysis/267_full_ref/summary/0.pdb\n",
      "NO STATES:  2\n",
      "NO CONDITIONS:  2\n",
      "NO OF ATOMS PER STATE:  2464\n",
      "SETTING UP MULTI STATE MULTI CONDITION MODEL\n",
      "/Users/matthew/Documents/xray/sample_bench/data/analysis/267_full_ref/summary/1.pdb\n",
      "NO STATES:  2\n",
      "NO CONDITIONS:  2\n",
      "NO OF ATOMS PER STATE:  2464\n",
      "SETTING UP MULTI STATE MULTI CONDITION MODEL\n",
      "/Users/matthew/Documents/xray/sample_bench/data/analysis/267_full_ref/summary/2.pdb\n",
      "NO STATES:  2\n",
      "NO CONDITIONS:  2\n",
      "NO OF ATOMS PER STATE:  2464\n",
      "SETTING UP MULTI STATE MULTI CONDITION MODEL\n",
      "/Users/matthew/Documents/xray/sample_bench/data/analysis/263_sb_sa_ref/summary/7.pdb\n",
      "NO STATES:  2\n",
      "NO CONDITIONS:  2\n",
      "NO OF ATOMS PER STATE:  2464\n"
     ]
    }
   ],
   "source": [
    "native_msmc_m = MultiStateMultiConditionModel(\n",
    "    pdb_files=[native_pdb],\n",
    "    w_mat=np.array([[0.9, 0.1], [0.1, 0.9]]),\n",
    "    crystal_symmetries=None\n",
    ")\n",
    "\n",
    "msmc_m_0 = MultiStateMultiConditionModel(\n",
    "    pdb_files=[pdb_0],\n",
    "    w_mat=w_mat_0,\n",
    "    crystal_symmetries=None\n",
    ")\n",
    "\n",
    "msmc_m_1 = MultiStateMultiConditionModel(\n",
    "    pdb_files=[pdb_1],\n",
    "    w_mat=w_mat_1,\n",
    "    crystal_symmetries=None\n",
    ")\n",
    "\n",
    "msmc_m_2 = MultiStateMultiConditionModel(\n",
    "    pdb_files=[pdb_2],\n",
    "    w_mat=w_mat_2,\n",
    "    crystal_symmetries=None\n",
    ")\n",
    "\n",
    "msmc_m_7 = MultiStateMultiConditionModel(\n",
    "    pdb_files=[pdb_7],\n",
    "    w_mat=w_mat_7,\n",
    "    crystal_symmetries=None\n",
    ")"
   ]
  },
  {
   "cell_type": "code",
   "execution_count": 5,
   "metadata": {},
   "outputs": [
    {
     "data": {
      "text/plain": [
       "0.048253700700853545"
      ]
     },
     "execution_count": 5,
     "metadata": {},
     "output_type": "execute_result"
    }
   ],
   "source": [
    "get_multi_state_multi_cond_rmsd(native_msmc_m, msmc_m_7, cond=0)"
   ]
  },
  {
   "cell_type": "code",
   "execution_count": 17,
   "metadata": {},
   "outputs": [
    {
     "data": {
      "text/plain": [
       "[0.05223248478302986, 0.046634318776050135]"
      ]
     },
     "execution_count": 17,
     "metadata": {},
     "output_type": "execute_result"
    }
   ],
   "source": [
    "compute_rmsds_between_ordered_states(native_msmc_m, msmc_m_0, cond=0)"
   ]
  },
  {
   "cell_type": "code",
   "execution_count": 12,
   "metadata": {},
   "outputs": [
    {
     "data": {
      "text/plain": [
       "[0.0008919542734040825, 0.0008919542734040775]"
      ]
     },
     "execution_count": 12,
     "metadata": {},
     "output_type": "execute_result"
    }
   ],
   "source": [
    "compute_weight_errors_between_ordered_states(native_msmc_m, msmc_m_0, cond=1)"
   ]
  },
  {
   "cell_type": "code",
   "execution_count": 31,
   "metadata": {},
   "outputs": [
    {
     "name": "stdout",
     "output_type": "stream",
     "text": [
      "[0.9, 0.1]\n"
     ]
    }
   ],
   "source": [
    "occs = native_msmc_m.get_occs_for_condition(1).tolist()\n",
    "occs.sort(reverse=True)\n",
    "print(occs)"
   ]
  },
  {
   "cell_type": "code",
   "execution_count": 9,
   "metadata": {},
   "outputs": [
    {
     "data": {
      "text/plain": [
       "0.31665588674342726"
      ]
     },
     "execution_count": 9,
     "metadata": {},
     "output_type": "execute_result"
    }
   ],
   "source": [
    "(0.50209556-.9)**2+(0.49790444-.1)**2"
   ]
  },
  {
   "cell_type": "code",
   "execution_count": 13,
   "metadata": {},
   "outputs": [
    {
     "data": {
      "text/plain": [
       "0.27531138398408"
      ]
     },
     "execution_count": 13,
     "metadata": {},
     "output_type": "execute_result"
    }
   ],
   "source": [
    "(0.5289802-.9)**2+(0.4710198-.1)**2"
   ]
  },
  {
   "cell_type": "code",
   "execution_count": null,
   "metadata": {},
   "outputs": [],
   "source": []
  }
 ],
 "metadata": {
  "kernelspec": {
   "display_name": "imp_221_cctbx",
   "language": "python",
   "name": "python3"
  },
  "language_info": {
   "codemirror_mode": {
    "name": "ipython",
    "version": 3
   },
   "file_extension": ".py",
   "mimetype": "text/x-python",
   "name": "python",
   "nbconvert_exporter": "python",
   "pygments_lexer": "ipython3",
   "version": "3.12.7"
  }
 },
 "nbformat": 4,
 "nbformat_minor": 2
}
