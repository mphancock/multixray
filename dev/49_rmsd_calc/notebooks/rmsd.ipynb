{
 "cells": [
  {
   "cell_type": "code",
   "execution_count": 11,
   "metadata": {},
   "outputs": [],
   "source": [
    "from pathlib import Path\n",
    "import numpy as np\n",
    "\n",
    "import IMP\n",
    "import IMP.atom\n",
    "\n",
    "import sys\n",
    "sys.path.append(str(Path(Path.home(), \"Documents/xray/src\")))\n",
    "from multi_state_multi_condition_model import MultiStateMultiConditionModel\n",
    "from align_imp import get_multi_state_multi_cond_rmsd, compute_rmsd_between_ordered_states, get_ordered_hs"
   ]
  },
  {
   "cell_type": "code",
   "execution_count": 2,
   "metadata": {},
   "outputs": [],
   "source": [
    "native_pdb = Path(\"../../45_synthetic_native_4/data/pdbs/native.pdb\")\n",
    "pdb_0 = Path(Path.home(), \"Documents/xray/tmp/0.pdb\")\n",
    "pdb_1 = Path(Path.home(), \"Documents/xray/tmp/1.pdb\")"
   ]
  },
  {
   "cell_type": "code",
   "execution_count": 3,
   "metadata": {},
   "outputs": [],
   "source": [
    "w_mat_0 = np.array([[0.9275747314566662, 0.1618708134979434], [0.0724252685433337, 0.8381291865020565]])\n",
    "w_mat_1 = np.array([[0.5020955604530698, 0.4979044395469303]])\n",
    "w_mat_1 = w_mat_1.reshape(2,1)"
   ]
  },
  {
   "cell_type": "code",
   "execution_count": 4,
   "metadata": {},
   "outputs": [
    {
     "name": "stdout",
     "output_type": "stream",
     "text": [
      "SETTING UP MULTI STATE MULTI CONDITION MODEL\n",
      "../../45_synthetic_native_4/data/pdbs/native.pdb\n",
      "NO STATES:  2\n",
      "NO CONDITIONS:  2\n",
      "NO OF ATOMS PER STATE:  2464\n",
      "SETTING UP MULTI STATE MULTI CONDITION MODEL\n",
      "/Users/matthew/Documents/xray/tmp/0.pdb\n",
      "NO STATES:  2\n",
      "NO CONDITIONS:  2\n",
      "NO OF ATOMS PER STATE:  2464\n",
      "SETTING UP MULTI STATE MULTI CONDITION MODEL\n",
      "/Users/matthew/Documents/xray/tmp/1.pdb\n",
      "NO STATES:  2\n",
      "NO CONDITIONS:  1\n",
      "NO OF ATOMS PER STATE:  2464\n"
     ]
    }
   ],
   "source": [
    "native_msmc_m = MultiStateMultiConditionModel(\n",
    "    pdb_files=[native_pdb],\n",
    "    w_mat=np.array([[0.9, 0.1], [0.1, 0.9]]),\n",
    "    crystal_symmetries=None\n",
    ")\n",
    "\n",
    "msmc_m_0 = MultiStateMultiConditionModel(\n",
    "    pdb_files=[pdb_0],\n",
    "    w_mat=w_mat_0,\n",
    "    crystal_symmetries=None\n",
    ")\n",
    "\n",
    "msmc_m_1 = MultiStateMultiConditionModel(\n",
    "    pdb_files=[pdb_1],\n",
    "    w_mat=w_mat_1,\n",
    "    crystal_symmetries=None\n",
    ")"
   ]
  },
  {
   "cell_type": "code",
   "execution_count": 30,
   "metadata": {},
   "outputs": [
    {
     "data": {
      "text/plain": [
       "0.053332394937319005"
      ]
     },
     "execution_count": 30,
     "metadata": {},
     "output_type": "execute_result"
    }
   ],
   "source": [
    "get_multi_state_multi_cond_rmsd(native_msmc_m, msmc_m_0)"
   ]
  },
  {
   "cell_type": "code",
   "execution_count": 6,
   "metadata": {},
   "outputs": [
    {
     "data": {
      "text/plain": [
       "0.9628652652096925"
      ]
     },
     "execution_count": 6,
     "metadata": {},
     "output_type": "execute_result"
    }
   ],
   "source": [
    "compute_rmsd_between_ordered_states(native_msmc_m, msmc_m_0, cond=0)"
   ]
  },
  {
   "cell_type": "code",
   "execution_count": 7,
   "metadata": {},
   "outputs": [
    {
     "data": {
      "text/plain": [
       "1.0994338642701131"
      ]
     },
     "execution_count": 7,
     "metadata": {},
     "output_type": "execute_result"
    }
   ],
   "source": [
    "compute_rmsd_between_ordered_states(native_msmc_m, msmc_m_1, cond=0)"
   ]
  },
  {
   "cell_type": "code",
   "execution_count": null,
   "metadata": {},
   "outputs": [
    {
     "ename": "AttributeError",
     "evalue": "module 'IMP.atom' has no attribute 'CA'",
     "output_type": "error",
     "traceback": [
      "\u001b[0;31m---------------------------------------------------------------------------\u001b[0m",
      "\u001b[0;31mAttributeError\u001b[0m                            Traceback (most recent call last)",
      "Cell \u001b[0;32mIn[16], line 6\u001b[0m\n\u001b[1;32m      4\u001b[0m rmsd \u001b[38;5;241m=\u001b[39m \u001b[38;5;241m0\u001b[39m\n\u001b[1;32m      5\u001b[0m \u001b[38;5;28;01mfor\u001b[39;00m i \u001b[38;5;129;01min\u001b[39;00m \u001b[38;5;28mrange\u001b[39m(\u001b[38;5;28mlen\u001b[39m(h_0s)):\n\u001b[0;32m----> 6\u001b[0m     single_rmsd \u001b[38;5;241m=\u001b[39m IMP\u001b[38;5;241m.\u001b[39matom\u001b[38;5;241m.\u001b[39mget_rmsd(IMP\u001b[38;5;241m.\u001b[39matom\u001b[38;5;241m.\u001b[39mSelection(h_0s[i], atom_type\u001b[38;5;241m=\u001b[39m\u001b[43mIMP\u001b[49m\u001b[38;5;241;43m.\u001b[39;49m\u001b[43matom\u001b[49m\u001b[38;5;241;43m.\u001b[39;49m\u001b[43mCA\u001b[49m), IMP\u001b[38;5;241m.\u001b[39matom\u001b[38;5;241m.\u001b[39mSelection(h_1s[i]))\n\u001b[1;32m      7\u001b[0m     \u001b[38;5;28mprint\u001b[39m(single_rmsd)\n\u001b[1;32m      9\u001b[0m     rmsd \u001b[38;5;241m+\u001b[39m\u001b[38;5;241m=\u001b[39m single_rmsd\n",
      "\u001b[0;31mAttributeError\u001b[0m: module 'IMP.atom' has no attribute 'CA'"
     ]
    }
   ],
   "source": [
    "h_0s = get_ordered_hs(native_msmc_m.get_hs(), native_msmc_m.get_occs_for_condition(0))\n",
    "h_1s = get_ordered_hs(msmc_m_0.get_hs(), msmc_m_0.get_occs_for_condition(0))\n",
    "\n",
    "rmsd = 0\n",
    "for i in range(len(h_0s)):\n",
    "    single_rmsd = IMP.atom.get_rmsd(IMP.atom.Selection(h_0s[i], atom_type=IMP.atom.AtomType(\"CA\")), IMP.atom.Selection(h_0s[i], atom_type=IMP.atom.AtomType(\"CA\")))\n",
    "    print(single_rmsd)\n",
    "\n",
    "    rmsd += single_rmsd\n",
    "\n",
    "print(rmsd)"
   ]
  },
  {
   "cell_type": "code",
   "execution_count": null,
   "metadata": {},
   "outputs": [],
   "source": []
  }
 ],
 "metadata": {
  "kernelspec": {
   "display_name": "imp_221_cctbx",
   "language": "python",
   "name": "python3"
  },
  "language_info": {
   "codemirror_mode": {
    "name": "ipython",
    "version": 3
   },
   "file_extension": ".py",
   "mimetype": "text/x-python",
   "name": "python",
   "nbconvert_exporter": "python",
   "pygments_lexer": "ipython3",
   "version": "3.12.7"
  }
 },
 "nbformat": 4,
 "nbformat_minor": 2
}
