{
 "cells": [
  {
   "cell_type": "code",
   "execution_count": 3,
   "metadata": {},
   "outputs": [],
   "source": [
    "from pathlib import Path\n",
    "import pandas as pd\n",
    "import shutil\n",
    "\n",
    "\n"
   ]
  },
  {
   "cell_type": "code",
   "execution_count": 5,
   "metadata": {},
   "outputs": [],
   "source": [
    "\n",
    "cif_df = pd.DataFrame()\n",
    "\n",
    "native_df = pd.read_csv(Path(Path.home(), \"Documents/xray/dev/29_synthetic_native_3/data/scores/7mhf_20.csv\"))\n",
    "\n",
    "cif_id = 0\n",
    "for i in range(10):\n",
    "    pdb_dir = Path(\"/wynton/home/sali/mhancock/xray/dev/29_synthetic_native_3/data/pdbs/7mhf_20\")\n",
    "    pdb_file = Path(pdb_dir, \"{}.pdb\".format(i))\n",
    "\n",
    "    cif_dir = Path(\"/wynton/home/sali/mhancock/xray/dev/29_synthetic_native_3/data/cifs/7mhf_20/{}\".format(i))\n",
    "    # cif_dir.mkdir(parents=True, exist_ok=True)\n",
    "\n",
    "    cif_0 = Path(cif_dir, \"0.cif\".format(i))\n",
    "    cif_1 = Path(cif_dir, \"1.cif\".format(i))\n",
    "\n",
    "    occs_0_0 = native_df.loc[i, \"w_0_0\"]\n",
    "    occs_1_0 = native_df.loc[i, \"w_1_0\"]\n",
    "    occs_0_1 = native_df.loc[i, \"w_0_1\"]\n",
    "    occs_1_1 = native_df.loc[i, \"w_1_1\"]\n",
    "\n",
    "    for j in range(2):\n",
    "        if j == 0:\n",
    "            cif_df.loc[cif_id, \"cifs\"] = str(cif_0)\n",
    "            cif_df.loc[cif_id, \"refs\"] = str(pdb_file)\n",
    "            cif_df.loc[cif_id, \"w_0_0\"] = occs_0_0\n",
    "            cif_df.loc[cif_id, \"w_1_0\"] = occs_1_0\n",
    "        elif j == 1:\n",
    "            cif_df.loc[cif_id, \"cifs\"] = str(cif_0) + \",\" + str(cif_1)\n",
    "            cif_df.loc[cif_id, \"refs\"] = str(pdb_file) + \",\" + str(pdb_file)\n",
    "            cif_df.loc[cif_id, \"w_0_0\"] = occs_0_0\n",
    "            cif_df.loc[cif_id, \"w_1_0\"] = occs_1_0\n",
    "            cif_df.loc[cif_id, \"w_0_1\"] = occs_0_1\n",
    "            cif_df.loc[cif_id, \"w_1_1\"] = occs_1_1\n",
    "\n",
    "        cif_id = cif_id + 1\n",
    "\n",
    "cif_df.to_csv(Path(Path.home(), \"Documents/xray/dev/29_synthetic_native_3/data/cifs/csvs/7mhf_20.csv\"))"
   ]
  },
  {
   "cell_type": "code",
   "execution_count": null,
   "metadata": {},
   "outputs": [],
   "source": []
  }
 ],
 "metadata": {
  "kernelspec": {
   "display_name": "plot",
   "language": "python",
   "name": "python3"
  },
  "language_info": {
   "codemirror_mode": {
    "name": "ipython",
    "version": 3
   },
   "file_extension": ".py",
   "mimetype": "text/x-python",
   "name": "python",
   "nbconvert_exporter": "python",
   "pygments_lexer": "ipython3",
   "version": "3.12.2"
  }
 },
 "nbformat": 4,
 "nbformat_minor": 2
}
