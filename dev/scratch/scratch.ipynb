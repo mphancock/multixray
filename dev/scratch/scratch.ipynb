{
 "cells": [
  {
   "cell_type": "code",
   "execution_count": 1,
   "id": "7a6fbb0b",
   "metadata": {},
   "outputs": [],
   "source": [
    "from pathlib import Path\n",
    "import pickle\n",
    "from pathlib import Path\n",
    "import matplotlib.pyplot as plt\n",
    "import matplotlib.colors as mcolors\n",
    "from matplotlib.lines import Line2D\n",
    "import seaborn as sns\n",
    "sns.set_theme()\n",
    "import math\n",
    "import pandas as pd\n",
    "import random\n",
    "import numpy as np\n",
    "import sys\n",
    "import shutil\n",
    "\n",
    "import IMP\n",
    "import IMP.atom\n",
    "\n",
    "sys.path.append(str(Path(Path.home(), \"Documents/xray/src\")))\n",
    "from multi_state_multi_condition_model import MultiStateMultiConditionModel"
   ]
  },
  {
   "cell_type": "code",
   "execution_count": 2,
   "id": "d1f8a9da",
   "metadata": {},
   "outputs": [
    {
     "name": "stdout",
     "output_type": "stream",
     "text": [
      "begin read_pdb:\n",
      "  WARNING  Could not determine CHARMM atom type for atom \"HET: O  \" in residue #312 \"HOH\"\n",
      "  WARNING  Could not determine CHARMM atom type for atom \"HET: O  \" in residue #307 \"HOH\"\n",
      "end read_pdb\n"
     ]
    }
   ],
   "source": [
    "m = IMP.Model()\n",
    "hs = IMP.atom.read_multimodel_pdb(str(Path(Path.home(), \"Documents/xray/tmp/499_7mhi.pdb\")), m, IMP.atom.AllPDBSelector())"
   ]
  },
  {
   "cell_type": "code",
   "execution_count": null,
   "id": "70635e89",
   "metadata": {},
   "outputs": [],
   "source": [
    "occs = [0.94, .06]\n",
    "for i in range(len(hs)):\n",
    "    h = hs[i]\n",
    "    for pid in IMP.atom.Selection(h).get_selected_particle_indexes():\n",
    "        IMP.atom.Atom(h, pid).set_occupancy(occs[i])\n",
    "\n",
    "IMP.atom.write_multimodel_pdb(hs, str(Path(Path.home(), \"Documents/xray/tmp/499_7mhi_occ.pdb\")))"
   ]
  }
 ],
 "metadata": {
  "kernelspec": {
   "display_name": "imp_221_cctbx",
   "language": "python",
   "name": "python3"
  },
  "language_info": {
   "codemirror_mode": {
    "name": "ipython",
    "version": 3
   },
   "file_extension": ".py",
   "mimetype": "text/x-python",
   "name": "python",
   "nbconvert_exporter": "python",
   "pygments_lexer": "ipython3",
   "version": "3.12.7"
  }
 },
 "nbformat": 4,
 "nbformat_minor": 5
}
