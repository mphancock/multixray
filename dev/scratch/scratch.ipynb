{
 "cells": [
  {
   "cell_type": "code",
   "execution_count": 1,
   "id": "7a6fbb0b",
   "metadata": {},
   "outputs": [],
   "source": [
    "from pathlib import Path\n",
    "import pickle\n",
    "from pathlib import Path\n",
    "import matplotlib.pyplot as plt\n",
    "import matplotlib.colors as mcolors\n",
    "from matplotlib.lines import Line2D\n",
    "import seaborn as sns\n",
    "sns.set_theme()\n",
    "import math\n",
    "import pandas as pd\n",
    "import random\n",
    "import numpy as np\n",
    "import sys\n",
    "import shutil\n",
    "\n",
    "import IMP\n",
    "import IMP.atom\n",
    "\n",
    "sys.path.append(str(Path(Path.home(), \"Documents/xray/src\")))"
   ]
  },
  {
   "cell_type": "code",
   "execution_count": 2,
   "id": "be1c423c",
   "metadata": {},
   "outputs": [],
   "source": [
    "arr_1 = np.array([0.5,0,0.5])\n",
    "arr_2 = np.array([0,1,0])\n",
    "\n",
    "\n"
   ]
  },
  {
   "cell_type": "code",
   "execution_count": 3,
   "id": "d28b55c8",
   "metadata": {},
   "outputs": [
    {
     "data": {
      "text/plain": [
       "array([1.  +0.j       , 0.25+0.4330127j, 0.25-0.4330127j])"
      ]
     },
     "execution_count": 3,
     "metadata": {},
     "output_type": "execute_result"
    }
   ],
   "source": [
    "np.fft.fft(arr_1)"
   ]
  },
  {
   "cell_type": "code",
   "execution_count": 4,
   "id": "8dbf4565",
   "metadata": {},
   "outputs": [
    {
     "data": {
      "text/plain": [
       "array([ 1. +0.j       , -0.5-0.8660254j, -0.5+0.8660254j])"
      ]
     },
     "execution_count": 4,
     "metadata": {},
     "output_type": "execute_result"
    }
   ],
   "source": [
    "np.fft.fft(arr_2)"
   ]
  },
  {
   "cell_type": "code",
   "execution_count": null,
   "id": "69479816",
   "metadata": {},
   "outputs": [],
   "source": []
  }
 ],
 "metadata": {
  "kernelspec": {
   "display_name": "imp_221_cctbx",
   "language": "python",
   "name": "python3"
  },
  "language_info": {
   "codemirror_mode": {
    "name": "ipython",
    "version": 3
   },
   "file_extension": ".py",
   "mimetype": "text/x-python",
   "name": "python",
   "nbconvert_exporter": "python",
   "pygments_lexer": "ipython3",
   "version": "3.12.5"
  }
 },
 "nbformat": 4,
 "nbformat_minor": 5
}
