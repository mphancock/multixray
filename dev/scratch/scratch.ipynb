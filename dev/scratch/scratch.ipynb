{
 "cells": [
  {
   "cell_type": "code",
   "execution_count": 1,
   "id": "7a6fbb0b",
   "metadata": {},
   "outputs": [],
   "source": [
    "from pathlib import Path \n",
    "\n",
    "import IMP\n",
    "import IMP.atom "
   ]
  },
  {
   "cell_type": "code",
   "execution_count": 6,
   "id": "cd78295f",
   "metadata": {},
   "outputs": [],
   "source": [
    "pdb_file = Path(Path.home(), \"xray/md_xray/2h2z_100k/output_0/pdbs/md_0.pdb\")"
   ]
  },
  {
   "cell_type": "code",
   "execution_count": 7,
   "id": "1f54d0ee",
   "metadata": {},
   "outputs": [],
   "source": [
    "m = IMP.Model() \n",
    "h = IMP.atom.read_pdb(str(pdb_file), m)"
   ]
  },
  {
   "cell_type": "code",
   "execution_count": 10,
   "id": "a6b4894a",
   "metadata": {},
   "outputs": [
    {
     "data": {
      "text/plain": [
       "2680"
      ]
     },
     "execution_count": 10,
     "metadata": {},
     "output_type": "execute_result"
    }
   ],
   "source": [
    "m_test = h.get_model()\n",
    "len(m_test.get_particle_indexes())"
   ]
  },
  {
   "cell_type": "code",
   "execution_count": null,
   "id": "6da900e0",
   "metadata": {},
   "outputs": [],
   "source": []
  }
 ],
 "metadata": {
  "kernelspec": {
   "display_name": "Python 3 (ipykernel)",
   "language": "python",
   "name": "python3"
  },
  "language_info": {
   "codemirror_mode": {
    "name": "ipython",
    "version": 3
   },
   "file_extension": ".py",
   "mimetype": "text/x-python",
   "name": "python",
   "nbconvert_exporter": "python",
   "pygments_lexer": "ipython3",
   "version": "3.11.0"
  }
 },
 "nbformat": 4,
 "nbformat_minor": 5
}
