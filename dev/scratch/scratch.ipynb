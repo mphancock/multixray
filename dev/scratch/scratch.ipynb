{
 "cells": [
  {
   "cell_type": "code",
   "execution_count": 2,
   "id": "7a6fbb0b",
   "metadata": {},
   "outputs": [],
   "source": [
    "import pickle \n",
    "from pathlib import Path\n",
    "import matplotlib.pyplot as plt\n",
    "import matplotlib.colors as mcolors\n",
    "from matplotlib.lines import Line2D\n",
    "import seaborn as sns\n",
    "sns.set_theme()\n",
    "import math\n",
    "import pandas as pd"
   ]
  },
  {
   "attachments": {},
   "cell_type": "markdown",
   "id": "95f6cf74",
   "metadata": {},
   "source": []
  },
  {
   "cell_type": "code",
   "execution_count": 12,
   "id": "99183da9",
   "metadata": {},
   "outputs": [],
   "source": [
    "stat_df = pd.read_csv(Path(Path.home(), \"Documents/xray/sample_bench/data/3ca7/63_native_2x/score_analysis.csv\"))\n",
    "rmsd_df = pd.read_csv(Path(Path.home(), \"Documents/xray/dev/17_synthetic_native/data/2_state.csv\"))"
   ]
  },
  {
   "cell_type": "code",
   "execution_count": 10,
   "id": "29fbb6d0",
   "metadata": {},
   "outputs": [
    {
     "data": {
      "text/html": [
       "<div>\n",
       "<style scoped>\n",
       "    .dataframe tbody tr th:only-of-type {\n",
       "        vertical-align: middle;\n",
       "    }\n",
       "\n",
       "    .dataframe tbody tr th {\n",
       "        vertical-align: top;\n",
       "    }\n",
       "\n",
       "    .dataframe thead th {\n",
       "        text-align: right;\n",
       "    }\n",
       "</style>\n",
       "<table border=\"1\" class=\"dataframe\">\n",
       "  <thead>\n",
       "    <tr style=\"text-align: right;\">\n",
       "      <th></th>\n",
       "      <th>Unnamed: 0</th>\n",
       "      <th>min_xray</th>\n",
       "      <th>avg_min_xray</th>\n",
       "      <th>min_xray_r_free_0</th>\n",
       "      <th>avg_min_xray_r_free_0</th>\n",
       "      <th>min_xray_rmsd</th>\n",
       "      <th>avg_min_xray_rmsd</th>\n",
       "      <th>min_xray_rmsd_avg</th>\n",
       "      <th>avg_min_xray_rmsd_avg</th>\n",
       "    </tr>\n",
       "  </thead>\n",
       "  <tbody>\n",
       "    <tr>\n",
       "      <th>0</th>\n",
       "      <td>0</td>\n",
       "      <td>3.588511</td>\n",
       "      <td>3.643246</td>\n",
       "      <td>0.050097</td>\n",
       "      <td>0.053766</td>\n",
       "      <td>0.074322</td>\n",
       "      <td>0.090242</td>\n",
       "      <td>0.031821</td>\n",
       "      <td>0.033576</td>\n",
       "    </tr>\n",
       "    <tr>\n",
       "      <th>1</th>\n",
       "      <td>1</td>\n",
       "      <td>3.539456</td>\n",
       "      <td>3.853174</td>\n",
       "      <td>0.055916</td>\n",
       "      <td>0.075666</td>\n",
       "      <td>0.120377</td>\n",
       "      <td>0.171896</td>\n",
       "      <td>0.029278</td>\n",
       "      <td>0.098500</td>\n",
       "    </tr>\n",
       "    <tr>\n",
       "      <th>2</th>\n",
       "      <td>2</td>\n",
       "      <td>3.433750</td>\n",
       "      <td>3.674301</td>\n",
       "      <td>0.046463</td>\n",
       "      <td>0.061279</td>\n",
       "      <td>0.105358</td>\n",
       "      <td>0.147100</td>\n",
       "      <td>0.027263</td>\n",
       "      <td>0.041141</td>\n",
       "    </tr>\n",
       "    <tr>\n",
       "      <th>3</th>\n",
       "      <td>3</td>\n",
       "      <td>3.621424</td>\n",
       "      <td>3.668388</td>\n",
       "      <td>0.053502</td>\n",
       "      <td>0.056751</td>\n",
       "      <td>0.089626</td>\n",
       "      <td>0.106025</td>\n",
       "      <td>0.032146</td>\n",
       "      <td>0.034918</td>\n",
       "    </tr>\n",
       "    <tr>\n",
       "      <th>4</th>\n",
       "      <td>4</td>\n",
       "      <td>3.610308</td>\n",
       "      <td>3.685360</td>\n",
       "      <td>0.055559</td>\n",
       "      <td>0.059873</td>\n",
       "      <td>0.092064</td>\n",
       "      <td>0.128607</td>\n",
       "      <td>0.030945</td>\n",
       "      <td>0.039820</td>\n",
       "    </tr>\n",
       "  </tbody>\n",
       "</table>\n",
       "</div>"
      ],
      "text/plain": [
       "   Unnamed: 0  min_xray  avg_min_xray  min_xray_r_free_0   \n",
       "0           0  3.588511      3.643246           0.050097  \\\n",
       "1           1  3.539456      3.853174           0.055916   \n",
       "2           2  3.433750      3.674301           0.046463   \n",
       "3           3  3.621424      3.668388           0.053502   \n",
       "4           4  3.610308      3.685360           0.055559   \n",
       "\n",
       "   avg_min_xray_r_free_0  min_xray_rmsd  avg_min_xray_rmsd  min_xray_rmsd_avg   \n",
       "0               0.053766       0.074322           0.090242           0.031821  \\\n",
       "1               0.075666       0.120377           0.171896           0.029278   \n",
       "2               0.061279       0.105358           0.147100           0.027263   \n",
       "3               0.056751       0.089626           0.106025           0.032146   \n",
       "4               0.059873       0.092064           0.128607           0.030945   \n",
       "\n",
       "   avg_min_xray_rmsd_avg  \n",
       "0               0.033576  \n",
       "1               0.098500  \n",
       "2               0.041141  \n",
       "3               0.034918  \n",
       "4               0.039820  "
      ]
     },
     "execution_count": 10,
     "metadata": {},
     "output_type": "execute_result"
    }
   ],
   "source": [
    "stat_df.head()"
   ]
  },
  {
   "cell_type": "code",
   "execution_count": 15,
   "id": "3fb77b33",
   "metadata": {},
   "outputs": [
    {
     "data": {
      "text/plain": [
       "<matplotlib.collections.PathCollection at 0x182c2d910>"
      ]
     },
     "execution_count": 15,
     "metadata": {},
     "output_type": "execute_result"
    },
    {
     "data": {
      "image/png": "[encoded data removed]",
      "text/plain": [
       "<Figure size 640x480 with 1 Axes>"
      ]
     },
     "metadata": {},
     "output_type": "display_data"
    }
   ],
   "source": [
    "plt.scatter(rmsd_df[\"rmsd_order\"],stat_df[\"min_xray_rmsd\"])\n",
    "# plt.savefig(Path(Path.home(), \"Desktop/tmp.png\"))"
   ]
  },
  {
   "cell_type": "code",
   "execution_count": 19,
   "id": "8ac67658",
   "metadata": {},
   "outputs": [
    {
     "data": {
      "text/plain": [
       "'/wynton/group/sali/mhancock/xray/sample_bench/out/3ca7/57_sb_2x_0/9711734/output_109/pdbs/400.pdb'"
      ]
     },
     "execution_count": 19,
     "metadata": {},
     "output_type": "execute_result"
    }
   ],
   "source": [
    "stat_df.iloc[stat_df[\"xray_0_min_0\"].idxmin()][\"xray_0_min_0_pdb\"]"
   ]
  },
  {
   "cell_type": "code",
   "execution_count": null,
   "id": "86ccb2d2",
   "metadata": {},
   "outputs": [],
   "source": []
  }
 ],
 "metadata": {
  "kernelspec": {
   "display_name": "Python 3 (ipykernel)",
   "language": "python",
   "name": "python3"
  },
  "language_info": {
   "codemirror_mode": {
    "name": "ipython",
    "version": 3
   },
   "file_extension": ".py",
   "mimetype": "text/x-python",
   "name": "python",
   "nbconvert_exporter": "python",
   "pygments_lexer": "ipython3",
   "version": "3.11.3"
  }
 },
 "nbformat": 4,
 "nbformat_minor": 5
}
