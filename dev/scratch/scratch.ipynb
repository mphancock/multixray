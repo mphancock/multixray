{
 "cells": [
  {
   "cell_type": "code",
   "execution_count": 1,
   "id": "7a6fbb0b",
   "metadata": {},
   "outputs": [],
   "source": [
    "import pickle\n",
    "from pathlib import Path\n",
    "import matplotlib.pyplot as plt\n",
    "import matplotlib.colors as mcolors\n",
    "from matplotlib.lines import Line2D\n",
    "import seaborn as sns\n",
    "sns.set_theme()\n",
    "import math\n",
    "import pandas as pd\n",
    "import random\n",
    "import numpy as np\n",
    "\n",
    "import IMP\n",
    "import IMP.atom"
   ]
  },
  {
   "attachments": {},
   "cell_type": "markdown",
   "id": "95f6cf74",
   "metadata": {},
   "source": []
  },
  {
   "cell_type": "code",
   "execution_count": 7,
   "id": "e7c84de0",
   "metadata": {},
   "outputs": [
    {
     "name": "stdout",
     "output_type": "stream",
     "text": [
      "begin read_pdb:\n",
      "  WARNING  Could not determine CHARMM atom type for atom \"HET: S  \" in residue #401 \"DMS\"\n",
      "  WARNING  Could not determine CHARMM atom type for atom \"HET: O  \" in residue #401 \"DMS\"\n",
      "  WARNING  Could not determine CHARMM atom type for atom \"HET: C1 \" in residue #401 \"DMS\"\n",
      "  WARNING  Could not determine CHARMM atom type for atom \"HET: C2 \" in residue #401 \"DMS\"\n",
      "  WARNING  Could not determine CHARMM atom type for atom \"HET:ZN  \" in residue #403 \"ZN\"\n",
      "end read_pdb\n"
     ]
    }
   ],
   "source": [
    "pdb_file = str(Path(Path.home(), \"Documents/xray/data/pdbs/7mhf/7mhh_B.pdb\"))\n",
    "\n",
    "m = IMP.Model()\n",
    "sel = IMP.atom.AndPDBSelector(IMP.atom.NonWaterNonHydrogenPDBSelector(), IMP.atom.NonAlternativePDBSelector())\n",
    "\n",
    "hs = IMP.atom.read_multimodel_pdb(str(pdb_file), m, sel)\n",
    "\n",
    "IMP.atom.write_multimodel_pdb(hs, str(pdb_file)+\".tmp\")"
   ]
  },
  {
   "cell_type": "code",
   "execution_count": null,
   "id": "0a838e64",
   "metadata": {},
   "outputs": [],
   "source": []
  }
 ],
 "metadata": {
  "kernelspec": {
   "display_name": "Python 3 (ipykernel)",
   "language": "python",
   "name": "python3"
  },
  "language_info": {
   "codemirror_mode": {
    "name": "ipython",
    "version": 3
   },
   "file_extension": ".py",
   "mimetype": "text/x-python",
   "name": "python",
   "nbconvert_exporter": "python",
   "pygments_lexer": "ipython3",
   "version": "3.11.3"
  }
 },
 "nbformat": 4,
 "nbformat_minor": 5
}
