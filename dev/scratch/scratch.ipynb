{
 "cells": [
  {
   "cell_type": "code",
   "execution_count": 1,
   "id": "7a6fbb0b",
   "metadata": {},
   "outputs": [],
   "source": [
    "from pathlib import Path\n",
    "import pickle\n",
    "from pathlib import Path\n",
    "import matplotlib.pyplot as plt\n",
    "import matplotlib.colors as mcolors\n",
    "from matplotlib.lines import Line2D\n",
    "import seaborn as sns\n",
    "sns.set_theme()\n",
    "import math\n",
    "import pandas as pd\n",
    "import random\n",
    "import numpy as np\n",
    "import sys\n",
    "import shutil\n",
    "\n",
    "import IMP\n",
    "import IMP.atom\n",
    "\n",
    "sys.path.append(str(Path(Path.home(), \"Documents/xray/src\")))\n",
    "from multi_state_multi_condition_model import MultiStateMultiConditionModel"
   ]
  },
  {
   "cell_type": "code",
   "execution_count": 2,
   "id": "d1f8a9da",
   "metadata": {},
   "outputs": [
    {
     "name": "stdout",
     "output_type": "stream",
     "text": [
      "begin read_pdb:\n",
      "  WARNING  Could not determine CHARMM atom type for atom \"HET: O  \" in residue #699 \"HOH\"\n",
      "  WARNING  Could not determine CHARMM atom type for atom \"H1\" in residue #1 \"SER\"\n",
      "  WARNING  Could not determine CHARMM atom type for atom \"HE2\" in residue #41 \"HIS\"\n",
      "  WARNING  Could not determine CHARMM atom type for atom \"HET: S  \" in residue #401 \"DMS\"\n",
      "  WARNING  Could not determine CHARMM atom type for atom \"HET: O  \" in residue #401 \"DMS\"\n",
      "  WARNING  Could not determine CHARMM atom type for atom \"HET: C1 \" in residue #401 \"DMS\"\n",
      "  WARNING  Could not determine CHARMM atom type for atom \"HET: C2 \" in residue #401 \"DMS\"\n",
      "  WARNING  Could not determine CHARMM atom type for atom \"HET: H11\" in residue #401 \"DMS\"\n",
      "  WARNING  Could not determine CHARMM atom type for atom \"HET: H12\" in residue #401 \"DMS\"\n",
      "  WARNING  Could not determine CHARMM atom type for atom \"HET: H13\" in residue #401 \"DMS\"\n",
      "  WARNING  Could not determine CHARMM atom type for atom \"HET: H21\" in residue #401 \"DMS\"\n",
      "  WARNING  Could not determine CHARMM atom type for atom \"HET: H22\" in residue #401 \"DMS\"\n",
      "  WARNING  Could not determine CHARMM atom type for atom \"HET: H23\" in residue #401 \"DMS\"\n",
      "  WARNING  Could not determine CHARMM atom type for atom \"HET:ZN  \" in residue #406 \"ZN\"\n",
      "end read_pdb\n"
     ]
    }
   ],
   "source": [
    "m_1, m_2 = IMP.Model(), IMP.Model()\n",
    "hs_1 = IMP.atom.read_multimodel_pdb(str(Path(Path.home(), \"Documents/xray/data/pdbs/7mhf/7mhf.pdb\")), m_1, IMP.atom.AllPDBSelector())\n",
    "hs_2 = IMP.atom.read_multimodel_pdb(str(Path(Path.home(), \"Documents/xray/data/pdbs/7mhf/7mhf_refine.pdb\")), m_2, IMP.atom.AllPDBSelector())"
   ]
  },
  {
   "cell_type": "code",
   "execution_count": 3,
   "id": "bf384ed8",
   "metadata": {},
   "outputs": [],
   "source": [
    "h_1 = hs_1[0]\n",
    "h_2 = hs_2[0]\n"
   ]
  },
  {
   "cell_type": "code",
   "execution_count": 4,
   "id": "64c877b7",
   "metadata": {},
   "outputs": [
    {
     "data": {
      "text/plain": [
       "array([5313], dtype=int32)"
      ]
     },
     "execution_count": 4,
     "metadata": {},
     "output_type": "execute_result"
    }
   ],
   "source": [
    "pids = IMP.atom.Selection(h_1, atom_type=IMP.atom.AtomType(\"HET:ZN  \")).get_selected_particle_indexes()\n",
    "pids"
   ]
  },
  {
   "cell_type": "code",
   "execution_count": 5,
   "id": "d2872f98",
   "metadata": {},
   "outputs": [
    {
     "name": "stdout",
     "output_type": "stream",
     "text": [
      "\"ZN\" #406 \"ZN\" \n"
     ]
    }
   ],
   "source": [
    "pid_1 = pids[0]\n",
    "at_1 = IMP.atom.Atom(m_1, pid_1)\n",
    "res_1 = at_1.get_parent()\n",
    "print(res_1)"
   ]
  },
  {
   "cell_type": "code",
   "execution_count": 6,
   "id": "a8dae1d9",
   "metadata": {},
   "outputs": [],
   "source": [
    "chain_2 = h_2.get_children()[0]\n",
    "# chain_2.add_child(res)\n",
    "# IMP.atom.write_pdb(h_2, \"test.pdb\")"
   ]
  },
  {
   "cell_type": "code",
   "execution_count": 7,
   "id": "6a35ef1d",
   "metadata": {},
   "outputs": [],
   "source": [
    "at_p = IMP.Particle(m_2)\n",
    "at_2 = IMP.atom.Atom.setup_particle(at_p, at_1)\n",
    "at_2.set_temperature_factor(at_1.get_temperature_factor())\n",
    "at_2.set_occupancy(at_1.get_occupancy())"
   ]
  },
  {
   "cell_type": "code",
   "execution_count": 8,
   "id": "deae205e",
   "metadata": {},
   "outputs": [
    {
     "data": {
      "text/plain": [
       "0.20000000298023224"
      ]
     },
     "execution_count": 8,
     "metadata": {},
     "output_type": "execute_result"
    }
   ],
   "source": [
    "at_2.get_temperature_factor()\n",
    "at_2.get_occupancy()"
   ]
  },
  {
   "cell_type": "code",
   "execution_count": 9,
   "id": "785ebcd4",
   "metadata": {},
   "outputs": [],
   "source": [
    "pid_2 = at_p.get_index()"
   ]
  },
  {
   "cell_type": "code",
   "execution_count": 10,
   "id": "7c17147e",
   "metadata": {},
   "outputs": [],
   "source": [
    "xyz_1 = IMP.core.XYZ(m_1, pid_1)\n",
    "xyz_2 = IMP.core.XYZ.setup_particle(m_2, pid_2, xyz_1.get_coordinates())\n",
    "# IMP.core.XYZR.setup_particle()"
   ]
  },
  {
   "cell_type": "code",
   "execution_count": 11,
   "id": "94783401",
   "metadata": {},
   "outputs": [],
   "source": [
    "res_1 = IMP.atom.get_residue(at_1)"
   ]
  },
  {
   "cell_type": "code",
   "execution_count": 12,
   "id": "514a0eac",
   "metadata": {},
   "outputs": [],
   "source": [
    "p_res = IMP.Particle(m_2)\n",
    "res_2 = IMP.atom.Residue.setup_particle(p_res, res_1)"
   ]
  },
  {
   "cell_type": "code",
   "execution_count": 13,
   "id": "1cc3cb2b",
   "metadata": {},
   "outputs": [],
   "source": [
    "res_2.add_child(at_2)"
   ]
  },
  {
   "cell_type": "code",
   "execution_count": 14,
   "id": "958913f3",
   "metadata": {},
   "outputs": [],
   "source": [
    "chain_2.add_child(res_2)"
   ]
  },
  {
   "cell_type": "code",
   "execution_count": 15,
   "id": "32622721",
   "metadata": {},
   "outputs": [],
   "source": [
    "IMP.atom.write_pdb(h_2, \"test.pdb\")"
   ]
  },
  {
   "cell_type": "code",
   "execution_count": 16,
   "id": "70635e89",
   "metadata": {},
   "outputs": [
    {
     "ename": "NameError",
     "evalue": "name 'hs' is not defined",
     "output_type": "error",
     "traceback": [
      "\u001b[0;31m---------------------------------------------------------------------------\u001b[0m",
      "\u001b[0;31mNameError\u001b[0m                                 Traceback (most recent call last)",
      "Cell \u001b[0;32mIn[16], line 1\u001b[0m\n\u001b[0;32m----> 1\u001b[0m \u001b[38;5;28;01mfor\u001b[39;00m i \u001b[38;5;129;01min\u001b[39;00m \u001b[38;5;28mrange\u001b[39m(\u001b[38;5;28mlen\u001b[39m(\u001b[43mhs\u001b[49m)):\n\u001b[1;32m      2\u001b[0m     h \u001b[38;5;241m=\u001b[39m hs[i]\n\u001b[1;32m      3\u001b[0m     \u001b[38;5;28;01mfor\u001b[39;00m pid \u001b[38;5;129;01min\u001b[39;00m IMP\u001b[38;5;241m.\u001b[39matom\u001b[38;5;241m.\u001b[39mSelection(h)\u001b[38;5;241m.\u001b[39mget_selected_particle_indexes():\n",
      "\u001b[0;31mNameError\u001b[0m: name 'hs' is not defined"
     ]
    }
   ],
   "source": [
    "for i in range(len(hs)):\n",
    "    h = hs[i]\n",
    "    for pid in IMP.atom.Selection(h).get_selected_particle_indexes():\n",
    "        IMP.atom.Atom(m, pid).set_temperature_factor(15)\n",
    "\n"
   ]
  },
  {
   "cell_type": "code",
   "execution_count": 6,
   "id": "ad81a2b2",
   "metadata": {},
   "outputs": [],
   "source": [
    "IMP.atom.write_multimodel_pdb(hs, str(Path(Path.home(), \"Documents/xray/data/pdbs/7mhf/7mhf_refine_15.pdb\")))"
   ]
  },
  {
   "cell_type": "code",
   "execution_count": null,
   "id": "dd627f71",
   "metadata": {},
   "outputs": [],
   "source": []
  }
 ],
 "metadata": {
  "kernelspec": {
   "display_name": "imp_221_cctbx",
   "language": "python",
   "name": "python3"
  },
  "language_info": {
   "codemirror_mode": {
    "name": "ipython",
    "version": 3
   },
   "file_extension": ".py",
   "mimetype": "text/x-python",
   "name": "python",
   "nbconvert_exporter": "python",
   "pygments_lexer": "ipython3",
   "version": "3.12.5"
  }
 },
 "nbformat": 4,
 "nbformat_minor": 5
}
