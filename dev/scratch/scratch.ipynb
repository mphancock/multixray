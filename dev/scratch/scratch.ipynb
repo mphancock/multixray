{
 "cells": [
  {
   "cell_type": "code",
   "execution_count": 29,
   "id": "7a6fbb0b",
   "metadata": {},
   "outputs": [],
   "source": [
    "from pathlib import Path\n",
    "import pickle\n",
    "from pathlib import Path\n",
    "import matplotlib.pyplot as plt\n",
    "import matplotlib.colors as mcolors\n",
    "from matplotlib.lines import Line2D\n",
    "import seaborn as sns\n",
    "sns.set_theme()\n",
    "import math\n",
    "import pandas as pd\n",
    "import random\n",
    "import numpy as np\n",
    "import sys\n",
    "import shutil\n",
    "\n",
    "import IMP\n",
    "import IMP.atom\n",
    "\n",
    "sys.path.append(str(Path(Path.home(), \"Documents/xray/src\")))\n",
    "from refine import refine_hs_to_max_ff"
   ]
  },
  {
   "cell_type": "code",
   "execution_count": 32,
   "id": "f60f0f58",
   "metadata": {},
   "outputs": [
    {
     "name": "stdout",
     "output_type": "stream",
     "text": [
      "/Users/matthew/Documents/xray/dev/29_synthetic_native_3/data/cifs/7mhf_20/0/0.cif\n",
      "/Users/matthew/Documents/xray/dev/29_synthetic_native_3/data/cifs/7mhf_20/0/1.cif\n",
      "/Users/matthew/Documents/xray/dev/29_synthetic_native_3/data/cifs/7mhf_20/0/2.cif\n",
      "/Users/matthew/Documents/xray/dev/29_synthetic_native_3/data/cifs/7mhf_20/0/3.cif\n",
      "/Users/matthew/Documents/xray/dev/29_synthetic_native_3/data/cifs/7mhf_20/0/4.cif\n",
      "/Users/matthew/Documents/xray/dev/29_synthetic_native_3/data/cifs/7mhf_20/0/5.cif\n",
      "/Users/matthew/Documents/xray/dev/29_synthetic_native_3/data/cifs/7mhf_20/0/6.cif\n",
      "/Users/matthew/Documents/xray/dev/29_synthetic_native_3/data/cifs/7mhf_20/0/7.cif\n",
      "/Users/matthew/Documents/xray/dev/29_synthetic_native_3/data/cifs/7mhf_20/0/8.cif\n",
      "/Users/matthew/Documents/xray/dev/29_synthetic_native_3/data/cifs/7mhf_20/0/9.cif\n",
      "/Users/matthew/Documents/xray/dev/29_synthetic_native_3/data/cifs/7mhf_20/1/0.cif\n",
      "/Users/matthew/Documents/xray/dev/29_synthetic_native_3/data/cifs/7mhf_20/1/1.cif\n",
      "/Users/matthew/Documents/xray/dev/29_synthetic_native_3/data/cifs/7mhf_20/1/2.cif\n",
      "/Users/matthew/Documents/xray/dev/29_synthetic_native_3/data/cifs/7mhf_20/1/3.cif\n",
      "/Users/matthew/Documents/xray/dev/29_synthetic_native_3/data/cifs/7mhf_20/1/4.cif\n",
      "/Users/matthew/Documents/xray/dev/29_synthetic_native_3/data/cifs/7mhf_20/1/5.cif\n",
      "/Users/matthew/Documents/xray/dev/29_synthetic_native_3/data/cifs/7mhf_20/1/6.cif\n",
      "/Users/matthew/Documents/xray/dev/29_synthetic_native_3/data/cifs/7mhf_20/1/7.cif\n",
      "/Users/matthew/Documents/xray/dev/29_synthetic_native_3/data/cifs/7mhf_20/1/8.cif\n",
      "/Users/matthew/Documents/xray/dev/29_synthetic_native_3/data/cifs/7mhf_20/1/9.cif\n"
     ]
    }
   ],
   "source": [
    "data_dir = Path(Path.home(), \"Documents/xray/dev/29_synthetic_native_3/data\")\n",
    "for i in range(2):\n",
    "    for j in range(10):\n",
    "        pdb_file = Path(data_dir, \"cifs/7mhf_20/{}/{}.cif\".format(i, j))\n",
    "        print(pdb_file)\n",
    "\n",
    "        new_pdb_dir = Path(data_dir, \"cifs/7mhf_20_new/{}\".format(j))\n",
    "        new_pdb_dir.mkdir(parents=True, exist_ok=True)\n",
    "\n",
    "        new_pdb_file = Path(new_pdb_dir, \"{}.cif\".format(i))\n",
    "        shutil.copy(pdb_file, new_pdb_file)\n"
   ]
  },
  {
   "cell_type": "code",
   "execution_count": null,
   "id": "21a7562b",
   "metadata": {},
   "outputs": [],
   "source": []
  }
 ],
 "metadata": {
  "kernelspec": {
   "display_name": "Python 3 (ipykernel)",
   "language": "python",
   "name": "python3"
  },
  "language_info": {
   "codemirror_mode": {
    "name": "ipython",
    "version": 3
   },
   "file_extension": ".py",
   "mimetype": "text/x-python",
   "name": "python",
   "nbconvert_exporter": "python",
   "pygments_lexer": "ipython3",
   "version": "3.11.8"
  }
 },
 "nbformat": 4,
 "nbformat_minor": 5
}
