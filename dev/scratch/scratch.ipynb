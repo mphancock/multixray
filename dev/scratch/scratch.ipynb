{
 "cells": [
  {
   "cell_type": "code",
   "execution_count": 3,
   "id": "7a6fbb0b",
   "metadata": {},
   "outputs": [],
   "source": [
    "from pathlib import Path\n",
    "import pickle\n",
    "from pathlib import Path\n",
    "import matplotlib.pyplot as plt\n",
    "import matplotlib.colors as mcolors\n",
    "from matplotlib.lines import Line2D\n",
    "import seaborn as sns\n",
    "sns.set_theme()\n",
    "import math\n",
    "import pandas as pd\n",
    "import random\n",
    "import numpy as np\n",
    "import sys\n",
    "import shutil\n",
    "\n",
    "import IMP\n",
    "import IMP.atom\n",
    "\n",
    "sys.path.append(str(Path(Path.home(), \"Documents/xray/src\")))\n",
    "from multi_state_multi_condition_model import MultiStateMultiConditionModel"
   ]
  },
  {
   "cell_type": "code",
   "execution_count": 6,
   "id": "be1c423c",
   "metadata": {},
   "outputs": [
    {
     "name": "stdout",
     "output_type": "stream",
     "text": [
      "SETTING UP MULTI STATE MULTI CONDITION MODEL\n",
      "/Users/matthew/Documents/xray/dev/45_synthetic_native_4/data/pdbs/native.pdb\n",
      "NO STATES:  2\n",
      "NO CONDITIONS:  1\n",
      "NO OF ATOMS PER STATE:  2464\n"
     ]
    }
   ],
   "source": [
    "msmc_m = MultiStateMultiConditionModel(\n",
    "    pdb_files=[Path(Path.home(), \"Documents/xray/dev/45_synthetic_native_4/data/pdbs/native.pdb\")],\n",
    "    w_mat=np.array([[.5], [0.5]]),\n",
    "    crystal_symmetries=None\n",
    ")"
   ]
  },
  {
   "cell_type": "code",
   "execution_count": 7,
   "id": "69479816",
   "metadata": {},
   "outputs": [
    {
     "data": {
      "text/plain": [
       "array([   5,   13,   28,   43,   58,   75,   96,  117,  130,  150,  161,\n",
       "        178,  191,  199,  215,  230,  250,  258,  283,  300,  312,  333,\n",
       "        349,  369,  390,  401,  414,  437,  454,  469,  492,  507,  518,\n",
       "        534,  549,  570,  595,  606,  626,  638,  653,  661,  677,  700,\n",
       "        708,  729,  737,  759,  782,  790,  802,  814,  835,  852,  877,\n",
       "        897,  917,  932,  940,  961,  979,  991, 1009, 1017, 1025, 1038,\n",
       "       1059, 1074, 1099, 1116, 1131, 1139, 1154, 1162, 1170, 1193, 1205,\n",
       "       1225, 1247, 1255, 1271, 1294, 1315, 1331, 1344, 1360, 1375, 1396,\n",
       "       1416, 1436, 1459, 1476, 1491, 1499, 1514, 1522, 1542, 1562, 1574,\n",
       "       1592, 1603, 1618, 1629, 1637, 1652, 1667, 1682, 1697, 1705, 1717,\n",
       "       1735, 1756, 1777, 1797, 1809, 1824, 1835, 1858, 1873, 1889, 1914,\n",
       "       1934, 1947, 1955, 1978, 1995, 2012, 2029, 2050, 2058, 2081, 2098,\n",
       "       2121, 2137, 2145, 2163, 2178, 2198, 2215, 2231, 2242, 2260, 2276,\n",
       "       2301, 2322, 2330, 2342, 2367, 2382, 2390, 2413, 2428, 2440, 2463,\n",
       "       2486, 2506, 2521, 2541, 2552, 2565, 2577, 2585, 2603, 2623],\n",
       "      dtype=int32)"
      ]
     },
     "execution_count": 7,
     "metadata": {},
     "output_type": "execute_result"
    }
   ],
   "source": [
    "msmc_m.get_ca_pids_in_state(0)"
   ]
  },
  {
   "cell_type": "code",
   "execution_count": 8,
   "id": "43d665ee",
   "metadata": {},
   "outputs": [
    {
     "data": {
      "text/plain": [
       "array([2636, 2644, 2659, 2674, 2689, 2706, 2727, 2748, 2761, 2781, 2792,\n",
       "       2809, 2822, 2830, 2846, 2861, 2881, 2889, 2914, 2931, 2943, 2964,\n",
       "       2980, 3000, 3021, 3032, 3045, 3068, 3085, 3100, 3123, 3138, 3149,\n",
       "       3165, 3180, 3201, 3226, 3237, 3257, 3269, 3284, 3292, 3308, 3331,\n",
       "       3339, 3360, 3368, 3390, 3413, 3421, 3433, 3445, 3466, 3483, 3508,\n",
       "       3528, 3548, 3563, 3571, 3592, 3610, 3622, 3640, 3648, 3656, 3669,\n",
       "       3690, 3705, 3730, 3747, 3762, 3770, 3785, 3793, 3801, 3824, 3836,\n",
       "       3856, 3878, 3886, 3902, 3925, 3946, 3962, 3975, 3991, 4006, 4027,\n",
       "       4047, 4067, 4090, 4107, 4122, 4130, 4145, 4153, 4173, 4193, 4205,\n",
       "       4223, 4234, 4249, 4260, 4268, 4283, 4298, 4313, 4328, 4336, 4348,\n",
       "       4366, 4387, 4408, 4428, 4440, 4455, 4466, 4489, 4504, 4520, 4545,\n",
       "       4565, 4578, 4586, 4609, 4626, 4643, 4660, 4681, 4689, 4712, 4729,\n",
       "       4752, 4768, 4776, 4794, 4809, 4829, 4846, 4862, 4873, 4891, 4907,\n",
       "       4932, 4953, 4961, 4973, 4998, 5013, 5021, 5044, 5059, 5071, 5094,\n",
       "       5117, 5137, 5152, 5172, 5183, 5196, 5208, 5216, 5234, 5254],\n",
       "      dtype=int32)"
      ]
     },
     "execution_count": 8,
     "metadata": {},
     "output_type": "execute_result"
    }
   ],
   "source": [
    "msmc_m.get_ca_pids_in_state(1)"
   ]
  },
  {
   "cell_type": "code",
   "execution_count": null,
   "id": "d1f8a9da",
   "metadata": {},
   "outputs": [],
   "source": []
  }
 ],
 "metadata": {
  "kernelspec": {
   "display_name": "imp_221_cctbx",
   "language": "python",
   "name": "python3"
  },
  "language_info": {
   "codemirror_mode": {
    "name": "ipython",
    "version": 3
   },
   "file_extension": ".py",
   "mimetype": "text/x-python",
   "name": "python",
   "nbconvert_exporter": "python",
   "pygments_lexer": "ipython3",
   "version": "3.12.5"
  }
 },
 "nbformat": 4,
 "nbformat_minor": 5
}
