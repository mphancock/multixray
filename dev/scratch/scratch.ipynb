{
 "cells": [
  {
   "cell_type": "code",
   "execution_count": 1,
   "id": "7a6fbb0b",
   "metadata": {},
   "outputs": [],
   "source": [
    "from pathlib import Path \n",
    "import pandas as pd"
   ]
  },
  {
   "cell_type": "code",
   "execution_count": 3,
   "id": "764b3363",
   "metadata": {},
   "outputs": [
    {
     "data": {
      "text/html": [
       "<div>\n",
       "<style scoped>\n",
       "    .dataframe tbody tr th:only-of-type {\n",
       "        vertical-align: middle;\n",
       "    }\n",
       "\n",
       "    .dataframe tbody tr th {\n",
       "        vertical-align: top;\n",
       "    }\n",
       "\n",
       "    .dataframe thead th {\n",
       "        text-align: right;\n",
       "    }\n",
       "</style>\n",
       "<table border=\"1\" class=\"dataframe\">\n",
       "  <thead>\n",
       "    <tr style=\"text-align: right;\">\n",
       "      <th></th>\n",
       "      <th>Unnamed: 0</th>\n",
       "      <th>step</th>\n",
       "      <th>time</th>\n",
       "      <th>ff</th>\n",
       "      <th>xray</th>\n",
       "      <th>r_work</th>\n",
       "      <th>r_free</th>\n",
       "      <th>rmsd</th>\n",
       "    </tr>\n",
       "  </thead>\n",
       "  <tbody>\n",
       "    <tr>\n",
       "      <th>0</th>\n",
       "      <td>0</td>\n",
       "      <td>0</td>\n",
       "      <td>0.000001</td>\n",
       "      <td>4506.716219</td>\n",
       "      <td>5.423054</td>\n",
       "      <td>0.302339</td>\n",
       "      <td>0.311671</td>\n",
       "      <td>0.000000</td>\n",
       "    </tr>\n",
       "    <tr>\n",
       "      <th>1</th>\n",
       "      <td>1</td>\n",
       "      <td>1</td>\n",
       "      <td>4.851931</td>\n",
       "      <td>578.320784</td>\n",
       "      <td>5.443791</td>\n",
       "      <td>0.308579</td>\n",
       "      <td>0.320890</td>\n",
       "      <td>0.031342</td>\n",
       "    </tr>\n",
       "    <tr>\n",
       "      <th>2</th>\n",
       "      <td>2</td>\n",
       "      <td>2</td>\n",
       "      <td>6.475618</td>\n",
       "      <td>359.158734</td>\n",
       "      <td>5.463851</td>\n",
       "      <td>0.314844</td>\n",
       "      <td>0.329872</td>\n",
       "      <td>0.043008</td>\n",
       "    </tr>\n",
       "    <tr>\n",
       "      <th>3</th>\n",
       "      <td>3</td>\n",
       "      <td>3</td>\n",
       "      <td>8.070607</td>\n",
       "      <td>254.319795</td>\n",
       "      <td>5.482057</td>\n",
       "      <td>0.320628</td>\n",
       "      <td>0.337490</td>\n",
       "      <td>0.053144</td>\n",
       "    </tr>\n",
       "    <tr>\n",
       "      <th>4</th>\n",
       "      <td>4</td>\n",
       "      <td>4</td>\n",
       "      <td>9.650779</td>\n",
       "      <td>194.066233</td>\n",
       "      <td>5.501312</td>\n",
       "      <td>0.327229</td>\n",
       "      <td>0.344253</td>\n",
       "      <td>0.062743</td>\n",
       "    </tr>\n",
       "  </tbody>\n",
       "</table>\n",
       "</div>"
      ],
      "text/plain": [
       "   Unnamed: 0  step      time           ff      xray    r_work    r_free   \n",
       "0           0     0  0.000001  4506.716219  5.423054  0.302339  0.311671  \\\n",
       "1           1     1  4.851931   578.320784  5.443791  0.308579  0.320890   \n",
       "2           2     2  6.475618   359.158734  5.463851  0.314844  0.329872   \n",
       "3           3     3  8.070607   254.319795  5.482057  0.320628  0.337490   \n",
       "4           4     4  9.650779   194.066233  5.501312  0.327229  0.344253   \n",
       "\n",
       "       rmsd  \n",
       "0  0.000000  \n",
       "1  0.031342  \n",
       "2  0.043008  \n",
       "3  0.053144  \n",
       "4  0.062743  "
      ]
     },
     "execution_count": 3,
     "metadata": {},
     "output_type": "execute_result"
    }
   ],
   "source": [
    "# stat_df = [pd.read_csv(Path(Path.home(), \"Documents/xray/sample_bench/unit_tests/data/log_0.csv\")), pd.read_csv(Path(Path.home(), \"Documents/xray/sample_bench/unit_tests/data/log_1.csv\"))]\n",
    "# stat_df = pd.concat(stat_dfs)\n",
    "\n",
    "stat_df = pd.read_csv(Path(Path.home(), \"Documents/xray/sample_bench/data/test/log_2.csv\"))\n",
    "\n",
    "stat_df.head()"
   ]
  },
  {
   "cell_type": "code",
   "execution_count": 7,
   "id": "f15c7f29",
   "metadata": {},
   "outputs": [
    {
     "data": {
      "text/plain": [
       "0    0.311671\n",
       "1    0.320890\n",
       "2    0.329872\n",
       "3    0.337490\n",
       "4    0.344253\n",
       "5    0.347803\n",
       "6    0.355310\n",
       "7    0.356963\n",
       "8    0.362333\n",
       "9    0.366118\n",
       "Name: r_free, dtype: float64"
      ]
     },
     "execution_count": 7,
     "metadata": {},
     "output_type": "execute_result"
    }
   ],
   "source": [
    "stat_df[\"r_free\"].nsmallest(10)"
   ]
  },
  {
   "cell_type": "code",
   "execution_count": null,
   "id": "c5ad5604",
   "metadata": {},
   "outputs": [],
   "source": []
  }
 ],
 "metadata": {
  "kernelspec": {
   "display_name": "Python 3 (ipykernel)",
   "language": "python",
   "name": "python3"
  },
  "language_info": {
   "codemirror_mode": {
    "name": "ipython",
    "version": 3
   },
   "file_extension": ".py",
   "mimetype": "text/x-python",
   "name": "python",
   "nbconvert_exporter": "python",
   "pygments_lexer": "ipython3",
   "version": "3.11.3"
  }
 },
 "nbformat": 4,
 "nbformat_minor": 5
}
