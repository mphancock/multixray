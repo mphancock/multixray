{
 "cells": [
  {
   "cell_type": "code",
   "execution_count": 7,
   "metadata": {},
   "outputs": [],
   "source": [
    "from pathlib import Path\n",
    "import random\n",
    "\n",
    "import IMP\n",
    "import IMP.atom"
   ]
  },
  {
   "cell_type": "code",
   "execution_count": 5,
   "metadata": {},
   "outputs": [],
   "source": [
    "pdb_file = Path(Path.home(), \"Documents/xray/dev/43_phenix_ensemble_refinement/data/pdbs/3k0m.pdb\")\n",
    "\n",
    "m = IMP.Model()\n",
    "hs = IMP.atom.read_multimodel_pdb(str(pdb_file), m, IMP.atom.ATOMPDBSelector())"
   ]
  },
  {
   "cell_type": "code",
   "execution_count": 11,
   "metadata": {},
   "outputs": [],
   "source": [
    "for h in hs:\n",
    "    for pid in IMP.atom.Selection(h).get_selected_particles():\n",
    "        at = IMP.atom.Atom(m, pid)\n",
    "        at.set_temperature_factor(15)"
   ]
  },
  {
   "cell_type": "code",
   "execution_count": 12,
   "metadata": {},
   "outputs": [],
   "source": [
    "hs_native = random.sample(hs, 2)"
   ]
  },
  {
   "cell_type": "code",
   "execution_count": 13,
   "metadata": {},
   "outputs": [],
   "source": [
    "IMP.atom.write_multimodel_pdb(hs_native, \"../data/pdbs/native.pdb\")"
   ]
  },
  {
   "cell_type": "code",
   "execution_count": null,
   "metadata": {},
   "outputs": [],
   "source": []
  }
 ],
 "metadata": {
  "kernelspec": {
   "display_name": "imp_221_cctbx",
   "language": "python",
   "name": "python3"
  },
  "language_info": {
   "codemirror_mode": {
    "name": "ipython",
    "version": 3
   },
   "file_extension": ".py",
   "mimetype": "text/x-python",
   "name": "python",
   "nbconvert_exporter": "python",
   "pygments_lexer": "ipython3",
   "version": "3.12.5"
  }
 },
 "nbformat": 4,
 "nbformat_minor": 2
}
