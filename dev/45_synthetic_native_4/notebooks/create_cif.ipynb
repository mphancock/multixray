{
 "cells": [
  {
   "cell_type": "code",
   "execution_count": 2,
   "metadata": {},
   "outputs": [],
   "source": [
    "from pathlib import Path\n",
    "import sys\n",
    "import numpy as np\n",
    "import pandas as pd\n",
    "\n",
    "import mmtbx.f_model\n",
    "import cctbx.crystal\n",
    "import cctbx.xray\n",
    "import cctbx.miller\n",
    "import iotbx\n",
    "from scitbx.array_family import flex\n",
    "\n",
    "sys.path.append(str(Path(Path.home(), \"Documents/xray/src\")))\n",
    "from fmodel import get_f_model, get_status_array, write_cif, randomize_amplitude\n",
    "\n"
   ]
  },
  {
   "cell_type": "code",
   "execution_count": 3,
   "metadata": {},
   "outputs": [],
   "source": [
    "pdb_file = \"../data/pdbs/native.pdb\"\n",
    "status_array = None\n",
    "# for pdb_name, occs in zip([\"native_1\", \"native_2\"], [[0.25, 0.75], [0.75, 0.25]]):\n",
    "for cif_name, occs in zip([\"native_3_0\", \"native_3_1\"], [[0.75, 0.25], [0.25, 0.75]]):\n",
    "    f_obs_array = get_f_model(\n",
    "        pdb_file=pdb_file,\n",
    "        uc_dim=(42.419, 51.741, 88.639, 90.00, 90.00, 90.00),\n",
    "        sg_symbol=\"P 21 21 21\",\n",
    "        res=1.5,\n",
    "        ws=occs\n",
    "    )\n",
    "\n",
    "    f_obs_array = randomize_amplitude(\n",
    "        f_obs=f_obs_array,\n",
    "        dist=\"norm\",\n",
    "        std=0.05\n",
    "    )\n",
    "\n",
    "    if not status_array:\n",
    "        flags_array = f_obs_array.generate_r_free_flags(\n",
    "            fraction=.10,\n",
    "            max_free=20000\n",
    "        )\n",
    "\n",
    "        status_array = get_status_array(\n",
    "            flags_array=flags_array\n",
    "        )\n",
    "\n",
    "    # print(status_array.data())\n",
    "    # print(flags_array.data())\n",
    "\n",
    "    write_cif(\n",
    "        f_obs=f_obs_array,\n",
    "        status_array=status_array,\n",
    "        cif_file=\"../data/cifs/{}.cif\".format(cif_name)\n",
    "    )\n"
   ]
  },
  {
   "cell_type": "code",
   "execution_count": 2,
   "metadata": {},
   "outputs": [],
   "source": [
    "pdb_file = \"../data/pdbs/native.pdb\"\n",
    "for cif_name, occs in zip([\"native_2_0_test\", \"native_2_1_test\"], [[0.75, 0.25], [0.25, 0.75]]):\n",
    "    f_obs_array = get_f_model(\n",
    "        pdb_file=pdb_file,\n",
    "        uc_dim=(42.419, 51.741, 88.639, 90.00, 90.00, 90.00),\n",
    "        sg_symbol=\"P 21 21 21\",\n",
    "        res=1.5,\n",
    "        ws=occs\n",
    "    )\n",
    "\n",
    "    f_obs_array = randomize_amplitude(\n",
    "        f_obs=f_obs_array,\n",
    "        dist=\"norm\",\n",
    "        std=0.05\n",
    "    )\n",
    "\n",
    "    flags_array = f_obs_array.generate_r_free_flags(\n",
    "        fraction=.10,\n",
    "        max_free=20000\n",
    "    )\n",
    "\n",
    "    status_array = get_status_array(\n",
    "        flags_array=flags_array\n",
    "    )\n",
    "\n",
    "    write_cif(\n",
    "        f_obs=f_obs_array,\n",
    "        status_array=status_array,\n",
    "        cif_file=\"../data/cifs/{}.cif\".format(cif_name)\n",
    "    )\n"
   ]
  },
  {
   "cell_type": "code",
   "execution_count": null,
   "metadata": {},
   "outputs": [],
   "source": []
  }
 ],
 "metadata": {
  "kernelspec": {
   "display_name": "imp_221_cctbx",
   "language": "python",
   "name": "python3"
  },
  "language_info": {
   "codemirror_mode": {
    "name": "ipython",
    "version": 3
   },
   "file_extension": ".py",
   "mimetype": "text/x-python",
   "name": "python",
   "nbconvert_exporter": "python",
   "pygments_lexer": "ipython3",
   "version": "3.12.7"
  }
 },
 "nbformat": 4,
 "nbformat_minor": 2
}
