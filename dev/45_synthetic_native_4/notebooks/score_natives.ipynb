{
 "cells": [
  {
   "cell_type": "code",
   "execution_count": 2,
   "metadata": {},
   "outputs": [],
   "source": [
    "from pathlib import Path\n",
    "import multiprocessing\n",
    "\n",
    "import pandas as pd\n",
    "import numpy as np\n",
    "\n",
    "import IMP\n",
    "import IMP.atom\n",
    "\n",
    "import sys\n",
    "sys.path.append(str(Path(Path.home(), \"Documents/xray/src\")))\n",
    "from score import pool_score\n",
    "from miller_ops import get_miller_array, clean_miller_array"
   ]
  },
  {
   "cell_type": "code",
   "execution_count": 3,
   "metadata": {},
   "outputs": [],
   "source": [
    "pdb_file = Path(\"/Users/matthew/Documents/xray/dev/45_synthetic_native_4/data/pdbs/native.pdb\")\n",
    "w_mat = np.array([[.8, .3], [.2, .7]])\n",
    "ref_w_mat = w_mat\n",
    "\n",
    "cif_files = [Path(\"/Users/matthew/Documents/xray/dev/45_synthetic_native_4/data/cifs/native_5_0.cif\"), Path(\"/Users/matthew/Documents/xray/dev/45_synthetic_native_4/data/cifs/native_5_1.cif\")]\n",
    "\n",
    "cond_names = [\"native_0\", \"native_1\"]\n"
   ]
  },
  {
   "cell_type": "code",
   "execution_count": 4,
   "metadata": {},
   "outputs": [],
   "source": [
    "natives_df = pd.DataFrame()\n",
    "\n",
    "natives_df.loc[0, \"pdb\"] = str(pdb_file)\n",
    "natives_df.loc[0, \"cif_0\"] = str(cif_files[0])\n",
    "natives_df.loc[0, \"cif_1\"] = str(cif_files[1])\n",
    "\n",
    "for i in range(2):\n",
    "    for j in range(2):\n",
    "        natives_df.loc[0, \"w_{}_{}\".format(i, j)] = w_mat[i, j]"
   ]
  },
  {
   "cell_type": "code",
   "execution_count": 5,
   "metadata": {},
   "outputs": [
    {
     "name": "stdout",
     "output_type": "stream",
     "text": [
      "SETTING UP MULTI STATE MULTI CONDITION MODEL\n",
      "/Users/matthew/Documents/xray/dev/45_synthetic_native_4/data/pdbs/native.pdb\n",
      "NO STATES:  2\n",
      "NO CONDITIONS:  2\n",
      "NO OF ATOMS PER STATE:  2464\n",
      "SETTING UP MULTI STATE MULTI CONDITION MODEL\n",
      "/Users/matthew/Documents/xray/dev/45_synthetic_native_4/data/pdbs/native.pdb\n",
      "NO STATES:  2\n",
      "NO CONDITIONS:  2\n",
      "NO OF ATOMS PER STATE:  2464\n",
      "bnd 8407.17710428151\n",
      "ang 459.9314170772075\n",
      "dih 846.704758967607\n",
      "imp 35.78119311958104\n",
      "nbd -168.06408877078033\n",
      "bnd 8466.039890660384\n",
      "ang 444.979281007014\n",
      "dih 840.1603736606829\n",
      "imp 39.59712928429298\n",
      "nbd -760.1477642534699\n",
      "{'pdb_files': \"[PosixPath('/Users/matthew/Documents/xray/dev/45_synthetic_native_4/data/pdbs/native.pdb')]\", 'r_free_0': 0.04064634598922217, 'r_work_0': 0.04255358866149392, 'cif_files': [PosixPath('/Users/matthew/Documents/xray/dev/45_synthetic_native_4/data/cifs/native_5_0.cif'), PosixPath('/Users/matthew/Documents/xray/dev/45_synthetic_native_4/data/cifs/native_5_1.cif')], 'xray_0': 3.663088122307799, 'rmsd_0': nan, 'r_free_1': 0.051664918396591326, 'r_work_1': 0.042285804052729914, 'xray_1': 3.68133035034835, 'rmsd_1': nan, 'ff': 18612.159295034027}\n"
     ]
    }
   ],
   "source": [
    "param_dict = dict()\n",
    "\n",
    "param_dict[\"decoy_files\"] = [pdb_file]\n",
    "param_dict[\"decoy_w_mat\"] = w_mat\n",
    "param_dict[\"ref_file\"] = pdb_file\n",
    "param_dict[\"ref_w_mat\"] = ref_w_mat\n",
    "param_dict[\"score_fs\"] = [\"xray_0\", \"rmsd_0\", \"xray_1\", \"rmsd_1\", \"ff\"]\n",
    "\n",
    "param_dict[\"cif_files\"] = cif_files\n",
    "param_dict[\"res\"] = 0\n",
    "param_dict[\"scale\"] = True\n",
    "param_dict[\"scale_k1\"] = True\n",
    "\n",
    "score_dict = pool_score(param_dict)\n",
    "\n",
    "print(score_dict)\n",
    "\n"
   ]
  },
  {
   "cell_type": "code",
   "execution_count": 6,
   "metadata": {},
   "outputs": [],
   "source": [
    "\n",
    "for cond in range(2):\n",
    "    cond_name = cond_names[cond]\n",
    "\n",
    "    natives_df.loc[0, \"xray_{}\".format(cond_name)] = score_dict[\"xray_{}\".format(cond)]\n",
    "    natives_df.loc[0, \"r_free_{}\".format(cond_name)] = score_dict[\"r_free_{}\".format(cond)]\n",
    "    natives_df.loc[0, \"r_work_{}\".format(cond_name)] = score_dict[\"r_work_{}\".format(cond)]\n",
    "    natives_df.loc[0, \"rmsd_{}\".format(cond_name)] = score_dict[\"rmsd_{}\".format(cond)]\n",
    "    natives_df.loc[0, \"ff\".format(cond_name)] = score_dict[\"ff\"]"
   ]
  },
  {
   "cell_type": "code",
   "execution_count": 7,
   "metadata": {},
   "outputs": [
    {
     "data": {
      "text/html": [
       "<div>\n",
       "<style scoped>\n",
       "    .dataframe tbody tr th:only-of-type {\n",
       "        vertical-align: middle;\n",
       "    }\n",
       "\n",
       "    .dataframe tbody tr th {\n",
       "        vertical-align: top;\n",
       "    }\n",
       "\n",
       "    .dataframe thead th {\n",
       "        text-align: right;\n",
       "    }\n",
       "</style>\n",
       "<table border=\"1\" class=\"dataframe\">\n",
       "  <thead>\n",
       "    <tr style=\"text-align: right;\">\n",
       "      <th></th>\n",
       "      <th>pdb</th>\n",
       "      <th>cif_0</th>\n",
       "      <th>cif_1</th>\n",
       "      <th>w_0_0</th>\n",
       "      <th>w_0_1</th>\n",
       "      <th>w_1_0</th>\n",
       "      <th>w_1_1</th>\n",
       "      <th>xray_native_0</th>\n",
       "      <th>r_free_native_0</th>\n",
       "      <th>r_work_native_0</th>\n",
       "      <th>rmsd_native_0</th>\n",
       "      <th>ff</th>\n",
       "      <th>xray_native_1</th>\n",
       "      <th>r_free_native_1</th>\n",
       "      <th>r_work_native_1</th>\n",
       "      <th>rmsd_native_1</th>\n",
       "    </tr>\n",
       "  </thead>\n",
       "  <tbody>\n",
       "    <tr>\n",
       "      <th>0</th>\n",
       "      <td>/Users/matthew/Documents/xray/dev/45_synthetic...</td>\n",
       "      <td>/Users/matthew/Documents/xray/dev/45_synthetic...</td>\n",
       "      <td>/Users/matthew/Documents/xray/dev/45_synthetic...</td>\n",
       "      <td>0.8</td>\n",
       "      <td>0.3</td>\n",
       "      <td>0.2</td>\n",
       "      <td>0.7</td>\n",
       "      <td>3.663088</td>\n",
       "      <td>0.040646</td>\n",
       "      <td>0.042554</td>\n",
       "      <td>NaN</td>\n",
       "      <td>18612.159295</td>\n",
       "      <td>3.68133</td>\n",
       "      <td>0.051665</td>\n",
       "      <td>0.042286</td>\n",
       "      <td>NaN</td>\n",
       "    </tr>\n",
       "  </tbody>\n",
       "</table>\n",
       "</div>"
      ],
      "text/plain": [
       "                                                 pdb  \\\n",
       "0  /Users/matthew/Documents/xray/dev/45_synthetic...   \n",
       "\n",
       "                                               cif_0  \\\n",
       "0  /Users/matthew/Documents/xray/dev/45_synthetic...   \n",
       "\n",
       "                                               cif_1  w_0_0  w_0_1  w_1_0  \\\n",
       "0  /Users/matthew/Documents/xray/dev/45_synthetic...    0.8    0.3    0.2   \n",
       "\n",
       "   w_1_1  xray_native_0  r_free_native_0  r_work_native_0  rmsd_native_0  \\\n",
       "0    0.7       3.663088         0.040646         0.042554            NaN   \n",
       "\n",
       "             ff  xray_native_1  r_free_native_1  r_work_native_1  \\\n",
       "0  18612.159295        3.68133         0.051665         0.042286   \n",
       "\n",
       "   rmsd_native_1  \n",
       "0            NaN  "
      ]
     },
     "execution_count": 7,
     "metadata": {},
     "output_type": "execute_result"
    }
   ],
   "source": [
    "natives_df"
   ]
  },
  {
   "cell_type": "code",
   "execution_count": 8,
   "metadata": {},
   "outputs": [],
   "source": [
    "natives_df.to_csv(\"../data/csvs/natives_5.csv\")"
   ]
  },
  {
   "cell_type": "markdown",
   "metadata": {},
   "source": []
  }
 ],
 "metadata": {
  "kernelspec": {
   "display_name": "imp_221_cctbx",
   "language": "python",
   "name": "python3"
  },
  "language_info": {
   "codemirror_mode": {
    "name": "ipython",
    "version": 3
   },
   "file_extension": ".py",
   "mimetype": "text/x-python",
   "name": "python",
   "nbconvert_exporter": "python",
   "pygments_lexer": "ipython3",
   "version": "3.12.7"
  }
 },
 "nbformat": 4,
 "nbformat_minor": 2
}
