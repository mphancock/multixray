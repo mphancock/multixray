{
 "cells": [
  {
   "cell_type": "code",
   "execution_count": 1,
   "metadata": {},
   "outputs": [],
   "source": [
    "from pathlib import Path\n",
    "\n",
    "import IMP\n",
    "import IMP.atom\n",
    "\n",
    "import sys\n",
    "sys.path.append(\"../../../src\")\n",
    "import score"
   ]
  },
  {
   "cell_type": "code",
   "execution_count": 2,
   "metadata": {},
   "outputs": [],
   "source": [
    "multi_pdb_file = Path(Path.home(), \"Documents/xray/dev/26_phenix_refine/data/2_state.pdb\")\n",
    "m = IMP.Model()\n",
    "hs = IMP.atom.read_multimodel_pdb(str(multi_pdb_file), m, IMP.atom.AllPDBSelector())"
   ]
  },
  {
   "cell_type": "code",
   "execution_count": 3,
   "metadata": {},
   "outputs": [],
   "source": [
    "for h in hs:\n",
    "    for pid in IMP.atom.Selection(h).get_selected_particles():\n",
    "        at = IMP.atom.Atom(m, pid)\n",
    "        at.set_occupancy(1.0)"
   ]
  },
  {
   "cell_type": "code",
   "execution_count": 4,
   "metadata": {},
   "outputs": [],
   "source": [
    "pdb_dir = Path(Path.home(), \"Documents/xray/dev/26_phenix_refine/data\")\n",
    "for i in range(len(hs)):\n",
    "    IMP.atom.write_pdb(hs[i], str(Path(pdb_dir, \"{}.pdb\".format(i))))"
   ]
  },
  {
   "cell_type": "code",
   "execution_count": 5,
   "metadata": {},
   "outputs": [
    {
     "name": "stdout",
     "output_type": "stream",
     "text": [
      "[PosixPath('/Users/matthew/Documents/xray/dev/26_phenix_refine/data/1.pdb'), PosixPath('/Users/matthew/Documents/xray/dev/26_phenix_refine/data/0.pdb'), PosixPath('/Users/matthew/Documents/xray/dev/26_phenix_refine/data/2_state.pdb')]\n"
     ]
    }
   ],
   "source": [
    "pdb_files = list(pdb_dir.glob(\"*.pdb\"))\n",
    "print(pdb_files)"
   ]
  },
  {
   "cell_type": "code",
   "execution_count": 8,
   "metadata": {},
   "outputs": [
    {
     "name": "stdout",
     "output_type": "stream",
     "text": [
      "CPUs: 10\n",
      "{'native': 0, 'pdb_file': '/Users/matthew/Documents/xray/dev/39_bench_ensemble/data/pdbs/7mhl/22.pdb', 'ff': 2501.5407618639438, 'r_free': 0.32063326436538536, 'r_work': 0.32134270142988985, 'r_all': 0.32130651078393313, 'cif_file': PosixPath('/Users/matthew/Documents/xray/dev/39_bench_ensemble/data/cifs/7mhl.cif'), 'ml': 5.484603426544393, 'rmsd_avg': np.float64(0.974199511582897)}\n",
      "{'native': 0, 'pdb_file': '/Users/matthew/Documents/xray/dev/39_bench_ensemble/data/pdbs/7mhl/36.pdb', 'ff': 2597.405525396007, 'r_free': 0.3078083177865486, 'r_work': 0.3140145228799325, 'r_all': 0.31368683970531125, 'cif_file': PosixPath('/Users/matthew/Documents/xray/dev/39_bench_ensemble/data/cifs/7mhl.cif'), 'ml': 5.471199291402695, 'rmsd_avg': np.float64(0.8271010605874232)}\n",
      "{'native': 0, 'pdb_file': '/Users/matthew/Documents/xray/dev/39_bench_ensemble/data/pdbs/7mhl/37.pdb', 'ff': 2764.2377916162504, 'r_free': 0.3097274084455173, 'r_work': 0.31738479230739797, 'r_all': 0.31701850327967274, 'cif_file': PosixPath('/Users/matthew/Documents/xray/dev/39_bench_ensemble/data/cifs/7mhl.cif'), 'ml': 5.475063497638138, 'rmsd_avg': np.float64(0.6891703948953775)}\n",
      "{'native': 0, 'pdb_file': '/Users/matthew/Documents/xray/dev/39_bench_ensemble/data/pdbs/7mhl/23.pdb', 'ff': 2489.346635449601, 'r_free': 0.3201489419274298, 'r_work': 0.3224284244378416, 'r_all': 0.32232977830227516, 'cif_file': PosixPath('/Users/matthew/Documents/xray/dev/39_bench_ensemble/data/cifs/7mhl.cif'), 'ml': 5.494690500366871, 'rmsd_avg': np.float64(0.7297652869975492)}\n",
      "{'native': 0, 'pdb_file': '/Users/matthew/Documents/xray/dev/39_bench_ensemble/data/pdbs/7mhl/35.pdb', 'ff': 2631.9454903794904, 'r_free': 0.3178205254800589, 'r_work': 0.3166863814489206, 'r_all': 0.31676243441549107, 'cif_file': PosixPath('/Users/matthew/Documents/xray/dev/39_bench_ensemble/data/cifs/7mhl.cif'), 'ml': 5.4744142468411345, 'rmsd_avg': np.float64(0.6811971013703579)}\n",
      "{'native': 0, 'pdb_file': '/Users/matthew/Documents/xray/dev/39_bench_ensemble/data/pdbs/7mhl/21.pdb', 'ff': 2720.0696476571084, 'r_free': 0.3269630375857587, 'r_work': 0.32413972259793766, 'r_all': 0.32425873370075964, 'cif_file': PosixPath('/Users/matthew/Documents/xray/dev/39_bench_ensemble/data/cifs/7mhl.cif'), 'ml': 5.494533573366725, 'rmsd_avg': np.float64(0.9016096212399625)}\n",
      "{'native': 0, 'pdb_file': '/Users/matthew/Documents/xray/dev/39_bench_ensemble/data/pdbs/7mhl/20.pdb', 'ff': 2826.323732449562, 'r_free': 0.3210726496050452, 'r_work': 0.3314606743432913, 'r_all': 0.33089820418164756, 'cif_file': PosixPath('/Users/matthew/Documents/xray/dev/39_bench_ensemble/data/cifs/7mhl.cif'), 'ml': 5.5134066820920715, 'rmsd_avg': np.float64(0.9775509058370256)}\n",
      "{'native': 0, 'pdb_file': '/Users/matthew/Documents/xray/dev/39_bench_ensemble/data/pdbs/7mhl/34.pdb', 'ff': 4615.438271446204, 'r_free': 0.29298762214391166, 'r_work': 0.30861504945565227, 'r_all': 0.307815255719226, 'cif_file': PosixPath('/Users/matthew/Documents/xray/dev/39_bench_ensemble/data/cifs/7mhl.cif'), 'ml': 5.455841640399102, 'rmsd_avg': np.float64(0.794779172049172)}\n",
      "{'native': 0, 'pdb_file': '/Users/matthew/Documents/xray/dev/39_bench_ensemble/data/pdbs/7mhl/30.pdb', 'ff': 2250.2277758636847, 'r_free': 0.31093115483189904, 'r_work': 0.3117193951187185, 'r_all': 0.3116823836680684, 'cif_file': PosixPath('/Users/matthew/Documents/xray/dev/39_bench_ensemble/data/cifs/7mhl.cif'), 'ml': 5.464364353142009, 'rmsd_avg': np.float64(0.9502424073412257)}\n",
      "{'native': 0, 'pdb_file': '/Users/matthew/Documents/xray/dev/39_bench_ensemble/data/pdbs/7mhl/24.pdb', 'ff': 2938.864578789121, 'r_free': 0.3217160912007553, 'r_work': 0.32679288154791586, 'r_all': 0.3265237615841736, 'cif_file': PosixPath('/Users/matthew/Documents/xray/dev/39_bench_ensemble/data/cifs/7mhl.cif'), 'ml': 5.506677505164588, 'rmsd_avg': np.float64(0.7644522362298459)}\n",
      "{'native': 0, 'pdb_file': '/Users/matthew/Documents/xray/dev/39_bench_ensemble/data/pdbs/7mhl/18.pdb', 'ff': 2939.165720159451, 'r_free': 0.33332010415360297, 'r_work': 0.32273510005125167, 'r_all': 0.3232239512608784, 'cif_file': PosixPath('/Users/matthew/Documents/xray/dev/39_bench_ensemble/data/cifs/7mhl.cif'), 'ml': 5.491444297952654, 'rmsd_avg': np.float64(0.8883644437885607)}\n",
      "{'native': 0, 'pdb_file': '/Users/matthew/Documents/xray/dev/39_bench_ensemble/data/pdbs/7mhl/19.pdb', 'ff': 2845.7601777087075, 'r_free': 0.3240827185411358, 'r_work': 0.323560085173842, 'r_all': 0.32357958558681815, 'cif_file': PosixPath('/Users/matthew/Documents/xray/dev/39_bench_ensemble/data/cifs/7mhl.cif'), 'ml': 5.49515090984823, 'rmsd_avg': np.float64(0.821235467806871)}\n",
      "{'native': 0, 'pdb_file': '/Users/matthew/Documents/xray/dev/39_bench_ensemble/data/pdbs/7mhl/25.pdb', 'ff': 2820.3068034592, 'r_free': 0.29937006446142905, 'r_work': 0.3217424001485873, 'r_all': 0.3206056719468509, 'cif_file': PosixPath('/Users/matthew/Documents/xray/dev/39_bench_ensemble/data/cifs/7mhl.cif'), 'ml': 5.490698107960281, 'rmsd_avg': np.float64(0.8203400036742072)}\n",
      "{'native': 0, 'pdb_file': '/Users/matthew/Documents/xray/dev/39_bench_ensemble/data/pdbs/7mhl/31.pdb', 'ff': 2970.195740266325, 'r_free': 0.31373385314757474, 'r_work': 0.3151102300864836, 'r_all': 0.3150634488563198, 'cif_file': PosixPath('/Users/matthew/Documents/xray/dev/39_bench_ensemble/data/cifs/7mhl.cif'), 'ml': 5.469970964017634, 'rmsd_avg': np.float64(0.9042641764180631)}\n",
      "{'native': 0, 'pdb_file': '/Users/matthew/Documents/xray/dev/39_bench_ensemble/data/pdbs/7mhl/27.pdb', 'ff': 2177.3319931115293, 'r_free': 0.31499153090581045, 'r_work': 0.3142345229029132, 'r_all': 0.31429250882540205, 'cif_file': PosixPath('/Users/matthew/Documents/xray/dev/39_bench_ensemble/data/cifs/7mhl.cif'), 'ml': 5.474018066509815, 'rmsd_avg': np.float64(0.6619347908073807)}\n",
      "{'native': 0, 'pdb_file': '/Users/matthew/Documents/xray/dev/39_bench_ensemble/data/pdbs/7mhl/33.pdb', 'ff': 3431.2054152474757, 'r_free': 0.3041214385169944, 'r_work': 0.312165230849317, 'r_all': 0.31176211375685475, 'cif_file': PosixPath('/Users/matthew/Documents/xray/dev/39_bench_ensemble/data/cifs/7mhl.cif'), 'ml': 5.465974687282707, 'rmsd_avg': np.float64(0.8852262521947375)}\n",
      "{'native': 0, 'pdb_file': '/Users/matthew/Documents/xray/dev/39_bench_ensemble/data/pdbs/7mhl/32.pdb', 'ff': 2514.633196975497, 'r_free': 0.3153632560712465, 'r_work': 0.3141551460417203, 'r_all': 0.31419868107738913, 'cif_file': PosixPath('/Users/matthew/Documents/xray/dev/39_bench_ensemble/data/cifs/7mhl.cif'), 'ml': 5.471249968186262, 'rmsd_avg': np.float64(0.8609684311701106)}\n",
      "{'native': 0, 'pdb_file': '/Users/matthew/Documents/xray/dev/39_bench_ensemble/data/pdbs/7mhl/26.pdb', 'ff': 2726.133077530215, 'r_free': 0.3207074414735598, 'r_work': 0.3162083705944338, 'r_all': 0.3164360737114892, 'cif_file': PosixPath('/Users/matthew/Documents/xray/dev/39_bench_ensemble/data/cifs/7mhl.cif'), 'ml': 5.479166832091963, 'rmsd_avg': np.float64(0.6474127968583853)}\n",
      "{'native': 0, 'pdb_file': '/Users/matthew/Documents/xray/dev/39_bench_ensemble/data/pdbs/7mhl/41.pdb', 'ff': 1855.6542002625724, 'r_free': 0.29995973208116317, 'r_work': 0.3103710744385367, 'r_all': 0.3098165664398669, 'cif_file': PosixPath('/Users/matthew/Documents/xray/dev/39_bench_ensemble/data/cifs/7mhl.cif'), 'ml': 5.4623557668375895, 'rmsd_avg': np.float64(0.7386234334668073)}\n",
      "{'native': 0, 'pdb_file': '/Users/matthew/Documents/xray/dev/39_bench_ensemble/data/pdbs/7mhl/7.pdb', 'ff': 2783.166879209771, 'r_free': 0.3116251507386705, 'r_work': 0.3221881302027557, 'r_all': 0.3216478162606137, 'cif_file': PosixPath('/Users/matthew/Documents/xray/dev/39_bench_ensemble/data/cifs/7mhl.cif'), 'ml': 5.489546332008093, 'rmsd_avg': np.float64(0.8705909886730939)}\n",
      "{'native': 0, 'pdb_file': '/Users/matthew/Documents/xray/dev/39_bench_ensemble/data/pdbs/7mhl/6.pdb', 'ff': 3955.189393653588, 'r_free': 0.31218214038673237, 'r_work': 0.31378598328326807, 'r_all': 0.31369491261796745, 'cif_file': PosixPath('/Users/matthew/Documents/xray/dev/39_bench_ensemble/data/cifs/7mhl.cif'), 'ml': 5.472371312871916, 'rmsd_avg': np.float64(0.8201790582845966)}\n",
      "{'native': 0, 'pdb_file': '/Users/matthew/Documents/xray/dev/39_bench_ensemble/data/pdbs/7mhl/40.pdb', 'ff': 2253.536395393044, 'r_free': 0.3106639810742499, 'r_work': 0.3186241029684627, 'r_all': 0.3182178666322994, 'cif_file': PosixPath('/Users/matthew/Documents/xray/dev/39_bench_ensemble/data/cifs/7mhl.cif'), 'ml': 5.478215545321818, 'rmsd_avg': np.float64(0.7610721544801192)}\n",
      "{'native': 0, 'pdb_file': '/Users/matthew/Documents/xray/dev/39_bench_ensemble/data/pdbs/7mhl/4.pdb', 'ff': 2377.605735647564, 'r_free': 0.31636313490643786, 'r_work': 0.31754089850194084, 'r_all': 0.317467639750936, 'cif_file': PosixPath('/Users/matthew/Documents/xray/dev/39_bench_ensemble/data/cifs/7mhl.cif'), 'ml': 5.491704253611146, 'rmsd_avg': np.float64(0.7582382685522373)}\n",
      "{'native': 0, 'pdb_file': '/Users/matthew/Documents/xray/dev/39_bench_ensemble/data/pdbs/7mhl/42.pdb', 'ff': 2826.566521535111, 'r_free': 0.302005756635333, 'r_work': 0.30964748979669976, 'r_all': 0.3092572884764291, 'cif_file': PosixPath('/Users/matthew/Documents/xray/dev/39_bench_ensemble/data/cifs/7mhl.cif'), 'ml': 5.456245270932296, 'rmsd_avg': np.float64(0.7297718139359396)}\n",
      "{'native': 0, 'pdb_file': '/Users/matthew/Documents/xray/dev/39_bench_ensemble/data/pdbs/7mhl/43.pdb', 'ff': 1868.4255915472654, 'r_free': 0.3144761006658522, 'r_work': 0.3095428274123974, 'r_all': 0.30981278563256004, 'cif_file': PosixPath('/Users/matthew/Documents/xray/dev/39_bench_ensemble/data/cifs/7mhl.cif'), 'ml': 5.463834878710716, 'rmsd_avg': np.float64(0.6734957840331347)}\n",
      "{'native': 0, 'pdb_file': '/Users/matthew/Documents/xray/dev/39_bench_ensemble/data/pdbs/7mhl/5.pdb', 'ff': 2787.2194855750827, 'r_free': 0.3044625704411141, 'r_work': 0.31416378349108554, 'r_all': 0.31366615098913997, 'cif_file': PosixPath('/Users/matthew/Documents/xray/dev/39_bench_ensemble/data/cifs/7mhl.cif'), 'ml': 5.474699006167815, 'rmsd_avg': np.float64(0.7887744114104414)}\n",
      "{'native': 0, 'pdb_file': '/Users/matthew/Documents/xray/dev/39_bench_ensemble/data/pdbs/7mhl/53.pdb', 'ff': 2445.4776641212143, 'r_free': 0.3104265743129188, 'r_work': 0.309620067356819, 'r_all': 0.30966668351968485, 'cif_file': PosixPath('/Users/matthew/Documents/xray/dev/39_bench_ensemble/data/cifs/7mhl.cif'), 'ml': 5.46043127290265, 'rmsd_avg': np.float64(0.7084827320321543)}\n",
      "{'native': 0, 'pdb_file': '/Users/matthew/Documents/xray/dev/39_bench_ensemble/data/pdbs/7mhl/1.pdb', 'ff': 2324.2659427518715, 'r_free': 0.30598131432498815, 'r_work': 0.30718483346324005, 'r_all': 0.3071323584040117, 'cif_file': PosixPath('/Users/matthew/Documents/xray/dev/39_bench_ensemble/data/cifs/7mhl.cif'), 'ml': 5.451155479476426, 'rmsd_avg': np.float64(0.7813996360273204)}\n",
      "{'native': 0, 'pdb_file': '/Users/matthew/Documents/xray/dev/39_bench_ensemble/data/pdbs/7mhl/47.pdb', 'ff': 3180.1728815309807, 'r_free': 0.3140816683203017, 'r_work': 0.31293628917355526, 'r_all': 0.3130044899741142, 'cif_file': PosixPath('/Users/matthew/Documents/xray/dev/39_bench_ensemble/data/cifs/7mhl.cif'), 'ml': 5.47649365311403, 'rmsd_avg': np.float64(0.7766814818951767)}\n",
      "{'native': 0, 'pdb_file': '/Users/matthew/Documents/xray/dev/39_bench_ensemble/data/pdbs/7mhl/46.pdb', 'ff': 2191.915917236868, 'r_free': 0.32622983588145316, 'r_work': 0.32785542730079337, 'r_all': 0.3277893848567637, 'cif_file': PosixPath('/Users/matthew/Documents/xray/dev/39_bench_ensemble/data/cifs/7mhl.cif'), 'ml': 5.511353055203186, 'rmsd_avg': np.float64(0.8764151497788898)}\n",
      "{'native': 0, 'pdb_file': '/Users/matthew/Documents/xray/dev/39_bench_ensemble/data/pdbs/7mhl/52.pdb', 'ff': 2084.974128750704, 'r_free': 0.3200682927517824, 'r_work': 0.3158523350877911, 'r_all': 0.3160725755012702, 'cif_file': PosixPath('/Users/matthew/Documents/xray/dev/39_bench_ensemble/data/cifs/7mhl.cif'), 'ml': 5.477737211153092, 'rmsd_avg': np.float64(0.7923756182054782)}\n",
      "{'native': 0, 'pdb_file': '/Users/matthew/Documents/xray/dev/39_bench_ensemble/data/pdbs/7mhl/0.pdb', 'ff': 1974.3556347147028, 'r_free': 0.30290950028081953, 'r_work': 0.3163042366057801, 'r_all': 0.31562359442870896, 'cif_file': PosixPath('/Users/matthew/Documents/xray/dev/39_bench_ensemble/data/cifs/7mhl.cif'), 'ml': 5.472756978785169, 'rmsd_avg': np.float64(0.947264576008222)}\n",
      "{'native': 0, 'pdb_file': '/Users/matthew/Documents/xray/dev/39_bench_ensemble/data/pdbs/7mhl/44.pdb', 'ff': 2737.574691550531, 'r_free': 0.310372028055755, 'r_work': 0.3151516148995203, 'r_all': 0.3149150245717595, 'cif_file': PosixPath('/Users/matthew/Documents/xray/dev/39_bench_ensemble/data/cifs/7mhl.cif'), 'ml': 5.477193809214405, 'rmsd_avg': np.float64(0.7106881977475158)}\n",
      "{'native': 0, 'pdb_file': '/Users/matthew/Documents/xray/dev/39_bench_ensemble/data/pdbs/7mhl/2.pdb', 'ff': 2022.0902951068642, 'r_free': 0.31666598084351827, 'r_work': 0.31324248974203495, 'r_all': 0.3134115176564742, 'cif_file': PosixPath('/Users/matthew/Documents/xray/dev/39_bench_ensemble/data/cifs/7mhl.cif'), 'ml': 5.4710932934500205, 'rmsd_avg': np.float64(0.7989521912103363)}\n",
      "{'native': 0, 'pdb_file': '/Users/matthew/Documents/xray/dev/39_bench_ensemble/data/pdbs/7mhl/50.pdb', 'ff': 2026.6652765566278, 'r_free': 0.31310986056227263, 'r_work': 0.31749295784964865, 'r_all': 0.317267558984762, 'cif_file': PosixPath('/Users/matthew/Documents/xray/dev/39_bench_ensemble/data/cifs/7mhl.cif'), 'ml': 5.4795687888615605, 'rmsd_avg': np.float64(0.6268810507029775)}\n",
      "{'native': 0, 'pdb_file': '/Users/matthew/Documents/xray/dev/39_bench_ensemble/data/pdbs/7mhl/3.pdb', 'ff': 2405.8220399457336, 'r_free': 0.3213655544302341, 'r_work': 0.3111650452510473, 'r_all': 0.3116836733503774, 'cif_file': PosixPath('/Users/matthew/Documents/xray/dev/39_bench_ensemble/data/cifs/7mhl.cif'), 'ml': 5.470846062593501, 'rmsd_avg': np.float64(0.729418695908534)}\n",
      "{'native': 0, 'pdb_file': '/Users/matthew/Documents/xray/dev/39_bench_ensemble/data/pdbs/7mhl/51.pdb', 'ff': 2944.814697148806, 'r_free': 0.3209177083976244, 'r_work': 0.3223503296538989, 'r_all': 0.32227836650185243, 'cif_file': PosixPath('/Users/matthew/Documents/xray/dev/39_bench_ensemble/data/cifs/7mhl.cif'), 'ml': 5.493334040994146, 'rmsd_avg': np.float64(0.6291338505636944)}\n",
      "{'native': 0, 'pdb_file': '/Users/matthew/Documents/xray/dev/39_bench_ensemble/data/pdbs/7mhl/45.pdb', 'ff': 2378.0030312879458, 'r_free': 0.31903132934274436, 'r_work': 0.32898348654569787, 'r_all': 0.3284804693431108, 'cif_file': PosixPath('/Users/matthew/Documents/xray/dev/39_bench_ensemble/data/cifs/7mhl.cif'), 'ml': 5.514639742178021, 'rmsd_avg': np.float64(0.8856907811496598)}\n",
      "{'native': 0, 'pdb_file': '/Users/matthew/Documents/xray/dev/39_bench_ensemble/data/pdbs/7mhl/48.pdb', 'ff': 2970.9207799379305, 'r_free': 0.30253009918293783, 'r_work': 0.3047144923286197, 'r_all': 0.3045831156206263, 'cif_file': PosixPath('/Users/matthew/Documents/xray/dev/39_bench_ensemble/data/cifs/7mhl.cif'), 'ml': 5.444675190828169, 'rmsd_avg': np.float64(0.7048571027016242)}\n",
      "{'native': 0, 'pdb_file': '/Users/matthew/Documents/xray/dev/39_bench_ensemble/data/pdbs/7mhl/49.pdb', 'ff': 2217.6144759073727, 'r_free': 0.31306129886586465, 'r_work': 0.31550800526354633, 'r_all': 0.3153817897176095, 'cif_file': PosixPath('/Users/matthew/Documents/xray/dev/39_bench_ensemble/data/cifs/7mhl.cif'), 'ml': 5.4788938281656305, 'rmsd_avg': np.float64(0.6342592255418196)}\n",
      "{'native': 0, 'pdb_file': '/Users/matthew/Documents/xray/dev/39_bench_ensemble/data/pdbs/7mhl/8.pdb', 'ff': 2261.8674581236983, 'r_free': 0.3065182321270931, 'r_work': 0.3210400280143939, 'r_all': 0.32030445111442, 'cif_file': PosixPath('/Users/matthew/Documents/xray/dev/39_bench_ensemble/data/cifs/7mhl.cif'), 'ml': 5.489532368927972, 'rmsd_avg': np.float64(0.8149413768781072)}\n",
      "{'native': 0, 'pdb_file': '/Users/matthew/Documents/xray/dev/39_bench_ensemble/data/pdbs/7mhl/9.pdb', 'ff': 2360.4941390925023, 'r_free': 0.30683753676021286, 'r_work': 0.3117602706260848, 'r_all': 0.31149346527473704, 'cif_file': PosixPath('/Users/matthew/Documents/xray/dev/39_bench_ensemble/data/cifs/7mhl.cif'), 'ml': 5.460837840421575, 'rmsd_avg': np.float64(0.7041145723670582)}\n",
      "{'native': 0, 'pdb_file': '/Users/matthew/Documents/xray/dev/39_bench_ensemble/data/pdbs/7mhl/17.pdb', 'ff': 2352.421159549331, 'r_free': 0.3263341338708481, 'r_work': 0.3355330503557033, 'r_all': 0.33501524919707454, 'cif_file': PosixPath('/Users/matthew/Documents/xray/dev/39_bench_ensemble/data/cifs/7mhl.cif'), 'ml': 5.525489425181331, 'rmsd_avg': np.float64(1.0869038513630618)}\n",
      "{'native': 0, 'pdb_file': '/Users/matthew/Documents/xray/dev/39_bench_ensemble/data/pdbs/7mhl/16.pdb', 'ff': 2805.809224281282, 'r_free': 0.3321378696472591, 'r_work': 0.32819366568167097, 'r_all': 0.32828109773977665, 'cif_file': PosixPath('/Users/matthew/Documents/xray/dev/39_bench_ensemble/data/cifs/7mhl.cif'), 'ml': 5.505723692368819, 'rmsd_avg': np.float64(1.0496824686416508)}\n",
      "{'native': 0, 'pdb_file': '/Users/matthew/Documents/xray/dev/39_bench_ensemble/data/pdbs/7mhl/28.pdb', 'ff': 2376.9431493411453, 'r_free': 0.3250869050520509, 'r_work': 0.33048686946067213, 'r_all': 0.3302126593491467, 'cif_file': PosixPath('/Users/matthew/Documents/xray/dev/39_bench_ensemble/data/cifs/7mhl.cif'), 'ml': 5.518969534453049, 'rmsd_avg': np.float64(0.8792965468604512)}\n",
      "{'native': 0, 'pdb_file': '/Users/matthew/Documents/xray/dev/39_bench_ensemble/data/pdbs/7mhl/14.pdb', 'ff': 2779.574912896112, 'r_free': 0.3165728711948233, 'r_work': 0.3225411609119851, 'r_all': 0.32223697186736355, 'cif_file': PosixPath('/Users/matthew/Documents/xray/dev/39_bench_ensemble/data/cifs/7mhl.cif'), 'ml': 5.490360112327797, 'rmsd_avg': np.float64(0.8929938877228897)}\n",
      "{'native': 0, 'pdb_file': '/Users/matthew/Documents/xray/dev/39_bench_ensemble/data/pdbs/7mhl/15.pdb', 'ff': 2802.1298240674087, 'r_free': 0.3188625270014832, 'r_work': 0.3178804532482462, 'r_all': 0.3179372112124761, 'cif_file': PosixPath('/Users/matthew/Documents/xray/dev/39_bench_ensemble/data/cifs/7mhl.cif'), 'ml': 5.478080362139925, 'rmsd_avg': np.float64(1.0268553425902578)}\n",
      "{'native': 0, 'pdb_file': '/Users/matthew/Documents/xray/dev/39_bench_ensemble/data/pdbs/7mhl/29.pdb', 'ff': 2118.604071773137, 'r_free': 0.3060152679001515, 'r_work': 0.3137909134298965, 'r_all': 0.31339458148610244, 'cif_file': PosixPath('/Users/matthew/Documents/xray/dev/39_bench_ensemble/data/cifs/7mhl.cif'), 'ml': 5.4774348124946, 'rmsd_avg': np.float64(0.8920678300734763)}\n",
      "{'native': 0, 'pdb_file': '/Users/matthew/Documents/xray/dev/39_bench_ensemble/data/pdbs/7mhl/11.pdb', 'ff': 1872.2472790436932, 'r_free': 0.3228955901712913, 'r_work': 0.31866298977725077, 'r_all': 0.3189031577257047, 'cif_file': PosixPath('/Users/matthew/Documents/xray/dev/39_bench_ensemble/data/cifs/7mhl.cif'), 'ml': 5.48756697163776, 'rmsd_avg': np.float64(0.9286882336603182)}\n",
      "{'native': 0, 'pdb_file': '/Users/matthew/Documents/xray/dev/39_bench_ensemble/data/pdbs/7mhl/39.pdb', 'ff': 2571.020862020242, 'r_free': 0.3134052853598963, 'r_work': 0.3230032955773915, 'r_all': 0.322514017279913, 'cif_file': PosixPath('/Users/matthew/Documents/xray/dev/39_bench_ensemble/data/cifs/7mhl.cif'), 'ml': 5.491652230382242, 'rmsd_avg': np.float64(0.7876599744290972)}\n",
      "{'native': 0, 'pdb_file': '/Users/matthew/Documents/xray/dev/39_bench_ensemble/data/pdbs/7mhl/38.pdb', 'ff': 2058.801891390905, 'r_free': 0.3168750930511212, 'r_work': 0.31821631034436954, 'r_all': 0.31814570588013463, 'cif_file': PosixPath('/Users/matthew/Documents/xray/dev/39_bench_ensemble/data/cifs/7mhl.cif'), 'ml': 5.477578687156746, 'rmsd_avg': np.float64(0.6886794273850053)}\n",
      "{'native': 0, 'pdb_file': '/Users/matthew/Documents/xray/dev/39_bench_ensemble/data/pdbs/7mhl/10.pdb', 'ff': 2316.8141281035732, 'r_free': 0.317395529801527, 'r_work': 0.31893061628467695, 'r_all': 0.3188423457180743, 'cif_file': PosixPath('/Users/matthew/Documents/xray/dev/39_bench_ensemble/data/cifs/7mhl.cif'), 'ml': 5.4835276898052525, 'rmsd_avg': np.float64(0.8732454823203928)}\n",
      "{'native': 0, 'pdb_file': '/Users/matthew/Documents/xray/dev/39_bench_ensemble/data/pdbs/7mhl/12.pdb', 'ff': 2627.0190118796386, 'r_free': 0.3284803513171218, 'r_work': 0.3295933205991114, 'r_all': 0.3295609069970403, 'cif_file': PosixPath('/Users/matthew/Documents/xray/dev/39_bench_ensemble/data/cifs/7mhl.cif'), 'ml': 5.5177292503654884, 'rmsd_avg': np.float64(0.9267578155596383)}\n",
      "{'native': 0, 'pdb_file': '/Users/matthew/Documents/xray/dev/39_bench_ensemble/data/pdbs/7mhl/13.pdb', 'ff': 2866.3397622672283, 'r_free': 0.32302098059739776, 'r_work': 0.3209065226040781, 'r_all': 0.32100370363482145, 'cif_file': PosixPath('/Users/matthew/Documents/xray/dev/39_bench_ensemble/data/cifs/7mhl.cif'), 'ml': 5.487515120303256, 'rmsd_avg': np.float64(0.9290412850863258)}\n"
     ]
    }
   ],
   "source": [
    "native_pdb_file = Path(Path.home(), \"Documents/xray/dev/39_bench_ensemble/data/pdbs/7mhl.pdb\")\n",
    "native_cif_file = Path(Path.home(), \"Documents/xray/dev/39_bench_ensemble/data/cifs/7mhl.cif\")\n",
    "flags_file = native_cif_file\n",
    "score_file = Path(Path.home(), \"Documents/xray/dev/39_bench_ensemble/data/7mhl_scores.csv\")\n",
    "score.score(pdb_files=pdb_files, native_pdb_file=native_pdb_file, native_cif_file=native_cif_file, flags_file=flags_file, min_res=0, score_fs=[\"ff\", \"ml\", \"rmsd_avg\"], scores_file=score_file)"
   ]
  },
  {
   "cell_type": "code",
   "execution_count": null,
   "metadata": {},
   "outputs": [],
   "source": []
  }
 ],
 "metadata": {
  "kernelspec": {
   "display_name": "imp_221_cctbx",
   "language": "python",
   "name": "python3"
  },
  "language_info": {
   "codemirror_mode": {
    "name": "ipython",
    "version": 3
   },
   "file_extension": ".py",
   "mimetype": "text/x-python",
   "name": "python",
   "nbconvert_exporter": "python",
   "pygments_lexer": "ipython3",
   "version": "3.12.5"
  }
 },
 "nbformat": 4,
 "nbformat_minor": 2
}
