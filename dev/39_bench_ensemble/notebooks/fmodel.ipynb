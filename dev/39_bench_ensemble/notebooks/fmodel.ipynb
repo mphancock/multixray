{
 "cells": [
  {
   "cell_type": "code",
   "execution_count": 1,
   "metadata": {},
   "outputs": [],
   "source": [
    "from pathlib import Path\n",
    "\n",
    "import IMP\n",
    "import IMP.atom\n",
    "\n",
    "import sys\n",
    "sys.path.append(str(Path(Path.home(), \"Documents/xray/data/cifs/scripts\")))\n",
    "from generate_fmodel import get_f_model, get_status_array, write_cif\n"
   ]
  },
  {
   "cell_type": "code",
   "execution_count": 11,
   "metadata": {},
   "outputs": [],
   "source": [
    "pdb_file = Path(Path.home(), \"Documents/xray/data/pdbs/7mhf/7mhm.pdb\")\n",
    "sel = IMP.atom.AndPDBSelector(IMP.atom.NonWaterNonHydrogenPDBSelector(), IMP.atom.ATOMPDBSelector())\n",
    "m = IMP.Model()\n",
    "hs = IMP.atom.read_multimodel_pdb(str(pdb_file), m, sel)\n",
    "\n",
    "for h in hs:\n",
    "    for pid in IMP.atom.Selection(h).get_selected_particle_indexes():\n",
    "        IMP.atom.Atom(m, pid).set_temperature_factor(15)"
   ]
  },
  {
   "cell_type": "code",
   "execution_count": 12,
   "metadata": {},
   "outputs": [],
   "source": [
    "model_pdb_file = Path(Path.home(), \"Documents/xray/dev/39_bench_ensemble/data/pdbs/7mhm.pdb\")\n",
    "IMP.atom.write_multimodel_pdb(hs, str(model_pdb_file))"
   ]
  },
  {
   "cell_type": "code",
   "execution_count": 14,
   "metadata": {},
   "outputs": [],
   "source": [
    "pdb_file = Path(Path.home(), \"Documents/xray/dev/39_bench_ensemble/data/pdbs/7mhm.pdb\")\n",
    "m = IMP.Model()\n",
    "hs = IMP.atom.read_multimodel_pdb(str(pdb_file), m, IMP.atom.AllPDBSelector())"
   ]
  },
  {
   "cell_type": "code",
   "execution_count": 15,
   "metadata": {},
   "outputs": [
    {
     "name": "stdout",
     "output_type": "stream",
     "text": [
      "1.500001807483421\n",
      "<scitbx_array_family_flex_ext.std_string object at 0x187f1aa70>\n",
      "<scitbx_array_family_flex_ext.bool object at 0x1882ec040>\n"
     ]
    }
   ],
   "source": [
    "model_cif_file = Path(Path.home(), \"Documents/xray/dev/39_bench_ensemble/data/cifs/7mhm.cif\")\n",
    "occs = [1/len(hs)]\n",
    "\n",
    "f_obs_array = get_f_model(\n",
    "    pdb_file=model_pdb_file,\n",
    "    uc_dim=(114.968, 54.622, 45.194, 90.000, 101.675, 90.000),\n",
    "    sg_symbol=\"C 1 2 1\",\n",
    "    res=1.5,\n",
    "    ws=occs\n",
    ")\n",
    "f_obs_array.d_min()\n",
    "\n",
    "# flags_array = f_obs_array.generate_r_free_flags(\n",
    "#     fraction=.05,\n",
    "#     max_free=20000\n",
    "# )\n",
    "\n",
    "status_array = get_status_array(\n",
    "    flags_array=flags_array\n",
    ")\n",
    "\n",
    "print(status_array.data())\n",
    "print(flags_array.data())\n",
    "\n",
    "write_cif(\n",
    "    f_obs=f_obs_array,\n",
    "    status_array=status_array,\n",
    "    cif_file=model_cif_file\n",
    ")\n"
   ]
  },
  {
   "cell_type": "code",
   "execution_count": null,
   "metadata": {},
   "outputs": [],
   "source": []
  }
 ],
 "metadata": {
  "kernelspec": {
   "display_name": "imp_220_cctbx",
   "language": "python",
   "name": "python3"
  },
  "language_info": {
   "codemirror_mode": {
    "name": "ipython",
    "version": 3
   },
   "file_extension": ".py",
   "mimetype": "text/x-python",
   "name": "python",
   "nbconvert_exporter": "python",
   "pygments_lexer": "ipython3",
   "version": "3.11.8"
  }
 },
 "nbformat": 4,
 "nbformat_minor": 2
}
