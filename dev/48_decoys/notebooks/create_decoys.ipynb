{
 "cells": [
  {
   "cell_type": "code",
   "execution_count": 2,
   "metadata": {},
   "outputs": [],
   "source": [
    "from pathlib import Path\n",
    "import random\n",
    "import pandas as pd\n",
    "\n",
    "import IMP\n",
    "import IMP.atom\n",
    "\n",
    "import sys\n",
    "sys.path.append(\"../../../src\")\n",
    "from weights import get_random_w_mat"
   ]
  },
  {
   "cell_type": "markdown",
   "metadata": {},
   "source": [
    "#### incorrect minor or major conformation"
   ]
  },
  {
   "cell_type": "code",
   "execution_count": 9,
   "metadata": {},
   "outputs": [],
   "source": [
    "native_0 = Path(\"/wynton/home/sali/mhancock/xray/dev/45_synthetic_native_4/data/pdbs/native_0.pdb\")\n",
    "native_1 = Path(\"/wynton/home/sali/mhancock/xray/dev/45_synthetic_native_4/data/pdbs/native_1.pdb\")"
   ]
  },
  {
   "cell_type": "code",
   "execution_count": 10,
   "metadata": {},
   "outputs": [
    {
     "data": {
      "text/html": [
       "<div>\n",
       "<style scoped>\n",
       "    .dataframe tbody tr th:only-of-type {\n",
       "        vertical-align: middle;\n",
       "    }\n",
       "\n",
       "    .dataframe tbody tr th {\n",
       "        vertical-align: top;\n",
       "    }\n",
       "\n",
       "    .dataframe thead th {\n",
       "        text-align: right;\n",
       "    }\n",
       "</style>\n",
       "<table border=\"1\" class=\"dataframe\">\n",
       "  <thead>\n",
       "    <tr style=\"text-align: right;\">\n",
       "      <th></th>\n",
       "      <th>pdb</th>\n",
       "      <th>ff</th>\n",
       "      <th>rmsd</th>\n",
       "      <th>w_0_0</th>\n",
       "    </tr>\n",
       "  </thead>\n",
       "  <tbody>\n",
       "    <tr>\n",
       "      <th>0</th>\n",
       "      <td>/wynton/group/sali/mhancock/xray/sample_bench/...</td>\n",
       "      <td>2383.119589</td>\n",
       "      <td>0.071744</td>\n",
       "      <td>1.0</td>\n",
       "    </tr>\n",
       "    <tr>\n",
       "      <th>1</th>\n",
       "      <td>/wynton/group/sali/mhancock/xray/sample_bench/...</td>\n",
       "      <td>653.215513</td>\n",
       "      <td>0.143783</td>\n",
       "      <td>1.0</td>\n",
       "    </tr>\n",
       "    <tr>\n",
       "      <th>2</th>\n",
       "      <td>/wynton/group/sali/mhancock/xray/sample_bench/...</td>\n",
       "      <td>442.669839</td>\n",
       "      <td>0.181037</td>\n",
       "      <td>1.0</td>\n",
       "    </tr>\n",
       "    <tr>\n",
       "      <th>3</th>\n",
       "      <td>/wynton/group/sali/mhancock/xray/sample_bench/...</td>\n",
       "      <td>424.997480</td>\n",
       "      <td>0.117468</td>\n",
       "      <td>1.0</td>\n",
       "    </tr>\n",
       "    <tr>\n",
       "      <th>4</th>\n",
       "      <td>/wynton/group/sali/mhancock/xray/sample_bench/...</td>\n",
       "      <td>435.583240</td>\n",
       "      <td>0.181531</td>\n",
       "      <td>1.0</td>\n",
       "    </tr>\n",
       "  </tbody>\n",
       "</table>\n",
       "</div>"
      ],
      "text/plain": [
       "                                                 pdb           ff      rmsd  \\\n",
       "0  /wynton/group/sali/mhancock/xray/sample_bench/...  2383.119589  0.071744   \n",
       "1  /wynton/group/sali/mhancock/xray/sample_bench/...   653.215513  0.143783   \n",
       "2  /wynton/group/sali/mhancock/xray/sample_bench/...   442.669839  0.181037   \n",
       "3  /wynton/group/sali/mhancock/xray/sample_bench/...   424.997480  0.117468   \n",
       "4  /wynton/group/sali/mhancock/xray/sample_bench/...   435.583240  0.181531   \n",
       "\n",
       "   w_0_0  \n",
       "0    1.0  \n",
       "1    1.0  \n",
       "2    1.0  \n",
       "3    1.0  \n",
       "4    1.0  "
      ]
     },
     "execution_count": 10,
     "metadata": {},
     "output_type": "execute_result"
    }
   ],
   "source": [
    "decoy_df = pd.read_csv(Path(Path.home(), \"Documents/xray/score_bench/data/268_decoys_1_state/rand1000.csv\"), index_col=0)\n",
    "decoy_df.head()"
   ]
  },
  {
   "cell_type": "code",
   "execution_count": 11,
   "metadata": {},
   "outputs": [
    {
     "data": {
      "text/html": [
       "<div>\n",
       "<style scoped>\n",
       "    .dataframe tbody tr th:only-of-type {\n",
       "        vertical-align: middle;\n",
       "    }\n",
       "\n",
       "    .dataframe tbody tr th {\n",
       "        vertical-align: top;\n",
       "    }\n",
       "\n",
       "    .dataframe thead th {\n",
       "        text-align: right;\n",
       "    }\n",
       "</style>\n",
       "<table border=\"1\" class=\"dataframe\">\n",
       "  <thead>\n",
       "    <tr style=\"text-align: right;\">\n",
       "      <th></th>\n",
       "      <th>pdb</th>\n",
       "      <th>ff</th>\n",
       "      <th>rmsd</th>\n",
       "      <th>w_0_0</th>\n",
       "      <th>w_1_0</th>\n",
       "    </tr>\n",
       "  </thead>\n",
       "  <tbody>\n",
       "    <tr>\n",
       "      <th>0</th>\n",
       "      <td>/wynton/group/sali/mhancock/xray/sample_bench/...</td>\n",
       "      <td>2383.119589</td>\n",
       "      <td>0.071744</td>\n",
       "      <td>0.9</td>\n",
       "      <td>0.1</td>\n",
       "    </tr>\n",
       "    <tr>\n",
       "      <th>1</th>\n",
       "      <td>/wynton/group/sali/mhancock/xray/sample_bench/...</td>\n",
       "      <td>653.215513</td>\n",
       "      <td>0.143783</td>\n",
       "      <td>0.9</td>\n",
       "      <td>0.1</td>\n",
       "    </tr>\n",
       "    <tr>\n",
       "      <th>2</th>\n",
       "      <td>/wynton/group/sali/mhancock/xray/sample_bench/...</td>\n",
       "      <td>442.669839</td>\n",
       "      <td>0.181037</td>\n",
       "      <td>0.9</td>\n",
       "      <td>0.1</td>\n",
       "    </tr>\n",
       "    <tr>\n",
       "      <th>3</th>\n",
       "      <td>/wynton/group/sali/mhancock/xray/sample_bench/...</td>\n",
       "      <td>424.997480</td>\n",
       "      <td>0.117468</td>\n",
       "      <td>0.9</td>\n",
       "      <td>0.1</td>\n",
       "    </tr>\n",
       "    <tr>\n",
       "      <th>4</th>\n",
       "      <td>/wynton/group/sali/mhancock/xray/sample_bench/...</td>\n",
       "      <td>435.583240</td>\n",
       "      <td>0.181531</td>\n",
       "      <td>0.9</td>\n",
       "      <td>0.1</td>\n",
       "    </tr>\n",
       "  </tbody>\n",
       "</table>\n",
       "</div>"
      ],
      "text/plain": [
       "                                                 pdb           ff      rmsd  \\\n",
       "0  /wynton/group/sali/mhancock/xray/sample_bench/...  2383.119589  0.071744   \n",
       "1  /wynton/group/sali/mhancock/xray/sample_bench/...   653.215513  0.143783   \n",
       "2  /wynton/group/sali/mhancock/xray/sample_bench/...   442.669839  0.181037   \n",
       "3  /wynton/group/sali/mhancock/xray/sample_bench/...   424.997480  0.117468   \n",
       "4  /wynton/group/sali/mhancock/xray/sample_bench/...   435.583240  0.181531   \n",
       "\n",
       "   w_0_0  w_1_0  \n",
       "0    0.9    0.1  \n",
       "1    0.9    0.1  \n",
       "2    0.9    0.1  \n",
       "3    0.9    0.1  \n",
       "4    0.9    0.1  "
      ]
     },
     "execution_count": 11,
     "metadata": {},
     "output_type": "execute_result"
    }
   ],
   "source": [
    "for i in range(len(decoy_df)):\n",
    "    # new_pdb = str(native_0) + \",\" + str(decoy_df.loc[i,\"pdb\"])\n",
    "    new_pdb = str(decoy_df.loc[i,\"pdb\"]) + \",\" + str(native_1)\n",
    "    decoy_df.loc[i,\"pdb\"] = new_pdb\n",
    "\n",
    "    decoy_df.loc[i, \"w_0_0\"] = 0.9\n",
    "    decoy_df.loc[i, \"w_1_0\"] = 0.1\n",
    "\n",
    "decoy_df.head()"
   ]
  },
  {
   "cell_type": "code",
   "execution_count": 12,
   "metadata": {},
   "outputs": [],
   "source": [
    "new_decoy_file = Path(Path.home(), \"Documents/xray/score_bench/data/268_decoys_1_state/rand1000_major.csv\")\n",
    "decoy_df.to_csv(new_decoy_file)"
   ]
  },
  {
   "cell_type": "markdown",
   "metadata": {},
   "source": [
    "#### correct structure with wrong weights"
   ]
  },
  {
   "cell_type": "code",
   "execution_count": 46,
   "metadata": {},
   "outputs": [],
   "source": [
    "decoy_df = pd.read_csv(\"../data/csvs/decoys.csv\", index_col=0)\n",
    "decoy_df[\"pdb\"] = \"/wynton/home/sali/mhancock/xray/dev/45_synthetic_native_4/data/pdbs/native.pdb\"\n",
    "decoy_df.to_csv(\"../data/csvs/decoys_w.csv\")"
   ]
  },
  {
   "cell_type": "markdown",
   "metadata": {},
   "source": [
    "#### wrong structure with correct weights"
   ]
  },
  {
   "cell_type": "code",
   "execution_count": 47,
   "metadata": {},
   "outputs": [],
   "source": [
    "decoy_df = pd.read_csv(\"../data/csvs/decoys.csv\", index_col=0)\n",
    "decoy_df[\"w_0_0\"] = .9\n",
    "decoy_df[\"w_0_1\"] = .1\n",
    "decoy_df[\"w_1_0\"] = .1\n",
    "decoy_df[\"w_1_1\"] = .9\n",
    "decoy_df.to_csv(\"../data/csvs/decoys_c.csv\")"
   ]
  },
  {
   "cell_type": "code",
   "execution_count": null,
   "metadata": {},
   "outputs": [],
   "source": []
  }
 ],
 "metadata": {
  "kernelspec": {
   "display_name": "imp_221_cctbx",
   "language": "python",
   "name": "python3"
  },
  "language_info": {
   "codemirror_mode": {
    "name": "ipython",
    "version": 3
   },
   "file_extension": ".py",
   "mimetype": "text/x-python",
   "name": "python",
   "nbconvert_exporter": "python",
   "pygments_lexer": "ipython3",
   "version": "3.12.7"
  }
 },
 "nbformat": 4,
 "nbformat_minor": 2
}
