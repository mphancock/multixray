{
 "cells": [
  {
   "cell_type": "code",
   "execution_count": 26,
   "metadata": {},
   "outputs": [],
   "source": [
    "from pathlib import Path\n",
    "import random\n",
    "import pandas as pd\n",
    "\n",
    "import IMP\n",
    "import IMP.atom\n",
    "\n",
    "import sys\n",
    "sys.path.append(\"../../../src\")\n",
    "from weights import get_random_w_mat"
   ]
  },
  {
   "cell_type": "code",
   "execution_count": 39,
   "metadata": {},
   "outputs": [],
   "source": [
    "pdb_file = Path(Path.home(), \"Documents/xray/dev/43_phenix_ensemble_refinement/data/pdbs/3k0m.pdb\")\n",
    "\n",
    "n_decoys = 1000\n",
    "\n",
    "m = IMP.Model()\n",
    "hs = IMP.atom.read_multimodel_pdb(str(pdb_file), m, IMP.atom.ATOMPDBSelector())"
   ]
  },
  {
   "cell_type": "code",
   "execution_count": 40,
   "metadata": {},
   "outputs": [],
   "source": [
    "for h in hs:\n",
    "    for pid in IMP.atom.Selection(h).get_selected_particles():\n",
    "        at = IMP.atom.Atom(m, pid)\n",
    "        at.set_temperature_factor(15)"
   ]
  },
  {
   "cell_type": "code",
   "execution_count": 41,
   "metadata": {},
   "outputs": [],
   "source": [
    "for i in range(n_decoys):\n",
    "    hs_native = random.sample(hs, 2)\n",
    "    IMP.atom.write_multimodel_pdb(hs_native, \"../data/pdbs/{}.pdb\".format(i))"
   ]
  },
  {
   "cell_type": "code",
   "execution_count": 43,
   "metadata": {},
   "outputs": [],
   "source": [
    "decoy_df = pd.DataFrame()\n",
    "for i in range(n_decoys):\n",
    "    w_mat = get_random_w_mat(2,2)\n",
    "\n",
    "    decoy_df.loc[i, \"pdb\"] = \"/wynton/home/sali/mhancock/xray/dev/48_decoys/data/pdbs/{}.pdb\".format(i)\n",
    "\n",
    "    for state in range(2):\n",
    "        for cond in range(2):\n",
    "            decoy_df.loc[i, \"w_{}_{}\".format(state, cond)] = w_mat[state, cond]\n",
    "\n"
   ]
  },
  {
   "cell_type": "code",
   "execution_count": 44,
   "metadata": {},
   "outputs": [],
   "source": [
    "decoy_df.to_csv(\"../data/csvs/decoys.csv\")"
   ]
  },
  {
   "cell_type": "markdown",
   "metadata": {},
   "source": [
    "#### correct structure with wrong weights"
   ]
  },
  {
   "cell_type": "code",
   "execution_count": 46,
   "metadata": {},
   "outputs": [],
   "source": [
    "decoy_df = pd.read_csv(\"../data/csvs/decoys.csv\", index_col=0)\n",
    "decoy_df[\"pdb\"] = \"/wynton/home/sali/mhancock/xray/dev/45_synthetic_native_4/data/pdbs/native.pdb\"\n",
    "decoy_df.to_csv(\"../data/csvs/decoys_w.csv\")"
   ]
  },
  {
   "cell_type": "markdown",
   "metadata": {},
   "source": [
    "#### wrong structure with correct weights"
   ]
  },
  {
   "cell_type": "code",
   "execution_count": 47,
   "metadata": {},
   "outputs": [],
   "source": [
    "decoy_df = pd.read_csv(\"../data/csvs/decoys.csv\", index_col=0)\n",
    "decoy_df[\"w_0_0\"] = .9\n",
    "decoy_df[\"w_0_1\"] = .1\n",
    "decoy_df[\"w_1_0\"] = .1\n",
    "decoy_df[\"w_1_1\"] = .9\n",
    "decoy_df.to_csv(\"../data/csvs/decoys_c.csv\")"
   ]
  },
  {
   "cell_type": "code",
   "execution_count": null,
   "metadata": {},
   "outputs": [],
   "source": []
  }
 ],
 "metadata": {
  "kernelspec": {
   "display_name": "imp_221_cctbx",
   "language": "python",
   "name": "python3"
  },
  "language_info": {
   "codemirror_mode": {
    "name": "ipython",
    "version": 3
   },
   "file_extension": ".py",
   "mimetype": "text/x-python",
   "name": "python",
   "nbconvert_exporter": "python",
   "pygments_lexer": "ipython3",
   "version": "3.12.7"
  }
 },
 "nbformat": 4,
 "nbformat_minor": 2
}
