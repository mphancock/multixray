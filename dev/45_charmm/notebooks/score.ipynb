{
 "cells": [
  {
   "cell_type": "code",
   "execution_count": 1,
   "metadata": {},
   "outputs": [],
   "source": [
    "import sys\n",
    "from pathlib import Path\n",
    "import IMP\n",
    "import IMP.atom\n",
    "import IMP.core\n",
    "import IMP.algebra\n",
    "\n",
    "sys.path.append(str(Path(Path.home(), \"Documents/xray/src\")))\n",
    "import align_imp\n",
    "import miller_ops\n",
    "import cctbx_score\n",
    "import update_weights_optimizer_state\n",
    "from derivatives import get_df_mag_ratio\n",
    "\n"
   ]
  },
  {
   "cell_type": "code",
   "execution_count": 2,
   "metadata": {},
   "outputs": [
    {
     "name": "stdout",
     "output_type": "stream",
     "text": [
      "begin read_pdb:\n",
      "  WARNING  Could not determine CHARMM atom type for atom \"HE2\" in residue #41 \"HIS\"\n",
      "  WARNING  Could not determine CHARMM atom type for atom \"H1\" in residue #1 \"SER\"\n",
      "end read_pdb\n",
      "WARNING  Could not determine CHARMM atom type for atom \"H1\" in residue #1 \"SER\"\n",
      "WARNING  Could not determine CHARMM atom type for atom \"HE2\" in residue #41 \"HIS\"\n"
     ]
    }
   ],
   "source": [
    "m = IMP.Model()\n",
    "pdb_file = Path(\"../data/min.pdb\")\n",
    "\n",
    "h = IMP.atom.read_pdb(str(pdb_file), m, IMP.atom.AllPDBSelector())\n",
    "\n",
    "params_file = Path(\"/Users/matthew/opt/anaconda3/envs/imp_221_cctbx/share/IMP/atom/par.lib\")\n",
    "topology_file = Path(\"/Users/matthew/opt/anaconda3/envs/imp_221_cctbx/share/IMP/atom/top.lib\")\n",
    "\n",
    "# ff = IMP.atom.CHARMMParameters(str(topology_file), str(params_file), True)\n",
    "# topology = ff.create_topology(h)\n",
    "\n",
    "ff = IMP.atom.get_all_atom_CHARMM_parameters()\n",
    "topology = ff.create_topology(h)\n",
    "\n",
    "topology.apply_default_patches()\n",
    "topology.add_atom_types(h)"
   ]
  },
  {
   "cell_type": "code",
   "execution_count": 3,
   "metadata": {},
   "outputs": [
    {
     "name": "stdout",
     "output_type": "stream",
     "text": [
      "WARNING  Could not determine CHARMM atom type for atom \"H1\" in residue #1 \"SER\"\n",
      "WARNING  Could not determine CHARMM atom type for atom \"HE2\" in residue #41 \"HIS\"\n"
     ]
    }
   ],
   "source": [
    "\n",
    "rs = list()\n",
    "\n",
    "# Configure the IMP model based on the CHARMM parameterization.\n",
    "# ff = IMP.atom.get_heavy_atom_CHARMM_parameters()\n",
    "# pids = IMP.atom.Selection(h).get_selected_particle_indexes()\n",
    "# print(len(pids))\n",
    "\n",
    "ff = IMP.atom.get_all_atom_CHARMM_parameters()\n",
    "topology = ff.create_topology(h)\n",
    "\n",
    "## Why is this not fixing the NTER?\n",
    "topology.apply_default_patches()\n",
    "# topology.setup_hierarchy(h)\n",
    "topology.add_atom_types(h)\n",
    "# topology.add_missing_atoms(h)\n",
    "IMP.atom.remove_charmm_untyped_atoms(h)\n",
    "# topology.add_coordinates(h)\n",
    "\n",
    "## setup charges first\n",
    "charges = topology.add_charges(h)\n",
    "bonds = topology.add_bonds(h)\n",
    "angles = ff.create_angles(bonds)\n",
    "dihedrals = ff.create_dihedrals(bonds)\n",
    "impropers = topology.add_impropers(h)\n",
    "\n",
    "\n",
    "# Add a restraint on the bond lengths.\n",
    "cont = IMP.container.ListSingletonContainer(m, bonds, \"bnd\")\n",
    "bss = IMP.atom.BondSingletonScore(IMP.core.Harmonic(0, 1))\n",
    "r = IMP.container.SingletonsRestraint(bss, cont, \"bnd\")\n",
    "rs.append(r)\n",
    "\n",
    "# Add a restraint on the bond angles.\n",
    "cont = IMP.container.ListSingletonContainer(m, angles, \"ang\")\n",
    "bss = IMP.atom.AngleSingletonScore(IMP.core.Harmonic(0, 1))\n",
    "r = IMP.container.SingletonsRestraint(bss, cont, \"ang\")\n",
    "rs.append(r)\n",
    "\n",
    "# Add a restraint on the dihedral angles.\n",
    "cont = IMP.container.ListSingletonContainer(m, dihedrals, \"dih\")\n",
    "bss = IMP.atom.DihedralSingletonScore()\n",
    "r = IMP.container.SingletonsRestraint(bss, cont, \"dih\")\n",
    "rs.append(r)\n",
    "\n",
    "# Add a restraint on the improper dihedrals (out of plane bending).\n",
    "cont = IMP.container.ListSingletonContainer(m, impropers, \"imp\")\n",
    "bss = IMP.atom.ImproperSingletonScore(IMP.core.Harmonic(0, 1))\n",
    "rs.append(IMP.container.SingletonsRestraint(bss, cont, \"imp\"))\n",
    "\n",
    "slack = 0\n",
    "\n",
    "# Add a restraint on the non-bonded atoms (Lennard-Jones potential).\n",
    "ff.add_radii(h)\n",
    "ff.add_well_depths(h)\n",
    "atoms = IMP.atom.get_by_type(h, IMP.atom.ATOM_TYPE)\n",
    "cont = IMP.container.ListSingletonContainer(m, atoms)\n",
    "nbl = IMP.container.ClosePairContainer(cont, 3, slack)\n",
    "pair_filter = IMP.atom.StereochemistryPairFilter()\n",
    "pair_filter.set_bonds(bonds)\n",
    "pair_filter.set_angles(angles)\n",
    "pair_filter.set_dihedrals(dihedrals)\n",
    "nbl.add_pair_filter(pair_filter)\n",
    "sf = IMP.atom.ForceSwitch(6.0, 7.0)\n",
    "ljps = IMP.atom.LennardJonesPairScore(sf)\n",
    "rs.append(IMP.container.PairsRestraint(ljps, nbl, \"nbd\"))\n",
    "\n",
    "sf = IMP.atom.ForceSwitch(6.0, 7.0)\n",
    "cps = IMP.atom.CoulombPairScore(sf)\n",
    "r_cps = IMP.container.PairsRestraint(cps, nbl, \"eps\")\n",
    "rs.append(r_cps)\n",
    "\n"
   ]
  },
  {
   "cell_type": "code",
   "execution_count": 4,
   "metadata": {},
   "outputs": [
    {
     "data": {
      "text/plain": [
       "4676"
      ]
     },
     "execution_count": 4,
     "metadata": {},
     "output_type": "execute_result"
    }
   ],
   "source": [
    "len(IMP.atom.Selection(h).get_selected_particles())"
   ]
  },
  {
   "cell_type": "code",
   "execution_count": 5,
   "metadata": {},
   "outputs": [
    {
     "name": "stdout",
     "output_type": "stream",
     "text": [
      "bnd 2724.6113690630013\n",
      "(9.98588, 32.4927, 0.0936071)\n",
      "ang 5695.057894411382\n",
      "(-30.5089, -6.64435, 9.90928)\n",
      "dih 3045.728167265135\n",
      "(-0.227656, 0.291682, -0.132957)\n",
      "imp 821.9909569939557\n",
      "(0.339304, -0.936844, 0.353992)\n",
      "nbd -137.48119565089058\n",
      "(-0.0482962, -0.114117, -0.136245)\n",
      "eps -36558.01656073348\n",
      "(-6.26, -13.1761, -2.72634)\n",
      "(-6.26, -13.1761, -2.72634)\n"
     ]
    }
   ],
   "source": [
    "pid = IMP.atom.Selection(h).get_selected_particle_indexes()[0]\n",
    "\n",
    "for r in rs:\n",
    "    print(r.get_name(), r.evaluate(True))\n",
    "    print(IMP.core.XYZ(m, pid).get_derivatives())\n",
    "\n",
    "print(IMP.core.XYZ(m, pid).get_derivatives())"
   ]
  },
  {
   "cell_type": "code",
   "execution_count": 6,
   "metadata": {},
   "outputs": [
    {
     "data": {
      "text/plain": [
       "158002"
      ]
     },
     "execution_count": 6,
     "metadata": {},
     "output_type": "execute_result"
    }
   ],
   "source": [
    "len(nbl.get_indexes())"
   ]
  },
  {
   "cell_type": "code",
   "execution_count": 7,
   "metadata": {},
   "outputs": [
    {
     "data": {
      "text/plain": [
       "-11.801929102029675"
      ]
     },
     "execution_count": 7,
     "metadata": {},
     "output_type": "execute_result"
    }
   ],
   "source": [
    "index = nbl.get_indexes()[0]\n",
    "cps.evaluate_index(m, index, None)\n"
   ]
  },
  {
   "cell_type": "code",
   "execution_count": 8,
   "metadata": {},
   "outputs": [],
   "source": [
    "scores = list()\n",
    "for index in nbl.get_indexes():\n",
    "    at_1 = IMP.atom.Atom(m, index[0])\n",
    "    at_2 = IMP.atom.Atom(m, index[1])\n",
    "    scores.append(cps.evaluate_index(m, index, None))\n",
    "    # print(at_1.get_name(), at_2.get_name(), cps.evaluate_index(m, index, None))"
   ]
  },
  {
   "cell_type": "code",
   "execution_count": 9,
   "metadata": {},
   "outputs": [
    {
     "data": {
      "text/plain": [
       "-36558.016560733355"
      ]
     },
     "execution_count": 9,
     "metadata": {},
     "output_type": "execute_result"
    }
   ],
   "source": [
    "sum(scores)"
   ]
  },
  {
   "cell_type": "code",
   "execution_count": 10,
   "metadata": {},
   "outputs": [
    {
     "data": {
      "image/png": "[encoded data removed]",
      "text/plain": [
       "<Figure size 640x480 with 1 Axes>"
      ]
     },
     "metadata": {},
     "output_type": "display_data"
    }
   ],
   "source": [
    "import matplotlib.pyplot as plt\n",
    "plt.hist(scores, bins=100)\n",
    "plt.show()"
   ]
  },
  {
   "cell_type": "code",
   "execution_count": 11,
   "metadata": {},
   "outputs": [],
   "source": [
    "pids = IMP.atom.Selection(h).get_selected_particles()\n",
    "ps = [m.get_particle(pid) for pid in pids]\n",
    "for pid in pids:\n",
    "    IMP.core.XYZ(m, pid).set_coordinates_are_optimized(True)\n",
    "    IMP.atom.LinearVelocity.setup_particle(m, pid, IMP.algebra.Vector3D(0, 0, 0))"
   ]
  },
  {
   "cell_type": "code",
   "execution_count": 12,
   "metadata": {},
   "outputs": [
    {
     "data": {
      "text/plain": [
       "-24408.109368650898"
      ]
     },
     "execution_count": 12,
     "metadata": {},
     "output_type": "execute_result"
    }
   ],
   "source": [
    "sf = IMP.core.RestraintsScoringFunction(rs)\n",
    "\n",
    "sf.evaluate(True)"
   ]
  },
  {
   "cell_type": "code",
   "execution_count": 13,
   "metadata": {},
   "outputs": [
    {
     "data": {
      "text/plain": [
       "(-26.7196, 11.913, 7.36134)"
      ]
     },
     "execution_count": 13,
     "metadata": {},
     "output_type": "execute_result"
    }
   ],
   "source": [
    "pid = IMP.atom.Selection(h).get_selected_particle_indexes()[0]\n",
    "IMP.core.XYZ(m, pid).get_derivatives()"
   ]
  },
  {
   "cell_type": "code",
   "execution_count": 14,
   "metadata": {},
   "outputs": [
    {
     "data": {
      "text/plain": [
       "-26821.514134977795"
      ]
     },
     "execution_count": 14,
     "metadata": {},
     "output_type": "execute_result"
    }
   ],
   "source": [
    "# vel_therm = IMP.atom.BerendsenThermostatOptimizerState(ps, 300, 10)\n",
    "\n",
    "md = IMP.atom.MolecularDynamics(m)\n",
    "\n",
    "md.set_scoring_function(sf)\n",
    "md.set_has_required_score_states(True)\n",
    "\n",
    "md.setup(ps)\n",
    "md.set_temperature(300)\n",
    "md.set_maximum_time_step(1.0)\n",
    "md.assign_velocities(300)\n",
    "\n",
    "# md.add_optimizer_state(vel_therm)\n",
    "\n",
    "md.simulate(100)\n"
   ]
  },
  {
   "cell_type": "code",
   "execution_count": 16,
   "metadata": {},
   "outputs": [
    {
     "data": {
      "text/plain": [
       "106"
      ]
     },
     "execution_count": 16,
     "metadata": {},
     "output_type": "execute_result"
    }
   ],
   "source": [
    "nbl.get_number_of_full_rebuilds()"
   ]
  },
  {
   "cell_type": "code",
   "execution_count": 29,
   "metadata": {},
   "outputs": [
    {
     "data": {
      "text/plain": [
       "4677"
      ]
     },
     "execution_count": 29,
     "metadata": {},
     "output_type": "execute_result"
    }
   ],
   "source": [
    "len(rs[5].get_inputs())"
   ]
  },
  {
   "cell_type": "code",
   "execution_count": 15,
   "metadata": {},
   "outputs": [],
   "source": [
    "IMP.atom.write_pdb(h, \"out.pdb\")"
   ]
  },
  {
   "cell_type": "code",
   "execution_count": 19,
   "metadata": {},
   "outputs": [
    {
     "data": {
      "text/plain": [
       "844.6338378894095"
      ]
     },
     "execution_count": 19,
     "metadata": {},
     "output_type": "execute_result"
    }
   ],
   "source": [
    "md.get_kinetic_temperature(md.get_kinetic_energy())"
   ]
  },
  {
   "cell_type": "code",
   "execution_count": 17,
   "metadata": {},
   "outputs": [
    {
     "data": {
      "text/plain": [
       "-24360.991366962917"
      ]
     },
     "execution_count": 17,
     "metadata": {},
     "output_type": "execute_result"
    }
   ],
   "source": [
    "sf.evaluate(True)"
   ]
  },
  {
   "cell_type": "code",
   "execution_count": 21,
   "metadata": {},
   "outputs": [
    {
     "name": "stdout",
     "output_type": "stream",
     "text": [
      "bnd 3833.6207037921504\n",
      "(-62.0353, -15.5349, 46.314)\n",
      "ang 7203.091052917933\n",
      "(-28.6124, -16.552, -6.97472)\n",
      "dih 3245.9049404781063\n",
      "(0.337703, -0.829978, 0.321741)\n",
      "imp 912.4762811023978\n",
      "(-0.62114, 2.26847, 0.970481)\n",
      "nbd -291.58412977297724\n",
      "(-0.126579, -0.151027, -0.208164)\n",
      "eps -39264.500215480526\n",
      "(12.9226, -15.1253, 7.76144)\n",
      "(12.9226, -15.1253, 7.76144)\n"
     ]
    }
   ],
   "source": [
    "pid = IMP.atom.Selection(h).get_selected_particle_indexes()[0]\n",
    "\n",
    "for r in rs:\n",
    "    print(r.get_name(), r.evaluate(True))\n",
    "    print(IMP.core.XYZ(m, pid).get_derivatives())\n",
    "\n",
    "print(IMP.core.XYZ(m, pid).get_derivatives())"
   ]
  },
  {
   "cell_type": "code",
   "execution_count": null,
   "metadata": {},
   "outputs": [],
   "source": []
  }
 ],
 "metadata": {
  "kernelspec": {
   "display_name": "imp_221_cctbx",
   "language": "python",
   "name": "python3"
  },
  "language_info": {
   "codemirror_mode": {
    "name": "ipython",
    "version": 3
   },
   "file_extension": ".py",
   "mimetype": "text/x-python",
   "name": "python",
   "nbconvert_exporter": "python",
   "pygments_lexer": "ipython3",
   "version": "3.12.5"
  }
 },
 "nbformat": 4,
 "nbformat_minor": 2
}
