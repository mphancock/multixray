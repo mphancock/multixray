{
 "cells": [
  {
   "cell_type": "code",
   "execution_count": 1,
   "metadata": {},
   "outputs": [],
   "source": [
    "import sys\n",
    "from pathlib import Path\n",
    "import IMP\n",
    "import IMP.atom\n",
    "\n",
    "import IMP\n",
    "import IMP.core\n",
    "import IMP.algebra\n"
   ]
  },
  {
   "cell_type": "code",
   "execution_count": 2,
   "metadata": {},
   "outputs": [
    {
     "name": "stdout",
     "output_type": "stream",
     "text": [
      "begin read_pdb:\n",
      "  WARNING  Could not determine CHARMM atom type for atom \"HET: O  \" in residue #659 \"HOH\"\n",
      "  WARNING  Could not determine CHARMM atom type for atom \"H1\" in residue #1 \"SER\"\n",
      "  WARNING  Could not determine CHARMM atom type for atom \"HE2\" in residue #41 \"HIS\"\n",
      "  WARNING  Could not determine CHARMM atom type for atom \"HET: S  \" in residue #401 \"DMS\"\n",
      "  WARNING  Could not determine CHARMM atom type for atom \"HET: O  \" in residue #401 \"DMS\"\n",
      "  WARNING  Could not determine CHARMM atom type for atom \"HET: C1 \" in residue #401 \"DMS\"\n",
      "  WARNING  Could not determine CHARMM atom type for atom \"HET: C2 \" in residue #401 \"DMS\"\n",
      "  WARNING  Could not determine CHARMM atom type for atom \"HET: H11\" in residue #401 \"DMS\"\n",
      "  WARNING  Could not determine CHARMM atom type for atom \"HET: H12\" in residue #401 \"DMS\"\n",
      "  WARNING  Could not determine CHARMM atom type for atom \"HET: H13\" in residue #401 \"DMS\"\n",
      "  WARNING  Could not determine CHARMM atom type for atom \"HET: H21\" in residue #401 \"DMS\"\n",
      "  WARNING  Could not determine CHARMM atom type for atom \"HET: H22\" in residue #401 \"DMS\"\n",
      "  WARNING  Could not determine CHARMM atom type for atom \"HET: H23\" in residue #401 \"DMS\"\n",
      "  WARNING  Could not determine CHARMM atom type for atom \"HET:ZN  \" in residue #406 \"ZN\"\n",
      "end read_pdb\n",
      "WARNING  Could not determine CHARMM atom type for atom \"HE2\" in residue #41 \"HIS\"\n",
      "WARNING  Could not determine CHARMM atom type for atom \"HET: S  \" in residue #401 \"DMS\"\n",
      "WARNING  Could not determine CHARMM atom type for atom \"HET: O  \" in residue #401 \"DMS\"\n",
      "WARNING  Could not determine CHARMM atom type for atom \"HET: C1 \" in residue #401 \"DMS\"\n",
      "WARNING  Could not determine CHARMM atom type for atom \"HET: C2 \" in residue #401 \"DMS\"\n",
      "WARNING  Could not determine CHARMM atom type for atom \"HET: H11\" in residue #401 \"DMS\"\n",
      "WARNING  Could not determine CHARMM atom type for atom \"HET: H12\" in residue #401 \"DMS\"\n",
      "WARNING  Could not determine CHARMM atom type for atom \"HET: H13\" in residue #401 \"DMS\"\n",
      "WARNING  Could not determine CHARMM atom type for atom \"HET: H21\" in residue #401 \"DMS\"\n",
      "WARNING  Could not determine CHARMM atom type for atom \"HET: H22\" in residue #401 \"DMS\"\n",
      "WARNING  Could not determine CHARMM atom type for atom \"HET: H23\" in residue #401 \"DMS\"\n",
      "WARNING  Could not determine CHARMM atom type for atom \"HET:ZN  \" in residue #406 \"ZN\"\n",
      "WARNING  Could not determine CHARMM atom type for atom \"HET: O  \" in residue #501 \"HOH\"\n",
      "WARNING  Could not determine CHARMM atom type for atom \"H1\" in residue #1 \"SER\"\n"
     ]
    }
   ],
   "source": [
    "m = IMP.Model()\n",
    "pdb_file = Path(Path.home(), \"Documents/xray/data/pdbs/7mhf/7mhf.pdb\")\n",
    "\n",
    "h = IMP.atom.read_pdb(str(pdb_file), m, IMP.atom.NonAlternativePDBSelector())\n",
    "\n",
    "params_file = Path(\"/Users/matthew/opt/anaconda3/envs/imp_221_cctbx/share/IMP/atom/par.lib\")\n",
    "topology_file = Path(\"/Users/matthew/opt/anaconda3/envs/imp_221_cctbx/share/IMP/atom/top.lib\")\n",
    "\n",
    "# ff = IMP.atom.CHARMMParameters(str(topology_file), str(params_file), True)\n",
    "# topology = ff.create_topology(h)\n",
    "\n",
    "ff = IMP.atom.get_all_atom_CHARMM_parameters()\n",
    "topology = ff.create_topology(h)\n",
    "\n",
    "topology.apply_default_patches()\n",
    "topology.add_atom_types(h)"
   ]
  },
  {
   "cell_type": "code",
   "execution_count": 3,
   "metadata": {},
   "outputs": [],
   "source": [
    "rs = list()\n",
    "# topology.add_missing_atoms(h)\n",
    "bonds = topology.add_bonds(h)\n",
    "angles = ff.create_angles(bonds)\n",
    "dihedrals = ff.create_dihedrals(bonds)\n",
    "impropers = topology.add_impropers(h)\n",
    "# charges = topology.add_charges(h)\n",
    "\n",
    "# Add a restraint on the bond lengths.\n",
    "cont = IMP.container.ListSingletonContainer(m, bonds, \"bnd\")\n",
    "bss = IMP.atom.BondSingletonScore(IMP.core.Harmonic(0, 1))\n",
    "r = IMP.container.SingletonsRestraint(bss, cont, \"bnd\")\n",
    "rs.append(r)\n",
    "\n",
    "# Add a restraint on the bond angles.\n",
    "cont = IMP.container.ListSingletonContainer(m, angles, \"ang\")\n",
    "bss = IMP.atom.AngleSingletonScore(IMP.core.Harmonic(0, 1))\n",
    "r = IMP.container.SingletonsRestraint(bss, cont, \"ang\")\n",
    "rs.append(r)\n",
    "\n",
    "# Add a restraint on the dihedral angles.\n",
    "cont = IMP.container.ListSingletonContainer(m, dihedrals, \"dih\")\n",
    "bss = IMP.atom.DihedralSingletonScore()\n",
    "r = IMP.container.SingletonsRestraint(bss, cont, \"dih\")\n",
    "rs.append(r)\n",
    "\n",
    "# Add a restraint on the improper dihedrals (out of plane bending).\n",
    "cont = IMP.container.ListSingletonContainer(m, impropers, \"imp\")\n",
    "bss = IMP.atom.ImproperSingletonScore(IMP.core.Harmonic(0, 1))\n",
    "rs.append(IMP.container.SingletonsRestraint(bss, cont, \"imp\"))\n",
    "\n",
    "# Add a restraint on the non-bonded atoms (Lennard-Jones potential).\n",
    "ff.add_radii(h)\n",
    "ff.add_well_depths(h)\n",
    "atoms = IMP.atom.get_by_type(h, IMP.atom.ATOM_TYPE)\n",
    "cont = IMP.container.ListSingletonContainer(m, atoms)\n",
    "nbl = IMP.container.ClosePairContainer(cont, 5, 1)\n",
    "\n",
    "pair_filter = IMP.atom.StereochemistryPairFilter()\n",
    "pair_filter.set_bonds(bonds)\n",
    "pair_filter.set_angles(angles)\n",
    "pair_filter.set_dihedrals(dihedrals)\n",
    "nbl.add_pair_filter(pair_filter)\n",
    "sf = IMP.atom.ForceSwitch(6.0, 7.0)\n",
    "ljps = IMP.atom.LennardJonesPairScore(sf)\n",
    "rs.append(IMP.container.PairsRestraint(ljps, nbl, \"nbd\"))\n"
   ]
  },
  {
   "cell_type": "code",
   "execution_count": 4,
   "metadata": {},
   "outputs": [
    {
     "data": {
      "text/plain": [
       "23220885.915432308"
      ]
     },
     "execution_count": 4,
     "metadata": {},
     "output_type": "execute_result"
    }
   ],
   "source": [
    "rs[-1].evaluate(False)"
   ]
  },
  {
   "cell_type": "code",
   "execution_count": 5,
   "metadata": {},
   "outputs": [
    {
     "name": "stdout",
     "output_type": "stream",
     "text": [
      "0 Atom N of residue 1 Atom H1 of residue 1 2293283.909957532\n"
     ]
    },
    {
     "ename": "KeyboardInterrupt",
     "evalue": "",
     "output_type": "error",
     "traceback": [
      "\u001b[0;31m---------------------------------------------------------------------------\u001b[0m",
      "\u001b[0;31mKeyboardInterrupt\u001b[0m                         Traceback (most recent call last)",
      "Cell \u001b[0;32mIn[5], line 2\u001b[0m\n\u001b[1;32m      1\u001b[0m \u001b[38;5;28;01mfor\u001b[39;00m i \u001b[38;5;129;01min\u001b[39;00m \u001b[38;5;28mrange\u001b[39m(\u001b[38;5;28mlen\u001b[39m(nbl\u001b[38;5;241m.\u001b[39mget_indexes())):\n\u001b[0;32m----> 2\u001b[0m     score \u001b[38;5;241m=\u001b[39m ljps\u001b[38;5;241m.\u001b[39mevaluate_index(m, \u001b[43mnbl\u001b[49m\u001b[38;5;241;43m.\u001b[39;49m\u001b[43mget_indexes\u001b[49m\u001b[43m(\u001b[49m\u001b[43m)\u001b[49m[i], \u001b[38;5;28;01mNone\u001b[39;00m)\n\u001b[1;32m      4\u001b[0m     \u001b[38;5;28;01mif\u001b[39;00m score \u001b[38;5;241m>\u001b[39m \u001b[38;5;241m100000\u001b[39m:\n\u001b[1;32m      5\u001b[0m         \u001b[38;5;28mprint\u001b[39m(i, IMP\u001b[38;5;241m.\u001b[39matom\u001b[38;5;241m.\u001b[39mAtom(m, nbl\u001b[38;5;241m.\u001b[39mget_indexes()[i][\u001b[38;5;241m0\u001b[39m])\u001b[38;5;241m.\u001b[39mget_name(), IMP\u001b[38;5;241m.\u001b[39matom\u001b[38;5;241m.\u001b[39mAtom(m, nbl\u001b[38;5;241m.\u001b[39mget_indexes()[i][\u001b[38;5;241m1\u001b[39m])\u001b[38;5;241m.\u001b[39mget_name(), score)\n",
      "File \u001b[0;32m~/opt/anaconda3/envs/imp_221_cctbx/lib/python3.12/site-packages/IMP/__init__.py:6722\u001b[0m, in \u001b[0;36mPairContainer.get_indexes\u001b[0;34m(self)\u001b[0m\n\u001b[1;32m   6720\u001b[0m \u001b[38;5;28;01mdef\u001b[39;00m \u001b[38;5;21mget_indexes\u001b[39m(\u001b[38;5;28mself\u001b[39m):\n\u001b[1;32m   6721\u001b[0m \u001b[38;5;250m    \u001b[39m\u001b[38;5;124mr\u001b[39m\u001b[38;5;124;03m\"\"\"get_indexes(PairContainer self) -> IMP::ParticleIndexPairs\"\"\"\u001b[39;00m\n\u001b[0;32m-> 6722\u001b[0m     \u001b[38;5;28;01mreturn\u001b[39;00m \u001b[43m_IMP_kernel\u001b[49m\u001b[38;5;241;43m.\u001b[39;49m\u001b[43mPairContainer_get_indexes\u001b[49m\u001b[43m(\u001b[49m\u001b[38;5;28;43mself\u001b[39;49m\u001b[43m)\u001b[49m\n",
      "\u001b[0;31mKeyboardInterrupt\u001b[0m: "
     ]
    }
   ],
   "source": [
    "# for i in range(len(nbl.get_indexes())):\n",
    "#     score = ljps.evaluate_index(m, nbl.get_indexes()[i], None)\n",
    "\n",
    "#     if score > 100000:\n",
    "#         print(i, IMP.atom.Atom(m, nbl.get_indexes()[i][0]).get_name(), IMP.atom.Atom(m, nbl.get_indexes()[i][1]).get_name(), score)\n"
   ]
  },
  {
   "cell_type": "code",
   "execution_count": 6,
   "metadata": {},
   "outputs": [],
   "source": [
    "# for i in range(len(nbl.get_indexes())):\n",
    "#     score = ljps.evaluate_index(m, nbl.get_indexes()[i], None)\n",
    "\n",
    "#     if score > 100000:\n",
    "#         print(i, IMP.atom.Atom(m, nbl.get_indexes()[i][0]).get_name(), IMP.atom.Atom(m, nbl.get_indexes()[i][1]).get_name(), score)\n"
   ]
  },
  {
   "cell_type": "code",
   "execution_count": 7,
   "metadata": {},
   "outputs": [
    {
     "data": {
      "text/plain": [
       "array([   0,    5,    6, ..., 5664, 5666, 5668], dtype=int32)"
      ]
     },
     "execution_count": 7,
     "metadata": {},
     "output_type": "execute_result"
    }
   ],
   "source": [
    "cont.get_contents()"
   ]
  },
  {
   "cell_type": "code",
   "execution_count": 8,
   "metadata": {},
   "outputs": [
    {
     "data": {
      "text/plain": [
       "1.0"
      ]
     },
     "execution_count": 8,
     "metadata": {},
     "output_type": "execute_result"
    }
   ],
   "source": [
    "nbl.get_slack()"
   ]
  },
  {
   "cell_type": "code",
   "execution_count": 9,
   "metadata": {},
   "outputs": [
    {
     "data": {
      "text/plain": [
       "array([ 103, 5019], dtype=int32)"
      ]
     },
     "execution_count": 9,
     "metadata": {},
     "output_type": "execute_result"
    }
   ],
   "source": [
    "nbl.get_indexes()[18948]"
   ]
  },
  {
   "cell_type": "code",
   "execution_count": 10,
   "metadata": {},
   "outputs": [],
   "source": [
    "pids = m.get_particle_indexes()"
   ]
  },
  {
   "cell_type": "code",
   "execution_count": 11,
   "metadata": {},
   "outputs": [
    {
     "data": {
      "text/plain": [
       "array([   0,    5,    6, ..., 5664, 5666, 5668], dtype=int32)"
      ]
     },
     "execution_count": 11,
     "metadata": {},
     "output_type": "execute_result"
    }
   ],
   "source": [
    "nbl.get_all_possible_indexes()"
   ]
  },
  {
   "cell_type": "code",
   "execution_count": 12,
   "metadata": {},
   "outputs": [
    {
     "data": {
      "text/plain": [
       "1314.885195616768"
      ]
     },
     "execution_count": 12,
     "metadata": {},
     "output_type": "execute_result"
    }
   ],
   "source": [
    "sf = IMP.core.RestraintsScoringFunction(rs)\n",
    "cg = IMP.core.ConjugateGradients(m)\n",
    "cg.set_scoring_function(sf)\n",
    "\n",
    "cg.optimize(100)"
   ]
  },
  {
   "cell_type": "code",
   "execution_count": 16,
   "metadata": {},
   "outputs": [
    {
     "data": {
      "text/plain": [
       "1"
      ]
     },
     "execution_count": 16,
     "metadata": {},
     "output_type": "execute_result"
    }
   ],
   "source": [
    "nbl.get_number_of_full_rebuilds()"
   ]
  },
  {
   "cell_type": "code",
   "execution_count": 14,
   "metadata": {},
   "outputs": [
    {
     "data": {
      "text/plain": [
       "2"
      ]
     },
     "execution_count": 14,
     "metadata": {},
     "output_type": "execute_result"
    }
   ],
   "source": [
    "m.get_dependencies_updated()"
   ]
  },
  {
   "cell_type": "code",
   "execution_count": 6,
   "metadata": {},
   "outputs": [],
   "source": [
    "IMP.atom.write_pdb(h, \"output.pdb\")"
   ]
  },
  {
   "cell_type": "code",
   "execution_count": null,
   "metadata": {},
   "outputs": [],
   "source": []
  }
 ],
 "metadata": {
  "kernelspec": {
   "display_name": "imp_221_cctbx",
   "language": "python",
   "name": "python3"
  },
  "language_info": {
   "codemirror_mode": {
    "name": "ipython",
    "version": 3
   },
   "file_extension": ".py",
   "mimetype": "text/x-python",
   "name": "python",
   "nbconvert_exporter": "python",
   "pygments_lexer": "ipython3",
   "version": "3.12.5"
  }
 },
 "nbformat": 4,
 "nbformat_minor": 2
}
