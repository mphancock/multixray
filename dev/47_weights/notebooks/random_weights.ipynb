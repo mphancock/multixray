{
 "cells": [
  {
   "cell_type": "code",
   "execution_count": 1,
   "metadata": {},
   "outputs": [],
   "source": [
    "import sys\n",
    "sys.path.append(\"../../../src\")\n",
    "from weights import get_random_w_mat\n",
    "\n",
    "import numpy as np"
   ]
  },
  {
   "cell_type": "code",
   "execution_count": 2,
   "metadata": {},
   "outputs": [
    {
     "name": "stdout",
     "output_type": "stream",
     "text": [
      "[[0.1124     0.22492042]\n",
      " [0.8876     0.77507958]]\n"
     ]
    }
   ],
   "source": [
    "ref_w_mat_0 = np.array([[0.9, 0.1], [0.1, 0.9]])\n",
    "ref_w_mat_1 = np.array([[0.1, 0.9], [0.9, 0.1]])\n",
    "\n",
    "rand_w_mat = get_random_w_mat(2, 2)\n",
    "print(rand_w_mat)\n"
   ]
  },
  {
   "cell_type": "code",
   "execution_count": 3,
   "metadata": {},
   "outputs": [
    {
     "name": "stdout",
     "output_type": "stream",
     "text": [
      "1.8250408495695707 1.3749591504304295\n"
     ]
    }
   ],
   "source": [
    "sum_0 = np.sum(np.abs(ref_w_mat_0 - rand_w_mat))\n",
    "sum_1 = np.sum(np.abs(ref_w_mat_1 - rand_w_mat))\n",
    "\n",
    "# Sum of the elements in the result matrix\n",
    "print(sum_0, sum_1)"
   ]
  },
  {
   "cell_type": "code",
   "execution_count": 40,
   "metadata": {},
   "outputs": [],
   "source": [
    "min_sum = 100\n",
    "best_w_mat = None\n",
    "for i in range(1000):\n",
    "    rand_w_mat = get_random_w_mat(2, 2)\n",
    "    sum_0 = np.sum(np.abs(ref_w_mat_0 - rand_w_mat))\n",
    "    sum_1 = np.sum(np.abs(ref_w_mat_1 - rand_w_mat))\n",
    "\n",
    "    if sum_0 < min_sum:\n",
    "        min_sum = sum_0\n",
    "        best_w_mat = rand_w_mat\n",
    "    if sum_1 < min_sum:\n",
    "        min_sum = sum_1\n",
    "        best_w_mat = rand_w_mat\n"
   ]
  },
  {
   "cell_type": "code",
   "execution_count": 41,
   "metadata": {},
   "outputs": [
    {
     "data": {
      "text/plain": [
       "array([[0.89564449, 0.09601197],\n",
       "       [0.10435551, 0.90398803]])"
      ]
     },
     "execution_count": 41,
     "metadata": {},
     "output_type": "execute_result"
    }
   ],
   "source": [
    "best_w_mat"
   ]
  },
  {
   "cell_type": "code",
   "execution_count": null,
   "metadata": {},
   "outputs": [],
   "source": []
  }
 ],
 "metadata": {
  "kernelspec": {
   "display_name": "imp_221_cctbx",
   "language": "python",
   "name": "python3"
  },
  "language_info": {
   "codemirror_mode": {
    "name": "ipython",
    "version": 3
   },
   "file_extension": ".py",
   "mimetype": "text/x-python",
   "name": "python",
   "nbconvert_exporter": "python",
   "pygments_lexer": "ipython3",
   "version": "3.12.7"
  }
 },
 "nbformat": 4,
 "nbformat_minor": 2
}
