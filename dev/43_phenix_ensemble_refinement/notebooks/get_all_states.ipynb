{
 "cells": [
  {
   "cell_type": "code",
   "execution_count": 11,
   "metadata": {},
   "outputs": [],
   "source": [
    "from pathlib import Path\n",
    "\n",
    "import IMP\n",
    "import IMP.atom\n",
    "\n",
    "import sys\n",
    "sys.path.append(\"../../../src\")\n",
    "import score"
   ]
  },
  {
   "cell_type": "code",
   "execution_count": 16,
   "metadata": {},
   "outputs": [
    {
     "name": "stdout",
     "output_type": "stream",
     "text": [
      "begin read_pdb:\n",
      "  WARNING  Could not determine CHARMM atom type for atom \"HE2\" in residue #80 \"HIS\"\n",
      "  WARNING  Could not determine CHARMM atom type for atom \"H1\" in residue #1 \"SER\"\n",
      "  WARNING  Could not determine CHARMM atom type for atom \"HE2\" in residue #80 \"HIS\"\n",
      "  WARNING  Could not determine CHARMM atom type for atom \"H1\" in residue #1 \"SER\"\n",
      "  WARNING  Could not determine CHARMM atom type for atom \"H1\" in residue #1 \"SER\"\n",
      "  WARNING  Could not determine CHARMM atom type for atom \"HE2\" in residue #41 \"HIS\"\n",
      "  WARNING  Could not determine CHARMM atom type for atom \"H1\" in residue #1 \"SER\"\n",
      "  WARNING  Could not determine CHARMM atom type for atom \"HE2\" in residue #41 \"HIS\"\n",
      "  WARNING  Could not determine CHARMM atom type for atom \"H1\" in residue #1 \"SER\"\n",
      "  WARNING  Could not determine CHARMM atom type for atom \"HE2\" in residue #41 \"HIS\"\n",
      "  WARNING  Could not determine CHARMM atom type for atom \"HE2\" in residue #41 \"HIS\"\n",
      "  WARNING  Could not determine CHARMM atom type for atom \"H1\" in residue #1 \"SER\"\n",
      "  WARNING  Could not determine CHARMM atom type for atom \"HE2\" in residue #41 \"HIS\"\n",
      "  WARNING  Could not determine CHARMM atom type for atom \"H1\" in residue #1 \"SER\"\n",
      "  WARNING  Could not determine CHARMM atom type for atom \"H1\" in residue #1 \"SER\"\n",
      "  WARNING  Could not determine CHARMM atom type for atom \"HE2\" in residue #246 \"HIS\"\n",
      "  WARNING  Could not determine CHARMM atom type for atom \"HE2\" in residue #172 \"HIS\"\n",
      "  WARNING  Could not determine CHARMM atom type for atom \"H1\" in residue #1 \"SER\"\n",
      "  WARNING  Could not determine CHARMM atom type for atom \"HE2\" in residue #246 \"HIS\"\n",
      "  WARNING  Could not determine CHARMM atom type for atom \"H1\" in residue #1 \"SER\"\n",
      "  WARNING  Could not determine CHARMM atom type for atom \"H1\" in residue #1 \"SER\"\n",
      "  WARNING  Could not determine CHARMM atom type for atom \"HE2\" in residue #41 \"HIS\"\n",
      "  WARNING  Could not determine CHARMM atom type for atom \"H1\" in residue #1 \"SER\"\n",
      "  WARNING  Could not determine CHARMM atom type for atom \"HE2\" in residue #41 \"HIS\"\n",
      "  WARNING  Could not determine CHARMM atom type for atom \"HE2\" in residue #163 \"HIS\"\n",
      "  WARNING  Could not determine CHARMM atom type for atom \"H1\" in residue #1 \"SER\"\n",
      "  WARNING  Could not determine CHARMM atom type for atom \"HE2\" in residue #41 \"HIS\"\n",
      "  WARNING  Could not determine CHARMM atom type for atom \"H1\" in residue #1 \"SER\"\n",
      "  WARNING  Could not determine CHARMM atom type for atom \"HE2\" in residue #163 \"HIS\"\n",
      "  WARNING  Could not determine CHARMM atom type for atom \"H1\" in residue #1 \"SER\"\n",
      "  WARNING  Could not determine CHARMM atom type for atom \"HE2\" in residue #163 \"HIS\"\n",
      "  WARNING  Could not determine CHARMM atom type for atom \"H1\" in residue #1 \"SER\"\n",
      "  WARNING  Could not determine CHARMM atom type for atom \"HE2\" in residue #80 \"HIS\"\n",
      "  WARNING  Could not determine CHARMM atom type for atom \"H1\" in residue #1 \"SER\"\n",
      "  WARNING  Could not determine CHARMM atom type for atom \"H1\" in residue #1 \"SER\"\n",
      "  WARNING  Could not determine CHARMM atom type for atom \"HE2\" in residue #41 \"HIS\"\n",
      "  WARNING  Could not determine CHARMM atom type for atom \"HE2\" in residue #163 \"HIS\"\n",
      "  WARNING  Could not determine CHARMM atom type for atom \"H1\" in residue #1 \"SER\"\n",
      "  WARNING  Could not determine CHARMM atom type for atom \"H1\" in residue #1 \"SER\"\n",
      "  WARNING  Could not determine CHARMM atom type for atom \"HE2\" in residue #41 \"HIS\"\n",
      "  WARNING  Could not determine CHARMM atom type for atom \"H1\" in residue #1 \"SER\"\n",
      "  WARNING  Could not determine CHARMM atom type for atom \"HE2\" in residue #80 \"HIS\"\n",
      "  WARNING  Could not determine CHARMM atom type for atom \"H1\" in residue #1 \"SER\"\n",
      "  WARNING  Could not determine CHARMM atom type for atom \"HE2\" in residue #41 \"HIS\"\n",
      "  WARNING  Could not determine CHARMM atom type for atom \"HE2\" in residue #163 \"HIS\"\n",
      "  WARNING  Could not determine CHARMM atom type for atom \"H1\" in residue #1 \"SER\"\n",
      "  WARNING  Could not determine CHARMM atom type for atom \"HE2\" in residue #163 \"HIS\"\n",
      "  WARNING  Could not determine CHARMM atom type for atom \"H1\" in residue #1 \"SER\"\n",
      "  WARNING  Could not determine CHARMM atom type for atom \"HE2\" in residue #163 \"HIS\"\n",
      "  WARNING  Could not determine CHARMM atom type for atom \"H1\" in residue #1 \"SER\"\n",
      "  WARNING  Could not determine CHARMM atom type for atom \"HE2\" in residue #163 \"HIS\"\n",
      "  WARNING  Could not determine CHARMM atom type for atom \"H1\" in residue #1 \"SER\"\n",
      "  WARNING  Could not determine CHARMM atom type for atom \"H1\" in residue #1 \"SER\"\n",
      "  WARNING  Could not determine CHARMM atom type for atom \"HE2\" in residue #41 \"HIS\"\n",
      "  WARNING  Could not determine CHARMM atom type for atom \"HE2\" in residue #246 \"HIS\"\n",
      "  WARNING  Could not determine CHARMM atom type for atom \"H1\" in residue #1 \"SER\"\n",
      "  WARNING  Could not determine CHARMM atom type for atom \"HE2\" in residue #246 \"HIS\"\n",
      "  WARNING  Could not determine CHARMM atom type for atom \"H1\" in residue #1 \"SER\"\n",
      "  WARNING  Could not determine CHARMM atom type for atom \"H1\" in residue #1 \"SER\"\n",
      "  WARNING  Could not determine CHARMM atom type for atom \"HE2\" in residue #41 \"HIS\"\n",
      "end read_pdb\n"
     ]
    }
   ],
   "source": [
    "multi_pdb_file = Path(\"../data/pdbs/7mhf.pdb\")\n",
    "m = IMP.Model()\n",
    "hs = IMP.atom.read_multimodel_pdb(str(multi_pdb_file), m, IMP.atom.ATOMPDBSelector())"
   ]
  },
  {
   "cell_type": "code",
   "execution_count": 22,
   "metadata": {},
   "outputs": [
    {
     "name": "stdout",
     "output_type": "stream",
     "text": [
      "begin read_pdb:\n",
      "  WARNING  Could not determine CHARMM atom type for atom \"H1\" in residue #1 \"SER\"\n",
      "  WARNING  Could not determine CHARMM atom type for atom \"HE2\" in residue #41 \"HIS\"\n",
      "end read_pdb\n"
     ]
    }
   ],
   "source": [
    "adp_file = Path(Path.home(), \"Documents/xray/data/pdbs/7mhf/7mhf.pdb\")\n",
    "adp_m = IMP.Model()\n",
    "adp_hs = IMP.atom.read_multimodel_pdb(str(adp_file), adp_m, IMP.atom.ATOMPDBSelector())\n",
    "\n",
    "adps = list()\n",
    "for pid in IMP.atom.Selection(adp_hs[0]).get_selected_particle_indexes():\n",
    "    at = IMP.atom.Atom(adp_m, pid)\n",
    "    adps.append(at.get_temperature_factor())"
   ]
  },
  {
   "cell_type": "code",
   "execution_count": 30,
   "metadata": {},
   "outputs": [],
   "source": [
    "for h in hs:\n",
    "    i = 0\n",
    "\n",
    "    for pid in IMP.atom.Selection(h).get_selected_particles():\n",
    "        # print(i)\n",
    "        at = IMP.atom.Atom(m, pid)\n",
    "        at.set_occupancy(1.0)\n",
    "        at.set_temperature_factor(adps[i])\n",
    "\n",
    "        i+=1"
   ]
  },
  {
   "cell_type": "code",
   "execution_count": 31,
   "metadata": {},
   "outputs": [],
   "source": [
    "pdb_dir = Path(\"../data/pdbs_state/7mhf_orig_adp\")\n",
    "pdb_dir.mkdir(exist_ok=True)\n",
    "for i in range(len(hs)):\n",
    "    IMP.atom.write_pdb(hs[i], str(Path(pdb_dir, \"{}.pdb\".format(i))))"
   ]
  },
  {
   "cell_type": "code",
   "execution_count": 9,
   "metadata": {},
   "outputs": [
    {
     "name": "stdout",
     "output_type": "stream",
     "text": [
      "[PosixPath('../data/pdbs_state/7mhf/22.pdb'), PosixPath('../data/pdbs_state/7mhf/23.pdb'), PosixPath('../data/pdbs_state/7mhf/21.pdb'), PosixPath('../data/pdbs_state/7mhf/20.pdb'), PosixPath('../data/pdbs_state/7mhf/24.pdb'), PosixPath('../data/pdbs_state/7mhf/18.pdb'), PosixPath('../data/pdbs_state/7mhf/19.pdb'), PosixPath('../data/pdbs_state/7mhf/25.pdb'), PosixPath('../data/pdbs_state/7mhf/27.pdb'), PosixPath('../data/pdbs_state/7mhf/26.pdb'), PosixPath('../data/pdbs_state/7mhf/7.pdb'), PosixPath('../data/pdbs_state/7mhf/6.pdb'), PosixPath('../data/pdbs_state/7mhf/4.pdb'), PosixPath('../data/pdbs_state/7mhf/5.pdb'), PosixPath('../data/pdbs_state/7mhf/1.pdb'), PosixPath('../data/pdbs_state/7mhf/0.pdb'), PosixPath('../data/pdbs_state/7mhf/2.pdb'), PosixPath('../data/pdbs_state/7mhf/3.pdb'), PosixPath('../data/pdbs_state/7mhf/8.pdb'), PosixPath('../data/pdbs_state/7mhf/9.pdb'), PosixPath('../data/pdbs_state/7mhf/17.pdb'), PosixPath('../data/pdbs_state/7mhf/16.pdb'), PosixPath('../data/pdbs_state/7mhf/28.pdb'), PosixPath('../data/pdbs_state/7mhf/14.pdb'), PosixPath('../data/pdbs_state/7mhf/15.pdb'), PosixPath('../data/pdbs_state/7mhf/29.pdb'), PosixPath('../data/pdbs_state/7mhf/11.pdb'), PosixPath('../data/pdbs_state/7mhf/10.pdb'), PosixPath('../data/pdbs_state/7mhf/12.pdb'), PosixPath('../data/pdbs_state/7mhf/13.pdb')]\n"
     ]
    }
   ],
   "source": [
    "pdb_files = list(pdb_dir.glob(\"*.pdb\"))\n",
    "print(pdb_files)"
   ]
  },
  {
   "cell_type": "code",
   "execution_count": null,
   "metadata": {},
   "outputs": [],
   "source": []
  }
 ],
 "metadata": {
  "kernelspec": {
   "display_name": "imp_221_cctbx",
   "language": "python",
   "name": "python3"
  },
  "language_info": {
   "codemirror_mode": {
    "name": "ipython",
    "version": 3
   },
   "file_extension": ".py",
   "mimetype": "text/x-python",
   "name": "python",
   "nbconvert_exporter": "python",
   "pygments_lexer": "ipython3",
   "version": "3.12.5"
  }
 },
 "nbformat": 4,
 "nbformat_minor": 2
}
