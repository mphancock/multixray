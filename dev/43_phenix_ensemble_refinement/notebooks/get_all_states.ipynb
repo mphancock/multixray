{
 "cells": [
  {
   "cell_type": "code",
   "execution_count": 20,
   "metadata": {},
   "outputs": [],
   "source": [
    "from pathlib import Path\n",
    "\n",
    "import IMP\n",
    "import IMP.atom\n",
    "\n",
    "import sys\n",
    "sys.path.append(\"../../../src\")\n",
    "import score"
   ]
  },
  {
   "cell_type": "code",
   "execution_count": 21,
   "metadata": {},
   "outputs": [],
   "source": [
    "multi_pdb_file = Path(\"../data/pdbs/3k0n_align.pdb\")\n",
    "m = IMP.Model()\n",
    "hs = IMP.atom.read_multimodel_pdb(str(multi_pdb_file), m, IMP.atom.ATOMPDBSelector())"
   ]
  },
  {
   "cell_type": "code",
   "execution_count": 22,
   "metadata": {},
   "outputs": [],
   "source": [
    "# adp_file = Path(Path.home(), \"Documents/xray/data/pdbs/7mhf/7mhf.pdb\")\n",
    "# adp_m = IMP.Model()\n",
    "# adp_hs = IMP.atom.read_multimodel_pdb(str(adp_file), adp_m, IMP.atom.ATOMPDBSelector())\n",
    "\n",
    "# adps = list()\n",
    "# for pid in IMP.atom.Selection(adp_hs[0]).get_selected_particle_indexes():\n",
    "#     at = IMP.atom.Atom(adp_m, pid)\n",
    "#     adps.append(at.get_temperature_factor())"
   ]
  },
  {
   "cell_type": "code",
   "execution_count": 23,
   "metadata": {},
   "outputs": [],
   "source": [
    "for h in hs:\n",
    "    i = 0\n",
    "\n",
    "    for pid in IMP.atom.Selection(h).get_selected_particles():\n",
    "        # print(i)\n",
    "        at = IMP.atom.Atom(m, pid)\n",
    "        at.set_occupancy(1.0)\n",
    "        at.set_temperature_factor(15)\n",
    "\n",
    "        i+=1"
   ]
  },
  {
   "cell_type": "code",
   "execution_count": 24,
   "metadata": {},
   "outputs": [],
   "source": [
    "pdb_dir = Path(\"../data/pdbs_state/{}\".format(multi_pdb_file.stem))\n",
    "pdb_dir.mkdir(exist_ok=True)\n",
    "for i in range(len(hs)):\n",
    "    IMP.atom.write_pdb(hs[i], str(Path(pdb_dir, \"{}.pdb\".format(i))))"
   ]
  },
  {
   "cell_type": "code",
   "execution_count": 25,
   "metadata": {},
   "outputs": [
    {
     "name": "stdout",
     "output_type": "stream",
     "text": [
      "[PosixPath('../data/pdbs_state/3k0n_align/22.pdb'), PosixPath('../data/pdbs_state/3k0n_align/36.pdb'), PosixPath('../data/pdbs_state/3k0n_align/37.pdb'), PosixPath('../data/pdbs_state/3k0n_align/23.pdb'), PosixPath('../data/pdbs_state/3k0n_align/35.pdb'), PosixPath('../data/pdbs_state/3k0n_align/21.pdb'), PosixPath('../data/pdbs_state/3k0n_align/20.pdb'), PosixPath('../data/pdbs_state/3k0n_align/34.pdb'), PosixPath('../data/pdbs_state/3k0n_align/30.pdb'), PosixPath('../data/pdbs_state/3k0n_align/24.pdb'), PosixPath('../data/pdbs_state/3k0n_align/18.pdb'), PosixPath('../data/pdbs_state/3k0n_align/19.pdb'), PosixPath('../data/pdbs_state/3k0n_align/25.pdb'), PosixPath('../data/pdbs_state/3k0n_align/31.pdb'), PosixPath('../data/pdbs_state/3k0n_align/27.pdb'), PosixPath('../data/pdbs_state/3k0n_align/33.pdb'), PosixPath('../data/pdbs_state/3k0n_align/32.pdb'), PosixPath('../data/pdbs_state/3k0n_align/26.pdb'), PosixPath('../data/pdbs_state/3k0n_align/69.pdb'), PosixPath('../data/pdbs_state/3k0n_align/41.pdb'), PosixPath('../data/pdbs_state/3k0n_align/55.pdb'), PosixPath('../data/pdbs_state/3k0n_align/7.pdb'), PosixPath('../data/pdbs_state/3k0n_align/82.pdb'), PosixPath('../data/pdbs_state/3k0n_align/96.pdb'), PosixPath('../data/pdbs_state/3k0n_align/97.pdb'), PosixPath('../data/pdbs_state/3k0n_align/83.pdb'), PosixPath('../data/pdbs_state/3k0n_align/54.pdb'), PosixPath('../data/pdbs_state/3k0n_align/6.pdb'), PosixPath('../data/pdbs_state/3k0n_align/40.pdb'), PosixPath('../data/pdbs_state/3k0n_align/68.pdb'), PosixPath('../data/pdbs_state/3k0n_align/4.pdb'), PosixPath('../data/pdbs_state/3k0n_align/56.pdb'), PosixPath('../data/pdbs_state/3k0n_align/42.pdb'), PosixPath('../data/pdbs_state/3k0n_align/95.pdb'), PosixPath('../data/pdbs_state/3k0n_align/81.pdb'), PosixPath('../data/pdbs_state/3k0n_align/80.pdb'), PosixPath('../data/pdbs_state/3k0n_align/94.pdb'), PosixPath('../data/pdbs_state/3k0n_align/43.pdb'), PosixPath('../data/pdbs_state/3k0n_align/5.pdb'), PosixPath('../data/pdbs_state/3k0n_align/57.pdb'), PosixPath('../data/pdbs_state/3k0n_align/53.pdb'), PosixPath('../data/pdbs_state/3k0n_align/1.pdb'), PosixPath('../data/pdbs_state/3k0n_align/47.pdb'), PosixPath('../data/pdbs_state/3k0n_align/90.pdb'), PosixPath('../data/pdbs_state/3k0n_align/84.pdb'), PosixPath('../data/pdbs_state/3k0n_align/85.pdb'), PosixPath('../data/pdbs_state/3k0n_align/91.pdb'), PosixPath('../data/pdbs_state/3k0n_align/46.pdb'), PosixPath('../data/pdbs_state/3k0n_align/52.pdb'), PosixPath('../data/pdbs_state/3k0n_align/0.pdb'), PosixPath('../data/pdbs_state/3k0n_align/44.pdb'), PosixPath('../data/pdbs_state/3k0n_align/2.pdb'), PosixPath('../data/pdbs_state/3k0n_align/50.pdb'), PosixPath('../data/pdbs_state/3k0n_align/78.pdb'), PosixPath('../data/pdbs_state/3k0n_align/87.pdb'), PosixPath('../data/pdbs_state/3k0n_align/93.pdb'), PosixPath('../data/pdbs_state/3k0n_align/92.pdb'), PosixPath('../data/pdbs_state/3k0n_align/86.pdb'), PosixPath('../data/pdbs_state/3k0n_align/79.pdb'), PosixPath('../data/pdbs_state/3k0n_align/3.pdb'), PosixPath('../data/pdbs_state/3k0n_align/51.pdb'), PosixPath('../data/pdbs_state/3k0n_align/45.pdb'), PosixPath('../data/pdbs_state/3k0n_align/48.pdb'), PosixPath('../data/pdbs_state/3k0n_align/60.pdb'), PosixPath('../data/pdbs_state/3k0n_align/74.pdb'), PosixPath('../data/pdbs_state/3k0n_align/75.pdb'), PosixPath('../data/pdbs_state/3k0n_align/61.pdb'), PosixPath('../data/pdbs_state/3k0n_align/49.pdb'), PosixPath('../data/pdbs_state/3k0n_align/77.pdb'), PosixPath('../data/pdbs_state/3k0n_align/63.pdb'), PosixPath('../data/pdbs_state/3k0n_align/88.pdb'), PosixPath('../data/pdbs_state/3k0n_align/89.pdb'), PosixPath('../data/pdbs_state/3k0n_align/62.pdb'), PosixPath('../data/pdbs_state/3k0n_align/76.pdb'), PosixPath('../data/pdbs_state/3k0n_align/72.pdb'), PosixPath('../data/pdbs_state/3k0n_align/66.pdb'), PosixPath('../data/pdbs_state/3k0n_align/8.pdb'), PosixPath('../data/pdbs_state/3k0n_align/99.pdb'), PosixPath('../data/pdbs_state/3k0n_align/98.pdb'), PosixPath('../data/pdbs_state/3k0n_align/9.pdb'), PosixPath('../data/pdbs_state/3k0n_align/67.pdb'), PosixPath('../data/pdbs_state/3k0n_align/73.pdb'), PosixPath('../data/pdbs_state/3k0n_align/65.pdb'), PosixPath('../data/pdbs_state/3k0n_align/71.pdb'), PosixPath('../data/pdbs_state/3k0n_align/59.pdb'), PosixPath('../data/pdbs_state/3k0n_align/58.pdb'), PosixPath('../data/pdbs_state/3k0n_align/70.pdb'), PosixPath('../data/pdbs_state/3k0n_align/64.pdb'), PosixPath('../data/pdbs_state/3k0n_align/17.pdb'), PosixPath('../data/pdbs_state/3k0n_align/16.pdb'), PosixPath('../data/pdbs_state/3k0n_align/28.pdb'), PosixPath('../data/pdbs_state/3k0n_align/14.pdb'), PosixPath('../data/pdbs_state/3k0n_align/101.pdb'), PosixPath('../data/pdbs_state/3k0n_align/100.pdb'), PosixPath('../data/pdbs_state/3k0n_align/15.pdb'), PosixPath('../data/pdbs_state/3k0n_align/29.pdb'), PosixPath('../data/pdbs_state/3k0n_align/11.pdb'), PosixPath('../data/pdbs_state/3k0n_align/39.pdb'), PosixPath('../data/pdbs_state/3k0n_align/38.pdb'), PosixPath('../data/pdbs_state/3k0n_align/10.pdb'), PosixPath('../data/pdbs_state/3k0n_align/12.pdb'), PosixPath('../data/pdbs_state/3k0n_align/13.pdb')]\n"
     ]
    }
   ],
   "source": [
    "pdb_files = list(pdb_dir.glob(\"*.pdb\"))\n",
    "print(pdb_files)"
   ]
  },
  {
   "cell_type": "code",
   "execution_count": null,
   "metadata": {},
   "outputs": [],
   "source": []
  }
 ],
 "metadata": {
  "kernelspec": {
   "display_name": "imp_221_cctbx",
   "language": "python",
   "name": "python3"
  },
  "language_info": {
   "codemirror_mode": {
    "name": "ipython",
    "version": 3
   },
   "file_extension": ".py",
   "mimetype": "text/x-python",
   "name": "python",
   "nbconvert_exporter": "python",
   "pygments_lexer": "ipython3",
   "version": "3.12.5"
  }
 },
 "nbformat": 4,
 "nbformat_minor": 2
}
