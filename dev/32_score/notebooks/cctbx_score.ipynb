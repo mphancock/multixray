{
 "cells": [
  {
   "cell_type": "code",
   "execution_count": 8,
   "metadata": {},
   "outputs": [],
   "source": [
    "from pathlib import Path\n",
    "\n",
    "import mmtbx.f_model\n",
    "import mmtbx.model\n",
    "import cctbx.crystal\n",
    "import cctbx.xray\n",
    "import iotbx\n",
    "from iotbx import pdb\n",
    "\n",
    "import sys\n",
    "sys.path.append(str(Path(Path.home(), \"Documents/xray/src\")))\n",
    "import miller_ops\n",
    "sys.path.append(str(Path(Path.home(), \"Documents/xray/data/cifs/scripts\")))\n",
    "import generate_fmodel"
   ]
  },
  {
   "cell_type": "code",
   "execution_count": 9,
   "metadata": {},
   "outputs": [],
   "source": [
    "pdb_file = Path(\"~/Documents/xray/dev/26_phenix_refine/data/test.pdb\")\n",
    "n_state = 2"
   ]
  },
  {
   "cell_type": "code",
   "execution_count": 10,
   "metadata": {},
   "outputs": [],
   "source": [
    "# crystal_symmetry = cctbx.xray.crystal.symmetry(\n",
    "#     unit_cell=(114.968, 54.622, 45.194, 90.000, 101.675, 90.000),\n",
    "#     space_group_symbol=\"C 1 2 1\"\n",
    "# )\n",
    "\n",
    "pdb_inp = pdb.input(file_name=str(pdb_file))\n",
    "h = pdb_inp.construct_hierarchy()\n",
    "crystal_symmetry = pdb_inp.crystal_symmetry()\n",
    "\n",
    "xray_structure = h.extract_xray_structure(crystal_symmetry=crystal_symmetry)\n",
    "\n",
    "# xray_structure = iotbx.pdb.input(str(pdb_file)).xray_structure_simple(\n",
    "#     crystal_symmetry=crystal_symmetry\n",
    "# )\n",
    "# xray_structure = read_non_altloc_structure(pdb_file)\n",
    "\n",
    "n_scatt = xray_structure.scatterers().size()\n",
    "n_scatt_per_state = int(n_scatt/n_state)\n",
    "\n",
    "for i in range(n_state):\n",
    "    for j in range(n_scatt_per_state):\n",
    "        xray_structure.scatterers()[i*n_scatt_per_state+j].occupancy = 1/n_state\n",
    "\n",
    "# f_model = xray_structure.structure_factors(\n",
    "#     d_min=1.5\n",
    "# ).f_calc().amplitudes()\n",
    "# print(f_model.d_min())\n",
    "\n",
    "# flags = f_model.generate_r_free_flags_basic()\n",
    "# status = generate_fmodel.get_status_array(flags)\n"
   ]
  },
  {
   "cell_type": "code",
   "execution_count": 11,
   "metadata": {},
   "outputs": [],
   "source": [
    "f_obs_file = Path(Path.home(), \"Documents/xray/data/cifs/7mhf/7mhf.cif\")\n",
    "f_obs = miller_ops.get_miller_array(\n",
    "    f_obs_file=f_obs_file,\n",
    "    label=\"_refln.F_meas_au\"\n",
    ")\n",
    "f_obs = miller_ops.clean_miller_array(f_obs)\n",
    "\n",
    "# Set flags from file.\n",
    "status_array = miller_ops.get_miller_array(\n",
    "    f_obs_file=f_obs_file,\n",
    "    label=\"_refln.status\"\n",
    ")\n",
    "flags = status_array.customized_copy(data=status_array.data()==\"f\")\n",
    "f_obs, flags = f_obs.common_sets(other=flags)"
   ]
  },
  {
   "cell_type": "code",
   "execution_count": 12,
   "metadata": {},
   "outputs": [
    {
     "name": "stdout",
     "output_type": "stream",
     "text": [
      "37901\n",
      "37901\n"
     ]
    }
   ],
   "source": [
    "xray_structure.scatterers().flags_set_grads(\n",
    "    state=False\n",
    ")\n",
    "xray_structure.scatterers().flags_set_grad_site(\n",
    "    iselection=xray_structure.all_selection().iselection()\n",
    ")\n",
    "xray_structure.scatterers().flags_set_grad_occupancy(\n",
    "    iselection=xray_structure.all_selection().iselection()\n",
    ")\n",
    "\n",
    "f_model_manager = mmtbx.f_model.manager(\n",
    "    xray_structure=xray_structure,\n",
    "    f_obs=f_obs,\n",
    "    r_free_flags=flags,\n",
    "    target_name=\"ml\"\n",
    ")\n",
    "\n",
    "fmodels = mmtbx.fmodels(fmodel_xray=f_model_manager)\n",
    "fmodels.update_xray_structure(\n",
    "    xray_structure=xray_structure,\n",
    "    update_f_calc=True\n",
    ")\n",
    "\n",
    "f_model_manager.update_all_scales(\n",
    "    apply_scale_k1_to_f_obs=True,\n",
    "    remove_outliers=False\n",
    ")\n",
    "\n",
    "work = f_model_manager.r_work()\n",
    "free = f_model_manager.r_free()\n",
    "\n",
    "print(f_model_manager.f_obs().size())\n",
    "print(f_model_manager.f_model().size())\n"
   ]
  },
  {
   "cell_type": "code",
   "execution_count": 13,
   "metadata": {},
   "outputs": [
    {
     "data": {
      "text/plain": [
       "(0.20023079193021787, 0.22940496171191166)"
      ]
     },
     "execution_count": 13,
     "metadata": {},
     "output_type": "execute_result"
    }
   ],
   "source": [
    "work, free"
   ]
  },
  {
   "cell_type": "code",
   "execution_count": 21,
   "metadata": {},
   "outputs": [
    {
     "name": "stdout",
     "output_type": "stream",
     "text": [
      "5.543418606252292\n"
     ]
    }
   ],
   "source": [
    "fmodels_target_and_gradients = fmodels.target_and_gradients(compute_gradients=True)\n",
    "score = fmodels_target_and_gradients.target()\n",
    "\n",
    "print(score)"
   ]
  },
  {
   "cell_type": "code",
   "execution_count": 15,
   "metadata": {},
   "outputs": [],
   "source": [
    "generate_fmodel.write_cif(f_model, status, Path(Path.home(), \"Documents/xray/tmp/test.cif\"))"
   ]
  },
  {
   "cell_type": "code",
   "execution_count": 42,
   "metadata": {},
   "outputs": [],
   "source": [
    "# print(type(xray_structure))\n",
    "# print(xray_structure.show_summary())\n",
    "# print(xray_structure.show_scatterers())"
   ]
  },
  {
   "cell_type": "code",
   "execution_count": null,
   "metadata": {},
   "outputs": [],
   "source": []
  }
 ],
 "metadata": {
  "kernelspec": {
   "display_name": "imp_221_cctbx",
   "language": "python",
   "name": "python3"
  },
  "language_info": {
   "codemirror_mode": {
    "name": "ipython",
    "version": 3
   },
   "file_extension": ".py",
   "mimetype": "text/x-python",
   "name": "python",
   "nbconvert_exporter": "python",
   "pygments_lexer": "ipython3",
   "version": "3.12.5"
  }
 },
 "nbformat": 4,
 "nbformat_minor": 2
}
