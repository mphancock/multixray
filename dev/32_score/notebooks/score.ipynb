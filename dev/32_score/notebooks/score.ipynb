{
 "cells": [
  {
   "cell_type": "code",
   "execution_count": 3,
   "metadata": {},
   "outputs": [],
   "source": [
    "from scipy.special import iv\n",
    "import math\n",
    "\n",
    "import matplotlib.pyplot as plt"
   ]
  },
  {
   "cell_type": "code",
   "execution_count": 4,
   "metadata": {},
   "outputs": [
    {
     "data": {
      "text/plain": [
       "24.335642142450524"
      ]
     },
     "execution_count": 4,
     "metadata": {},
     "output_type": "execute_result"
    }
   ],
   "source": [
    "iv(1, 5)"
   ]
  },
  {
   "cell_type": "code",
   "execution_count": 5,
   "metadata": {},
   "outputs": [],
   "source": [
    "def ml(X,X_0):\n",
    "    # a = math.exp(-(X**2 + X_0**2))\n",
    "    # b = iv(0, 2*X*X_0)\n",
    "\n",
    "\n",
    "\n",
    "    # print(a, b)\n",
    "\n",
    "    return 2*X/math.pi * a * b"
   ]
  },
  {
   "cell_type": "code",
   "execution_count": 12,
   "metadata": {},
   "outputs": [],
   "source": [
    "import math\n",
    "import scipy.special\n",
    "import scipy.constants\n",
    "\n",
    "def target_one_h(fo, fc=1, a=1, b=1, k=1, e=1):\n",
    "    assert e > 0\n",
    "    if k <= 0.0:\n",
    "        k = 1.0\n",
    "    target = 0.0\n",
    "    if a <= 0.0 or b <= 1e-3 or fo <= 0.0 or fc <= 0.0:\n",
    "        return 0.0\n",
    "    a *= k\n",
    "    b *= k * k\n",
    "    eb = e * b\n",
    "\n",
    "    t1 = -math.log(2. * fo / eb)\n",
    "    t2 = fo * fo / eb\n",
    "    t3 = (a * fc) * (a * fc) / eb\n",
    "    t4 = -math.log(iv(0,2. * a * fo * fc / eb))\n",
    "    target = (t1 + t2 + t3 + t4)\n",
    "\n",
    "    return target"
   ]
  },
  {
   "cell_type": "code",
   "execution_count": 13,
   "metadata": {},
   "outputs": [
    {
     "data": {
      "text/plain": [
       "0.4828592779570984"
      ]
     },
     "execution_count": 13,
     "metadata": {},
     "output_type": "execute_result"
    }
   ],
   "source": [
    "target_one_h(1,1,1,1,1,1)"
   ]
  },
  {
   "cell_type": "code",
   "execution_count": 14,
   "metadata": {},
   "outputs": [
    {
     "data": {
      "text/plain": [
       "-1.0"
      ]
     },
     "execution_count": 14,
     "metadata": {},
     "output_type": "execute_result"
    }
   ],
   "source": [
    "-math.log(math.e)"
   ]
  },
  {
   "cell_type": "code",
   "execution_count": 15,
   "metadata": {},
   "outputs": [
    {
     "data": {
      "text/plain": [
       "[<matplotlib.lines.Line2D at 0x17c0b2450>]"
      ]
     },
     "execution_count": 15,
     "metadata": {},
     "output_type": "execute_result"
    },
    {
     "data": {
      "image/png": "[encoded data removed]",
      "text/plain": [
       "<Figure size 640x480 with 1 Axes>"
      ]
     },
     "metadata": {},
     "output_type": "display_data"
    }
   ],
   "source": [
    "plt.plot([x/100 for x in range(0,200)], [target_one_h(x/100) for x in range(0,200)])"
   ]
  },
  {
   "cell_type": "code",
   "execution_count": null,
   "metadata": {},
   "outputs": [],
   "source": []
  }
 ],
 "metadata": {
  "kernelspec": {
   "display_name": "imp_218",
   "language": "python",
   "name": "python3"
  },
  "language_info": {
   "codemirror_mode": {
    "name": "ipython",
    "version": 3
   },
   "file_extension": ".py",
   "mimetype": "text/x-python",
   "name": "python",
   "nbconvert_exporter": "python",
   "pygments_lexer": "ipython3",
   "version": "3.11.3"
  }
 },
 "nbformat": 4,
 "nbformat_minor": 2
}
