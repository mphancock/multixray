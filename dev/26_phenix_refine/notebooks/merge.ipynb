{
 "cells": [
  {
   "cell_type": "code",
   "execution_count": 6,
   "metadata": {},
   "outputs": [],
   "source": [
    "from pathlib import Path\n",
    "\n",
    "import IMP\n",
    "import IMP.atom\n",
    "\n",
    "import sys\n",
    "sys.path.append(\"../../../src\")\n",
    "from weights import update_multi_state_model, get_weights_from_pdb_file, get_weights"
   ]
  },
  {
   "cell_type": "code",
   "execution_count": 3,
   "metadata": {},
   "outputs": [
    {
     "name": "stdout",
     "output_type": "stream",
     "text": [
      "begin read_pdb:\n",
      "  WARNING  Could not determine CHARMM atom type for atom \"HET: O  \" in residue #212 \"HOH\"\n",
      "end read_pdb\n",
      "begin read_pdb:\n",
      "  WARNING  Could not determine CHARMM atom type for atom \"HET: O  \" in residue #1 \"HOH\"\n",
      "end read_pdb\n"
     ]
    }
   ],
   "source": [
    "pdb_file_0 = Path(\"../data/0/0_refine_001.pdb\")\n",
    "pdb_file_1 = Path(\"../data/1/1_refine_001.pdb\")\n",
    "\n",
    "m = IMP.Model()\n",
    "h_0 = IMP.atom.read_pdb(str(pdb_file_0), m, IMP.atom.AllPDBSelector())\n",
    "h_1 = IMP.atom.read_pdb(str(pdb_file_1), m, IMP.atom.AllPDBSelector())\n",
    "\n",
    "hs = [h_0, h_1]"
   ]
  },
  {
   "cell_type": "code",
   "execution_count": 7,
   "metadata": {},
   "outputs": [],
   "source": [
    "update_multi_state_model(hs=hs, m=m, ws=[0.5, 0.5])"
   ]
  },
  {
   "cell_type": "code",
   "execution_count": 8,
   "metadata": {},
   "outputs": [],
   "source": [
    "merge_pdb_file = Path(\"../data/merge.pdb\")\n",
    "IMP.atom.write_multimodel_pdb(hs, str(merge_pdb_file))"
   ]
  },
  {
   "cell_type": "code",
   "execution_count": null,
   "metadata": {},
   "outputs": [],
   "source": []
  }
 ],
 "metadata": {
  "kernelspec": {
   "display_name": "imp_221_cctbx",
   "language": "python",
   "name": "python3"
  },
  "language_info": {
   "codemirror_mode": {
    "name": "ipython",
    "version": 3
   },
   "file_extension": ".py",
   "mimetype": "text/x-python",
   "name": "python",
   "nbconvert_exporter": "python",
   "pygments_lexer": "ipython3",
   "version": "3.12.5"
  }
 },
 "nbformat": 4,
 "nbformat_minor": 2
}
