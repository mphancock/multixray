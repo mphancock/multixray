{
 "cells": [
  {
   "cell_type": "code",
   "execution_count": 1,
   "metadata": {},
   "outputs": [],
   "source": [
    "import sys\n",
    "from pathlib import Path\n",
    "import IMP\n",
    "import IMP.atom\n",
    "\n",
    "import IMP\n",
    "import IMP.core\n",
    "import IMP.algebra\n"
   ]
  },
  {
   "cell_type": "code",
   "execution_count": 2,
   "metadata": {},
   "outputs": [
    {
     "name": "stdout",
     "output_type": "stream",
     "text": [
      "begin read_pdb:\n",
      "  WARNING  Could not determine CHARMM atom type for atom \"H1\" in residue #1 \"SER\"\n",
      "  WARNING  Could not determine CHARMM atom type for atom \"HE2\" in residue #41 \"HIS\"\n",
      "  WARNING  Could not determine CHARMM atom type for atom \"HET: S  \" in residue #401 \"DMS\"\n",
      "  WARNING  Could not determine CHARMM atom type for atom \"HET: O  \" in residue #401 \"DMS\"\n",
      "  WARNING  Could not determine CHARMM atom type for atom \"HET: C1 \" in residue #401 \"DMS\"\n",
      "  WARNING  Could not determine CHARMM atom type for atom \"HET: C2 \" in residue #401 \"DMS\"\n",
      "  WARNING  Could not determine CHARMM atom type for atom \"HET: H11\" in residue #401 \"DMS\"\n",
      "  WARNING  Could not determine CHARMM atom type for atom \"HET: H12\" in residue #401 \"DMS\"\n",
      "  WARNING  Could not determine CHARMM atom type for atom \"HET: H13\" in residue #401 \"DMS\"\n",
      "  WARNING  Could not determine CHARMM atom type for atom \"HET: H21\" in residue #401 \"DMS\"\n",
      "  WARNING  Could not determine CHARMM atom type for atom \"HET: H22\" in residue #401 \"DMS\"\n",
      "  WARNING  Could not determine CHARMM atom type for atom \"HET: H23\" in residue #401 \"DMS\"\n",
      "  WARNING  Could not determine CHARMM atom type for atom \"HET:ZN  \" in residue #406 \"ZN\"\n",
      "  WARNING  Could not determine CHARMM atom type for atom \"HET: O  \" in residue #501 \"HOH\"\n",
      "end read_pdb\n",
      "WARNING  Could not determine CHARMM atom type for atom \"HE2\" in residue #246 \"HIS\"\n",
      "WARNING  Could not determine CHARMM atom type for atom \"HET: S  \" in residue #401 \"DMS\"\n",
      "WARNING  Could not determine CHARMM atom type for atom \"HET: O  \" in residue #401 \"DMS\"\n",
      "WARNING  Could not determine CHARMM atom type for atom \"HET: C1 \" in residue #401 \"DMS\"\n",
      "WARNING  Could not determine CHARMM atom type for atom \"HET: C2 \" in residue #401 \"DMS\"\n",
      "WARNING  Could not determine CHARMM atom type for atom \"HET: H11\" in residue #401 \"DMS\"\n",
      "WARNING  Could not determine CHARMM atom type for atom \"HET: H12\" in residue #401 \"DMS\"\n",
      "WARNING  Could not determine CHARMM atom type for atom \"HET: H13\" in residue #401 \"DMS\"\n",
      "WARNING  Could not determine CHARMM atom type for atom \"HET: H21\" in residue #401 \"DMS\"\n",
      "WARNING  Could not determine CHARMM atom type for atom \"HET: H22\" in residue #401 \"DMS\"\n",
      "WARNING  Could not determine CHARMM atom type for atom \"HET: H23\" in residue #401 \"DMS\"\n",
      "WARNING  Could not determine CHARMM atom type for atom \"HET:ZN  \" in residue #406 \"ZN\"\n",
      "WARNING  Could not determine CHARMM atom type for atom \"HET: O  \" in residue #501 \"HOH\"\n",
      "WARNING  Could not determine CHARMM atom type for atom \"H1\" in residue #1 \"SER\"\n"
     ]
    }
   ],
   "source": [
    "m = IMP.Model()\n",
    "pdb_file = Path(Path.home(), \"Documents/xray/data/pdbs/7mhf/7mhf.pdb\")\n",
    "\n",
    "h = IMP.atom.read_pdb(str(pdb_file), m, IMP.atom.AllPDBSelector())\n",
    "\n",
    "params_file = Path(\"/Users/matthew/opt/anaconda3/envs/imp_221_cctbx/share/IMP/atom/par.lib\")\n",
    "topology_file = Path(\"/Users/matthew/opt/anaconda3/envs/imp_221_cctbx/share/IMP/atom/top.lib\")\n",
    "\n",
    "# ff = IMP.atom.CHARMMParameters(str(topology_file), str(params_file), True)\n",
    "# topology = ff.create_topology(h)\n",
    "\n",
    "ff = IMP.atom.get_all_atom_CHARMM_parameters()\n",
    "topology = ff.create_topology(h)\n",
    "\n",
    "topology.apply_default_patches()\n",
    "topology.add_atom_types(h)"
   ]
  },
  {
   "cell_type": "code",
   "execution_count": 3,
   "metadata": {},
   "outputs": [],
   "source": [
    "seg = topology.get_segments()[0]\n",
    "for res in seg.get_residues():\n",
    "    if res.get_name() == \"CHARMM residue ZN\":\n",
    "        for i in range(res.get_number_of_atoms()):\n",
    "            print(res.get_atom(i).get_name())"
   ]
  },
  {
   "cell_type": "code",
   "execution_count": 5,
   "metadata": {},
   "outputs": [
    {
     "data": {
      "text/plain": [
       "#5001 \"HET:ZN  \" (ZN) CHARMM type= ZN"
      ]
     },
     "execution_count": 5,
     "metadata": {},
     "output_type": "execute_result"
    }
   ],
   "source": [
    "zn_pid = IMP.atom.Selection(h, atom_type=IMP.atom.AtomType(\"HET:ZN  \")).get_selected_particle_indexes()[0]\n",
    "\n",
    "IMP.atom.CHARMMAtom.setup_particle(m, zn_pid, \"ZN\")\n",
    "# for pid in IMP.atom.Selection(h).get_selected_particle_indexes():\n",
    "#     print(IMP.atom.Atom(m, pid).get_atom_type().get_string())"
   ]
  },
  {
   "cell_type": "code",
   "execution_count": 6,
   "metadata": {},
   "outputs": [
    {
     "ename": "NameError",
     "evalue": "name 'pid' is not defined",
     "output_type": "error",
     "traceback": [
      "\u001b[0;31m---------------------------------------------------------------------------\u001b[0m",
      "\u001b[0;31mNameError\u001b[0m                                 Traceback (most recent call last)",
      "Cell \u001b[0;32mIn[6], line 2\u001b[0m\n\u001b[1;32m      1\u001b[0m test_pid \u001b[38;5;241m=\u001b[39m IMP\u001b[38;5;241m.\u001b[39matom\u001b[38;5;241m.\u001b[39mSelection(h)\u001b[38;5;241m.\u001b[39mget_selected_particle_indexes()[\u001b[38;5;241m0\u001b[39m]\n\u001b[0;32m----> 2\u001b[0m \u001b[38;5;28mprint\u001b[39m(IMP\u001b[38;5;241m.\u001b[39matom\u001b[38;5;241m.\u001b[39mAtom(m, \u001b[43mpid\u001b[49m)\u001b[38;5;241m.\u001b[39mget_name(), IMP\u001b[38;5;241m.\u001b[39mcore\u001b[38;5;241m.\u001b[39mXYZR(m, test_pid)\u001b[38;5;241m.\u001b[39mget_radius())\n",
      "\u001b[0;31mNameError\u001b[0m: name 'pid' is not defined"
     ]
    }
   ],
   "source": [
    "test_pid = IMP.atom.Selection(h).get_selected_particle_indexes()[0]\n",
    "print(IMP.atom.Atom(m, test_pid).get_name(), IMP.core.XYZR(m, test_pid).get_radius())"
   ]
  },
  {
   "cell_type": "code",
   "execution_count": 28,
   "metadata": {},
   "outputs": [
    {
     "name": "stdout",
     "output_type": "stream",
     "text": [
      "1.7\n"
     ]
    }
   ],
   "source": [
    "charmm_atom = IMP.atom.CHARMMAtom(m, zn_pid)\n",
    "print(IMP.core.XYZR(m, zn_pid).get_radius())"
   ]
  },
  {
   "cell_type": "code",
   "execution_count": 50,
   "metadata": {},
   "outputs": [
    {
     "name": "stdout",
     "output_type": "stream",
     "text": [
      "\"CHARMM residue HSP\" <class 'IMP.atom.CHARMMResidueTopology'>\n",
      "\"CHARMM residue HSP\" <class 'IMP.atom.CHARMMResidueTopology'>\n"
     ]
    }
   ],
   "source": [
    "seg = topology.get_segments()[0]\n",
    "ress = seg.get_residues()\n",
    "print(ress[40], type(ress[40]))\n",
    "ress[40] = IMP.atom.CHARMMResidueTopology(ff.get_residue_topology(IMP.atom.ResidueType(\"HSP\")))\n",
    "print(ress[40], type(ress[40]))\n",
    "seg.set_residues(ress)\n"
   ]
  },
  {
   "cell_type": "code",
   "execution_count": 64,
   "metadata": {},
   "outputs": [
    {
     "name": "stdout",
     "output_type": "stream",
     "text": [
      "N NH1\n",
      "H H\n",
      "CA CT1\n",
      "HA HB\n",
      "ND1 NR3\n",
      "HD1 H\n",
      "NE2 NR3\n",
      "HE2 H\n",
      "CE1 CPH2\n",
      "HE1 HR2\n",
      "CD2 CPH1\n",
      "HD2 HR1\n",
      "CG CPH1\n",
      "CB CT2\n",
      "HB3 HA\n",
      "HB2 HA\n",
      "C C\n",
      "O O\n",
      "\n",
      "BONDS\n",
      "CB CA\n",
      "CG CB\n",
      "ND1 CG\n",
      "CD2 CG\n",
      "CE1 ND1\n",
      "NE2 CD2\n",
      "N H\n",
      "N CA\n",
      "O C\n",
      "C CA\n",
      "C +N\n",
      "NE2 CE1\n",
      "CA HA\n",
      "CB HB3\n",
      "CB HB2\n",
      "ND1 HD1\n",
      "NE2 HE2\n",
      "CD2 HD2\n",
      "CE1 HE1\n"
     ]
    }
   ],
   "source": [
    "for i in range(ress[40].get_number_of_atoms()):\n",
    "    print(ress[40].get_atom(i).get_name(), ress[40].get_atom(i).get_charmm_type())\n",
    "\n",
    "print(\"\\nBONDS\")\n",
    "for i in range(ress[40].get_number_of_bonds()):\n",
    "    print(ress[40].get_bond(i).get_endpoint(0), ress[40].get_bond(i).get_endpoint(1))"
   ]
  },
  {
   "cell_type": "code",
   "execution_count": 65,
   "metadata": {},
   "outputs": [
    {
     "data": {
      "text/plain": [
       "force constant: 453; ideal value: 1"
      ]
     },
     "execution_count": 65,
     "metadata": {},
     "output_type": "execute_result"
    }
   ],
   "source": [
    "ff.get_bond_parameters(\"NR3\", \"H\")"
   ]
  },
  {
   "cell_type": "code",
   "execution_count": 43,
   "metadata": {},
   "outputs": [
    {
     "data": {
      "text/plain": [
       "\"CHARMM residue HIS\""
      ]
     },
     "execution_count": 43,
     "metadata": {},
     "output_type": "execute_result"
    }
   ],
   "source": [
    "topology.get_segments()[0].get_residues()[40]"
   ]
  },
  {
   "cell_type": "code",
   "execution_count": 23,
   "metadata": {},
   "outputs": [
    {
     "name": "stdout",
     "output_type": "stream",
     "text": [
      "force constant: 340; ideal value: 1.09\n"
     ]
    }
   ],
   "source": [
    "print(ff.get_bond_parameters(\"CPH2\", \"HR1\"))"
   ]
  },
  {
   "cell_type": "code",
   "execution_count": 48,
   "metadata": {},
   "outputs": [],
   "source": [
    "res = IMP.atom.CHARMMResidueTopology(ff.get_residue_topology(IMP.atom.ResidueType(\"HSP\")))"
   ]
  },
  {
   "cell_type": "code",
   "execution_count": 36,
   "metadata": {},
   "outputs": [
    {
     "name": "stdout",
     "output_type": "stream",
     "text": [
      "N NH1\n",
      "H H\n",
      "CA CT1\n",
      "HA HB\n",
      "ND1 NR3\n",
      "HD1 H\n",
      "NE2 NR3\n",
      "HE2 H\n",
      "CE1 CPH2\n",
      "HE1 HR2\n",
      "CD2 CPH1\n",
      "HD2 HR1\n",
      "CG CPH1\n",
      "CB CT2\n",
      "HB3 HA\n",
      "HB2 HA\n",
      "C C\n",
      "O O\n"
     ]
    },
    {
     "ename": "TypeError",
     "evalue": "in method 'new_CHARMMPatch', argument 1 of type 'std::string'",
     "output_type": "error",
     "traceback": [
      "\u001b[0;31m---------------------------------------------------------------------------\u001b[0m",
      "\u001b[0;31mTypeError\u001b[0m                                 Traceback (most recent call last)",
      "\u001b[0;32m/var/folders/x2/ss4b83151c31mg5h31tlp3ym0000gn/T/ipykernel_31917/932365701.py\u001b[0m in \u001b[0;36m?\u001b[0;34m()\u001b[0m\n\u001b[1;32m      1\u001b[0m \u001b[0mres\u001b[0m \u001b[0;34m=\u001b[0m \u001b[0mff\u001b[0m\u001b[0;34m.\u001b[0m\u001b[0mget_residue_topology\u001b[0m\u001b[0;34m(\u001b[0m\u001b[0mIMP\u001b[0m\u001b[0;34m.\u001b[0m\u001b[0matom\u001b[0m\u001b[0;34m.\u001b[0m\u001b[0mResidueType\u001b[0m\u001b[0;34m(\u001b[0m\u001b[0;34m\"HSP\"\u001b[0m\u001b[0;34m)\u001b[0m\u001b[0;34m)\u001b[0m\u001b[0;34m\u001b[0m\u001b[0;34m\u001b[0m\u001b[0m\n\u001b[1;32m      2\u001b[0m \u001b[0;32mfor\u001b[0m \u001b[0mi\u001b[0m \u001b[0;32min\u001b[0m \u001b[0mrange\u001b[0m\u001b[0;34m(\u001b[0m\u001b[0mres\u001b[0m\u001b[0;34m.\u001b[0m\u001b[0mget_number_of_atoms\u001b[0m\u001b[0;34m(\u001b[0m\u001b[0;34m)\u001b[0m\u001b[0;34m)\u001b[0m\u001b[0;34m:\u001b[0m\u001b[0;34m\u001b[0m\u001b[0;34m\u001b[0m\u001b[0m\n\u001b[1;32m      3\u001b[0m     \u001b[0mprint\u001b[0m\u001b[0;34m(\u001b[0m\u001b[0mres\u001b[0m\u001b[0;34m.\u001b[0m\u001b[0mget_atom\u001b[0m\u001b[0;34m(\u001b[0m\u001b[0mi\u001b[0m\u001b[0;34m)\u001b[0m\u001b[0;34m.\u001b[0m\u001b[0mget_name\u001b[0m\u001b[0;34m(\u001b[0m\u001b[0;34m)\u001b[0m\u001b[0;34m,\u001b[0m \u001b[0mres\u001b[0m\u001b[0;34m.\u001b[0m\u001b[0mget_atom\u001b[0m\u001b[0;34m(\u001b[0m\u001b[0mi\u001b[0m\u001b[0;34m)\u001b[0m\u001b[0;34m.\u001b[0m\u001b[0mget_charmm_type\u001b[0m\u001b[0;34m(\u001b[0m\u001b[0;34m)\u001b[0m\u001b[0;34m)\u001b[0m\u001b[0;34m\u001b[0m\u001b[0;34m\u001b[0m\u001b[0m\n\u001b[1;32m      4\u001b[0m \u001b[0;34m\u001b[0m\u001b[0m\n\u001b[0;32m----> 5\u001b[0;31m \u001b[0mpatch\u001b[0m \u001b[0;34m=\u001b[0m \u001b[0mIMP\u001b[0m\u001b[0;34m.\u001b[0m\u001b[0matom\u001b[0m\u001b[0;34m.\u001b[0m\u001b[0mCHARMMPatch\u001b[0m\u001b[0;34m(\u001b[0m\u001b[0mres\u001b[0m\u001b[0;34m)\u001b[0m\u001b[0;34m\u001b[0m\u001b[0;34m\u001b[0m\u001b[0m\n\u001b[0m",
      "\u001b[0;32m~/opt/anaconda3/envs/imp_221_cctbx/lib/python3.12/site-packages/IMP/atom/__init__.py\u001b[0m in \u001b[0;36m?\u001b[0;34m(self, type)\u001b[0m\n\u001b[1;32m  10561\u001b[0m     \u001b[0;32mdef\u001b[0m \u001b[0m__init__\u001b[0m\u001b[0;34m(\u001b[0m\u001b[0mself\u001b[0m\u001b[0;34m,\u001b[0m \u001b[0mtype\u001b[0m\u001b[0;34m)\u001b[0m\u001b[0;34m:\u001b[0m\u001b[0;34m\u001b[0m\u001b[0;34m\u001b[0m\u001b[0m\n\u001b[1;32m  10562\u001b[0m         \u001b[0;34mr\"\"\"__init__(CHARMMPatch self, std::string type) -> CHARMMPatch\"\"\"\u001b[0m\u001b[0;34m\u001b[0m\u001b[0;34m\u001b[0m\u001b[0m\n\u001b[0;32m> 10563\u001b[0;31m         \u001b[0m_IMP_atom\u001b[0m\u001b[0;34m.\u001b[0m\u001b[0mCHARMMPatch_swiginit\u001b[0m\u001b[0;34m(\u001b[0m\u001b[0mself\u001b[0m\u001b[0;34m,\u001b[0m \u001b[0m_IMP_atom\u001b[0m\u001b[0;34m.\u001b[0m\u001b[0mnew_CHARMMPatch\u001b[0m\u001b[0;34m(\u001b[0m\u001b[0mtype\u001b[0m\u001b[0;34m)\u001b[0m\u001b[0;34m)\u001b[0m\u001b[0;34m\u001b[0m\u001b[0;34m\u001b[0m\u001b[0m\n\u001b[0m",
      "\u001b[0;31mTypeError\u001b[0m: in method 'new_CHARMMPatch', argument 1 of type 'std::string'"
     ]
    }
   ],
   "source": [
    "for i in range(res.get_number_of_atoms()):\n",
    "    print(res.get_atom(i).get_name(), res.get_atom(i).get_charmm_type())"
   ]
  },
  {
   "cell_type": "code",
   "execution_count": 37,
   "metadata": {},
   "outputs": [],
   "source": [
    "patch = IMP.atom.CHARMMPatch(\"abc\")\n",
    "patch."
   ]
  },
  {
   "cell_type": "code",
   "execution_count": 14,
   "metadata": {},
   "outputs": [
    {
     "data": {
      "text/plain": [
       "IMP.atom.CHARMMResidueTopology"
      ]
     },
     "execution_count": 14,
     "metadata": {},
     "output_type": "execute_result"
    }
   ],
   "source": [
    "res = topology.get_segments()[0].get_residue(40)\n",
    "type(res)"
   ]
  },
  {
   "cell_type": "code",
   "execution_count": 18,
   "metadata": {},
   "outputs": [
    {
     "name": "stdout",
     "output_type": "stream",
     "text": [
      "HIS\n",
      "N NH1\n",
      "H H\n",
      "CA CT1\n",
      "HA HB\n",
      "ND1 NR1\n",
      "HD1 H\n",
      "CG CPH1\n",
      "CB CT2\n",
      "HB3 HA\n",
      "HB2 HA\n",
      "NE2 NR2\n",
      "CD2 CPH1\n",
      "HD2 HR3\n",
      "CE1 CPH2\n",
      "HE1 HR1\n",
      "C C\n",
      "O O\n"
     ]
    }
   ],
   "source": [
    "print(res.get_type())\n",
    "for i in range(res.get_number_of_atoms()):\n",
    "    atom = res.get_atom(i)\n",
    "    print(atom.get_name(), atom.get_charmm_type())"
   ]
  },
  {
   "cell_type": "code",
   "execution_count": 4,
   "metadata": {},
   "outputs": [
    {
     "name": "stdout",
     "output_type": "stream",
     "text": [
      "Atom H1 of residue 1\n",
      "Atom HE2 of residue 41\n",
      "Atom HE2 of residue 80\n",
      "Atom HE2 of residue 163\n",
      "Atom HE2 of residue 172\n",
      "Atom HE2 of residue 246\n",
      "Atom HET: S   of residue 401\n",
      "Atom HET: O   of residue 401\n",
      "Atom HET: C1  of residue 401\n",
      "Atom HET: C2  of residue 401\n",
      "Atom HET: H11 of residue 401\n",
      "Atom HET: H12 of residue 401\n",
      "Atom HET: H13 of residue 401\n",
      "Atom HET: H21 of residue 401\n",
      "Atom HET: H22 of residue 401\n",
      "Atom HET: H23 of residue 401\n",
      "Atom HET: S   of residue 402\n",
      "Atom HET: O   of residue 402\n",
      "Atom HET: C1  of residue 402\n",
      "Atom HET: C2  of residue 402\n",
      "Atom HET: H11 of residue 402\n",
      "Atom HET: H12 of residue 402\n",
      "Atom HET: H13 of residue 402\n",
      "Atom HET: H21 of residue 402\n",
      "Atom HET: H22 of residue 402\n",
      "Atom HET: H23 of residue 402\n",
      "Atom HET: S   of residue 403\n",
      "Atom HET: O   of residue 403\n",
      "Atom HET: C1  of residue 403\n",
      "Atom HET: C2  of residue 403\n",
      "Atom HET: H11 of residue 403\n",
      "Atom HET: H12 of residue 403\n",
      "Atom HET: H13 of residue 403\n",
      "Atom HET: H21 of residue 403\n",
      "Atom HET: H22 of residue 403\n",
      "Atom HET: H23 of residue 403\n",
      "Atom HET: S   of residue 404\n",
      "Atom HET: O   of residue 404\n",
      "Atom HET: C1  of residue 404\n",
      "Atom HET: C2  of residue 404\n",
      "Atom HET: H11 of residue 404\n",
      "Atom HET: H12 of residue 404\n",
      "Atom HET: H13 of residue 404\n",
      "Atom HET: H21 of residue 404\n",
      "Atom HET: H22 of residue 404\n",
      "Atom HET: H23 of residue 404\n",
      "Atom HET: S   of residue 405\n",
      "Atom HET: O   of residue 405\n",
      "Atom HET: C1  of residue 405\n",
      "Atom HET: C2  of residue 405\n",
      "Atom HET: H11 of residue 405\n",
      "Atom HET: H12 of residue 405\n",
      "Atom HET: H13 of residue 405\n",
      "Atom HET: H21 of residue 405\n",
      "Atom HET: H22 of residue 405\n",
      "Atom HET: H23 of residue 405\n",
      "Atom HET:ZN   of residue 406\n",
      "Atom HET: O   of residue 501\n",
      "Atom HET: O   of residue 502\n",
      "Atom HET: O   of residue 503\n",
      "Atom HET: O   of residue 504\n",
      "Atom HET: O   of residue 505\n",
      "Atom HET: O   of residue 506\n",
      "Atom HET: O   of residue 507\n",
      "Atom HET: O   of residue 508\n",
      "Atom HET: O   of residue 509\n",
      "Atom HET: O   of residue 510\n",
      "Atom HET: O   of residue 511\n",
      "Atom HET: O   of residue 512\n",
      "Atom HET: O   of residue 513\n",
      "Atom HET: O   of residue 514\n",
      "Atom HET: O   of residue 515\n",
      "Atom HET: O   of residue 516\n",
      "Atom HET: O   of residue 517\n",
      "Atom HET: O   of residue 518\n",
      "Atom HET: O   of residue 519\n",
      "Atom HET: O   of residue 520\n",
      "Atom HET: O   of residue 521\n",
      "Atom HET: O   of residue 522\n",
      "Atom HET: O   of residue 523\n",
      "Atom HET: O   of residue 524\n",
      "Atom HET: O   of residue 525\n",
      "Atom HET: O   of residue 526\n",
      "Atom HET: O   of residue 527\n",
      "Atom HET: O   of residue 528\n",
      "Atom HET: O   of residue 529\n",
      "Atom HET: O   of residue 530\n",
      "Atom HET: O   of residue 531\n",
      "Atom HET: O   of residue 532\n",
      "Atom HET: O   of residue 533\n",
      "Atom HET: O   of residue 534\n",
      "Atom HET: O   of residue 535\n",
      "Atom HET: O   of residue 536\n",
      "Atom HET: O   of residue 537\n",
      "Atom HET: O   of residue 538\n",
      "Atom HET: O   of residue 539\n",
      "Atom HET: O   of residue 540\n",
      "Atom HET: O   of residue 541\n",
      "Atom HET: O   of residue 542\n",
      "Atom HET: O   of residue 543\n",
      "Atom HET: O   of residue 544\n",
      "Atom HET: O   of residue 545\n",
      "Atom HET: O   of residue 546\n",
      "Atom HET: O   of residue 547\n",
      "Atom HET: O   of residue 548\n",
      "Atom HET: O   of residue 549\n",
      "Atom HET: O   of residue 550\n",
      "Atom HET: O   of residue 551\n",
      "Atom HET: O   of residue 552\n",
      "Atom HET: O   of residue 553\n",
      "Atom HET: O   of residue 554\n",
      "Atom HET: O   of residue 555\n",
      "Atom HET: O   of residue 556\n",
      "Atom HET: O   of residue 557\n",
      "Atom HET: O   of residue 558\n",
      "Atom HET: O   of residue 559\n",
      "Atom HET: O   of residue 560\n",
      "Atom HET: O   of residue 561\n",
      "Atom HET: O   of residue 562\n",
      "Atom HET: O   of residue 563\n",
      "Atom HET: O   of residue 564\n",
      "Atom HET: O   of residue 565\n",
      "Atom HET: O   of residue 566\n",
      "Atom HET: O   of residue 567\n",
      "Atom HET: O   of residue 568\n",
      "Atom HET: O   of residue 569\n",
      "Atom HET: O   of residue 570\n",
      "Atom HET: O   of residue 571\n",
      "Atom HET: O   of residue 572\n",
      "Atom HET: O   of residue 573\n",
      "Atom HET: O   of residue 574\n",
      "Atom HET: O   of residue 575\n",
      "Atom HET: O   of residue 576\n",
      "Atom HET: O   of residue 577\n",
      "Atom HET: O   of residue 578\n",
      "Atom HET: O   of residue 579\n",
      "Atom HET: O   of residue 580\n",
      "Atom HET: O   of residue 581\n",
      "Atom HET: O   of residue 582\n",
      "Atom HET: O   of residue 583\n",
      "Atom HET: O   of residue 584\n",
      "Atom HET: O   of residue 585\n",
      "Atom HET: O   of residue 586\n",
      "Atom HET: O   of residue 587\n",
      "Atom HET: O   of residue 588\n",
      "Atom HET: O   of residue 589\n",
      "Atom HET: O   of residue 590\n",
      "Atom HET: O   of residue 591\n",
      "Atom HET: O   of residue 592\n",
      "Atom HET: O   of residue 593\n",
      "Atom HET: O   of residue 594\n",
      "Atom HET: O   of residue 595\n",
      "Atom HET: O   of residue 596\n",
      "Atom HET: O   of residue 597\n",
      "Atom HET: O   of residue 598\n",
      "Atom HET: O   of residue 599\n",
      "Atom HET: O   of residue 600\n",
      "Atom HET: O   of residue 601\n",
      "Atom HET: O   of residue 602\n",
      "Atom HET: O   of residue 603\n",
      "Atom HET: O   of residue 604\n",
      "Atom HET: O   of residue 605\n",
      "Atom HET: O   of residue 606\n",
      "Atom HET: O   of residue 607\n",
      "Atom HET: O   of residue 608\n",
      "Atom HET: O   of residue 609\n",
      "Atom HET: O   of residue 610\n",
      "Atom HET: O   of residue 611\n",
      "Atom HET: O   of residue 612\n",
      "Atom HET: O   of residue 613\n",
      "Atom HET: O   of residue 614\n",
      "Atom HET: O   of residue 615\n",
      "Atom HET: O   of residue 616\n",
      "Atom HET: O   of residue 617\n",
      "Atom HET: O   of residue 618\n",
      "Atom HET: O   of residue 619\n",
      "Atom HET: O   of residue 620\n",
      "Atom HET: O   of residue 621\n",
      "Atom HET: O   of residue 622\n",
      "Atom HET: O   of residue 623\n",
      "Atom HET: O   of residue 624\n",
      "Atom HET: O   of residue 625\n",
      "Atom HET: O   of residue 626\n",
      "Atom HET: O   of residue 627\n",
      "Atom HET: O   of residue 628\n",
      "Atom HET: O   of residue 629\n",
      "Atom HET: O   of residue 630\n",
      "Atom HET: O   of residue 631\n",
      "Atom HET: O   of residue 632\n",
      "Atom HET: O   of residue 633\n",
      "Atom HET: O   of residue 634\n",
      "Atom HET: O   of residue 635\n",
      "Atom HET: O   of residue 636\n",
      "Atom HET: O   of residue 637\n",
      "Atom HET: O   of residue 638\n",
      "Atom HET: O   of residue 639\n",
      "Atom HET: O   of residue 640\n",
      "Atom HET: O   of residue 641\n",
      "Atom HET: O   of residue 642\n",
      "Atom HET: O   of residue 643\n",
      "Atom HET: O   of residue 644\n",
      "Atom HET: O   of residue 645\n",
      "Atom HET: O   of residue 646\n",
      "Atom HET: O   of residue 647\n",
      "Atom HET: O   of residue 648\n",
      "Atom HET: O   of residue 649\n",
      "Atom HET: O   of residue 650\n",
      "Atom HET: O   of residue 651\n",
      "Atom HET: O   of residue 652\n",
      "Atom HET: O   of residue 653\n",
      "Atom HET: O   of residue 654\n",
      "Atom HET: O   of residue 655\n",
      "Atom HET: O   of residue 656\n",
      "Atom HET: O   of residue 657\n",
      "Atom HET: O   of residue 658\n",
      "Atom HET: O   of residue 659\n",
      "Atom HET: O   of residue 660\n",
      "Atom HET: O   of residue 661\n",
      "Atom HET: O   of residue 662\n",
      "Atom HET: O   of residue 663\n",
      "Atom HET: O   of residue 664\n",
      "Atom HET: O   of residue 665\n",
      "Atom HET: O   of residue 666\n",
      "Atom HET: O   of residue 667\n",
      "Atom HET: O   of residue 668\n",
      "Atom HET: O   of residue 669\n",
      "Atom HET: O   of residue 670\n",
      "Atom HET: O   of residue 671\n",
      "Atom HET: O   of residue 672\n",
      "Atom HET: O   of residue 673\n",
      "Atom HET: O   of residue 674\n",
      "Atom HET: O   of residue 675\n",
      "Atom HET: O   of residue 676\n",
      "Atom HET: O   of residue 677\n",
      "Atom HET: O   of residue 678\n",
      "Atom HET: O   of residue 679\n",
      "Atom HET: O   of residue 680\n",
      "Atom HET: O   of residue 681\n",
      "Atom HET: O   of residue 682\n",
      "Atom HET: O   of residue 683\n",
      "Atom HET: O   of residue 684\n",
      "Atom HET: O   of residue 685\n",
      "Atom HET: O   of residue 686\n",
      "Atom HET: O   of residue 687\n",
      "Atom HET: O   of residue 688\n",
      "Atom HET: O   of residue 689\n",
      "Atom HET: O   of residue 690\n",
      "Atom HET: O   of residue 691\n",
      "Atom HET: O   of residue 692\n",
      "Atom HET: O   of residue 693\n",
      "Atom HET: O   of residue 694\n",
      "Atom HET: O   of residue 695\n",
      "Atom HET: O   of residue 696\n",
      "Atom HET: O   of residue 697\n",
      "Atom HET: O   of residue 698\n",
      "Atom HET: O   of residue 699\n",
      "Atom HET: O   of residue 700\n",
      "Atom HET: O   of residue 701\n",
      "Atom HET: O   of residue 702\n",
      "Atom HET: O   of residue 703\n",
      "Atom HET: O   of residue 704\n",
      "Atom HET: O   of residue 705\n",
      "Atom HET: O   of residue 706\n",
      "Atom HET: O   of residue 707\n",
      "Atom HET: O   of residue 708\n",
      "Atom HET: O   of residue 709\n",
      "Atom HET: O   of residue 710\n",
      "Atom HET: O   of residue 711\n",
      "Atom HET: O   of residue 712\n",
      "Atom HET: O   of residue 713\n",
      "Atom HET: O   of residue 714\n",
      "Atom HET: O   of residue 715\n",
      "Atom HET: O   of residue 716\n",
      "Atom HET: O   of residue 717\n",
      "Atom HET: O   of residue 718\n",
      "Atom HET: O   of residue 719\n",
      "Atom HET: O   of residue 720\n",
      "Atom HET: O   of residue 721\n",
      "Atom HET: O   of residue 722\n",
      "Atom HET: O   of residue 723\n",
      "Atom HET: O   of residue 724\n",
      "Atom HET: O   of residue 725\n",
      "Atom HET: O   of residue 726\n",
      "Atom HET: O   of residue 727\n",
      "Atom HET: O   of residue 728\n",
      "Atom HET: O   of residue 729\n",
      "Atom HET: O   of residue 730\n",
      "Atom HET: O   of residue 731\n",
      "Atom HET: O   of residue 732\n",
      "Atom HET: O   of residue 733\n",
      "Atom HET: O   of residue 734\n",
      "Atom HET: O   of residue 735\n",
      "Atom HET: O   of residue 736\n",
      "Atom HET: O   of residue 737\n",
      "Atom HET: O   of residue 738\n",
      "Atom HET: O   of residue 739\n",
      "Atom HET: O   of residue 740\n",
      "Atom HET: O   of residue 741\n",
      "Atom HET: O   of residue 742\n",
      "Atom HET: O   of residue 743\n",
      "Atom HET: O   of residue 744\n",
      "Atom HET: O   of residue 745\n",
      "Atom HET: O   of residue 746\n",
      "Atom HET: O   of residue 747\n",
      "Atom HET: O   of residue 748\n",
      "Atom HET: O   of residue 749\n",
      "Atom HET: O   of residue 750\n",
      "Atom HET: O   of residue 751\n",
      "Atom HET: O   of residue 752\n",
      "Atom HET: O   of residue 753\n",
      "Atom HET: O   of residue 754\n",
      "Atom HET: O   of residue 755\n",
      "Atom HET: O   of residue 756\n",
      "Atom HET: O   of residue 757\n",
      "Atom HET: O   of residue 758\n",
      "Atom HET: O   of residue 759\n",
      "Atom HET: O   of residue 760\n",
      "Atom HET: O   of residue 761\n",
      "Atom HET: O   of residue 762\n",
      "Atom HET: O   of residue 763\n",
      "Atom HET: O   of residue 764\n",
      "Atom HET: O   of residue 765\n",
      "Atom HET: O   of residue 766\n",
      "Atom HET: O   of residue 767\n",
      "Atom HET: O   of residue 768\n",
      "Atom HET: O   of residue 769\n",
      "Atom HET: O   of residue 770\n",
      "Atom HET: O   of residue 771\n",
      "Atom HET: O   of residue 772\n",
      "Atom HET: O   of residue 773\n",
      "Atom HET: O   of residue 774\n",
      "Atom HET: O   of residue 775\n",
      "Atom HET: O   of residue 776\n",
      "Atom HET: O   of residue 777\n",
      "Atom HET: O   of residue 778\n",
      "Atom HET: O   of residue 779\n",
      "Atom HET: O   of residue 780\n",
      "Atom HET: O   of residue 781\n",
      "Atom HET: O   of residue 782\n",
      "Atom HET: O   of residue 783\n",
      "Atom HET: O   of residue 784\n",
      "Atom HET: O   of residue 785\n",
      "Atom HET: O   of residue 786\n",
      "Atom HET: O   of residue 787\n",
      "Atom HET: O   of residue 788\n",
      "Atom HET: O   of residue 789\n",
      "Atom HET: O   of residue 790\n",
      "Atom HET: O   of residue 791\n",
      "Atom HET: O   of residue 792\n",
      "Atom HET: O   of residue 793\n",
      "Atom HET: O   of residue 794\n",
      "Atom HET: O   of residue 795\n",
      "Atom HET: O   of residue 796\n",
      "Atom HET: O   of residue 797\n",
      "Atom HET: O   of residue 798\n",
      "Atom HET: O   of residue 799\n",
      "Atom HET: O   of residue 800\n",
      "Atom HET: O   of residue 801\n",
      "Atom HET: O   of residue 802\n",
      "Atom HET: O   of residue 803\n",
      "Atom HET: O   of residue 804\n",
      "Atom HET: O   of residue 805\n",
      "Atom HET: O   of residue 806\n",
      "Atom HET: O   of residue 807\n",
      "Atom HET: O   of residue 808\n",
      "Atom HET: O   of residue 809\n",
      "Atom HET: O   of residue 810\n",
      "Atom HET: O   of residue 811\n"
     ]
    }
   ],
   "source": [
    "for pid in IMP.atom.Selection(h).get_selected_particle_indexes():\n",
    "    if not IMP.atom.CHARMMAtom.get_is_setup(m, pid):\n",
    "        print(IMP.atom.Atom(m, pid).get_name())\n"
   ]
  },
  {
   "cell_type": "code",
   "execution_count": 5,
   "metadata": {},
   "outputs": [
    {
     "name": "stdout",
     "output_type": "stream",
     "text": [
      "NR2\n",
      "NR1\n"
     ]
    }
   ],
   "source": [
    "pid = IMP.atom.Selection(h, residue_index=80, atom_type=IMP.atom.AtomType(\"NE2\")).get_selected_particle_indexes()[0]\n",
    "charmm_at = IMP.atom.CHARMMAtom(m, pid)\n",
    "print(charmm_at.get_charmm_type())\n",
    "charmm_at.set_charmm_type(\"NR1\")\n",
    "print(charmm_at.get_charmm_type())"
   ]
  },
  {
   "cell_type": "code",
   "execution_count": 7,
   "metadata": {},
   "outputs": [
    {
     "ename": "ValueException",
     "evalue": "Patch HSP does not exist\n",
     "output_type": "error",
     "traceback": [
      "\u001b[0;31m---------------------------------------------------------------------------\u001b[0m",
      "\u001b[0;31mValueException\u001b[0m                            Traceback (most recent call last)",
      "\u001b[0;32m/var/folders/x2/ss4b83151c31mg5h31tlp3ym0000gn/T/ipykernel_31917/1943727000.py\u001b[0m in \u001b[0;36m?\u001b[0;34m()\u001b[0m\n\u001b[0;32m----> 1\u001b[0;31m \u001b[0mprotonation_patch\u001b[0m \u001b[0;34m=\u001b[0m \u001b[0mff\u001b[0m\u001b[0;34m.\u001b[0m\u001b[0mget_patch\u001b[0m\u001b[0;34m(\u001b[0m\u001b[0;34m'HSP'\u001b[0m\u001b[0;34m)\u001b[0m\u001b[0;34m\u001b[0m\u001b[0;34m\u001b[0m\u001b[0m\n\u001b[0m",
      "\u001b[0;32m~/opt/anaconda3/envs/imp_221_cctbx/lib/python3.12/site-packages/IMP/atom/__init__.py\u001b[0m in \u001b[0;36m?\u001b[0;34m(self, name)\u001b[0m\n\u001b[1;32m  11013\u001b[0m     \u001b[0;32mdef\u001b[0m \u001b[0mget_patch\u001b[0m\u001b[0;34m(\u001b[0m\u001b[0mself\u001b[0m\u001b[0;34m,\u001b[0m \u001b[0mname\u001b[0m\u001b[0;34m)\u001b[0m\u001b[0;34m:\u001b[0m\u001b[0;34m\u001b[0m\u001b[0;34m\u001b[0m\u001b[0m\n\u001b[1;32m  11014\u001b[0m         \u001b[0;34mr\"\"\"get_patch(CHARMMParameters self, std::string name) -> CHARMMPatch\"\"\"\u001b[0m\u001b[0;34m\u001b[0m\u001b[0;34m\u001b[0m\u001b[0m\n\u001b[0;32m> 11015\u001b[0;31m         \u001b[0;32mreturn\u001b[0m \u001b[0m_IMP_atom\u001b[0m\u001b[0;34m.\u001b[0m\u001b[0mCHARMMParameters_get_patch\u001b[0m\u001b[0;34m(\u001b[0m\u001b[0mself\u001b[0m\u001b[0;34m,\u001b[0m \u001b[0mname\u001b[0m\u001b[0;34m)\u001b[0m\u001b[0;34m\u001b[0m\u001b[0;34m\u001b[0m\u001b[0m\n\u001b[0m",
      "\u001b[0;31mValueException\u001b[0m: Patch HSP does not exist\n"
     ]
    }
   ],
   "source": [
    "protonation_patch = ff.get_patch('HSP')\n"
   ]
  },
  {
   "cell_type": "code",
   "execution_count": 7,
   "metadata": {},
   "outputs": [
    {
     "name": "stdout",
     "output_type": "stream",
     "text": [
      "NR2\n",
      "NR1\n",
      "N NH1\n",
      "H H\n",
      "CA CT1\n",
      "HA HB\n",
      "ND1 NR1\n",
      "HD1 H\n",
      "CG CPH1\n",
      "CB CT2\n",
      "HB3 HA\n",
      "HB2 HA\n",
      "NE2 NR2\n",
      "CD2 CPH1\n",
      "HD2 HR3\n",
      "CE1 CPH2\n",
      "HE1 HR1\n",
      "C C\n",
      "O O\n",
      "0 CB CA\n",
      "1 CG CB\n",
      "2 ND1 CG\n",
      "3 CD2 CG\n",
      "4 CE1 ND1\n",
      "5 NE2 CD2\n",
      "6 N H\n",
      "7 N CA\n",
      "8 O C\n",
      "9 C CA\n",
      "10 C +N\n",
      "11 NE2 CE1\n",
      "12 CA HA\n",
      "13 CB HB3\n",
      "14 CB HB2\n",
      "15 ND1 HD1\n",
      "16 CD2 HD2\n",
      "17 CE1 HE1\n"
     ]
    }
   ],
   "source": [
    "res = topology.get_segment(0).get_residue(79)\n",
    "# print(type(res))\n",
    "# res_patch = IMP.atom.CHARMMResidueTopology(IMP.atom.HIS)\n",
    "# res_patch.get_atom(10)\n",
    "\n",
    "charmm_at_top = res.get_atom(10)\n",
    "\n",
    "print(charmm_at_top.get_charmm_type())\n",
    "charmm_at_top.set_charmm_type(\"NR1\")\n",
    "print(charmm_at_top.get_charmm_type())\n",
    "\n",
    "for i in range(res.get_number_of_atoms()):\n",
    "    atom = res.get_atom(i)\n",
    "    print(atom.get_name(), atom.get_charmm_type())\n",
    "\n",
    "for i in range(res.get_number_of_bonds()):\n",
    "    bond = res.get_bond(i)\n",
    "    print(i, bond.get_endpoint(0), bond.get_endpoint(1))"
   ]
  },
  {
   "cell_type": "code",
   "execution_count": 4,
   "metadata": {},
   "outputs": [
    {
     "name": "stdout",
     "output_type": "stream",
     "text": [
      "Atom H1 of residue 1 HC\n"
     ]
    }
   ],
   "source": [
    "pids = IMP.atom.Selection(h,residue_index=1).get_selected_particle_indexes()\n",
    "pid = pids[6]\n",
    "\n",
    "IMP.atom.CHARMMAtom.setup_particle(m, pid, \"HC\")\n",
    "\n",
    "at = IMP.atom.CHARMMAtom(m, pid)\n",
    "print(at.get_name(), at.get_charmm_type())"
   ]
  },
  {
   "cell_type": "code",
   "execution_count": 5,
   "metadata": {},
   "outputs": [
    {
     "data": {
      "text/plain": [
       "623"
      ]
     },
     "execution_count": 5,
     "metadata": {},
     "output_type": "execute_result"
    }
   ],
   "source": [
    "segment = topology.get_segment(0)\n",
    "segment.get_number_of_residues()"
   ]
  },
  {
   "cell_type": "code",
   "execution_count": 6,
   "metadata": {},
   "outputs": [
    {
     "name": "stdout",
     "output_type": "stream",
     "text": [
      "13\n",
      "13\n"
     ]
    }
   ],
   "source": [
    "res = segment.get_residue(0)\n",
    "print(res.get_number_of_atoms())\n",
    "print(res.get_number_of_bonds())\n",
    "res.set_patched(False)"
   ]
  },
  {
   "cell_type": "code",
   "execution_count": 7,
   "metadata": {},
   "outputs": [
    {
     "name": "stdout",
     "output_type": "stream",
     "text": [
      "N NH3\n",
      "H HC\n",
      "CA CT1\n",
      "HA HB\n",
      "CB CT2\n",
      "HB3 HA\n",
      "HB2 HA\n",
      "OG OH1\n",
      "HG H\n",
      "C C\n",
      "O O\n",
      "H2 HC\n",
      "H3 HC\n"
     ]
    }
   ],
   "source": [
    "for i in range(res.get_number_of_atoms()):\n",
    "    atom = res.get_atom(i)\n",
    "    print(atom.get_name(), atom.get_charmm_type())"
   ]
  },
  {
   "cell_type": "code",
   "execution_count": 8,
   "metadata": {},
   "outputs": [],
   "source": [
    "# h1 = IMP.atom.CHARMMAtomTopology(\"H1\")\n",
    "# h1.set_charmm_type(\"HC\")\n",
    "# h1.get_charmm_type()\n",
    "\n",
    "bond = IMP.atom.CHARMMBond([\"H\", \"N\"])"
   ]
  },
  {
   "cell_type": "code",
   "execution_count": 10,
   "metadata": {},
   "outputs": [],
   "source": [
    "\n",
    "patch = IMP.atom.CHARMMPatch(\"NH3\")\n",
    "# patch.add_atom(h1)\n",
    "patch.add_bond(bond)\n"
   ]
  },
  {
   "cell_type": "code",
   "execution_count": 11,
   "metadata": {},
   "outputs": [],
   "source": [
    "patch.apply(res)\n"
   ]
  },
  {
   "cell_type": "code",
   "execution_count": 12,
   "metadata": {},
   "outputs": [
    {
     "name": "stdout",
     "output_type": "stream",
     "text": [
      "13\n",
      "14\n",
      "N NH3\n",
      "H HC\n",
      "CA CT1\n",
      "HA HB\n",
      "CB CT2\n",
      "HB3 HA\n",
      "HB2 HA\n",
      "OG OH1\n",
      "HG H\n",
      "C C\n",
      "O O\n",
      "H2 HC\n",
      "H3 HC\n"
     ]
    }
   ],
   "source": [
    "print(res.get_number_of_atoms())\n",
    "print(res.get_number_of_bonds())\n",
    "for i in range(res.get_number_of_atoms()):\n",
    "    atom = res.get_atom(i)\n",
    "    print(atom.get_name(), atom.get_charmm_type())"
   ]
  },
  {
   "cell_type": "code",
   "execution_count": 13,
   "metadata": {},
   "outputs": [
    {
     "name": "stdout",
     "output_type": "stream",
     "text": [
      "CB CA\n",
      "OG CB\n",
      "N H\n",
      "N CA\n",
      "O C\n",
      "C CA\n",
      "C +N\n",
      "CA HA\n",
      "CB HB3\n",
      "CB HB2\n",
      "OG HG\n",
      "H2 N\n",
      "H3 N\n",
      "H N\n"
     ]
    }
   ],
   "source": [
    "for i in range(14):\n",
    "    bond = res.get_bond(i)\n",
    "    print(bond.get_endpoint(0), bond.get_endpoint(1))"
   ]
  },
  {
   "cell_type": "code",
   "execution_count": 7,
   "metadata": {},
   "outputs": [
    {
     "data": {
      "text/plain": [
       "force constant: 403; ideal value: 1.04"
      ]
     },
     "execution_count": 7,
     "metadata": {},
     "output_type": "execute_result"
    }
   ],
   "source": [
    "ff.get_bond_parameters(\"NH3\", \"HC\")"
   ]
  },
  {
   "cell_type": "code",
   "execution_count": null,
   "metadata": {},
   "outputs": [],
   "source": []
  },
  {
   "cell_type": "code",
   "execution_count": 15,
   "metadata": {},
   "outputs": [
    {
     "name": "stdout",
     "output_type": "stream",
     "text": [
      "Atom N of residue 1 NH3\n",
      "Atom CA of residue 1 CT1\n",
      "Atom C of residue 1 C\n",
      "Atom O of residue 1 O\n",
      "Atom CB of residue 1 CT2\n",
      "Atom OG of residue 1 OH1\n",
      "Atom H1 of residue 1 HC\n",
      "Atom H2 of residue 1 HC\n",
      "Atom H3 of residue 1 HC\n",
      "Atom HA of residue 1 HB\n",
      "Atom HB2 of residue 1 HA\n",
      "Atom HB3 of residue 1 HA\n",
      "Atom HG of residue 1 H\n"
     ]
    }
   ],
   "source": [
    "for pid in IMP.atom.Selection(h, residue_index=1).get_selected_particles():\n",
    "    at = IMP.atom.CHARMMAtom(m, pid)\n",
    "    print(at.get_name(), at.get_charmm_type())\n"
   ]
  },
  {
   "cell_type": "code",
   "execution_count": 16,
   "metadata": {},
   "outputs": [
    {
     "name": "stdout",
     "output_type": "stream",
     "text": [
      " + \"P5937\" \n",
      "  + \"P5938\" Chain A \n",
      "   + \"P5939\" #1 \"SER\" \n",
      "    - \"P5940\" \"N\" (N) \n",
      "    - \"P5941\" \"H\" (H) \n",
      "    - \"P5942\" \"CA\" (C) \n",
      "    - \"P5943\" \"HA\" (H) \n",
      "    - \"P5944\" \"CB\" (C) \n",
      "    - \"P5945\" \"HB3\" (H) \n",
      "    - \"P5946\" \"HB2\" (H) \n",
      "    - \"P5947\" \"OG\" (O) \n",
      "    - \"P5948\" \"HG\" (H) \n",
      "    - \"P5949\" \"C\" (C) \n",
      "    - \"P5950\" \"O\" (O) \n",
      "    - \"P5951\" \"H2\" (H) \n",
      "    - \"P5952\" \"H3\" (H) \n"
     ]
    }
   ],
   "source": [
    "# Add the residue and chain to the top-level topology\n",
    "st = IMP.atom.CHARMMSegmentTopology()\n",
    "st.add_residue(res)\n",
    "t = IMP.atom.CHARMMTopology(ff)\n",
    "t.add_segment(st)\n",
    "\n",
    "# Make a Hierarchy using this topology\n",
    "m = IMP.Model()\n",
    "h = t.create_hierarchy(m)\n",
    "\n",
    "IMP.atom.show(h)"
   ]
  },
  {
   "cell_type": "code",
   "execution_count": 52,
   "metadata": {},
   "outputs": [
    {
     "name": "stdout",
     "output_type": "stream",
     "text": [
      "WARNING  No CHARMM parameters found for bond NR2-\u0011\u0011\u0011\u0011\u0011This is an invalid string in IMP\n"
     ]
    }
   ],
   "source": [
    "rs = list()\n",
    "# topology.add_missing_atoms(h)\n",
    "bonds = topology.add_bonds(h)\n",
    "angles = ff.create_angles(bonds)\n",
    "dihedrals = ff.create_dihedrals(bonds)\n",
    "impropers = topology.add_impropers(h)\n",
    "# charges = topology.add_charges(h)\n",
    "\n",
    "# Add a restraint on the bond lengths.\n",
    "cont = IMP.container.ListSingletonContainer(m, bonds, \"bnd\")\n",
    "bss = IMP.atom.BondSingletonScore(IMP.core.Harmonic(0, 1))\n",
    "r = IMP.container.SingletonsRestraint(bss, cont, \"bnd\")\n",
    "rs.append(r)\n",
    "\n",
    "# Add a restraint on the bond angles.\n",
    "cont = IMP.container.ListSingletonContainer(m, angles, \"ang\")\n",
    "bss = IMP.atom.AngleSingletonScore(IMP.core.Harmonic(0, 1))\n",
    "r = IMP.container.SingletonsRestraint(bss, cont, \"ang\")\n",
    "rs.append(r)\n",
    "\n",
    "# Add a restraint on the dihedral angles.\n",
    "cont = IMP.container.ListSingletonContainer(m, dihedrals, \"dih\")\n",
    "bss = IMP.atom.DihedralSingletonScore()\n",
    "r = IMP.container.SingletonsRestraint(bss, cont, \"dih\")\n",
    "rs.append(r)\n",
    "\n",
    "# Add a restraint on the improper dihedrals (out of plane bending).\n",
    "cont = IMP.container.ListSingletonContainer(m, impropers, \"imp\")\n",
    "bss = IMP.atom.ImproperSingletonScore(IMP.core.Harmonic(0, 1))\n",
    "rs.append(IMP.container.SingletonsRestraint(bss, cont, \"imp\"))\n",
    "\n",
    "# Add a restraint on the non-bonded atoms (Lennard-Jones potential).\n",
    "ff.add_radii(h)\n",
    "ff.add_well_depths(h)\n",
    "atoms = IMP.atom.get_by_type(h, IMP.atom.ATOM_TYPE)\n",
    "cont = IMP.container.ListSingletonContainer(m, atoms)\n",
    "nbl = IMP.container.ClosePairContainer(cont, 10)\n",
    "pair_filter = IMP.atom.StereochemistryPairFilter()\n",
    "pair_filter.set_bonds(bonds)\n",
    "pair_filter.set_angles(angles)\n",
    "pair_filter.set_dihedrals(dihedrals)\n",
    "nbl.add_pair_filter(pair_filter)\n",
    "sf = IMP.atom.ForceSwitch(6.0, 7.0)\n",
    "ljps = IMP.atom.LennardJonesPairScore(sf)\n",
    "rs.append(IMP.container.PairsRestraint(ljps, nbl, \"nbd\"))\n"
   ]
  },
  {
   "cell_type": "code",
   "execution_count": 17,
   "metadata": {},
   "outputs": [],
   "source": [
    "# for pid in IMP.atom.Selection(h).get_selected_particle_indexes():\n",
    "#     charmm_at = IMP.atom.CHARMMAtom(m, pid)\n",
    "#     at = IMP.atom.Atom(m, pid)\n",
    "#     print(charmm_at.get_charmm_type(), at.get_element())"
   ]
  },
  {
   "cell_type": "code",
   "execution_count": 18,
   "metadata": {},
   "outputs": [
    {
     "data": {
      "text/plain": [
       "1.850023264346763e+29"
      ]
     },
     "execution_count": 18,
     "metadata": {},
     "output_type": "execute_result"
    }
   ],
   "source": [
    "sf = IMP.core.RestraintsScoringFunction(rs)\n",
    "cg = IMP.core.ConjugateGradients(m)\n",
    "cg.set_scoring_function(sf)\n",
    "\n",
    "cg.optimize(10)"
   ]
  },
  {
   "cell_type": "code",
   "execution_count": 17,
   "metadata": {},
   "outputs": [
    {
     "data": {
      "text/plain": [
       "'/Users/matthew/opt/anaconda3/envs/imp_221_cctbx/share/IMP/atom/top.lib'"
      ]
     },
     "execution_count": 17,
     "metadata": {},
     "output_type": "execute_result"
    }
   ],
   "source": [
    "IMP.atom.get_data_path(\"top.lib\")"
   ]
  },
  {
   "cell_type": "code",
   "execution_count": 17,
   "metadata": {},
   "outputs": [],
   "source": [
    "IMP.atom.write_pdb(h, str(Path(Path.home(), \"Documents/xray/tmp/tmp.pdb\")))"
   ]
  },
  {
   "cell_type": "code",
   "execution_count": null,
   "metadata": {},
   "outputs": [],
   "source": []
  },
  {
   "cell_type": "code",
   "execution_count": null,
   "metadata": {},
   "outputs": [],
   "source": []
  }
 ],
 "metadata": {
  "kernelspec": {
   "display_name": "imp_221_cctbx",
   "language": "python",
   "name": "python3"
  },
  "language_info": {
   "codemirror_mode": {
    "name": "ipython",
    "version": 3
   },
   "file_extension": ".py",
   "mimetype": "text/x-python",
   "name": "python",
   "nbconvert_exporter": "python",
   "pygments_lexer": "ipython3",
   "version": "3.12.5"
  }
 },
 "nbformat": 4,
 "nbformat_minor": 2
}
