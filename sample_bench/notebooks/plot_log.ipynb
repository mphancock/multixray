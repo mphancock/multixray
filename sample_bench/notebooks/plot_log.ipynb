{
 "cells": [
  {
   "cell_type": "code",
   "execution_count": 26,
   "metadata": {},
   "outputs": [],
   "source": [
    "import pandas as pd\n",
    "import numpy as np\n",
    "from pathlib import Path\n",
    "import matplotlib.pyplot as plt\n",
    "import seaborn as sns\n",
    "sns.set_theme()\n",
    "import matplotlib.colors as mcolors"
   ]
  },
  {
   "cell_type": "code",
   "execution_count": 27,
   "metadata": {},
   "outputs": [
    {
     "data": {
      "text/html": [
       "<div>\n",
       "<style scoped>\n",
       "    .dataframe tbody tr th:only-of-type {\n",
       "        vertical-align: middle;\n",
       "    }\n",
       "\n",
       "    .dataframe tbody tr th {\n",
       "        vertical-align: top;\n",
       "    }\n",
       "\n",
       "    .dataframe thead th {\n",
       "        text-align: right;\n",
       "    }\n",
       "</style>\n",
       "<table border=\"1\" class=\"dataframe\">\n",
       "  <thead>\n",
       "    <tr style=\"text-align: right;\">\n",
       "      <th></th>\n",
       "      <th>step</th>\n",
       "      <th>time</th>\n",
       "      <th>ff</th>\n",
       "      <th>xray_7mhf</th>\n",
       "      <th>r_free_0</th>\n",
       "      <th>r_work_0</th>\n",
       "      <th>xray_7mhg</th>\n",
       "      <th>r_free_1</th>\n",
       "      <th>r_work_1</th>\n",
       "      <th>rmsd_7mhf</th>\n",
       "      <th>rmsd_7mhg</th>\n",
       "      <th>w_0_7mhf</th>\n",
       "      <th>w_0_7mhg</th>\n",
       "      <th>w_1_7mhf</th>\n",
       "      <th>w_1_7mhg</th>\n",
       "      <th>pdb</th>\n",
       "      <th>copy</th>\n",
       "    </tr>\n",
       "  </thead>\n",
       "  <tbody>\n",
       "    <tr>\n",
       "      <th>0</th>\n",
       "      <td>0.0</td>\n",
       "      <td>7.152557e-07</td>\n",
       "      <td>1813.821180</td>\n",
       "      <td>5.703758</td>\n",
       "      <td>0.317452</td>\n",
       "      <td>0.322904</td>\n",
       "      <td>5.512399</td>\n",
       "      <td>0.287134</td>\n",
       "      <td>0.280619</td>\n",
       "      <td>0.243242</td>\n",
       "      <td>0.000000</td>\n",
       "      <td>0.502984</td>\n",
       "      <td>0.89055</td>\n",
       "      <td>0.497016</td>\n",
       "      <td>0.10945</td>\n",
       "      <td>/wynton/group/sali/mhancock/xray/sample_bench/...</td>\n",
       "      <td>1.0</td>\n",
       "    </tr>\n",
       "    <tr>\n",
       "      <th>1</th>\n",
       "      <td>1.0</td>\n",
       "      <td>1.068301e+01</td>\n",
       "      <td>1992.523030</td>\n",
       "      <td>5.702980</td>\n",
       "      <td>0.317178</td>\n",
       "      <td>0.322449</td>\n",
       "      <td>5.512116</td>\n",
       "      <td>0.287203</td>\n",
       "      <td>0.280553</td>\n",
       "      <td>0.243409</td>\n",
       "      <td>0.010482</td>\n",
       "      <td>0.502984</td>\n",
       "      <td>0.89055</td>\n",
       "      <td>0.497016</td>\n",
       "      <td>0.10945</td>\n",
       "      <td>NaN</td>\n",
       "      <td>0.0</td>\n",
       "    </tr>\n",
       "    <tr>\n",
       "      <th>2</th>\n",
       "      <td>2.0</td>\n",
       "      <td>1.430573e+01</td>\n",
       "      <td>4258.209771</td>\n",
       "      <td>5.703632</td>\n",
       "      <td>0.317315</td>\n",
       "      <td>0.322544</td>\n",
       "      <td>5.514714</td>\n",
       "      <td>0.288915</td>\n",
       "      <td>0.281181</td>\n",
       "      <td>0.229561</td>\n",
       "      <td>0.084484</td>\n",
       "      <td>0.502984</td>\n",
       "      <td>0.89055</td>\n",
       "      <td>0.497016</td>\n",
       "      <td>0.10945</td>\n",
       "      <td>NaN</td>\n",
       "      <td>0.0</td>\n",
       "    </tr>\n",
       "    <tr>\n",
       "      <th>3</th>\n",
       "      <td>3.0</td>\n",
       "      <td>1.792228e+01</td>\n",
       "      <td>4844.326061</td>\n",
       "      <td>5.701553</td>\n",
       "      <td>0.317594</td>\n",
       "      <td>0.322081</td>\n",
       "      <td>5.512344</td>\n",
       "      <td>0.288647</td>\n",
       "      <td>0.280144</td>\n",
       "      <td>0.229762</td>\n",
       "      <td>0.083524</td>\n",
       "      <td>0.502984</td>\n",
       "      <td>0.89055</td>\n",
       "      <td>0.497016</td>\n",
       "      <td>0.10945</td>\n",
       "      <td>NaN</td>\n",
       "      <td>0.0</td>\n",
       "    </tr>\n",
       "    <tr>\n",
       "      <th>4</th>\n",
       "      <td>4.0</td>\n",
       "      <td>2.153111e+01</td>\n",
       "      <td>5467.213599</td>\n",
       "      <td>5.696618</td>\n",
       "      <td>0.318160</td>\n",
       "      <td>0.320050</td>\n",
       "      <td>5.510455</td>\n",
       "      <td>0.289664</td>\n",
       "      <td>0.279933</td>\n",
       "      <td>0.229779</td>\n",
       "      <td>0.083846</td>\n",
       "      <td>0.502984</td>\n",
       "      <td>0.89055</td>\n",
       "      <td>0.497016</td>\n",
       "      <td>0.10945</td>\n",
       "      <td>NaN</td>\n",
       "      <td>0.0</td>\n",
       "    </tr>\n",
       "  </tbody>\n",
       "</table>\n",
       "</div>"
      ],
      "text/plain": [
       "   step          time           ff  xray_7mhf  r_free_0  r_work_0  xray_7mhg   \n",
       "0   0.0  7.152557e-07  1813.821180   5.703758  0.317452  0.322904   5.512399  \\\n",
       "1   1.0  1.068301e+01  1992.523030   5.702980  0.317178  0.322449   5.512116   \n",
       "2   2.0  1.430573e+01  4258.209771   5.703632  0.317315  0.322544   5.514714   \n",
       "3   3.0  1.792228e+01  4844.326061   5.701553  0.317594  0.322081   5.512344   \n",
       "4   4.0  2.153111e+01  5467.213599   5.696618  0.318160  0.320050   5.510455   \n",
       "\n",
       "   r_free_1  r_work_1  rmsd_7mhf  rmsd_7mhg  w_0_7mhf  w_0_7mhg  w_1_7mhf   \n",
       "0  0.287134  0.280619   0.243242   0.000000  0.502984   0.89055  0.497016  \\\n",
       "1  0.287203  0.280553   0.243409   0.010482  0.502984   0.89055  0.497016   \n",
       "2  0.288915  0.281181   0.229561   0.084484  0.502984   0.89055  0.497016   \n",
       "3  0.288647  0.280144   0.229762   0.083524  0.502984   0.89055  0.497016   \n",
       "4  0.289664  0.279933   0.229779   0.083846  0.502984   0.89055  0.497016   \n",
       "\n",
       "   w_1_7mhg                                                pdb  copy  \n",
       "0   0.10945  /wynton/group/sali/mhancock/xray/sample_bench/...   1.0  \n",
       "1   0.10945                                                NaN   0.0  \n",
       "2   0.10945                                                NaN   0.0  \n",
       "3   0.10945                                                NaN   0.0  \n",
       "4   0.10945                                                NaN   0.0  "
      ]
     },
     "execution_count": 27,
     "metadata": {},
     "output_type": "execute_result"
    }
   ],
   "source": [
    "log_df = pd.read_csv(Path(Path.home(), \"Documents/xray/tmp/log.csv\"), index_col=0)\n",
    "log_df.head(5)"
   ]
  },
  {
   "cell_type": "code",
   "execution_count": 28,
   "metadata": {},
   "outputs": [],
   "source": [
    "# fig, ax1 = plt.subplots()\n",
    "# ax2 = ax1.twinx()\n",
    "# for start, end in [(1,1000), (3001,4000), (6001,7000), (9001,10000), (12001,13000), (15001,16000)]:\n",
    "#     ax1.plot(log_df[\"step\"][start:end], log_df[\"xray_0\"][start:end], c=mcolors.CSS4_COLORS[\"dodgerblue\"])\n",
    "#     ax2.plot(log_df[\"step\"][start:end], log_df[\"r_free_0\"][start:end], c=mcolors.CSS4_COLORS[\"orange\"], alpha=0.5)\n",
    "\n",
    "# plt.savefig(Path(Path.home(), \"Desktop/xray_83.png\"))"
   ]
  },
  {
   "cell_type": "code",
   "execution_count": 29,
   "metadata": {},
   "outputs": [
    {
     "ename": "KeyError",
     "evalue": "'xray_0'",
     "output_type": "error",
     "traceback": [
      "\u001b[0;31m---------------------------------------------------------------------------\u001b[0m",
      "\u001b[0;31mKeyError\u001b[0m                                  Traceback (most recent call last)",
      "File \u001b[0;32m~/opt/anaconda3/envs/imp_218/lib/python3.11/site-packages/pandas/core/indexes/base.py:3652\u001b[0m, in \u001b[0;36mIndex.get_loc\u001b[0;34m(self, key)\u001b[0m\n\u001b[1;32m   3651\u001b[0m \u001b[38;5;28;01mtry\u001b[39;00m:\n\u001b[0;32m-> 3652\u001b[0m     \u001b[38;5;28;01mreturn\u001b[39;00m \u001b[38;5;28;43mself\u001b[39;49m\u001b[38;5;241;43m.\u001b[39;49m\u001b[43m_engine\u001b[49m\u001b[38;5;241;43m.\u001b[39;49m\u001b[43mget_loc\u001b[49m\u001b[43m(\u001b[49m\u001b[43mcasted_key\u001b[49m\u001b[43m)\u001b[49m\n\u001b[1;32m   3653\u001b[0m \u001b[38;5;28;01mexcept\u001b[39;00m \u001b[38;5;167;01mKeyError\u001b[39;00m \u001b[38;5;28;01mas\u001b[39;00m err:\n",
      "File \u001b[0;32m~/opt/anaconda3/envs/imp_218/lib/python3.11/site-packages/pandas/_libs/index.pyx:147\u001b[0m, in \u001b[0;36mpandas._libs.index.IndexEngine.get_loc\u001b[0;34m()\u001b[0m\n",
      "File \u001b[0;32m~/opt/anaconda3/envs/imp_218/lib/python3.11/site-packages/pandas/_libs/index.pyx:176\u001b[0m, in \u001b[0;36mpandas._libs.index.IndexEngine.get_loc\u001b[0;34m()\u001b[0m\n",
      "File \u001b[0;32mpandas/_libs/hashtable_class_helper.pxi:7080\u001b[0m, in \u001b[0;36mpandas._libs.hashtable.PyObjectHashTable.get_item\u001b[0;34m()\u001b[0m\n",
      "File \u001b[0;32mpandas/_libs/hashtable_class_helper.pxi:7088\u001b[0m, in \u001b[0;36mpandas._libs.hashtable.PyObjectHashTable.get_item\u001b[0;34m()\u001b[0m\n",
      "\u001b[0;31mKeyError\u001b[0m: 'xray_0'",
      "\nThe above exception was the direct cause of the following exception:\n",
      "\u001b[0;31mKeyError\u001b[0m                                  Traceback (most recent call last)",
      "Cell \u001b[0;32mIn[29], line 1\u001b[0m\n\u001b[0;32m----> 1\u001b[0m plt\u001b[38;5;241m.\u001b[39mplot(log_df[\u001b[38;5;124m\"\u001b[39m\u001b[38;5;124mstep\u001b[39m\u001b[38;5;124m\"\u001b[39m], \u001b[43mlog_df\u001b[49m\u001b[43m[\u001b[49m\u001b[38;5;124;43m\"\u001b[39;49m\u001b[38;5;124;43mxray_0\u001b[39;49m\u001b[38;5;124;43m\"\u001b[39;49m\u001b[43m]\u001b[49m)\n",
      "File \u001b[0;32m~/opt/anaconda3/envs/imp_218/lib/python3.11/site-packages/pandas/core/frame.py:3760\u001b[0m, in \u001b[0;36mDataFrame.__getitem__\u001b[0;34m(self, key)\u001b[0m\n\u001b[1;32m   3758\u001b[0m \u001b[38;5;28;01mif\u001b[39;00m \u001b[38;5;28mself\u001b[39m\u001b[38;5;241m.\u001b[39mcolumns\u001b[38;5;241m.\u001b[39mnlevels \u001b[38;5;241m>\u001b[39m \u001b[38;5;241m1\u001b[39m:\n\u001b[1;32m   3759\u001b[0m     \u001b[38;5;28;01mreturn\u001b[39;00m \u001b[38;5;28mself\u001b[39m\u001b[38;5;241m.\u001b[39m_getitem_multilevel(key)\n\u001b[0;32m-> 3760\u001b[0m indexer \u001b[38;5;241m=\u001b[39m \u001b[38;5;28;43mself\u001b[39;49m\u001b[38;5;241;43m.\u001b[39;49m\u001b[43mcolumns\u001b[49m\u001b[38;5;241;43m.\u001b[39;49m\u001b[43mget_loc\u001b[49m\u001b[43m(\u001b[49m\u001b[43mkey\u001b[49m\u001b[43m)\u001b[49m\n\u001b[1;32m   3761\u001b[0m \u001b[38;5;28;01mif\u001b[39;00m is_integer(indexer):\n\u001b[1;32m   3762\u001b[0m     indexer \u001b[38;5;241m=\u001b[39m [indexer]\n",
      "File \u001b[0;32m~/opt/anaconda3/envs/imp_218/lib/python3.11/site-packages/pandas/core/indexes/base.py:3654\u001b[0m, in \u001b[0;36mIndex.get_loc\u001b[0;34m(self, key)\u001b[0m\n\u001b[1;32m   3652\u001b[0m     \u001b[38;5;28;01mreturn\u001b[39;00m \u001b[38;5;28mself\u001b[39m\u001b[38;5;241m.\u001b[39m_engine\u001b[38;5;241m.\u001b[39mget_loc(casted_key)\n\u001b[1;32m   3653\u001b[0m \u001b[38;5;28;01mexcept\u001b[39;00m \u001b[38;5;167;01mKeyError\u001b[39;00m \u001b[38;5;28;01mas\u001b[39;00m err:\n\u001b[0;32m-> 3654\u001b[0m     \u001b[38;5;28;01mraise\u001b[39;00m \u001b[38;5;167;01mKeyError\u001b[39;00m(key) \u001b[38;5;28;01mfrom\u001b[39;00m \u001b[38;5;21;01merr\u001b[39;00m\n\u001b[1;32m   3655\u001b[0m \u001b[38;5;28;01mexcept\u001b[39;00m \u001b[38;5;167;01mTypeError\u001b[39;00m:\n\u001b[1;32m   3656\u001b[0m     \u001b[38;5;66;03m# If we have a listlike key, _check_indexing_error will raise\u001b[39;00m\n\u001b[1;32m   3657\u001b[0m     \u001b[38;5;66;03m#  InvalidIndexError. Otherwise we fall through and re-raise\u001b[39;00m\n\u001b[1;32m   3658\u001b[0m     \u001b[38;5;66;03m#  the TypeError.\u001b[39;00m\n\u001b[1;32m   3659\u001b[0m     \u001b[38;5;28mself\u001b[39m\u001b[38;5;241m.\u001b[39m_check_indexing_error(key)\n",
      "\u001b[0;31mKeyError\u001b[0m: 'xray_0'"
     ]
    }
   ],
   "source": [
    "plt.plot(log_df[\"step\"], log_df[\"xray_0\"])"
   ]
  },
  {
   "cell_type": "code",
   "execution_count": 20,
   "metadata": {},
   "outputs": [
    {
     "data": {
      "text/plain": [
       "[<matplotlib.lines.Line2D at 0x181514c10>]"
      ]
     },
     "execution_count": 20,
     "metadata": {},
     "output_type": "execute_result"
    },
    {
     "data": {
      "image/png": "[encoded data removed]",
      "text/plain": [
       "<Figure size 640x480 with 1 Axes>"
      ]
     },
     "metadata": {},
     "output_type": "display_data"
    }
   ],
   "source": [
    "plt.plot(log_df[\"step\"], log_df[\"w_0_0\"])"
   ]
  },
  {
   "cell_type": "code",
   "execution_count": 21,
   "metadata": {},
   "outputs": [
    {
     "data": {
      "text/plain": [
       "[<matplotlib.lines.Line2D at 0x1815161d0>]"
      ]
     },
     "execution_count": 21,
     "metadata": {},
     "output_type": "execute_result"
    },
    {
     "data": {
      "image/png": "[encoded data removed]",
      "text/plain": [
       "<Figure size 640x480 with 1 Axes>"
      ]
     },
     "metadata": {},
     "output_type": "display_data"
    }
   ],
   "source": [
    "plt.plot(log_df[\"step\"], log_df[\"ff\"])"
   ]
  },
  {
   "cell_type": "code",
   "execution_count": null,
   "metadata": {},
   "outputs": [],
   "source": []
  },
  {
   "cell_type": "code",
   "execution_count": null,
   "metadata": {},
   "outputs": [],
   "source": []
  }
 ],
 "metadata": {
  "kernelspec": {
   "display_name": "Python 3 (ipykernel)",
   "language": "python",
   "name": "python3"
  },
  "language_info": {
   "codemirror_mode": {
    "name": "ipython",
    "version": 3
   },
   "file_extension": ".py",
   "mimetype": "text/x-python",
   "name": "python",
   "nbconvert_exporter": "python",
   "pygments_lexer": "ipython3",
   "version": "3.11.3"
  }
 },
 "nbformat": 4,
 "nbformat_minor": 4
}
