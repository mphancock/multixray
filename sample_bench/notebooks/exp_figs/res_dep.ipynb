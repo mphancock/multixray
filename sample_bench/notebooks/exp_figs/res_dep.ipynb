{
 "cells": [
  {
   "cell_type": "code",
   "execution_count": 1,
   "metadata": {},
   "outputs": [],
   "source": [
    "from pathlib import Path\n",
    "import pickle\n",
    "import pandas as pd\n",
    "\n",
    "from pathlib import Path\n",
    "import pandas as pd\n",
    "import numpy as np\n",
    "import sys\n",
    "\n",
    "import matplotlib.pyplot as plt\n",
    "import matplotlib.ticker as ticker\n",
    "from matplotlib.ticker import FuncFormatter\n",
    "import matplotlib.colors as mcolors\n",
    "from matplotlib.lines import Line2D\n",
    "from matplotlib import cm\n",
    "from matplotlib.font_manager import FontProperties\n",
    "import seaborn as sns\n",
    "sns.set_theme()\n",
    "from matplotlib.cm import ScalarMappable\n",
    "from matplotlib.colors import Normalize\n",
    "plt.rcParams[\"font.family\"] = \"Times New Roman\"\n",
    "\n",
    "import mmtbx.f_model\n",
    "import mmtbx.model\n",
    "import cctbx.crystal\n",
    "import cctbx.xray\n",
    "import iotbx\n",
    "\n",
    "import sys\n",
    "sys.path.append(str(Path(Path.home(), \"Documents/xray/src\")))\n",
    "# sys.path.append(\"../src\")\n",
    "import miller_ops\n",
    "sys.path.append(str(Path(Path.home(), \"Documents/xray/data/cifs/scripts\")))\n",
    "import generate_fmodel\n"
   ]
  },
  {
   "cell_type": "code",
   "execution_count": 77,
   "metadata": {},
   "outputs": [
    {
     "data": {
      "text/html": [
       "<div>\n",
       "<style scoped>\n",
       "    .dataframe tbody tr th:only-of-type {\n",
       "        vertical-align: middle;\n",
       "    }\n",
       "\n",
       "    .dataframe tbody tr th {\n",
       "        vertical-align: top;\n",
       "    }\n",
       "\n",
       "    .dataframe thead th {\n",
       "        text-align: right;\n",
       "    }\n",
       "</style>\n",
       "<table border=\"1\" class=\"dataframe\">\n",
       "  <thead>\n",
       "    <tr style=\"text-align: right;\">\n",
       "      <th></th>\n",
       "      <th>index</th>\n",
       "      <th>job_id</th>\n",
       "      <th>cif_name</th>\n",
       "      <th>w_0</th>\n",
       "      <th>pdb</th>\n",
       "      <th>r_free</th>\n",
       "      <th>ff</th>\n",
       "      <th>N</th>\n",
       "      <th>J</th>\n",
       "      <th>w_1</th>\n",
       "      <th>w_2</th>\n",
       "      <th>w_3</th>\n",
       "      <th>w_4</th>\n",
       "      <th>w_5</th>\n",
       "      <th>w_6</th>\n",
       "      <th>w_7</th>\n",
       "      <th>delta</th>\n",
       "      <th>job_cif_str</th>\n",
       "    </tr>\n",
       "  </thead>\n",
       "  <tbody>\n",
       "    <tr>\n",
       "      <th>508</th>\n",
       "      <td>508</td>\n",
       "      <td>5</td>\n",
       "      <td>7mhk</td>\n",
       "      <td>1.0</td>\n",
       "      <td>/wynton/group/sali/mhancock/xray/sample_bench/...</td>\n",
       "      <td>0.293053</td>\n",
       "      <td>88.835005</td>\n",
       "      <td>1</td>\n",
       "      <td>1</td>\n",
       "      <td>NaN</td>\n",
       "      <td>NaN</td>\n",
       "      <td>NaN</td>\n",
       "      <td>NaN</td>\n",
       "      <td>NaN</td>\n",
       "      <td>NaN</td>\n",
       "      <td>NaN</td>\n",
       "      <td>0.046053</td>\n",
       "      <td>7mhk</td>\n",
       "    </tr>\n",
       "    <tr>\n",
       "      <th>3300</th>\n",
       "      <td>3300</td>\n",
       "      <td>19</td>\n",
       "      <td>7mhk</td>\n",
       "      <td>1.0</td>\n",
       "      <td>/wynton/group/sali/mhancock/xray/sample_bench/...</td>\n",
       "      <td>0.274136</td>\n",
       "      <td>714.633937</td>\n",
       "      <td>1</td>\n",
       "      <td>2</td>\n",
       "      <td>NaN</td>\n",
       "      <td>NaN</td>\n",
       "      <td>NaN</td>\n",
       "      <td>NaN</td>\n",
       "      <td>NaN</td>\n",
       "      <td>NaN</td>\n",
       "      <td>NaN</td>\n",
       "      <td>0.027136</td>\n",
       "      <td>7mhi,7mhk</td>\n",
       "    </tr>\n",
       "    <tr>\n",
       "      <th>8053</th>\n",
       "      <td>8055</td>\n",
       "      <td>35</td>\n",
       "      <td>7mhk</td>\n",
       "      <td>1.0</td>\n",
       "      <td>/wynton/group/sali/mhancock/xray/sample_bench/...</td>\n",
       "      <td>0.263804</td>\n",
       "      <td>7544.013477</td>\n",
       "      <td>1</td>\n",
       "      <td>3</td>\n",
       "      <td>NaN</td>\n",
       "      <td>NaN</td>\n",
       "      <td>NaN</td>\n",
       "      <td>NaN</td>\n",
       "      <td>NaN</td>\n",
       "      <td>NaN</td>\n",
       "      <td>NaN</td>\n",
       "      <td>0.016804</td>\n",
       "      <td>7mhg,7mhi,7mhk</td>\n",
       "    </tr>\n",
       "    <tr>\n",
       "      <th>12765</th>\n",
       "      <td>12767</td>\n",
       "      <td>48</td>\n",
       "      <td>7mhk</td>\n",
       "      <td>1.0</td>\n",
       "      <td>/wynton/group/sali/mhancock/xray/sample_bench/...</td>\n",
       "      <td>0.262198</td>\n",
       "      <td>1532.903358</td>\n",
       "      <td>1</td>\n",
       "      <td>4</td>\n",
       "      <td>NaN</td>\n",
       "      <td>NaN</td>\n",
       "      <td>NaN</td>\n",
       "      <td>NaN</td>\n",
       "      <td>NaN</td>\n",
       "      <td>NaN</td>\n",
       "      <td>NaN</td>\n",
       "      <td>0.015198</td>\n",
       "      <td>7mhf,7mhh,7mhi,7mhk</td>\n",
       "    </tr>\n",
       "    <tr>\n",
       "      <th>18083</th>\n",
       "      <td>18085</td>\n",
       "      <td>60</td>\n",
       "      <td>7mhk</td>\n",
       "      <td>1.0</td>\n",
       "      <td>/wynton/group/sali/mhancock/xray/sample_bench/...</td>\n",
       "      <td>0.267385</td>\n",
       "      <td>2278.918229</td>\n",
       "      <td>1</td>\n",
       "      <td>5</td>\n",
       "      <td>NaN</td>\n",
       "      <td>NaN</td>\n",
       "      <td>NaN</td>\n",
       "      <td>NaN</td>\n",
       "      <td>NaN</td>\n",
       "      <td>NaN</td>\n",
       "      <td>NaN</td>\n",
       "      <td>0.020385</td>\n",
       "      <td>7mhf,7mhh,7mhi,7mhj,7mhk</td>\n",
       "    </tr>\n",
       "  </tbody>\n",
       "</table>\n",
       "</div>"
      ],
      "text/plain": [
       "       index  job_id cif_name  w_0  \\\n",
       "508      508       5     7mhk  1.0   \n",
       "3300    3300      19     7mhk  1.0   \n",
       "8053    8055      35     7mhk  1.0   \n",
       "12765  12767      48     7mhk  1.0   \n",
       "18083  18085      60     7mhk  1.0   \n",
       "\n",
       "                                                     pdb    r_free  \\\n",
       "508    /wynton/group/sali/mhancock/xray/sample_bench/...  0.293053   \n",
       "3300   /wynton/group/sali/mhancock/xray/sample_bench/...  0.274136   \n",
       "8053   /wynton/group/sali/mhancock/xray/sample_bench/...  0.263804   \n",
       "12765  /wynton/group/sali/mhancock/xray/sample_bench/...  0.262198   \n",
       "18083  /wynton/group/sali/mhancock/xray/sample_bench/...  0.267385   \n",
       "\n",
       "                ff  N  J  w_1  w_2  w_3  w_4  w_5  w_6  w_7     delta  \\\n",
       "508      88.835005  1  1  NaN  NaN  NaN  NaN  NaN  NaN  NaN  0.046053   \n",
       "3300    714.633937  1  2  NaN  NaN  NaN  NaN  NaN  NaN  NaN  0.027136   \n",
       "8053   7544.013477  1  3  NaN  NaN  NaN  NaN  NaN  NaN  NaN  0.016804   \n",
       "12765  1532.903358  1  4  NaN  NaN  NaN  NaN  NaN  NaN  NaN  0.015198   \n",
       "18083  2278.918229  1  5  NaN  NaN  NaN  NaN  NaN  NaN  NaN  0.020385   \n",
       "\n",
       "                    job_cif_str  \n",
       "508                        7mhk  \n",
       "3300                  7mhi,7mhk  \n",
       "8053             7mhg,7mhi,7mhk  \n",
       "12765       7mhf,7mhh,7mhi,7mhk  \n",
       "18083  7mhf,7mhh,7mhi,7mhj,7mhk  "
      ]
     },
     "execution_count": 77,
     "metadata": {},
     "output_type": "execute_result"
    }
   ],
   "source": [
    "\n",
    "data_dir = Path(Path.home(), \"Documents/xray/sample_bench/data/7mhf/166_N1\")\n",
    "summary_file = Path(Path(data_dir, \"summary_ref_15.csv\"))\n",
    "n_state = 2\n",
    "cif_name = \"7mhf\"\n",
    "n_cond = 2\n",
    "pdb_file = Path(Path(data_dir, \"summary_15/{}_N{}.pdb\".format(cif_name, n_state)))\n",
    "f_obs_file = Path(Path.home(), \"Documents/xray/data/cifs/7mhf/{}.cif\".format(cif_name))\n",
    "\n",
    "summary_df = pd.read_csv(summary_file, index_col=0)\n",
    "summary_df.head()"
   ]
  },
  {
   "cell_type": "code",
   "execution_count": 78,
   "metadata": {},
   "outputs": [
    {
     "name": "stdout",
     "output_type": "stream",
     "text": [
      "0.3306839087211977\n"
     ]
    },
    {
     "data": {
      "text/plain": [
       "[0.4606734222979827, 0.5393265777020172]"
      ]
     },
     "execution_count": 78,
     "metadata": {},
     "output_type": "execute_result"
    }
   ],
   "source": [
    "entry = summary_df[(summary_df[\"cif_name\"] == cif_name) & (summary_df[\"N\"] == n_state) & (summary_df[\"J\"] == n_cond)].iloc[0]\n",
    "print(entry[\"r_free\"])\n",
    "occs = [entry[\"w_{}\".format(i)] for i in range(n_state)]\n",
    "occs"
   ]
  },
  {
   "cell_type": "code",
   "execution_count": 87,
   "metadata": {},
   "outputs": [
    {
     "name": "stdout",
     "output_type": "stream",
     "text": [
      "(-73, 1, 4) 40.22\n",
      "37901\n",
      "(-73, 1, 4) 40.22\n"
     ]
    }
   ],
   "source": [
    "\n",
    "f_obs = miller_ops.get_miller_array(\n",
    "        f_obs_file=f_obs_file,\n",
    "        label=\"_refln.F_meas_au\"\n",
    "    )\n",
    "\n",
    "print(f_obs.indices()[0], f_obs.data()[0])\n",
    "\n",
    "f_obs = miller_ops.clean_miller_array(f_obs)\n",
    "status_array = miller_ops.get_miller_array(\n",
    "    f_obs_file=f_obs_file,\n",
    "    label=\"_refln.status\"\n",
    ")\n",
    "flags = status_array.customized_copy(data=status_array.data()==\"f\")\n",
    "f_obs, flags = f_obs.common_sets(other=flags)\n",
    "\n",
    "f_obs = miller_ops.filter_f_obs_resolution(\n",
    "        f_obs=f_obs,\n",
    "        d_max=None,\n",
    "        d_min=None\n",
    ")\n",
    "flags = miller_ops.filter_f_obs_resolution(\n",
    "        f_obs=flags,\n",
    "        d_max=None,\n",
    "        d_min=None\n",
    ")\n",
    "\n",
    "print(len(f_obs.data()))\n",
    "print(f_obs.indices()[0], f_obs.data()[0])\n",
    "\n",
    "crystal_symmetry = f_obs.crystal_symmetry()"
   ]
  },
  {
   "cell_type": "code",
   "execution_count": 88,
   "metadata": {},
   "outputs": [
    {
     "name": "stdout",
     "output_type": "stream",
     "text": [
      "<class 'int'>\n",
      "4734\n"
     ]
    }
   ],
   "source": [
    "model = mmtbx.model.manager(\n",
    "    model_input=iotbx.pdb.input(str(pdb_file)),\n",
    "    crystal_symmetry=crystal_symmetry\n",
    ")\n",
    "\n",
    "xray_structure = model.get_xray_structure()\n",
    "\n",
    "n_scatt = int(xray_structure.scatterers().size())\n",
    "print(type(n_scatt))\n",
    "print(n_scatt)\n",
    "\n",
    "n_scatt_per_state = n_scatt//n_state\n",
    "\n",
    "for i in range(n_scatt_per_state):\n",
    "    for state in range(n_state):\n",
    "        xray_structure.scatterers()[i+(state*n_scatt_per_state)].occupancy = occs[state]\n",
    "\n",
    "xray_structure.scatterers().flags_set_grads(\n",
    "    state=False\n",
    ")\n",
    "xray_structure.scatterers().flags_set_grad_site(\n",
    "    iselection=xray_structure.all_selection().iselection()\n",
    ")\n",
    "xray_structure.scatterers().flags_set_grad_occupancy(\n",
    "    iselection=xray_structure.all_selection().iselection()\n",
    ")\n",
    "\n",
    "f_model_manager = mmtbx.f_model.manager(\n",
    "    xray_structure=xray_structure,\n",
    "    f_obs=f_obs,\n",
    "    r_free_flags=flags,\n",
    "    target_name=\"ml\",\n",
    "    max_number_of_bins=1\n",
    ")\n",
    "f_model_manager.update_all_scales(apply_scale_k1_to_f_obs=False,remove_outliers=False)\n",
    "\n",
    "f_obs = f_model_manager.f_obs()\n",
    "f_model = f_model_manager.f_model()\n",
    "# print(len(f_obs.indices()), len(f_obs.data()))\n",
    "# print(f_obs.indices()[0], f_obs.data()[0])\n",
    "\n",
    "refl_df = pd.DataFrame(\n",
    "    {\n",
    "        \"d\": [f_model_manager.f_obs().d_spacings().data()[i] for i in range(len(f_obs.data()))],\n",
    "        \"f_obs\": [f for f in f_obs.data()],\n",
    "        \"f_model\": [f for f in f_model.amplitudes().data()]\n",
    "    }\n",
    ")\n",
    "refl_df.head()\n",
    "refl_df[\"error\"] = (refl_df[\"f_obs\"] - refl_df[\"f_model\"]).abs()/refl_df[\"f_obs\"]\n",
    "# for i in range(len(f_obs.data())):\n",
    "#     print(f_model_manager.f_obs().indices()[i], f_model_manager.f_model().amplitudes().data()[i], f_model_manager.f_obs().data()[i])"
   ]
  },
  {
   "cell_type": "code",
   "execution_count": 89,
   "metadata": {},
   "outputs": [
    {
     "name": "stderr",
     "output_type": "stream",
     "text": [
      "/var/folders/x2/ss4b83151c31mg5h31tlp3ym0000gn/T/ipykernel_15152/3990386059.py:17: FutureWarning: The behavior of DataFrame concatenation with empty or all-NA entries is deprecated. In a future version, this will no longer exclude empty or all-NA columns when determining the result dtypes. To retain the old behavior, exclude the relevant entries before the concat operation.\n",
      "  refl_df = pd.concat([refl_df, refln_bin_df])\n"
     ]
    }
   ],
   "source": [
    "refl_df = pd.DataFrame(columns=[\"d\", \"f_obs\", \"f_model\", \"bin\"])\n",
    "n_bins = 20\n",
    "f_obs.setup_binner(n_bins=n_bins)\n",
    "f_model.use_binning_of(f_obs)\n",
    "for i_bin in f_obs.binner().range_all():\n",
    "    f_obs_bin = f_obs.select(f_obs.binner().selection(i_bin))\n",
    "    f_model_bin = f_model.select(f_model.binner().selection(i_bin))\n",
    "\n",
    "    n_reflns = len(f_obs_bin.data())\n",
    "\n",
    "    refln_bin_df = pd.DataFrame()\n",
    "    refln_bin_df[\"d\"] = [f_obs_bin.d_spacings().data()[i] for i in range(n_reflns)]\n",
    "    refln_bin_df[\"f_obs\"] = [f for f in f_obs_bin.data()]\n",
    "    refln_bin_df[\"f_model\"] = [f for f in f_model_bin.data()]\n",
    "    refln_bin_df[\"bin\"] = [i_bin] * n_reflns\n",
    "\n",
    "    refl_df = pd.concat([refl_df, refln_bin_df])\n",
    "refl_df[\"error\"] = (refl_df[\"f_obs\"] - refl_df[\"f_model\"]).abs()/refl_df[\"f_obs\"]\n"
   ]
  },
  {
   "cell_type": "code",
   "execution_count": 90,
   "metadata": {},
   "outputs": [
    {
     "data": {
      "text/plain": [
       "0.3306837588969997"
      ]
     },
     "execution_count": 90,
     "metadata": {},
     "output_type": "execute_result"
    }
   ],
   "source": [
    "f_model_manager.r_free()"
   ]
  },
  {
   "cell_type": "code",
   "execution_count": 91,
   "metadata": {},
   "outputs": [
    {
     "name": "stdout",
     "output_type": "stream",
     "text": [
      "0\n",
      "1973\n",
      "1921\n",
      "1924\n",
      "1895\n",
      "1912\n",
      "1876\n",
      "1936\n",
      "1864\n",
      "1909\n",
      "1903\n",
      "1882\n",
      "1888\n",
      "1852\n",
      "1916\n",
      "1880\n",
      "1916\n",
      "1885\n",
      "1867\n",
      "1875\n"
     ]
    },
    {
     "data": {
      "text/plain": [
       "[<matplotlib.lines.Line2D at 0x18c4f7cd0>]"
      ]
     },
     "execution_count": 91,
     "metadata": {},
     "output_type": "execute_result"
    },
    {
     "data": {
      "image/png": "[encoded data removed]",
      "text/plain": [
       "<Figure size 1000x1000 with 1 Axes>"
      ]
     },
     "metadata": {},
     "output_type": "display_data"
    }
   ],
   "source": [
    "fig, ax = plt.subplots(1,1, figsize=(10,10))\n",
    "\n",
    "mean_errors = list()\n",
    "mean_ds = list()\n",
    "min_ds = list()\n",
    "\n",
    "# plt.scatter(refl_df[\"d\"], refl_df[\"error\"], s=1)\n",
    "\n",
    "for i in range(n_bins):\n",
    "    refln_bin_df = refl_df[refl_df[\"bin\"] == i]\n",
    "    mean_errors.append(np.mean(refln_bin_df[\"error\"]))\n",
    "\n",
    "    mean_ds.append(np.mean(refln_bin_df[\"d\"]))\n",
    "    min_ds.append(np.min(refln_bin_df[\"d\"]))\n",
    "    print(len(refln_bin_df))\n",
    "\n",
    "plt.plot(min_ds, mean_errors, \"-x\")\n",
    "\n",
    "# ax.set_xlim(1,10)\n",
    "# ax.set_ylim(0,1)\n"
   ]
  },
  {
   "cell_type": "code",
   "execution_count": 92,
   "metadata": {},
   "outputs": [
    {
     "data": {
      "text/plain": [
       "(48.046812560253, 1.5477237324531918)"
      ]
     },
     "execution_count": 92,
     "metadata": {},
     "output_type": "execute_result"
    }
   ],
   "source": [
    "f_obs.d_max_min()"
   ]
  },
  {
   "cell_type": "code",
   "execution_count": null,
   "metadata": {},
   "outputs": [],
   "source": []
  }
 ],
 "metadata": {
  "kernelspec": {
   "display_name": "imp_220_cctbx",
   "language": "python",
   "name": "python3"
  },
  "language_info": {
   "codemirror_mode": {
    "name": "ipython",
    "version": 3
   },
   "file_extension": ".py",
   "mimetype": "text/x-python",
   "name": "python",
   "nbconvert_exporter": "python",
   "pygments_lexer": "ipython3",
   "version": "3.11.8"
  }
 },
 "nbformat": 4,
 "nbformat_minor": 2
}
