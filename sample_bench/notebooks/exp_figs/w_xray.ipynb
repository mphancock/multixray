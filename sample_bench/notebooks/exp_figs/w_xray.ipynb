{
 "cells": [
  {
   "cell_type": "code",
   "execution_count": 33,
   "metadata": {},
   "outputs": [],
   "source": [
    "from pathlib import Path\n",
    "import sys\n",
    "import numpy as np\n",
    "import pandas as pd\n",
    "\n",
    "import matplotlib.pyplot as plt\n",
    "import matplotlib.ticker as ticker\n",
    "from matplotlib.ticker import FuncFormatter\n",
    "import matplotlib.colors as mcolors\n",
    "from matplotlib.lines import Line2D\n",
    "from matplotlib import cm\n",
    "from matplotlib.font_manager import FontProperties\n",
    "import seaborn as sns\n",
    "sns.set_theme()\n",
    "plt.rcParams[\"font.family\"] = \"Times New Roman\"\n",
    "from matplotlib.ticker import FormatStrFormatter\n",
    "\n",
    "\n",
    "import IMP\n",
    "import IMP.atom\n",
    "import IMP.core\n",
    "\n",
    "sys.path.append(str(Path(Path.home(), \"Documents/xray/src\")))\n",
    "from average_structure import get_coord_avg_dict\n"
   ]
  },
  {
   "cell_type": "code",
   "execution_count": 36,
   "metadata": {},
   "outputs": [
    {
     "data": {
      "text/html": [
       "<div>\n",
       "<style scoped>\n",
       "    .dataframe tbody tr th:only-of-type {\n",
       "        vertical-align: middle;\n",
       "    }\n",
       "\n",
       "    .dataframe tbody tr th {\n",
       "        vertical-align: top;\n",
       "    }\n",
       "\n",
       "    .dataframe thead th {\n",
       "        text-align: right;\n",
       "    }\n",
       "</style>\n",
       "<table border=\"1\" class=\"dataframe\">\n",
       "  <thead>\n",
       "    <tr style=\"text-align: right;\">\n",
       "      <th></th>\n",
       "      <th>cif_name</th>\n",
       "      <th>w_0</th>\n",
       "      <th>w_1</th>\n",
       "      <th>w_2</th>\n",
       "      <th>w_3</th>\n",
       "      <th>w_4</th>\n",
       "      <th>w_5</th>\n",
       "      <th>w_6</th>\n",
       "      <th>w_7</th>\n",
       "      <th>w_xray_id</th>\n",
       "      <th>r_free_0</th>\n",
       "      <th>pdb</th>\n",
       "      <th>r_free</th>\n",
       "      <th>ff</th>\n",
       "    </tr>\n",
       "  </thead>\n",
       "  <tbody>\n",
       "    <tr>\n",
       "      <th>0</th>\n",
       "      <td>7mhh</td>\n",
       "      <td>0.162877</td>\n",
       "      <td>0.025385</td>\n",
       "      <td>0.046297</td>\n",
       "      <td>0.170574</td>\n",
       "      <td>0.210643</td>\n",
       "      <td>0.135522</td>\n",
       "      <td>0.070125</td>\n",
       "      <td>0.178576</td>\n",
       "      <td>0.0</td>\n",
       "      <td>0.298050</td>\n",
       "      <td>/wynton/group/sali/mhancock/xray/sample_bench/...</td>\n",
       "      <td>0.297149</td>\n",
       "      <td>590.514676</td>\n",
       "    </tr>\n",
       "    <tr>\n",
       "      <th>1</th>\n",
       "      <td>7mhh</td>\n",
       "      <td>0.092943</td>\n",
       "      <td>0.071811</td>\n",
       "      <td>0.055466</td>\n",
       "      <td>0.267691</td>\n",
       "      <td>0.021932</td>\n",
       "      <td>0.193335</td>\n",
       "      <td>0.090785</td>\n",
       "      <td>0.206037</td>\n",
       "      <td>0.0</td>\n",
       "      <td>0.298629</td>\n",
       "      <td>/wynton/group/sali/mhancock/xray/sample_bench/...</td>\n",
       "      <td>0.298087</td>\n",
       "      <td>-6.502188</td>\n",
       "    </tr>\n",
       "    <tr>\n",
       "      <th>2</th>\n",
       "      <td>7mhh</td>\n",
       "      <td>0.162877</td>\n",
       "      <td>0.025385</td>\n",
       "      <td>0.046297</td>\n",
       "      <td>0.170574</td>\n",
       "      <td>0.210643</td>\n",
       "      <td>0.135522</td>\n",
       "      <td>0.070125</td>\n",
       "      <td>0.178576</td>\n",
       "      <td>0.0</td>\n",
       "      <td>0.298737</td>\n",
       "      <td>/wynton/group/sali/mhancock/xray/sample_bench/...</td>\n",
       "      <td>0.299632</td>\n",
       "      <td>1304.989610</td>\n",
       "    </tr>\n",
       "    <tr>\n",
       "      <th>3</th>\n",
       "      <td>7mhh</td>\n",
       "      <td>0.234141</td>\n",
       "      <td>0.043350</td>\n",
       "      <td>0.192589</td>\n",
       "      <td>0.097271</td>\n",
       "      <td>0.066190</td>\n",
       "      <td>0.169939</td>\n",
       "      <td>0.083691</td>\n",
       "      <td>0.112829</td>\n",
       "      <td>0.0</td>\n",
       "      <td>0.298817</td>\n",
       "      <td>/wynton/group/sali/mhancock/xray/sample_bench/...</td>\n",
       "      <td>0.297282</td>\n",
       "      <td>1811.711827</td>\n",
       "    </tr>\n",
       "    <tr>\n",
       "      <th>4</th>\n",
       "      <td>7mhh</td>\n",
       "      <td>0.228294</td>\n",
       "      <td>0.060565</td>\n",
       "      <td>0.114724</td>\n",
       "      <td>0.177907</td>\n",
       "      <td>0.222814</td>\n",
       "      <td>0.044109</td>\n",
       "      <td>0.076967</td>\n",
       "      <td>0.074621</td>\n",
       "      <td>0.0</td>\n",
       "      <td>0.298839</td>\n",
       "      <td>/wynton/group/sali/mhancock/xray/sample_bench/...</td>\n",
       "      <td>0.297787</td>\n",
       "      <td>1312.088804</td>\n",
       "    </tr>\n",
       "  </tbody>\n",
       "</table>\n",
       "</div>"
      ],
      "text/plain": [
       "  cif_name       w_0       w_1       w_2       w_3       w_4       w_5  \\\n",
       "0     7mhh  0.162877  0.025385  0.046297  0.170574  0.210643  0.135522   \n",
       "1     7mhh  0.092943  0.071811  0.055466  0.267691  0.021932  0.193335   \n",
       "2     7mhh  0.162877  0.025385  0.046297  0.170574  0.210643  0.135522   \n",
       "3     7mhh  0.234141  0.043350  0.192589  0.097271  0.066190  0.169939   \n",
       "4     7mhh  0.228294  0.060565  0.114724  0.177907  0.222814  0.044109   \n",
       "\n",
       "        w_6       w_7  w_xray_id  r_free_0  \\\n",
       "0  0.070125  0.178576        0.0  0.298050   \n",
       "1  0.090785  0.206037        0.0  0.298629   \n",
       "2  0.070125  0.178576        0.0  0.298737   \n",
       "3  0.083691  0.112829        0.0  0.298817   \n",
       "4  0.076967  0.074621        0.0  0.298839   \n",
       "\n",
       "                                                 pdb    r_free           ff  \n",
       "0  /wynton/group/sali/mhancock/xray/sample_bench/...  0.297149   590.514676  \n",
       "1  /wynton/group/sali/mhancock/xray/sample_bench/...  0.298087    -6.502188  \n",
       "2  /wynton/group/sali/mhancock/xray/sample_bench/...  0.299632  1304.989610  \n",
       "3  /wynton/group/sali/mhancock/xray/sample_bench/...  0.297282  1811.711827  \n",
       "4  /wynton/group/sali/mhancock/xray/sample_bench/...  0.297787  1312.088804  "
      ]
     },
     "execution_count": 36,
     "metadata": {},
     "output_type": "execute_result"
    }
   ],
   "source": [
    "sample_df = pd.read_csv(Path(Path.home(), \"Documents/xray/sample_bench/data/7mhf/176_w_xray_7mhh/ref_15.csv\"), index_col=0)\n",
    "sample_df.head()"
   ]
  },
  {
   "cell_type": "code",
   "execution_count": 39,
   "metadata": {},
   "outputs": [
    {
     "data": {
      "image/png": "[encoded data removed]",
      "text/plain": [
       "<Figure size 500x500 with 1 Axes>"
      ]
     },
     "metadata": {},
     "output_type": "display_data"
    }
   ],
   "source": [
    "ax = sample_df.boxplot(column=[\"r_free_0\"], by=[\"w_xray_id\"], figsize=(5, 5))\n",
    "\n",
    "ax.get_figure().suptitle('')\n",
    "\n",
    "ax.get_figure().gca().set_title(\"\")\n",
    "ax.get_figure().gca().set_xlabel(\"\")\n",
    "ax.get_figure().gca().set_ylabel(\"\")\n",
    "# ax.locator_params(axis='x', nbins=4)\n",
    "ax.locator_params(axis='y', nbins=1)\n",
    "\n",
    "ax.tick_params(axis='x', labelsize=25)\n",
    "ax.tick_params(axis='y', labelsize=25)\n",
    "\n",
    "ax.yaxis.set_major_formatter(FormatStrFormatter('%.2f'))\n",
    "\n",
    "xlabels = [\"1x\", \"2x\", \"3x\", \"4x\", \"5x\", \"6x\"]\n",
    "ax.set_xticklabels(xlabels)\n",
    "\n",
    "plt.tight_layout()\n",
    "plt.savefig(Path(Path.home(), \"Desktop/fig.png\"))\n"
   ]
  },
  {
   "cell_type": "code",
   "execution_count": 8,
   "metadata": {},
   "outputs": [
    {
     "data": {
      "text/plain": [
       "<matplotlib.collections.PathCollection at 0x18d5d3d10>"
      ]
     },
     "execution_count": 8,
     "metadata": {},
     "output_type": "execute_result"
    },
    {
     "data": {
      "image/png": "[encoded data removed]",
      "text/plain": [
       "<Figure size 500x500 with 1 Axes>"
      ]
     },
     "metadata": {},
     "output_type": "display_data"
    }
   ],
   "source": [
    "fig, ax = plt.subplots(1, 1, figsize=(5, 5))\n",
    "\n",
    "# ax.boxplot(list(range(6)))\n",
    "# ax.scatter(list(range(6)), [0.298, 0.295, 0.293, 0.292, 0.293, 0.292], s=10, color=\"black\")"
   ]
  },
  {
   "cell_type": "code",
   "execution_count": null,
   "metadata": {},
   "outputs": [],
   "source": []
  }
 ],
 "metadata": {
  "kernelspec": {
   "display_name": "imp_220_cctbx",
   "language": "python",
   "name": "python3"
  },
  "language_info": {
   "codemirror_mode": {
    "name": "ipython",
    "version": 3
   },
   "file_extension": ".py",
   "mimetype": "text/x-python",
   "name": "python",
   "nbconvert_exporter": "python",
   "pygments_lexer": "ipython3",
   "version": "3.11.8"
  }
 },
 "nbformat": 4,
 "nbformat_minor": 2
}
