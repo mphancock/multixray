{
 "cells": [
  {
   "cell_type": "code",
   "execution_count": 56,
   "metadata": {},
   "outputs": [],
   "source": [
    "from pathlib import Path\n",
    "import matplotlib.pyplot as plt\n",
    "import matplotlib.colors as mcolors\n",
    "from matplotlib.lines import Line2D\n",
    "import seaborn as sns\n",
    "sns.set_theme()\n",
    "import pandas as pd\n",
    "import numpy as np\n",
    "import math\n"
   ]
  },
  {
   "cell_type": "code",
   "execution_count": 57,
   "metadata": {},
   "outputs": [],
   "source": [
    "data_dir = Path(Path.home(), \"Documents/xray/sample_bench/data/7mhf\")\n",
    "data_dir_arr = np.ndarray(shape=(4), dtype=Path)\n",
    "data_dir_arr[0] = Path(data_dir, \"166_N1\")\n",
    "data_dir_arr[1] = Path(data_dir, \"167_N2\")\n",
    "data_dir_arr[2] = Path(data_dir, \"168_N4\")\n",
    "data_dir_arr[3] = Path(data_dir, \"169_N8\")\n",
    "\n",
    "score_df_arr = np.ndarray(shape=(4,6), dtype=pd.DataFrame)\n",
    "names = [\"7mhf\", \"7mhg\", \"7mhh\", \"7mhi\", \"7mhj\", \"7mhk\"]\n",
    "for i in range(4):\n",
    "    for j in range(6):\n",
    "        score_df_arr[i,j] = pd.read_csv(Path(data_dir_arr[i], \"r_free_{}.csv\".format(names[j])), index_col=0)\n"
   ]
  },
  {
   "cell_type": "code",
   "execution_count": null,
   "metadata": {},
   "outputs": [],
   "source": []
  },
  {
   "cell_type": "markdown",
   "metadata": {},
   "source": [
    "### Find best r-free"
   ]
  },
  {
   "cell_type": "code",
   "execution_count": 58,
   "metadata": {},
   "outputs": [],
   "source": [
    "best_r_free_arr = np.ndarray(shape=(4,6), dtype=float)\n",
    "for i in range(4):\n",
    "    for j in range(6):\n",
    "        score_df = score_df_arr[i,j]\n",
    "        best_r_free_arr[i,j] = np.min(score_df[\"r_free_{}\".format(names[j])])"
   ]
  },
  {
   "cell_type": "code",
   "execution_count": 59,
   "metadata": {},
   "outputs": [
    {
     "data": {
      "text/html": [
       "<div>\n",
       "<style scoped>\n",
       "    .dataframe tbody tr th:only-of-type {\n",
       "        vertical-align: middle;\n",
       "    }\n",
       "\n",
       "    .dataframe tbody tr th {\n",
       "        vertical-align: top;\n",
       "    }\n",
       "\n",
       "    .dataframe thead th {\n",
       "        text-align: right;\n",
       "    }\n",
       "</style>\n",
       "<table border=\"1\" class=\"dataframe\">\n",
       "  <thead>\n",
       "    <tr style=\"text-align: right;\">\n",
       "      <th></th>\n",
       "      <th>7mhf</th>\n",
       "      <th>7mhg</th>\n",
       "      <th>7mhh</th>\n",
       "      <th>7mhi</th>\n",
       "      <th>7mhj</th>\n",
       "      <th>7mhk</th>\n",
       "    </tr>\n",
       "  </thead>\n",
       "  <tbody>\n",
       "    <tr>\n",
       "      <th>0</th>\n",
       "      <td>0.324681</td>\n",
       "      <td>0.290859</td>\n",
       "      <td>0.226526</td>\n",
       "      <td>0.212712</td>\n",
       "      <td>0.234586</td>\n",
       "      <td>0.241803</td>\n",
       "    </tr>\n",
       "    <tr>\n",
       "      <th>1</th>\n",
       "      <td>0.301041</td>\n",
       "      <td>0.279868</td>\n",
       "      <td>0.196859</td>\n",
       "      <td>0.185406</td>\n",
       "      <td>0.205585</td>\n",
       "      <td>0.222415</td>\n",
       "    </tr>\n",
       "    <tr>\n",
       "      <th>2</th>\n",
       "      <td>0.292684</td>\n",
       "      <td>0.268758</td>\n",
       "      <td>0.184929</td>\n",
       "      <td>0.172232</td>\n",
       "      <td>0.189750</td>\n",
       "      <td>0.218474</td>\n",
       "    </tr>\n",
       "    <tr>\n",
       "      <th>3</th>\n",
       "      <td>0.291432</td>\n",
       "      <td>0.266248</td>\n",
       "      <td>0.164956</td>\n",
       "      <td>0.151458</td>\n",
       "      <td>0.168315</td>\n",
       "      <td>0.200645</td>\n",
       "    </tr>\n",
       "  </tbody>\n",
       "</table>\n",
       "</div>"
      ],
      "text/plain": [
       "       7mhf      7mhg      7mhh      7mhi      7mhj      7mhk\n",
       "0  0.324681  0.290859  0.226526  0.212712  0.234586  0.241803\n",
       "1  0.301041  0.279868  0.196859  0.185406  0.205585  0.222415\n",
       "2  0.292684  0.268758  0.184929  0.172232  0.189750  0.218474\n",
       "3  0.291432  0.266248  0.164956  0.151458  0.168315  0.200645"
      ]
     },
     "execution_count": 59,
     "metadata": {},
     "output_type": "execute_result"
    }
   ],
   "source": [
    "best_r_free_df = pd.DataFrame(best_r_free_arr, columns=names)\n",
    "best_r_free_df.head()"
   ]
  },
  {
   "cell_type": "code",
   "execution_count": 60,
   "metadata": {},
   "outputs": [],
   "source": [
    "best_r_free_df.to_csv(Path(Path.home(), \"Documents/xray_ms/best_r_free.csv\"))"
   ]
  },
  {
   "cell_type": "code",
   "execution_count": 108,
   "metadata": {},
   "outputs": [],
   "source": [
    "def get_rgb(x, y):\n",
    "    # Calculate the difference between x and y\n",
    "    diff = x - y\n",
    "    if y < x:\n",
    "        scale = abs(diff) * 1000\n",
    "        return 128, 180+scale, 128\n",
    "    else:\n",
    "        scale = abs(diff) * 1000\n",
    "        return 128+scale, 128, 128\n",
    "\n",
    "    return (red, green, 0)  # Return the RGB color\n",
    "\n",
    "\n",
    "def rgb_to_hex(rgb):\n",
    "    r, g, b = rgb\n",
    "    # Ensure RGB values are within the valid range\n",
    "    r = int(max(0, min(255, r)))\n",
    "    g = int(max(0, min(255, g)))\n",
    "    b = int(max(0, min(255, b)))\n",
    "\n",
    "    # Convert to hexadecimal\n",
    "    hex_color = \"#{:02x}{:02x}{:02x}\".format(r, g, b)\n",
    "    return hex_color"
   ]
  },
  {
   "cell_type": "code",
   "execution_count": 109,
   "metadata": {},
   "outputs": [
    {
     "name": "stdout",
     "output_type": "stream",
     "text": [
      "0 0 0.22 0.3246810033758046\n",
      "0 1 0.21 0.2908587514399037\n",
      "0 2 0.25 0.2265259998095756\n",
      "0 3 0.23 0.2127115452286923\n",
      "0 4 0.24 0.2345861073846798\n",
      "0 5 0.25 0.2418026091606503\n",
      "1 0 0.22 0.3010414148009183\n",
      "1 1 0.21 0.2798683665264518\n",
      "1 2 0.25 0.1968589874453984\n",
      "1 3 0.23 0.185405712711034\n",
      "1 4 0.24 0.2055852162441297\n",
      "1 5 0.25 0.222415413807293\n",
      "2 0 0.22 0.2926838009855869\n",
      "2 1 0.21 0.2687577766725684\n",
      "2 2 0.25 0.1849287508195042\n",
      "2 3 0.23 0.1722321131522732\n",
      "2 4 0.24 0.1897495578609743\n",
      "2 5 0.25 0.2184744014362902\n",
      "3 0 0.22 0.2914322228624188\n",
      "3 1 0.21 0.2662476614349756\n",
      "3 2 0.25 0.1649556164117827\n",
      "3 3 0.23 0.151458272490108\n",
      "3 4 0.24 0.1683153300804082\n",
      "3 5 0.25 0.2006452342149076\n"
     ]
    },
    {
     "data": {
      "text/html": [
       "<div>\n",
       "<style scoped>\n",
       "    .dataframe tbody tr th:only-of-type {\n",
       "        vertical-align: middle;\n",
       "    }\n",
       "\n",
       "    .dataframe tbody tr th {\n",
       "        vertical-align: top;\n",
       "    }\n",
       "\n",
       "    .dataframe thead th {\n",
       "        text-align: right;\n",
       "    }\n",
       "</style>\n",
       "<table border=\"1\" class=\"dataframe\">\n",
       "  <thead>\n",
       "    <tr style=\"text-align: right;\">\n",
       "      <th></th>\n",
       "      <th>0</th>\n",
       "      <th>1</th>\n",
       "      <th>2</th>\n",
       "      <th>3</th>\n",
       "      <th>4</th>\n",
       "      <th>5</th>\n",
       "    </tr>\n",
       "  </thead>\n",
       "  <tbody>\n",
       "    <tr>\n",
       "      <th>0</th>\n",
       "      <td>#e88080</td>\n",
       "      <td>#d08080</td>\n",
       "      <td>#80cb80</td>\n",
       "      <td>#80c580</td>\n",
       "      <td>#80b980</td>\n",
       "      <td>#80bc80</td>\n",
       "    </tr>\n",
       "    <tr>\n",
       "      <th>1</th>\n",
       "      <td>#d18080</td>\n",
       "      <td>#c58080</td>\n",
       "      <td>#80e980</td>\n",
       "      <td>#80e080</td>\n",
       "      <td>#80d680</td>\n",
       "      <td>#80cf80</td>\n",
       "    </tr>\n",
       "    <tr>\n",
       "      <th>2</th>\n",
       "      <td>#c88080</td>\n",
       "      <td>#ba8080</td>\n",
       "      <td>#80f580</td>\n",
       "      <td>#80ed80</td>\n",
       "      <td>#80e680</td>\n",
       "      <td>#80d380</td>\n",
       "    </tr>\n",
       "    <tr>\n",
       "      <th>3</th>\n",
       "      <td>#c78080</td>\n",
       "      <td>#b88080</td>\n",
       "      <td>#80ff80</td>\n",
       "      <td>#80ff80</td>\n",
       "      <td>#80fb80</td>\n",
       "      <td>#80e580</td>\n",
       "    </tr>\n",
       "  </tbody>\n",
       "</table>\n",
       "</div>"
      ],
      "text/plain": [
       "         0        1        2        3        4        5\n",
       "0  #e88080  #d08080  #80cb80  #80c580  #80b980  #80bc80\n",
       "1  #d18080  #c58080  #80e980  #80e080  #80d680  #80cf80\n",
       "2  #c88080  #ba8080  #80f580  #80ed80  #80e680  #80d380\n",
       "3  #c78080  #b88080  #80ff80  #80ff80  #80fb80  #80e580"
      ]
     },
     "execution_count": 109,
     "metadata": {},
     "output_type": "execute_result"
    }
   ],
   "source": [
    "colors_arr = np.ndarray(shape=(4,6), dtype=object)\n",
    "orig_r_frees = [.22,.21,.25,.23,.24,.25]\n",
    "for i in range(4):\n",
    "    for j in range(6):\n",
    "        print(i,j, orig_r_frees[j], best_r_free_arr[i,j])\n",
    "        colors_arr[i,j] = rgb_to_hex(get_rgb(orig_r_frees[j], best_r_free_arr[i,j]))\n",
    "\n",
    "pd.DataFrame(colors_arr).head()"
   ]
  },
  {
   "cell_type": "markdown",
   "metadata": {},
   "source": []
  }
 ],
 "metadata": {
  "kernelspec": {
   "display_name": "imp_218",
   "language": "python",
   "name": "python3"
  },
  "language_info": {
   "codemirror_mode": {
    "name": "ipython",
    "version": 3
   },
   "file_extension": ".py",
   "mimetype": "text/x-python",
   "name": "python",
   "nbconvert_exporter": "python",
   "pygments_lexer": "ipython3",
   "version": "3.11.8"
  }
 },
 "nbformat": 4,
 "nbformat_minor": 2
}
