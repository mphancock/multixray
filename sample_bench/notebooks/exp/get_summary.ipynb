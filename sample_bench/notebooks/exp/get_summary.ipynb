{
 "cells": [
  {
   "cell_type": "code",
   "execution_count": 2,
   "metadata": {},
   "outputs": [],
   "source": [
    "from pathlib import Path\n",
    "import pandas as pd\n",
    "import numpy as np\n",
    "import sys"
   ]
  },
  {
   "cell_type": "code",
   "execution_count": 3,
   "metadata": {},
   "outputs": [],
   "source": [
    "cif_names = [\"7mhf\", \"7mhg\", \"7mhh\", \"7mhi\", \"7mhj\", \"7mhk\"]\n",
    "mapper_df = pd.read_csv(Path(Path.home(), \"Documents/xray/dev/35_cif_combos/data/7mhf.csv\"), index_col=0)\n",
    "pdb_r_free_dict = {\"7mhf\": .224, \"7mhg\": .205, \"7mhh\": .253, \"7mhi\": .228, \"7mhj\": .240, \"7mhk\": .247}\n",
    "\n",
    "exp_name = \"179_exp\"\n",
    "analysis_dir = Path(Path.home(), \"Documents/xray/sample_bench/data/7mhf\", exp_name)\n",
    "analysis_df = pd.read_csv(Path(analysis_dir, \"ref_10000.csv\"), index_col=0)\n",
    "analysis_df.head()\n",
    "\n",
    "Ns = [1, 2, 4, 8, 16]\n",
    "Js = list(range(1,7))"
   ]
  },
  {
   "cell_type": "code",
   "execution_count": 6,
   "metadata": {},
   "outputs": [],
   "source": [
    "best_rows = list()\n",
    "\n",
    "exp_deltas, ref_deltas, ref_ff_deltas, job_cif_strs = list(), list(), list(), list()\n",
    "for N in Ns:\n",
    "    for cif_name in cif_names:\n",
    "        for J in Js:\n",
    "            N_J_cif_subset = analysis_df[(analysis_df[\"N\"] == N) & (analysis_df[\"J\"] == J) & (analysis_df[\"cif_name\"] == cif_name)]\n",
    "            best_row = N_J_cif_subset[N_J_cif_subset[\"r_free\"] == N_J_cif_subset[\"r_free\"].min()]\n",
    "            best_rows.append(best_row)\n",
    "            r_free = best_row[\"r_free\"].values[0]\n",
    "            ff = best_row[\"ff\"].values[0]\n",
    "            exp_delta = r_free - pdb_r_free_dict[cif_name]\n",
    "            exp_deltas.append(exp_delta)\n",
    "\n",
    "            N1_J1_cif_subset = analysis_df[(analysis_df[\"N\"] == 1) & (analysis_df[\"J\"] == 1) & (analysis_df[\"cif_name\"] == cif_name)]\n",
    "            best_N1_J1_row = N1_J1_cif_subset[N1_J1_cif_subset[\"r_free\"] == N1_J1_cif_subset[\"r_free\"].min()]\n",
    "            ref_r_free = best_N1_J1_row[\"r_free\"].values[0]\n",
    "            ref_ff = best_N1_J1_row[\"ff\"].values[0]\n",
    "            ref_delta = r_free - ref_r_free\n",
    "            ref_delta_ff = ff - ref_ff\n",
    "            ref_deltas.append(ref_delta)\n",
    "            ref_ff_deltas.append(ref_delta_ff)\n",
    "\n",
    "            job_id = best_row[\"job_id\"].values[0]\n",
    "            job_cif_files = mapper_df.loc[job_id].values[0].split(\",\")\n",
    "            job_cif_names = [Path(job_cif_file).stem for job_cif_file in job_cif_files]\n",
    "            job_cif_str = \",\".join(job_cif_names)\n",
    "            job_cif_strs.append(job_cif_str)\n",
    "\n",
    "            # print(cif_name, N, J, job_id, r_free, delta, ff, pdb, job_cif_names)\n",
    "\n",
    "summary_df = pd.concat(best_rows)\n",
    "summary_df[\"exp_delta\"] = exp_deltas\n",
    "summary_df[\"ref_delta\"] = ref_deltas\n",
    "summary_df[\"ref_ff_delta\"] = ref_ff_deltas\n",
    "summary_df[\"job_cif_str\"] = job_cif_strs\n",
    "\n",
    "summary_df.to_csv(Path(Path.home(), \"Documents/xray/sample_bench/data/7mhf/{}/summary.csv\".format(exp_name)))"
   ]
  },
  {
   "cell_type": "code",
   "execution_count": 14,
   "metadata": {},
   "outputs": [
    {
     "name": "stdout",
     "output_type": "stream",
     "text": [
      "7mhf 2 2 0.05541382497735217 -0.036100152313550626 /wynton/group/sali/mhancock/xray/sample_bench/out/7mhf/179_exp_ref_10000/9937.pdb\n",
      "7mhg 2 3 0.0640811391894697 -0.025031366353565287 /wynton/group/sali/mhancock/xray/sample_bench/out/7mhf/179_exp_ref_10000/11905.pdb\n",
      "7mhh 8 3 -0.044161278013805594 -0.09013741418554289 /wynton/group/sali/mhancock/xray/sample_bench/out/7mhf/179_exp_ref_10000/33020.pdb\n",
      "7mhi 8 3 -0.0333480001096528 -0.09072028781394759 /wynton/group/sali/mhancock/xray/sample_bench/out/7mhf/179_exp_ref_10000/33084.pdb\n",
      "7mhj 8 4 -0.0356133313894845 -0.09334940703829661 /wynton/group/sali/mhancock/xray/sample_bench/out/7mhf/179_exp_ref_10000/36547.pdb\n",
      "7mhk 8 3 -0.00661556797448401 -0.0707227789409178 /wynton/group/sali/mhancock/xray/sample_bench/out/7mhf/179_exp_ref_10000/33274.pdb\n"
     ]
    }
   ],
   "source": [
    "for cif_name in cif_names:\n",
    "    cif_subset = summary_df[summary_df[\"cif_name\"] == cif_name]\n",
    "    best_row = cif_subset[cif_subset[\"exp_delta\"] == cif_subset[\"exp_delta\"].min()].iloc[0]\n",
    "    print(cif_name, best_row[\"N\"], best_row[\"J\"], best_row[\"exp_delta\"], best_row[\"ref_delta\"], best_row[\"pdb\"])"
   ]
  },
  {
   "cell_type": "code",
   "execution_count": null,
   "metadata": {},
   "outputs": [],
   "source": []
  }
 ],
 "metadata": {
  "kernelspec": {
   "display_name": "imp_220_cctbx",
   "language": "python",
   "name": "python3"
  },
  "language_info": {
   "codemirror_mode": {
    "name": "ipython",
    "version": 3
   },
   "file_extension": ".py",
   "mimetype": "text/x-python",
   "name": "python",
   "nbconvert_exporter": "python",
   "pygments_lexer": "ipython3",
   "version": "3.11.8"
  }
 },
 "nbformat": 4,
 "nbformat_minor": 2
}
