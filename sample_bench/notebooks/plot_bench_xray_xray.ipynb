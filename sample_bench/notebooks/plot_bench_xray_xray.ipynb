{
 "cells": [
  {
   "cell_type": "code",
   "execution_count": 1,
   "metadata": {},
   "outputs": [],
   "source": [
    "from pathlib import Path\n",
    "import matplotlib.pyplot as plt\n",
    "import matplotlib.colors as mcolors\n",
    "from matplotlib.lines import Line2D\n",
    "import seaborn as sns\n",
    "sns.set_theme()\n",
    "import pandas as pd\n"
   ]
  },
  {
   "cell_type": "code",
   "execution_count": 2,
   "metadata": {},
   "outputs": [],
   "source": [
    "data_dir = Path(Path.home(), \"Documents/xray/sample_bench/data/7mhf\")"
   ]
  },
  {
   "cell_type": "code",
   "execution_count": 10,
   "metadata": {},
   "outputs": [],
   "source": [
    "score_df_1 = pd.read_csv(Path(data_dir, \"118_natives_1_cif/score_analysis.csv\"))\n",
    "score_df_2 = pd.read_csv(Path(data_dir, \"119_natives_2_cif/score_analysis.csv\"))\n",
    "score_df_3 = pd.read_csv(Path(data_dir, \"110_natives_1_state/score_analysis.csv\"))\n"
   ]
  },
  {
   "cell_type": "code",
   "execution_count": 11,
   "metadata": {},
   "outputs": [
    {
     "data": {
      "text/html": [
       "<div>\n",
       "<style scoped>\n",
       "    .dataframe tbody tr th:only-of-type {\n",
       "        vertical-align: middle;\n",
       "    }\n",
       "\n",
       "    .dataframe tbody tr th {\n",
       "        vertical-align: top;\n",
       "    }\n",
       "\n",
       "    .dataframe thead th {\n",
       "        text-align: right;\n",
       "    }\n",
       "</style>\n",
       "<table border=\"1\" class=\"dataframe\">\n",
       "  <thead>\n",
       "    <tr style=\"text-align: right;\">\n",
       "      <th></th>\n",
       "      <th>Unnamed: 0</th>\n",
       "      <th>min_xray_0</th>\n",
       "      <th>xray_0_min_0_r_free_0</th>\n",
       "      <th>xray_0_min_0_rmsd_avg_0</th>\n",
       "      <th>xray_0_min_0_ff</th>\n",
       "      <th>xray_0_min_0_pdb</th>\n",
       "    </tr>\n",
       "  </thead>\n",
       "  <tbody>\n",
       "    <tr>\n",
       "      <th>0</th>\n",
       "      <td>0</td>\n",
       "      <td>5.400929</td>\n",
       "      <td>0.216571</td>\n",
       "      <td>0.219384</td>\n",
       "      <td>12668.272442</td>\n",
       "      <td>/wynton/group/sali/mhancock/xray/sample_bench/...</td>\n",
       "    </tr>\n",
       "  </tbody>\n",
       "</table>\n",
       "</div>"
      ],
      "text/plain": [
       "   Unnamed: 0  min_xray_0  xray_0_min_0_r_free_0  xray_0_min_0_rmsd_avg_0   \n",
       "0           0    5.400929               0.216571                 0.219384  \\\n",
       "\n",
       "   xray_0_min_0_ff                                   xray_0_min_0_pdb  \n",
       "0     12668.272442  /wynton/group/sali/mhancock/xray/sample_bench/...  "
      ]
     },
     "execution_count": 11,
     "metadata": {},
     "output_type": "execute_result"
    }
   ],
   "source": [
    "score_df_1.head(1)"
   ]
  },
  {
   "cell_type": "code",
   "execution_count": 12,
   "metadata": {},
   "outputs": [
    {
     "data": {
      "text/html": [
       "<div>\n",
       "<style scoped>\n",
       "    .dataframe tbody tr th:only-of-type {\n",
       "        vertical-align: middle;\n",
       "    }\n",
       "\n",
       "    .dataframe tbody tr th {\n",
       "        vertical-align: top;\n",
       "    }\n",
       "\n",
       "    .dataframe thead th {\n",
       "        text-align: right;\n",
       "    }\n",
       "</style>\n",
       "<table border=\"1\" class=\"dataframe\">\n",
       "  <thead>\n",
       "    <tr style=\"text-align: right;\">\n",
       "      <th></th>\n",
       "      <th>Unnamed: 0</th>\n",
       "      <th>min_xray_0+xray_1</th>\n",
       "      <th>xray_0+xray_1_min_0_xray_1</th>\n",
       "      <th>xray_0+xray_1_min_0_r_free_0</th>\n",
       "      <th>xray_0+xray_1_min_0_r_free_1</th>\n",
       "      <th>xray_0+xray_1_min_0_rmsd_avg_0</th>\n",
       "      <th>xray_0+xray_1_min_0_rmsd_avg_1</th>\n",
       "      <th>xray_0+xray_1_min_0_ff</th>\n",
       "      <th>xray_0+xray_1_min_0_pdb</th>\n",
       "    </tr>\n",
       "  </thead>\n",
       "  <tbody>\n",
       "    <tr>\n",
       "      <th>0</th>\n",
       "      <td>0</td>\n",
       "      <td>10.258876</td>\n",
       "      <td>5.133315</td>\n",
       "      <td>0.155844</td>\n",
       "      <td>0.153686</td>\n",
       "      <td>0.223019</td>\n",
       "      <td>0.218288</td>\n",
       "      <td>22365.65205</td>\n",
       "      <td>/wynton/group/sali/mhancock/xray/sample_bench/...</td>\n",
       "    </tr>\n",
       "  </tbody>\n",
       "</table>\n",
       "</div>"
      ],
      "text/plain": [
       "   Unnamed: 0  min_xray_0+xray_1  xray_0+xray_1_min_0_xray_1   \n",
       "0           0          10.258876                    5.133315  \\\n",
       "\n",
       "   xray_0+xray_1_min_0_r_free_0  xray_0+xray_1_min_0_r_free_1   \n",
       "0                      0.155844                      0.153686  \\\n",
       "\n",
       "   xray_0+xray_1_min_0_rmsd_avg_0  xray_0+xray_1_min_0_rmsd_avg_1   \n",
       "0                        0.223019                        0.218288  \\\n",
       "\n",
       "   xray_0+xray_1_min_0_ff                            xray_0+xray_1_min_0_pdb  \n",
       "0             22365.65205  /wynton/group/sali/mhancock/xray/sample_bench/...  "
      ]
     },
     "execution_count": 12,
     "metadata": {},
     "output_type": "execute_result"
    }
   ],
   "source": [
    "score_df_2.head(1)"
   ]
  },
  {
   "cell_type": "code",
   "execution_count": 6,
   "metadata": {},
   "outputs": [
    {
     "data": {
      "text/html": [
       "<div>\n",
       "<style scoped>\n",
       "    .dataframe tbody tr th:only-of-type {\n",
       "        vertical-align: middle;\n",
       "    }\n",
       "\n",
       "    .dataframe tbody tr th {\n",
       "        vertical-align: top;\n",
       "    }\n",
       "\n",
       "    .dataframe thead th {\n",
       "        text-align: right;\n",
       "    }\n",
       "</style>\n",
       "<table border=\"1\" class=\"dataframe\">\n",
       "  <thead>\n",
       "    <tr style=\"text-align: right;\">\n",
       "      <th></th>\n",
       "      <th>Unnamed: 0</th>\n",
       "      <th>min_xray_0</th>\n",
       "      <th>xray_0_min_0_r_free_0</th>\n",
       "      <th>xray_0_min_0_rmsd_avg_0</th>\n",
       "      <th>xray_0_min_0_pdb</th>\n",
       "    </tr>\n",
       "  </thead>\n",
       "  <tbody>\n",
       "    <tr>\n",
       "      <th>0</th>\n",
       "      <td>0</td>\n",
       "      <td>5.822634</td>\n",
       "      <td>0.240512</td>\n",
       "      <td>0.156846</td>\n",
       "      <td>/wynton/group/sali/mhancock/xray/sample_bench/...</td>\n",
       "    </tr>\n",
       "  </tbody>\n",
       "</table>\n",
       "</div>"
      ],
      "text/plain": [
       "   Unnamed: 0  min_xray_0  xray_0_min_0_r_free_0  xray_0_min_0_rmsd_avg_0   \n",
       "0           0    5.822634               0.240512                 0.156846  \\\n",
       "\n",
       "                                    xray_0_min_0_pdb  \n",
       "0  /wynton/group/sali/mhancock/xray/sample_bench/...  "
      ]
     },
     "execution_count": 6,
     "metadata": {},
     "output_type": "execute_result"
    }
   ],
   "source": [
    "score_df_3.head(1)"
   ]
  },
  {
   "cell_type": "code",
   "execution_count": 14,
   "metadata": {},
   "outputs": [
    {
     "data": {
      "image/png": "[encoded data removed]",
      "text/plain": [
       "<Figure size 1000x1000 with 1 Axes>"
      ]
     },
     "metadata": {},
     "output_type": "display_data"
    }
   ],
   "source": [
    "fig, ax = plt.subplots(1, 1, figsize=(10,10))\n",
    "\n",
    "ax.set_xlim(0,0.25)\n",
    "ax.set_ylim(0,0.25)\n",
    "ax.plot([0,1],[0,1], c=\"#424242ff\")\n",
    "# ax.scatter(score_df_3[\"xray_0_min_0_r_free_0\"], score_df_1[\"xray_0_min_0_r_free_0\"], c=\"#424242ff\")\n",
    "ax.scatter(score_df_1[\"xray_0_min_0_r_free_0\"], score_df_2[\"xray_0+xray_1_min_0_r_free_0\"], c=\"#424242ff\")\n",
    "plt.savefig(Path(Path.home(), \"Desktop/r_free.png\"))"
   ]
  },
  {
   "cell_type": "code",
   "execution_count": null,
   "metadata": {},
   "outputs": [],
   "source": []
  }
 ],
 "metadata": {
  "kernelspec": {
   "display_name": "imp_218",
   "language": "python",
   "name": "python3"
  },
  "language_info": {
   "codemirror_mode": {
    "name": "ipython",
    "version": 3
   },
   "file_extension": ".py",
   "mimetype": "text/x-python",
   "name": "python",
   "nbconvert_exporter": "python",
   "pygments_lexer": "ipython3",
   "version": "3.11.3"
  }
 },
 "nbformat": 4,
 "nbformat_minor": 2
}
