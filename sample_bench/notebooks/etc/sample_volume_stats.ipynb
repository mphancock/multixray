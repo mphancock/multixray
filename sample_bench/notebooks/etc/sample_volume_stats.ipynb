{
 "cells": [
  {
   "cell_type": "code",
   "execution_count": null,
   "metadata": {},
   "outputs": [],
   "source": [
    "from pathlib import Path\n",
    "import pandas as pd\n",
    "import random\n",
    "import numpy as np\n",
    "import matplotlib.pyplot as plt\n",
    "import seaborn as sns\n",
    "sns.set_theme()\n",
    "import matplotlib.colors as mcolors\n",
    "from matplotlib.lines import Line2D\n",
    "import numpy as np\n",
    "from scipy.optimize import curve_fit"
   ]
  },
  {
   "cell_type": "markdown",
   "metadata": {},
   "source": [
    "### Compute convergence minimas."
   ]
  },
  {
   "cell_type": "code",
   "execution_count": null,
   "metadata": {},
   "outputs": [],
   "source": [
    "best_scores = list()\n",
    "best_accs = list()\n",
    "for i in range(len(xray_stat_dfs)):\n",
    "    best_scores.append(xray_stat_dfs[i].iloc[-1][\"{}_mean\".format(score_field)])\n",
    "    best_accs.append(rmsd_stat_dfs[i].iloc[-1][\"{}_mean\".format(rmsd_field)])\n",
    "\n",
    "print(np.mean(best_scores), np.std(best_scores))\n",
    "print(np.mean(best_accs), np.std(best_accs))"
   ]
  },
  {
   "cell_type": "markdown",
   "metadata": {},
   "source": [
    "### Compute convergence points."
   ]
  },
  {
   "cell_type": "code",
   "execution_count": null,
   "metadata": {},
   "outputs": [],
   "source": [
    "# Define the model function for power law decay with an additional c parameter\n",
    "def power_law_decay(x, a, b, c):\n",
    "    return a * np.power(x, b) + c\n",
    "\n",
    "# Define a function to perform the curve fitting for the power law decay model\n",
    "def fit_power_law_decay(xs, ys):\n",
    "    # Make an initial guess for the parameters\n",
    "    # a: scale factor, b: exponent, c: y-axis shift\n",
    "    initial_guess = [np.max(ys), -1.0, np.min(ys)]\n",
    "\n",
    "    # Perform the curve fitting\n",
    "    params, covariance = curve_fit(power_law_decay, xs, ys, p0=initial_guess, maxfev=10000)\n",
    "\n",
    "    # Extract the fitted parameters\n",
    "    a, b, c = params\n",
    "\n",
    "    return a, b, c"
   ]
  },
  {
   "cell_type": "code",
   "execution_count": null,
   "metadata": {},
   "outputs": [],
   "source": [
    "xray_stat_df = xray_stat_dfs[1]\n",
    "a, b, c = fit_power_law_decay(xray_stat_df.index, xray_stat_df[\"{}_mean\".format(score_field)])\n",
    "plt.plot(xray_stat_df.index, xray_stat_df[\"{}_mean\".format(score_field)], label=\"X-ray Score\")\n",
    "plt.plot(xray_stat_df.index, power_law_decay(xray_stat_df.index, a, b, c), label=\"Fitted Exponential Curve\")"
   ]
  },
  {
   "cell_type": "code",
   "execution_count": null,
   "metadata": {},
   "outputs": [],
   "source": [
    "\n",
    "def find_derivative_zero_point_power_law(a, b, c, sigma, x_start=1.0):\n",
    "    \"\"\"\n",
    "    Find the x value where the derivative of the power law decay function is approximately zero within a sigma value.\n",
    "\n",
    "    Parameters:\n",
    "    a (float): The scale factor in the power law equation.\n",
    "    b (float): The exponent in the power law equation.\n",
    "    c (float): The constant offset in the power law equation.\n",
    "    sigma (float): The sigma value within which the derivative is considered approximately zero.\n",
    "    x_start (float): The starting x value for finding the zero derivative point.\n",
    "\n",
    "    Returns:\n",
    "    x_zero_derivative (float): The x value where the first derivative is approximately zero within sigma.\n",
    "    \"\"\"\n",
    "\n",
    "    # Define the derivative of the power law function\n",
    "    def derivative_power_law(x):\n",
    "        return a * b * np.power(x, b - 1)\n",
    "\n",
    "    # Starting point for the search\n",
    "    x_guess = x_start\n",
    "\n",
    "    # Define the step size and precision for the search\n",
    "    step_size = 0.1\n",
    "    precision = sigma / 10  # Stop when we are within 10% of the sigma value\n",
    "\n",
    "    # Search for the point where the derivative is approximately zero\n",
    "    while abs(derivative_power_law(x_guess)) > sigma:\n",
    "        # Update the guess based on the derivative\n",
    "        x_guess -= step_size * np.sign(derivative_power_law(x_guess))\n",
    "\n",
    "        # If the derivative changes sign, make the step size smaller\n",
    "        if np.sign(derivative_power_law(x_guess - step_size)) != np.sign(derivative_power_law(x_guess)):\n",
    "            step_size /= 10\n",
    "\n",
    "        # If the step size is too small, break the loop\n",
    "        if step_size < precision:\n",
    "            break\n",
    "\n",
    "    if abs(derivative_power_law(x_guess)) <= sigma:\n",
    "        x_zero_derivative = x_guess\n",
    "    else:\n",
    "        x_zero_derivative = None  # Could not find a point where the derivative is approximately zero within sigma\n",
    "\n",
    "    return x_zero_derivative\n"
   ]
  },
  {
   "cell_type": "code",
   "execution_count": null,
   "metadata": {},
   "outputs": [],
   "source": [
    "score_conv_pts = list()\n",
    "acc_conv_pts = list()\n",
    "\n",
    "for i in range(len(xray_stat_dfs)):\n",
    "    xray_stat_df = xray_stat_dfs[i]\n",
    "    rmsd_stat_df = rmsd_stat_dfs[i]\n",
    "\n",
    "    a_score, b_score, c_score = fit_power_law_decay(xray_stat_df.index, xray_stat_df[\"{}_mean\".format(score_field)])\n",
    "    x_score = find_derivative_zero_point_power_law(a_score, b_score, c_score, sigma=1e-4)\n",
    "\n",
    "    a_acc, b_acc, c_acc = fit_power_law_decay(rmsd_stat_df.index, rmsd_stat_df[\"{}_mean\".format(rmsd_field)])\n",
    "    x_acc = find_derivative_zero_point_power_law(a_acc, b_acc, c_acc, sigma=1e-4)\n",
    "\n",
    "    score_conv_pts.append(x_score)\n",
    "    acc_conv_pts.append(x_acc)\n",
    "\n",
    "print(score_conv_pts)\n",
    "print(np.mean(score_conv_pts), np.std(score_conv_pts))\n",
    "print(acc_conv_pts)\n",
    "print(np.mean(acc_conv_pts), np.std(acc_conv_pts))"
   ]
  }
 ],
 "metadata": {
  "language_info": {
   "name": "python"
  }
 },
 "nbformat": 4,
 "nbformat_minor": 2
}
