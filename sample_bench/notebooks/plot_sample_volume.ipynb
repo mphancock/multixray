{
 "cells": [
  {
   "cell_type": "code",
   "execution_count": 1,
   "metadata": {},
   "outputs": [],
   "source": [
    "from pathlib import Path\n",
    "import pandas as pd\n",
    "import random\n",
    "import numpy as np\n",
    "import matplotlib.pyplot as plt\n",
    "import matplotlib.ticker as ticker\n",
    "from matplotlib.ticker import FuncFormatter\n",
    "import matplotlib.gridspec as gridspec\n",
    "\n",
    "import seaborn as sns\n",
    "sns.set_theme()\n",
    "import matplotlib.colors as mcolors\n",
    "from matplotlib.lines import Line2D\n",
    "import numpy as np\n",
    "from scipy.optimize import curve_fit"
   ]
  },
  {
   "cell_type": "code",
   "execution_count": 2,
   "metadata": {},
   "outputs": [],
   "source": [
    "exp_dir_arr = np.ndarray(shape=(4,2), dtype=Path)\n",
    "data_dir = Path(Path.home(), \"Documents/xray/sample_bench/data/7mhf\")\n",
    "# Synthetic benchmark score\n",
    "exp_dir_arr[0,0] = Path(data_dir, \"125_natives_1_state\")\n",
    "exp_dir_arr[0,1] = Path(data_dir, \"145_native_1_state_2_cond\")\n",
    "exp_dir_arr[1,0] = Path(data_dir, \"123_natives_2_state\")\n",
    "exp_dir_arr[1,1] = Path(data_dir, \"124_natives_2_cond\")\n",
    "exp_dir_arr[2,0] = Path(data_dir, \"141_native_4_state_1_cond\")\n",
    "exp_dir_arr[2,1] = Path(data_dir, \"142_native_4_state_2_cond\")\n",
    "exp_dir_arr[3,0] = Path(data_dir, \"151_native_N8_J1\")\n",
    "exp_dir_arr[3,1] = Path(data_dir, \"152_native_N8_J2\")\n",
    "\n",
    "stat_dfs_arr = np.ndarray(shape=(4,2,3,10), dtype=pd.DataFrame)\n",
    "y_fields_arr = np.ndarray(shape=(4,2,3), dtype=Path)\n",
    "for i in range(4):\n",
    "    for j in range(2):\n",
    "        if j == 0:\n",
    "            for k in range(10):\n",
    "                stat_dfs_arr[i,j,0,k] = pd.read_csv(Path(exp_dir_arr[i,j], \"volume_xray_0_{}.csv\".format(k), index_col=0))\n",
    "                stat_dfs_arr[i,j,1,k] = stat_dfs_arr[i,j,0,k]\n",
    "                stat_dfs_arr[i,j,2,k] = pd.read_csv(Path(exp_dir_arr[i,j], \"volume_rmsd_0_{}.csv\".format(k), index_col=0))\n",
    "\n",
    "            y_fields_arr[i,j,0] = \"xray_0\"\n",
    "            y_fields_arr[i,j,1] = \"rmsd_0\"\n",
    "            y_fields_arr[i,j,2] = \"rmsd_0\"\n",
    "        else:\n",
    "            for k in range(10):\n",
    "                stat_dfs_arr[i,j,0,k] = pd.read_csv(Path(exp_dir_arr[i,j], \"volume_xray_0+xray_1_{}.csv\".format(k), index_col=0))\n",
    "                stat_dfs_arr[i,j,1,k] = stat_dfs_arr[i,j,0,k]\n",
    "                stat_dfs_arr[i,j,2,k] = pd.read_csv(Path(exp_dir_arr[i,j], \"volume_rmsd_0+rmsd_1_{}.csv\".format(k), index_col=0))\n",
    "\n",
    "            y_fields_arr[i,j,0] = \"xray_0+xray_1\"\n",
    "            y_fields_arr[i,j,1] = \"rmsd_0+rmsd_1\"\n",
    "            y_fields_arr[i,j,2] = \"rmsd_0+rmsd_1\"\n"
   ]
  },
  {
   "cell_type": "code",
   "execution_count": 3,
   "metadata": {},
   "outputs": [],
   "source": [
    "def get_min_max(dfs, field):\n",
    "    all_df = pd.concat(dfs)\n",
    "    field_min = all_score_df[\"{}_mean\".format(score_field)].min()\n",
    "    field_max = all_score_df[\"{}_mean\".format(score_field)].max()\n",
    "\n",
    "    return field_min, field_max\n"
   ]
  },
  {
   "cell_type": "code",
   "execution_count": 4,
   "metadata": {},
   "outputs": [
    {
     "data": {
      "image/png": "[encoded data removed]",
      "text/plain": [
       "<Figure size 640x480 with 1 Axes>"
      ]
     },
     "metadata": {},
     "output_type": "display_data"
    }
   ],
   "source": [
    "alpha = .5\n",
    "space = 20\n",
    "\n",
    "file_names = [\"xray\", \"xray_rmsd\", \"rmsd\"]\n",
    "\n",
    "for i in range(4):\n",
    "    for j in range(2):\n",
    "        for plot_id in range(3):\n",
    "            fig, axs = plt.subplots(2, 5, figsize=(25,8))\n",
    "\n",
    "            for k in range(10):\n",
    "                stat_df = stat_dfs_arr[i,j,plot_id,k]\n",
    "                ax = axs[k//5][k%5]\n",
    "\n",
    "                x = stat_df.index\n",
    "                y = stat_df[\"{}_mean\".format(y_fields_arr[i,j,plot_id])]\n",
    "                std = stat_df[\"{}_std\".format(y_fields_arr[i,j,plot_id])]\n",
    "\n",
    "                ax.scatter(x[::space], y[::space], c=\"#424242ff\", alpha=alpha)\n",
    "                ax.errorbar(x[::space], y[::space], std[::space], linestyle='None', marker='o', capsize=3, c=\"#424242ff\", alpha=alpha)\n",
    "\n",
    "            fig_file = Path(Path.home(), \"Desktop/volume_{}_{}_{}.png\".format(file_names[plot_id],i,j))\n",
    "            plt.savefig(fig_file)\n",
    "            plt.close()\n",
    "\n",
    "            plt.plot()"
   ]
  },
  {
   "cell_type": "code",
   "execution_count": 5,
   "metadata": {},
   "outputs": [],
   "source": [
    "fig, axs = plt.subplots(3, 2, figsize=(12,15))\n",
    "\n",
    "fig_file = Path(Path.home(), \"Desktop/volume.png\".format(i,j))\n",
    "\n",
    "space = 50\n",
    "for i in range(3):\n",
    "    for j in range(2):\n",
    "        ax = axs[i][j]\n",
    "\n",
    "        ax.tick_params(axis='x', labelsize=40)\n",
    "        ax.tick_params(axis='y', labelsize=40)\n",
    "\n",
    "        ax.xaxis.set_major_locator(ticker.MaxNLocator(3))\n",
    "        ax.yaxis.set_major_locator(ticker.MaxNLocator(3))\n",
    "\n",
    "        def two_decimal_places(x, pos):\n",
    "            return f'{x:.2f}'\n",
    "        ax.yaxis.set_major_formatter(FuncFormatter(two_decimal_places))\n",
    "\n",
    "\n",
    "        stat_df = stat_dfs_arr[i,j,0,0]\n",
    "\n",
    "        x = stat_df.index\n",
    "        y = stat_df[\"{}_mean\".format(y_fields_arr[i,j,0])]\n",
    "        std = stat_df[\"{}_std\".format(y_fields_arr[i,j,0])]\n",
    "\n",
    "        ax.scatter(x[::space], y[::space], c=\"#424242ff\", s=50, alpha=1)\n",
    "        ax.errorbar(x[::space], y[::space], std[::space], linestyle='None', marker='o', elinewidth=3, capsize=10, c=\"#424242ff\", alpha=1)\n",
    "\n",
    "        # ax.set_aspect('equal', 'box')  # Ensure the aspect ratio is equal to make subplots square\n",
    "\n",
    "\n",
    "plt.tight_layout()\n",
    "plt.savefig(fig_file)\n",
    "plt.close()\n"
   ]
  },
  {
   "cell_type": "code",
   "execution_count": null,
   "metadata": {},
   "outputs": [],
   "source": []
  },
  {
   "cell_type": "code",
   "execution_count": null,
   "metadata": {},
   "outputs": [],
   "source": []
  }
 ],
 "metadata": {
  "kernelspec": {
   "display_name": "Python 3",
   "language": "python",
   "name": "python3"
  },
  "language_info": {
   "codemirror_mode": {
    "name": "ipython",
    "version": 3
   },
   "file_extension": ".py",
   "mimetype": "text/x-python",
   "name": "python",
   "nbconvert_exporter": "python",
   "pygments_lexer": "ipython3",
   "version": "3.11.8"
  }
 },
 "nbformat": 4,
 "nbformat_minor": 4
}
