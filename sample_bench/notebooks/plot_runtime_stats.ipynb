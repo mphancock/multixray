{
 "cells": [
  {
   "cell_type": "code",
   "execution_count": 55,
   "id": "1e8c4ed8",
   "metadata": {},
   "outputs": [],
   "source": [
    "from pathlib import Path \n",
    "import pandas as pd\n",
    "import multiprocessing\n",
    "import matplotlib.pyplot as plt\n",
    "import seaborn as sns \n",
    "sns.set_theme()\n",
    "import numpy as np"
   ]
  },
  {
   "cell_type": "code",
   "execution_count": 78,
   "id": "f732564e",
   "metadata": {},
   "outputs": [],
   "source": [
    "# job_dir = Path(\"/wynton/group/sali/mhancock/xray/sample_bench/out/3ca7/single_md/00_300/788243\")\n",
    "# job_dir = Path(\"/wynton/group/sali/mhancock/xray/sample_bench/out/3ca7/single_md/01_300_exp/788244\")\n",
    "# job_dir = Path(\"/wynton/group/sali/mhancock/xray/sample_bench/out/3ca7/single_md/02_300_4/788245\")\n",
    "job_dir = Path(\"/wynton/group/sali/mhancock/xray/sample_bench/out/3ca7/single_md/03_300_4_exp/788246\")\n"
   ]
  },
  {
   "cell_type": "code",
   "execution_count": 79,
   "id": "2dfd9755",
   "metadata": {},
   "outputs": [],
   "source": [
    "def get_runtime(out_dir): \n",
    "    log_file = Path(out_dir, \"log.csv\")\n",
    "    \n",
    "    log_df = pd.read_csv(log_file, index_col=0)\n",
    "    \n",
    "    step_col_id = log_df.columns.get_loc(\"step\")\n",
    "    time_col_id = log_df.columns.get_loc(\"time\")\n",
    "    \n",
    "    n_steps = log_df.iloc[-1, step_col_id]\n",
    "    n_time = log_df.iloc[-1, time_col_id]\n",
    "    \n",
    "    return log_file, n_steps, n_time"
   ]
  },
  {
   "cell_type": "code",
   "execution_count": 80,
   "id": "0eded1c4",
   "metadata": {},
   "outputs": [
    {
     "name": "stdout",
     "output_type": "stream",
     "text": [
      "CPUs: 24\n"
     ]
    }
   ],
   "source": [
    "print(\"CPUs: {}\".format(multiprocessing.cpu_count()))\n",
    "pool_obj = multiprocessing.Pool(\n",
    "    multiprocessing.cpu_count()\n",
    ")\n",
    "\n",
    "pool_results = pool_obj.imap(\n",
    "    get_runtime,\n",
    "    list(job_dir.glob(\"output*\"))\n",
    ")\n",
    "\n",
    "stats_dict = dict() \n",
    "stats_dict[\"log_file\"] = list() \n",
    "stats_dict[\"n_steps\"] = list() \n",
    "stats_dict[\"n_time\"] = list() \n",
    "for result in pool_results:\n",
    "    log_file, n_steps, n_time = result \n",
    "    stats_dict[\"log_file\"].append(log_file)\n",
    "    stats_dict[\"n_steps\"].append(n_steps)\n",
    "    stats_dict[\"n_time\"].append(n_time)\n"
   ]
  },
  {
   "cell_type": "code",
   "execution_count": 81,
   "id": "1438f2f4",
   "metadata": {},
   "outputs": [
    {
     "data": {
      "text/html": [
       "<div>\n",
       "<style scoped>\n",
       "    .dataframe tbody tr th:only-of-type {\n",
       "        vertical-align: middle;\n",
       "    }\n",
       "\n",
       "    .dataframe tbody tr th {\n",
       "        vertical-align: top;\n",
       "    }\n",
       "\n",
       "    .dataframe thead th {\n",
       "        text-align: right;\n",
       "    }\n",
       "</style>\n",
       "<table border=\"1\" class=\"dataframe\">\n",
       "  <thead>\n",
       "    <tr style=\"text-align: right;\">\n",
       "      <th></th>\n",
       "      <th>log_file</th>\n",
       "      <th>n_steps</th>\n",
       "      <th>n_time</th>\n",
       "    </tr>\n",
       "  </thead>\n",
       "  <tbody>\n",
       "    <tr>\n",
       "      <th>0</th>\n",
       "      <td>/wynton/group/sali/mhancock/xray/sample_bench/...</td>\n",
       "      <td>131000</td>\n",
       "      <td>86181.646419</td>\n",
       "    </tr>\n",
       "    <tr>\n",
       "      <th>1</th>\n",
       "      <td>/wynton/group/sali/mhancock/xray/sample_bench/...</td>\n",
       "      <td>83000</td>\n",
       "      <td>86131.923398</td>\n",
       "    </tr>\n",
       "    <tr>\n",
       "      <th>2</th>\n",
       "      <td>/wynton/group/sali/mhancock/xray/sample_bench/...</td>\n",
       "      <td>82000</td>\n",
       "      <td>85950.299772</td>\n",
       "    </tr>\n",
       "    <tr>\n",
       "      <th>3</th>\n",
       "      <td>/wynton/group/sali/mhancock/xray/sample_bench/...</td>\n",
       "      <td>82000</td>\n",
       "      <td>86010.412953</td>\n",
       "    </tr>\n",
       "    <tr>\n",
       "      <th>4</th>\n",
       "      <td>/wynton/group/sali/mhancock/xray/sample_bench/...</td>\n",
       "      <td>83000</td>\n",
       "      <td>86031.401851</td>\n",
       "    </tr>\n",
       "  </tbody>\n",
       "</table>\n",
       "</div>"
      ],
      "text/plain": [
       "                                            log_file  n_steps        n_time\n",
       "0  /wynton/group/sali/mhancock/xray/sample_bench/...   131000  86181.646419\n",
       "1  /wynton/group/sali/mhancock/xray/sample_bench/...    83000  86131.923398\n",
       "2  /wynton/group/sali/mhancock/xray/sample_bench/...    82000  85950.299772\n",
       "3  /wynton/group/sali/mhancock/xray/sample_bench/...    82000  86010.412953\n",
       "4  /wynton/group/sali/mhancock/xray/sample_bench/...    83000  86031.401851"
      ]
     },
     "execution_count": 81,
     "metadata": {},
     "output_type": "execute_result"
    }
   ],
   "source": [
    "stats_df = pd.DataFrame(stats_dict)\n",
    "stats_df.head()"
   ]
  },
  {
   "cell_type": "code",
   "execution_count": 82,
   "id": "02483e35",
   "metadata": {},
   "outputs": [
    {
     "name": "stdout",
     "output_type": "stream",
     "text": [
      "65215.615\n",
      "28879.533017082787\n"
     ]
    }
   ],
   "source": [
    "print(np.mean(stats_df[\"n_steps\"]))\n",
    "print(np.std(stats_df[\"n_steps\"]))"
   ]
  },
  {
   "cell_type": "code",
   "execution_count": 83,
   "id": "ef8ee81c",
   "metadata": {},
   "outputs": [
    {
     "data": {
      "image/png": "[encoded data removed]",
      "text/plain": [
       "<Figure size 640x480 with 1 Axes>"
      ]
     },
     "metadata": {},
     "output_type": "display_data"
    }
   ],
   "source": [
    "plt.hist(stats_df[\"n_steps\"], bins=20)\n",
    "plt.show()"
   ]
  },
  {
   "cell_type": "code",
   "execution_count": null,
   "id": "dd25d297",
   "metadata": {},
   "outputs": [],
   "source": []
  }
 ],
 "metadata": {
  "kernelspec": {
   "display_name": "Python 3 (ipykernel)",
   "language": "python",
   "name": "python3"
  },
  "language_info": {
   "codemirror_mode": {
    "name": "ipython",
    "version": 3
   },
   "file_extension": ".py",
   "mimetype": "text/x-python",
   "name": "python",
   "nbconvert_exporter": "python",
   "pygments_lexer": "ipython3",
   "version": "3.11.0"
  }
 },
 "nbformat": 4,
 "nbformat_minor": 5
}
